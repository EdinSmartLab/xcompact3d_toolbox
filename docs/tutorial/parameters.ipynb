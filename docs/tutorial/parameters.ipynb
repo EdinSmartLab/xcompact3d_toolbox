{
 "cells": [
  {
   "cell_type": "markdown",
   "metadata": {},
   "source": [
    "# Parameters\n",
    "\n",
    "The computational and physical parameters are handled at `class xcompact3d_toolbox.Parameters`. It is built on top of [Traitlets](https://traitlets.readthedocs.io/en/stable/index.html), which brings some advantages:\n",
    "\n",
    "* Attributes are type-checked;\n",
    "* Default values and restrictions (min and max) are applied where necessary;\n",
    "* 'On change' callbacks for validation and observation;\n",
    "* Two-way linking with [ipywidgets](https://ipywidgets.readthedocs.io/en/latest/)."
   ]
  },
  {
   "cell_type": "code",
   "execution_count": 1,
   "metadata": {},
   "outputs": [],
   "source": [
    "import xcompact3d_toolbox as x3d\n",
    "import numpy as np"
   ]
  },
  {
   "cell_type": "markdown",
   "metadata": {},
   "source": [
    "Use `np.float64` if Xcompact3d was compiled with the flag `-DDOUBLE_PREC`, use `np.float32` otherwise."
   ]
  },
  {
   "cell_type": "code",
   "execution_count": 2,
   "metadata": {},
   "outputs": [],
   "source": [
    "x3d.mytype = np.float32"
   ]
  },
  {
   "cell_type": "markdown",
   "metadata": {},
   "source": [
    "## Initialization"
   ]
  },
  {
   "cell_type": "markdown",
   "metadata": {},
   "source": [
    "There are a few ways to initialize the class. First, calling it with no arguments initializes all variables with default value:"
   ]
  },
  {
   "cell_type": "code",
   "execution_count": 3,
   "metadata": {},
   "outputs": [],
   "source": [
    "prm = x3d.Parameters()"
   ]
  },
  {
   "cell_type": "markdown",
   "metadata": {},
   "source": [
    "You can access a list with all the available variables at [Api reference](file:///C:/Users/felip/Documents/GitHub/Xcompact3d-toolbox/docs/_build/html/Docstrings.html#xcompact3d_toolbox.parameters.Parameters)."
   ]
  },
  {
   "cell_type": "markdown",
   "metadata": {},
   "source": [
    "It is possible to access and/or set values afterwards:"
   ]
  },
  {
   "cell_type": "code",
   "execution_count": 4,
   "metadata": {},
   "outputs": [
    {
     "name": "stdout",
     "output_type": "stream",
     "text": [
      "1000.0\n",
      "1000000.0\n"
     ]
    }
   ],
   "source": [
    "# Reynolds Number\n",
    "print(prm.re)\n",
    "prm.re = 1e6\n",
    "print(prm.re)"
   ]
  },
  {
   "cell_type": "markdown",
   "metadata": {},
   "source": [
    "Second, we can specify some values, and let the missing ones be initialized with default value:"
   ]
  },
  {
   "cell_type": "code",
   "execution_count": 5,
   "metadata": {},
   "outputs": [],
   "source": [
    "prm = x3d.Parameters(\n",
    "    filename = 'example.i3d',\n",
    "    itype = 10,\n",
    "    nx = 257,\n",
    "    ny = 129,\n",
    "    nz = 32,\n",
    "    xlx = 15.0,\n",
    "    yly = 10.0,\n",
    "    zlz = 3.0,\n",
    "    nclx1 = 2,\n",
    "    nclxn = 2,\n",
    "    ncly1 = 1,\n",
    "    nclyn = 1,\n",
    "    nclz1 = 0,\n",
    "    nclzn = 0,\n",
    "    iin = 1,\n",
    "    re = 300.0,\n",
    "    init_noise = 0.0125,\n",
    "    inflow_noise = 0.0125,\n",
    "    dt = 0.0025,\n",
    "    ifirst = 1,\n",
    "    ilast = 45000,\n",
    "    irestart = 0,\n",
    "    icheckpoint = 45000,\n",
    "    ioutput = 200,\n",
    "    iprocessing = 50,\n",
    ")"
   ]
  },
  {
   "cell_type": "markdown",
   "metadata": {},
   "source": [
    "It is easy to write `example.i3d` to disc, just type:"
   ]
  },
  {
   "cell_type": "code",
   "execution_count": 6,
   "metadata": {},
   "outputs": [],
   "source": [
    "prm.write()"
   ]
  },
  {
   "cell_type": "markdown",
   "metadata": {},
   "source": [
    "And finally, it is possible to read the parameters from the disc:"
   ]
  },
  {
   "cell_type": "code",
   "execution_count": 7,
   "metadata": {},
   "outputs": [],
   "source": [
    "prm = x3d.Parameters(filename = 'example.i3d')\n",
    "prm.read()"
   ]
  },
  {
   "cell_type": "markdown",
   "metadata": {},
   "source": [
    "## Traitlets\n",
    "\n",
    "### Type-checking\n",
    "\n",
    "All parameters are type-checked, to make sure that they are what `Xcompact3d` expects. Use the cellcode below to see how a `TraitError` pops out when we try:\n",
    "\n",
    "```python\n",
    "prm.itype = 10.5\n",
    "prm.itype = -5\n",
    "prm.itype = 12\n",
    "prm.itype = 'sandbox'\n",
    "\n",
    "```\n"
   ]
  },
  {
   "cell_type": "code",
   "execution_count": null,
   "metadata": {},
   "outputs": [],
   "source": []
  },
  {
   "cell_type": "markdown",
   "metadata": {},
   "source": [
    "### Validation"
   ]
  },
  {
   "cell_type": "markdown",
   "metadata": {},
   "source": [
    "Some parameters, like mesh points (`nx`, `ny` and `nz`), trigger a validation operation when a new value is attributed to them.\n",
    "Due to restrictions at the FFT library, they must be equal to:\n",
    "\n",
    "$$\n",
    "n_i = \\left\\{ \\begin{array}{ll} 2^{1+a} \\times 3^b \\times 5^c &\\mbox{if periodic,} \\\\ 2^{1+a} \\times 3^b \\times 5^c + 1 &\\mbox{otherwise,}\n",
    "\\end{array} \\right.\n",
    "$$\n",
    "\n",
    "where $a$, $b$ and $c$ are non negative integers. In addition, the derivatives stencil imposes that:\n",
    "\n",
    "$$\n",
    "n_i \\ge \\left\\{ \\begin{array}{ll} 8 &\\mbox{if periodic,} \\\\ 9 &\\mbox{otherwise.}\n",
    "\\end{array} \\right.\n",
    "$$\n",
    "\n",
    "Again, give it a try at the cellcode below:\n",
    "\n",
    "```python\n",
    "prm.nx = 129\n",
    "prm.nx = 4\n",
    "prm.nx = 60\n",
    "prm.nx = 61\n",
    "```"
   ]
  },
  {
   "cell_type": "code",
   "execution_count": null,
   "metadata": {},
   "outputs": [],
   "source": []
  },
  {
   "cell_type": "markdown",
   "metadata": {},
   "source": [
    "### Observation"
   ]
  },
  {
   "cell_type": "markdown",
   "metadata": {},
   "source": [
    "Other parameters, like mesh resolution (`dx`, `dy` and `dz`), are automaticaly updated when any new atribution occurs to mesh points and/or domain size. Let's create a quick print functions to play with:"
   ]
  },
  {
   "cell_type": "code",
   "execution_count": 8,
   "metadata": {},
   "outputs": [],
   "source": [
    "def show_param():\n",
    "    for var in 'nclx1 nclxn nx xlx dx'.split():\n",
    "        print(f\"{var:>5} = {getattr(prm, var)}\")"
   ]
  },
  {
   "cell_type": "markdown",
   "metadata": {},
   "source": [
    "We are starting with:"
   ]
  },
  {
   "cell_type": "code",
   "execution_count": 9,
   "metadata": {},
   "outputs": [
    {
     "name": "stdout",
     "output_type": "stream",
     "text": [
      "nclx1 = 2\n",
      "nclxn = 2\n",
      "   nx = 257\n",
      "  xlx = 15.0\n",
      "   dx = 0.05859375\n"
     ]
    }
   ],
   "source": [
    "show_param()"
   ]
  },
  {
   "cell_type": "markdown",
   "metadata": {},
   "source": [
    "Let's change just the domain's length:"
   ]
  },
  {
   "cell_type": "code",
   "execution_count": 10,
   "metadata": {},
   "outputs": [
    {
     "name": "stdout",
     "output_type": "stream",
     "text": [
      "nclx1 = 2\n",
      "nclxn = 2\n",
      "   nx = 257\n",
      "  xlx = 50.0\n",
      "   dx = 0.1953125\n"
     ]
    }
   ],
   "source": [
    "prm.xlx = 50.0\n",
    "\n",
    "show_param()"
   ]
  },
  {
   "cell_type": "markdown",
   "metadata": {},
   "source": [
    "The resolutions was updated as well. Now the number of mesh points:"
   ]
  },
  {
   "cell_type": "code",
   "execution_count": 11,
   "metadata": {},
   "outputs": [
    {
     "name": "stdout",
     "output_type": "stream",
     "text": [
      "nclx1 = 2\n",
      "nclxn = 2\n",
      "   nx = 121\n",
      "  xlx = 50.0\n",
      "   dx = 0.4166666666666667\n"
     ]
    }
   ],
   "source": [
    "prm.nx = 121\n",
    "\n",
    "show_param()"
   ]
  },
  {
   "cell_type": "markdown",
   "metadata": {},
   "source": [
    "Again, the resolutions was updated. Now we set a new mesh resolution, this time, `xlx` will be updated in order to satisfy the new resolution:"
   ]
  },
  {
   "cell_type": "code",
   "execution_count": 12,
   "metadata": {},
   "outputs": [
    {
     "name": "stdout",
     "output_type": "stream",
     "text": [
      "nclx1 = 2\n",
      "nclxn = 2\n",
      "   nx = 121\n",
      "  xlx = 1.2\n",
      "   dx = 0.01\n"
     ]
    }
   ],
   "source": [
    "prm.dx = 1e-2\n",
    "\n",
    "show_param()"
   ]
  },
  {
   "cell_type": "markdown",
   "metadata": {},
   "source": [
    "Boundary conditions are observed as well. Xcompact3d allows three different BC for velocity:\n",
    "\n",
    "* Periodic `0`;\n",
    "* Free-slip `1`;\n",
    "* Dirichlet `2`.\n",
    "\n",
    "They can be assigned individualy for each of the six boundaries:\n",
    "\n",
    "* `nclx1` and `nclxn`, where $x=0$ and $x=xlx$;\n",
    "* `ncly1` and `nclyn`, where $y=0$ and $y=yly$;\n",
    "* `nclz1` and `nclzn`, where $z=0$ and $z=zlz$.\n",
    "\n",
    "It leads to 5 possibilities (`00`, `11`, `12`, `21` and `22`), because both boundary must be periodic, or not, so `0` cannot be combined.\n",
    "\n",
    "Let's check it out, we are starting with:"
   ]
  },
  {
   "cell_type": "code",
   "execution_count": 13,
   "metadata": {},
   "outputs": [
    {
     "name": "stdout",
     "output_type": "stream",
     "text": [
      "nclx1 = 2\n",
      "nclxn = 2\n",
      "   nx = 121\n",
      "  xlx = 1.2\n",
      "   dx = 0.01\n"
     ]
    }
   ],
   "source": [
    "show_param()"
   ]
  },
  {
   "cell_type": "markdown",
   "metadata": {},
   "source": [
    "We will change just one side to periodic (`nclx1 = 0`), for consistence, the other side should be periodic too. Let's see:"
   ]
  },
  {
   "cell_type": "code",
   "execution_count": 14,
   "metadata": {},
   "outputs": [
    {
     "name": "stdout",
     "output_type": "stream",
     "text": [
      "nclx1 = 0\n",
      "nclxn = 0\n",
      "   nx = 120\n",
      "  xlx = 1.2\n",
      "   dx = 0.01\n"
     ]
    }
   ],
   "source": [
    "prm.nclx1 = 0\n",
    "\n",
    "show_param()"
   ]
  },
  {
   "cell_type": "markdown",
   "metadata": {},
   "source": [
    "Now free-slip in one side (`nclx1 = 1`), and the other should be non-periodic:"
   ]
  },
  {
   "cell_type": "code",
   "execution_count": 15,
   "metadata": {},
   "outputs": [
    {
     "name": "stdout",
     "output_type": "stream",
     "text": [
      "nclx1 = 1\n",
      "nclxn = 1\n",
      "   nx = 121\n",
      "  xlx = 1.2\n",
      "   dx = 0.01\n"
     ]
    }
   ],
   "source": [
    "prm.nclx1 = 1\n",
    "\n",
    "show_param()"
   ]
  },
  {
   "cell_type": "markdown",
   "metadata": {},
   "source": [
    "Setting the other boundary to periodic:"
   ]
  },
  {
   "cell_type": "code",
   "execution_count": 16,
   "metadata": {},
   "outputs": [
    {
     "name": "stdout",
     "output_type": "stream",
     "text": [
      "nclx1 = 0\n",
      "nclxn = 0\n",
      "   nx = 120\n",
      "  xlx = 1.2\n",
      "   dx = 0.01\n"
     ]
    }
   ],
   "source": [
    "prm.nclxn = 0\n",
    "\n",
    "show_param()"
   ]
  },
  {
   "cell_type": "markdown",
   "metadata": {},
   "source": [
    "and now back to Dirichlet:"
   ]
  },
  {
   "cell_type": "code",
   "execution_count": 17,
   "metadata": {},
   "outputs": [
    {
     "name": "stdout",
     "output_type": "stream",
     "text": [
      "nclx1 = 2\n",
      "nclxn = 2\n",
      "   nx = 121\n",
      "  xlx = 1.2\n",
      "   dx = 0.01\n"
     ]
    }
   ],
   "source": [
    "prm.nclxn = 2\n",
    "\n",
    "show_param()"
   ]
  },
  {
   "cell_type": "markdown",
   "metadata": {},
   "source": [
    "This time, free-slip:"
   ]
  },
  {
   "cell_type": "code",
   "execution_count": 18,
   "metadata": {},
   "outputs": [
    {
     "name": "stdout",
     "output_type": "stream",
     "text": [
      "nclx1 = 2\n",
      "nclxn = 1\n",
      "   nx = 121\n",
      "  xlx = 1.2\n",
      "   dx = 0.01\n"
     ]
    }
   ],
   "source": [
    "prm.nclxn = 1\n",
    "\n",
    "show_param()"
   ]
  },
  {
   "cell_type": "markdown",
   "metadata": {},
   "source": [
    "There was no need to update `nclx1`, because `1` and `2` can be freely combined. Notice that `nx` was modified properly from 121 to 120 and then back, according to the possible values, `dx` and `xlx` stayed untouched."
   ]
  },
  {
   "cell_type": "markdown",
   "metadata": {},
   "source": [
    "### Metadata"
   ]
  },
  {
   "cell_type": "markdown",
   "metadata": {},
   "source": [
    "Traitlets types constructors have a `tag` method to store metadata in a dictionary. In the case of Xcompact3d-toolbox, two are especially useful:\n",
    "\n",
    "* `group` defines to what namespace a given parameter belongs when the class is written to `.i3d` file (`.write()` method) or read from `.i3d` file (`.read()` method), parameters without a group are ignored for both methods;\n",
    "* `widget` defines an [ipywidgets](https://ipywidgets.readthedocs.io/en/latest/) used to interact with each parameter."
   ]
  },
  {
   "cell_type": "markdown",
   "metadata": {},
   "source": [
    "### Linked widget"
   ]
  },
  {
   "cell_type": "markdown",
   "metadata": {},
   "source": [
    "<div class=\"alert alert-warning\">\n",
    "\n",
    "There is a bug reported affecting this subject [#2](https://github.com/fschuch/xcompact3d_toolbox/issues/2), the widgets are not working properly at the moment.\n",
    "\n",
    "</div>\n",
    "\n",
    "While the problem above persists, we can activate the link manually for this tutorial:"
   ]
  },
  {
   "cell_type": "code",
   "execution_count": 19,
   "metadata": {},
   "outputs": [],
   "source": [
    "prm.link_widgets()"
   ]
  },
  {
   "cell_type": "markdown",
   "metadata": {},
   "source": [
    "Parameters with `widget` tag are related to the value at its widget in a two-way link. Widgets are returned on demand when `class Parameters` is called, let's see:"
   ]
  },
  {
   "cell_type": "code",
   "execution_count": 20,
   "metadata": {},
   "outputs": [
    {
     "data": {
      "application/vnd.jupyter.widget-view+json": {
       "model_id": "a850f9fd6e434ad1ac0409750cf4d4b6",
       "version_major": 2,
       "version_minor": 0
      },
      "text/plain": [
       "VBox(children=(Dropdown(description='nx', description_tooltip='Number of mesh points in x direction', index=22…"
      ]
     },
     "metadata": {},
     "output_type": "display_data"
    }
   ],
   "source": [
    "prm('nx', 'xlx', 'dx', 'nclx1', 'nclxn')"
   ]
  },
  {
   "cell_type": "markdown",
   "metadata": {},
   "source": [
    "You can play around with the widgets above and see the effect of the observations made previously."
   ]
  },
  {
   "cell_type": "markdown",
   "metadata": {},
   "source": [
    "Since there is a two-way link, a `print` will show the actual value on the widgets:"
   ]
  },
  {
   "cell_type": "code",
   "execution_count": 21,
   "metadata": {},
   "outputs": [
    {
     "name": "stdout",
     "output_type": "stream",
     "text": [
      "nclx1 = 2\n",
      "nclxn = 1\n",
      "   nx = 121\n",
      "  xlx = 1.2\n",
      "   dx = 0.01\n"
     ]
    }
   ],
   "source": [
    "show_param()"
   ]
  },
  {
   "cell_type": "markdown",
   "metadata": {},
   "source": [
    "Give it a try, modify the values at the widgets and print them again.\n",
    "\n",
    "It also works on the other way, atribute a new value to a parameters will change its widget, try it:"
   ]
  },
  {
   "cell_type": "code",
   "execution_count": 22,
   "metadata": {},
   "outputs": [],
   "source": [
    "#prm.nclx1 = 0"
   ]
  },
  {
   "cell_type": "markdown",
   "metadata": {},
   "source": [
    "And of course, different widgets for the same parameter are always synchronized, change the widget bellow and see waht hapens with the widget above:"
   ]
  },
  {
   "cell_type": "code",
   "execution_count": 23,
   "metadata": {},
   "outputs": [
    {
     "data": {
      "application/vnd.jupyter.widget-view+json": {
       "model_id": "abc04231877e4f92ac97f216877de6b6",
       "version_major": 2,
       "version_minor": 0
      },
      "text/plain": [
       "VBox(children=(Dropdown(description='nx', description_tooltip='Number of mesh points in x direction', index=22…"
      ]
     },
     "metadata": {},
     "output_type": "display_data"
    }
   ],
   "source": [
    "prm('nx')"
   ]
  },
  {
   "cell_type": "markdown",
   "metadata": {},
   "source": [
    "A last example is about the domain decomposition for parallel computation, `Xcompact3d` uses [2DECOMP&FFT](http://www.2decomp.org/). The available options for `p_row` and `p_col` are presented as functions of the number of computational cores `ncores`, notice that `p_row * p_col = ncores` should be respected and `p_row * p_col = 0` activates the auto-tunning mode. The widgets are prepared to respect these restrictions:"
   ]
  },
  {
   "cell_type": "code",
   "execution_count": 24,
   "metadata": {},
   "outputs": [
    {
     "data": {
      "application/vnd.jupyter.widget-view+json": {
       "model_id": "41f73b96ed0e4388aedf5711bcbef317",
       "version_major": 2,
       "version_minor": 0
      },
      "text/plain": [
       "VBox(children=(BoundedIntText(value=4, description='ncores', max=1000000000), Dropdown(description='p_row', de…"
      ]
     },
     "metadata": {},
     "output_type": "display_data"
    }
   ],
   "source": [
    "prm('ncores', 'p_row', 'p_col')"
   ]
  },
  {
   "cell_type": "markdown",
   "metadata": {},
   "source": [
    "## Graphical User Interface"
   ]
  },
  {
   "cell_type": "markdown",
   "metadata": {},
   "source": [
    "To conclude this part of the tutorial, let's see what happend when `class Parameters` is called with no arguments, hover the mouse over some variable to see its description:"
   ]
  },
  {
   "cell_type": "code",
   "execution_count": 25,
   "metadata": {},
   "outputs": [
    {
     "data": {
      "application/vnd.jupyter.widget-view+json": {
       "model_id": "7a575152327d4de1b20ed63add7e2da4",
       "version_major": 2,
       "version_minor": 0
      },
      "text/plain": [
       "VBox(children=(HTML(value='<h1>Xcompact3d Parameters</h1>'), HBox(children=(Text(value='example.i3d', descript…"
      ]
     },
     "metadata": {},
     "output_type": "display_data"
    }
   ],
   "source": [
    "prm()"
   ]
  }
 ],
 "metadata": {
  "kernelspec": {
   "display_name": "Python 3",
   "language": "python",
   "name": "python3"
  },
  "language_info": {
   "codemirror_mode": {
    "name": "ipython",
    "version": 3
   },
   "file_extension": ".py",
   "mimetype": "text/x-python",
   "name": "python",
   "nbconvert_exporter": "python",
   "pygments_lexer": "ipython3",
   "version": "3.7.7"
  },
  "widgets": {
   "application/vnd.jupyter.widget-state+json": {
    "state": {
     "0030693012954596a3690dac67e689c0": {
      "model_module": "@jupyter-widgets/controls",
      "model_module_version": "1.5.0",
      "model_name": "DescriptionStyleModel",
      "state": {
       "description_width": ""
      }
     },
     "00806cdd56b54bd7872e375a12fe2a23": {
      "model_module": "@jupyter-widgets/base",
      "model_module_version": "1.2.0",
      "model_name": "LayoutModel",
      "state": {}
     },
     "00e630c043f1453e8cc95edbcce1c0cb": {
      "model_module": "@jupyter-widgets/base",
      "model_module_version": "1.2.0",
      "model_name": "LayoutModel",
      "state": {}
     },
     "0299f02f2e934885a17181314429a23c": {
      "model_module": "@jupyter-widgets/controls",
      "model_module_version": "1.5.0",
      "model_name": "DescriptionStyleModel",
      "state": {
       "description_width": ""
      }
     },
     "07e69b03c4894a75b35003c777723aec": {
      "model_module": "@jupyter-widgets/controls",
      "model_module_version": "1.5.0",
      "model_name": "DropdownModel",
      "state": {
       "_options_labels": [
        "Periodic",
        "No-flux",
        "Dirichlet"
       ],
       "description": "nclySn",
       "description_tooltip": "Scalar boundary condition at end of y direction",
       "index": 2,
       "layout": "IPY_MODEL_e101c2e426fb48e88708ca9406bb0fe2",
       "style": "IPY_MODEL_61c0d07f65204cd78c340cbd1d1fbd19"
      }
     },
     "08c87fd6ee7b4b08a5dd55e43d0bc917": {
      "model_module": "@jupyter-widgets/controls",
      "model_module_version": "1.5.0",
      "model_name": "HBoxModel",
      "state": {
       "children": [
        "IPY_MODEL_6a91ce8b2a7c412dbc213632bd5dc869",
        "IPY_MODEL_e8e5bee8ec8b4dcd8b85db98a3fc3484",
        "IPY_MODEL_79b944f360704ae49191659f0a6a8a2f"
       ],
       "layout": "IPY_MODEL_53c006c1e05f4e3090b34fe484acaa0b"
      }
     },
     "08e44d76887f4057b7b76df8e35b3187": {
      "model_module": "@jupyter-widgets/controls",
      "model_module_version": "1.5.0",
      "model_name": "FloatTextModel",
      "state": {
       "description": "gravz",
       "description_tooltip": "Value to z component in gravity unitary vector",
       "disabled": true,
       "layout": "IPY_MODEL_39fe5f92dc694f48a55948f03661ed52",
       "step": null,
       "style": "IPY_MODEL_2272257080fe4751b333b21639d8218b"
      }
     },
     "091d3117951b426a838a7efd7bf7b7d4": {
      "model_module": "@jupyter-widgets/base",
      "model_module_version": "1.2.0",
      "model_name": "LayoutModel",
      "state": {}
     },
     "0992455dd5ae432e89361a5396cb2d9b": {
      "model_module": "@jupyter-widgets/base",
      "model_module_version": "1.2.0",
      "model_name": "LayoutModel",
      "state": {}
     },
     "09b675df0f414ef2aba05244db85632d": {
      "model_module": "@jupyter-widgets/controls",
      "model_module_version": "1.5.0",
      "model_name": "DescriptionStyleModel",
      "state": {
       "description_width": ""
      }
     },
     "0a80bb903a7749c7a0529a96e68f4137": {
      "model_module": "@jupyter-widgets/controls",
      "model_module_version": "1.5.0",
      "model_name": "HBoxModel",
      "state": {
       "children": [
        "IPY_MODEL_c4ae0673f0b1404d9348356e6a5a3873",
        "IPY_MODEL_7e4106dee68f4c85ada19b14a80d129b",
        "IPY_MODEL_a9518e90ceae4123af8ba4d014c72f1b"
       ],
       "layout": "IPY_MODEL_fccd9f13d20847a1a09b028942b80989"
      }
     },
     "0ab0f5a97bc3450b94db567c0dc4d1e1": {
      "model_module": "@jupyter-widgets/controls",
      "model_module_version": "1.5.0",
      "model_name": "DescriptionStyleModel",
      "state": {
       "description_width": ""
      }
     },
     "0d3e8b4979f747799cf965a861dda600": {
      "model_module": "@jupyter-widgets/controls",
      "model_module_version": "1.5.0",
      "model_name": "DescriptionStyleModel",
      "state": {
       "description_width": ""
      }
     },
     "10cc8d84c674412aa91d43925d7e3bb6": {
      "model_module": "@jupyter-widgets/controls",
      "model_module_version": "1.5.0",
      "model_name": "HTMLModel",
      "state": {
       "layout": "IPY_MODEL_51663ff93b6d47b4937053b11dd6f058",
       "style": "IPY_MODEL_349c56a5bd6845969d26da8b7b093504",
       "value": "<h1>Xcompact3d Parameters</h1>"
      }
     },
     "10f1a9ca8d564591a3dc3917967d84e0": {
      "model_module": "@jupyter-widgets/base",
      "model_module_version": "1.2.0",
      "model_name": "LayoutModel",
      "state": {}
     },
     "1253824bb6094ea1b47be06486e5d860": {
      "model_module": "@jupyter-widgets/controls",
      "model_module_version": "1.5.0",
      "model_name": "ButtonStyleModel",
      "state": {}
     },
     "12b1e890d4e5482a9a0458f645cd5335": {
      "model_module": "@jupyter-widgets/controls",
      "model_module_version": "1.5.0",
      "model_name": "DescriptionStyleModel",
      "state": {
       "description_width": ""
      }
     },
     "134a747ba18347bfa5d73dbfaf1b9bb4": {
      "model_module": "@jupyter-widgets/controls",
      "model_module_version": "1.5.0",
      "model_name": "DescriptionStyleModel",
      "state": {
       "description_width": ""
      }
     },
     "140b1e8879654e358393eb5bd4c426e6": {
      "model_module": "@jupyter-widgets/controls",
      "model_module_version": "1.5.0",
      "model_name": "ButtonModel",
      "state": {
       "description": "Sync",
       "disabled": true,
       "icon": "sync",
       "layout": "IPY_MODEL_28daa6ee9c384ae7a883ff3f34a04322",
       "style": "IPY_MODEL_adf09b816285420cbbd55a5d93d6a699"
      }
     },
     "1460d06888274e008cdbafed33901385": {
      "model_module": "@jupyter-widgets/controls",
      "model_module_version": "1.5.0",
      "model_name": "DropdownModel",
      "state": {
       "_options_labels": [
        "Off",
        "On"
       ],
       "description": "ivisu",
       "description_tooltip": "Enable store snapshots",
       "index": 1,
       "layout": "IPY_MODEL_e7246d8daada459b935a7edd3af2bc9e",
       "style": "IPY_MODEL_4459e95760064e6bb93fb4140caf5c5c"
      }
     },
     "14feefcde33e497cadddd3f1c3f494af": {
      "model_module": "@jupyter-widgets/base",
      "model_module_version": "1.2.0",
      "model_name": "LayoutModel",
      "state": {}
     },
     "183f50b6a316425b9e9c8e041d92a2f3": {
      "model_module": "@jupyter-widgets/controls",
      "model_module_version": "1.5.0",
      "model_name": "HBoxModel",
      "state": {
       "children": [
        "IPY_MODEL_81370514fdf24ef1846e008ee0175c04",
        "IPY_MODEL_e585bdc5defd4a009d573b9eba21e79e",
        "IPY_MODEL_dc0376ce10b144c79594157d3e1f3728"
       ],
       "layout": "IPY_MODEL_d991feaeb9c84413a8cecd121025f2a1"
      }
     },
     "19889f93a1ff4f5bb5437d6ffaa74c9b": {
      "model_module": "@jupyter-widgets/controls",
      "model_module_version": "1.5.0",
      "model_name": "DescriptionStyleModel",
      "state": {
       "description_width": ""
      }
     },
     "1a19ed3829ad408ab3abf5d06a65dd9e": {
      "model_module": "@jupyter-widgets/controls",
      "model_module_version": "1.5.0",
      "model_name": "DropdownModel",
      "state": {
       "_options_labels": [
        "Periodic",
        "No-flux",
        "Dirichlet"
       ],
       "description": "nclyS1",
       "description_tooltip": "Scalar boundary condition at begin of y direction",
       "index": 2,
       "layout": "IPY_MODEL_f25766ea0d18467c855073dd11f43386",
       "style": "IPY_MODEL_bf1ef3ca510044f5ba6834b3c3b37bd4"
      }
     },
     "1abfeaaa11d14bf28a9a2258d376a43d": {
      "model_module": "@jupyter-widgets/controls",
      "model_module_version": "1.5.0",
      "model_name": "HTMLModel",
      "state": {
       "layout": "IPY_MODEL_6e58c03e270647ae8143e0952f1731de",
       "style": "IPY_MODEL_bbd746f1548d4f40a8216abe3472f807",
       "value": "<h3>Domain Decomposition</h3>"
      }
     },
     "1b7242c7786148dba6e1230ac5e4386d": {
      "model_module": "@jupyter-widgets/base",
      "model_module_version": "1.2.0",
      "model_name": "LayoutModel",
      "state": {}
     },
     "1cb3f7fb63ed4cceb42cc84461a6e356": {
      "model_module": "@jupyter-widgets/base",
      "model_module_version": "1.2.0",
      "model_name": "LayoutModel",
      "state": {}
     },
     "1f56729d951d45f587e039e32ea526e8": {
      "model_module": "@jupyter-widgets/controls",
      "model_module_version": "1.5.0",
      "model_name": "DescriptionStyleModel",
      "state": {
       "description_width": ""
      }
     },
     "1fdaaafb145f40c8bacf5b4ce0b8cf88": {
      "model_module": "@jupyter-widgets/base",
      "model_module_version": "1.2.0",
      "model_name": "LayoutModel",
      "state": {}
     },
     "20f1f2d458ed45dc9c2a7be050f6088d": {
      "model_module": "@jupyter-widgets/controls",
      "model_module_version": "1.5.0",
      "model_name": "DescriptionStyleModel",
      "state": {
       "description_width": ""
      }
     },
     "2178844e239a4dfabc7e73e2ba8a2aeb": {
      "model_module": "@jupyter-widgets/controls",
      "model_module_version": "1.5.0",
      "model_name": "DescriptionStyleModel",
      "state": {
       "description_width": ""
      }
     },
     "21caa3a97b024d319266effb48d9d910": {
      "model_module": "@jupyter-widgets/controls",
      "model_module_version": "1.5.0",
      "model_name": "DescriptionStyleModel",
      "state": {
       "description_width": ""
      }
     },
     "2272257080fe4751b333b21639d8218b": {
      "model_module": "@jupyter-widgets/controls",
      "model_module_version": "1.5.0",
      "model_name": "DescriptionStyleModel",
      "state": {
       "description_width": ""
      }
     },
     "2310b1c6473847cb8d5577f5a9b9b092": {
      "model_module": "@jupyter-widgets/base",
      "model_module_version": "1.2.0",
      "model_name": "LayoutModel",
      "state": {}
     },
     "23c6c055b0df408db11b9af3445cde0f": {
      "model_module": "@jupyter-widgets/base",
      "model_module_version": "1.2.0",
      "model_name": "LayoutModel",
      "state": {}
     },
     "25a740f76e2844b7a11d183b2486c6b4": {
      "model_module": "@jupyter-widgets/base",
      "model_module_version": "1.2.0",
      "model_name": "LayoutModel",
      "state": {}
     },
     "26b153f3aab3413390a87f5a0621c6aa": {
      "model_module": "@jupyter-widgets/controls",
      "model_module_version": "1.5.0",
      "model_name": "DescriptionStyleModel",
      "state": {
       "description_width": ""
      }
     },
     "28d82dc508af43c6a433c07c26221d69": {
      "model_module": "@jupyter-widgets/controls",
      "model_module_version": "1.5.0",
      "model_name": "DescriptionStyleModel",
      "state": {
       "description_width": ""
      }
     },
     "28daa6ee9c384ae7a883ff3f34a04322": {
      "model_module": "@jupyter-widgets/base",
      "model_module_version": "1.2.0",
      "model_name": "LayoutModel",
      "state": {}
     },
     "2947ff2deb2548b4b790c8cb66ac9155": {
      "model_module": "@jupyter-widgets/controls",
      "model_module_version": "1.5.0",
      "model_name": "FloatTextModel",
      "state": {
       "description": "gravx",
       "description_tooltip": "Value to x component in gravity unitary vector",
       "disabled": true,
       "layout": "IPY_MODEL_b85c8dffa532487f81914864decfd03f",
       "step": null,
       "style": "IPY_MODEL_4dcb1956e1984cf98e32aa4b72b5f1fa"
      }
     },
     "2948a3752fb94f6fb349f1502994a274": {
      "model_module": "@jupyter-widgets/controls",
      "model_module_version": "1.5.0",
      "model_name": "HBoxModel",
      "state": {
       "children": [
        "IPY_MODEL_5e1f960d2fc74c4689b829a3d7cdb093",
        "IPY_MODEL_47db6b6232ea4f139412b70670650919",
        "IPY_MODEL_bcd9648e0b8c4f3d8f26cc061ac05b9e"
       ],
       "layout": "IPY_MODEL_3b62ecec015c42e2b8225486adbe8487"
      }
     },
     "2e01d9fd54f34a96ba01f62ea3b28797": {
      "model_module": "@jupyter-widgets/base",
      "model_module_version": "1.2.0",
      "model_name": "LayoutModel",
      "state": {}
     },
     "2f87db02e4bc4d9d9dc9a8def06004ed": {
      "model_module": "@jupyter-widgets/controls",
      "model_module_version": "1.5.0",
      "model_name": "DropdownModel",
      "state": {
       "_options_labels": [
        "Periodic",
        "No-flux",
        "Dirichlet"
       ],
       "description": "nclxS1",
       "description_tooltip": "Scalar boundary condition at begin of x direction",
       "index": 2,
       "layout": "IPY_MODEL_2310b1c6473847cb8d5577f5a9b9b092",
       "style": "IPY_MODEL_da8e082f8c4641efb21234319089391e"
      }
     },
     "30cfaadf26b849efaaad130d63b17925": {
      "model_module": "@jupyter-widgets/controls",
      "model_module_version": "1.5.0",
      "model_name": "DescriptionStyleModel",
      "state": {
       "description_width": ""
      }
     },
     "32c8f9edc2894915b01514536e9b8ffd": {
      "model_module": "@jupyter-widgets/base",
      "model_module_version": "1.2.0",
      "model_name": "LayoutModel",
      "state": {}
     },
     "334a7ec0471b4080ade4d87fa469f1db": {
      "model_module": "@jupyter-widgets/controls",
      "model_module_version": "1.5.0",
      "model_name": "DescriptionStyleModel",
      "state": {
       "description_width": ""
      }
     },
     "349c56a5bd6845969d26da8b7b093504": {
      "model_module": "@jupyter-widgets/controls",
      "model_module_version": "1.5.0",
      "model_name": "DescriptionStyleModel",
      "state": {
       "description_width": ""
      }
     },
     "34ffb8dc11f0493d9807a668e215e393": {
      "model_module": "@jupyter-widgets/controls",
      "model_module_version": "1.5.0",
      "model_name": "ButtonStyleModel",
      "state": {}
     },
     "38d5263a72ec4be487cddafba0f530e2": {
      "model_module": "@jupyter-widgets/controls",
      "model_module_version": "1.5.0",
      "model_name": "DescriptionStyleModel",
      "state": {
       "description_width": ""
      }
     },
     "39fe5f92dc694f48a55948f03661ed52": {
      "model_module": "@jupyter-widgets/base",
      "model_module_version": "1.2.0",
      "model_name": "LayoutModel",
      "state": {}
     },
     "3a4ba6c670334b99bbdf84820eefbbb5": {
      "model_module": "@jupyter-widgets/controls",
      "model_module_version": "1.5.0",
      "model_name": "DropdownModel",
      "state": {
       "_options_labels": [
        "6th compact",
        "hyperviscous 6th"
       ],
       "description": "isecondder",
       "description_tooltip": "Scheme for second order derivative",
       "disabled": true,
       "index": 0,
       "layout": "IPY_MODEL_6f6eeff194d840cabebbeb716f1e62b5",
       "style": "IPY_MODEL_5f847ca29c3e45f19c2e83191d975379"
      }
     },
     "3b41d3b7e5394fe4b3791982bf0748af": {
      "model_module": "@jupyter-widgets/controls",
      "model_module_version": "1.5.0",
      "model_name": "HBoxModel",
      "state": {
       "children": [
        "IPY_MODEL_6eacadd887244c5a81b89ef6c0d7edc5",
        "IPY_MODEL_b81caca75c4f42aa8c79bf0a6af3883b",
        "IPY_MODEL_aba2dd3d7a5b4f9ca4a743abf9058363"
       ],
       "layout": "IPY_MODEL_5c5ebf194b58412baadfea91b89b8450"
      }
     },
     "3b62ecec015c42e2b8225486adbe8487": {
      "model_module": "@jupyter-widgets/base",
      "model_module_version": "1.2.0",
      "model_name": "LayoutModel",
      "state": {}
     },
     "41f73b96ed0e4388aedf5711bcbef317": {
      "model_module": "@jupyter-widgets/controls",
      "model_module_version": "1.5.0",
      "model_name": "VBoxModel",
      "state": {
       "children": [
        "IPY_MODEL_f4b2b7c232ab4f5885d2534b8ff3d431",
        "IPY_MODEL_fe10ee670b15431e979c5a540259f2a6",
        "IPY_MODEL_559e9e831f0a43e09c6fb571a4e89309"
       ],
       "layout": "IPY_MODEL_c1fe87ebc3af4d63a94f4e698c985362"
      }
     },
     "4459e95760064e6bb93fb4140caf5c5c": {
      "model_module": "@jupyter-widgets/controls",
      "model_module_version": "1.5.0",
      "model_name": "DescriptionStyleModel",
      "state": {
       "description_width": ""
      }
     },
     "46b53027ac9d450c8803a9589933a3bf": {
      "model_module": "@jupyter-widgets/base",
      "model_module_version": "1.2.0",
      "model_name": "LayoutModel",
      "state": {}
     },
     "47db6b6232ea4f139412b70670650919": {
      "model_module": "@jupyter-widgets/controls",
      "model_module_version": "1.5.0",
      "model_name": "BoundedFloatTextModel",
      "state": {
       "description": "yly",
       "description_tooltip": "Domain size in y direction",
       "layout": "IPY_MODEL_6b79938c8057429180d85f6b0937bf52",
       "max": 1000000,
       "step": null,
       "style": "IPY_MODEL_fe1a88e21ea7488ba12df5e248e6306d",
       "value": 10
      }
     },
     "495080fae8c04204865e97c0bd328b4b": {
      "model_module": "@jupyter-widgets/base",
      "model_module_version": "1.2.0",
      "model_name": "LayoutModel",
      "state": {}
     },
     "49a30bef792747e595d612f3214f866a": {
      "model_module": "@jupyter-widgets/base",
      "model_module_version": "1.2.0",
      "model_name": "LayoutModel",
      "state": {}
     },
     "4a1f417c968245b4bde14c995829aec8": {
      "model_module": "@jupyter-widgets/controls",
      "model_module_version": "1.5.0",
      "model_name": "DescriptionStyleModel",
      "state": {
       "description_width": ""
      }
     },
     "4ae5cdad08aa47feb65af2f3bc2eab68": {
      "model_module": "@jupyter-widgets/base",
      "model_module_version": "1.2.0",
      "model_name": "LayoutModel",
      "state": {}
     },
     "4b03958843484a7faa347b0faf48eecd": {
      "model_module": "@jupyter-widgets/base",
      "model_module_version": "1.2.0",
      "model_name": "LayoutModel",
      "state": {}
     },
     "4cc4c7eb801547179a9883b1c2f4b1b1": {
      "model_module": "@jupyter-widgets/controls",
      "model_module_version": "1.5.0",
      "model_name": "DescriptionStyleModel",
      "state": {
       "description_width": ""
      }
     },
     "4dcb1956e1984cf98e32aa4b72b5f1fa": {
      "model_module": "@jupyter-widgets/controls",
      "model_module_version": "1.5.0",
      "model_name": "DescriptionStyleModel",
      "state": {
       "description_width": ""
      }
     },
     "4e927f0b907d4e28a1aa19c2fb6f6e0b": {
      "model_module": "@jupyter-widgets/controls",
      "model_module_version": "1.5.0",
      "model_name": "DescriptionStyleModel",
      "state": {
       "description_width": ""
      }
     },
     "4ff983c8c8654c0aa2571b69a3d8bdbe": {
      "model_module": "@jupyter-widgets/controls",
      "model_module_version": "1.5.0",
      "model_name": "BoundedFloatTextModel",
      "state": {
       "description": "dt",
       "description_tooltip": "Value to time step",
       "layout": "IPY_MODEL_75bc1f5f3a23496bbec6c60e251a780d",
       "max": 1000000,
       "step": null,
       "style": "IPY_MODEL_50e8e51b86414c328dec5501438c5157",
       "value": 0.0025
      }
     },
     "50e8e51b86414c328dec5501438c5157": {
      "model_module": "@jupyter-widgets/controls",
      "model_module_version": "1.5.0",
      "model_name": "DescriptionStyleModel",
      "state": {
       "description_width": ""
      }
     },
     "51663ff93b6d47b4937053b11dd6f058": {
      "model_module": "@jupyter-widgets/base",
      "model_module_version": "1.2.0",
      "model_name": "LayoutModel",
      "state": {}
     },
     "52e84b1119c74a54ac29e84eb3af3d59": {
      "model_module": "@jupyter-widgets/controls",
      "model_module_version": "1.5.0",
      "model_name": "HTMLModel",
      "state": {
       "layout": "IPY_MODEL_c2c07dc4105a416a8f2d1c4866f35333",
       "style": "IPY_MODEL_a5fb008fe6b247d99e001f68cf454d06",
       "value": "<h2>IBMStuff</h2>"
      }
     },
     "53c006c1e05f4e3090b34fe484acaa0b": {
      "model_module": "@jupyter-widgets/base",
      "model_module_version": "1.2.0",
      "model_name": "LayoutModel",
      "state": {}
     },
     "5430fd66393149a9baea9b8118ec2e6f": {
      "model_module": "@jupyter-widgets/base",
      "model_module_version": "1.2.0",
      "model_name": "LayoutModel",
      "state": {}
     },
     "5490d6f0a2d047ab8df16cf614fc5b58": {
      "model_module": "@jupyter-widgets/base",
      "model_module_version": "1.2.0",
      "model_name": "LayoutModel",
      "state": {}
     },
     "5534d8ff36f649238f5d970c97893e38": {
      "model_module": "@jupyter-widgets/controls",
      "model_module_version": "1.5.0",
      "model_name": "HBoxModel",
      "state": {
       "children": [
        "IPY_MODEL_e21d1b21cc83497ebe5e52414271c86d",
        "IPY_MODEL_7986e9e976ba43abb263709be9e6f6d0",
        "IPY_MODEL_abbdcf9cd1624efea33368cf4c3fa9e8",
        "IPY_MODEL_adb5e88ba31e43f89553a2ca6253308f",
        "IPY_MODEL_140b1e8879654e358393eb5bd4c426e6"
       ],
       "layout": "IPY_MODEL_49a30bef792747e595d612f3214f866a"
      }
     },
     "554b2ef272f04270ae2cb7aa3bc0d54c": {
      "model_module": "@jupyter-widgets/controls",
      "model_module_version": "1.5.0",
      "model_name": "HBoxModel",
      "state": {
       "children": [
        "IPY_MODEL_e633325f79c24655a3d23cba76b0a4aa",
        "IPY_MODEL_a546dc9fe932463284829974fc6d6d9b",
        "IPY_MODEL_5a1b28c76eb9483c8d8fc372d8fb9394"
       ],
       "layout": "IPY_MODEL_7e4225e94c974ec2a7748efea5373a0e"
      }
     },
     "559e9e831f0a43e09c6fb571a4e89309": {
      "model_module": "@jupyter-widgets/controls",
      "model_module_version": "1.5.0",
      "model_name": "DropdownModel",
      "state": {
       "_options_labels": [
        "1",
        "2",
        "4",
        "0"
       ],
       "description": "p_col",
       "description_tooltip": "Domain decomposition for parallel computation",
       "index": 0,
       "layout": "IPY_MODEL_5ffa3407163f47ceb08a99b22acb1d00",
       "style": "IPY_MODEL_8f99bf2ac73d40edabc7f6325fc4f589"
      }
     },
     "56c2f1f474fa4b88826b48e07767de6f": {
      "model_module": "@jupyter-widgets/controls",
      "model_module_version": "1.5.0",
      "model_name": "DescriptionStyleModel",
      "state": {
       "description_width": ""
      }
     },
     "5854b0985a2b4a70b32b1844abfb6500": {
      "model_module": "@jupyter-widgets/controls",
      "model_module_version": "1.5.0",
      "model_name": "DescriptionStyleModel",
      "state": {
       "description_width": ""
      }
     },
     "5a1b28c76eb9483c8d8fc372d8fb9394": {
      "model_module": "@jupyter-widgets/controls",
      "model_module_version": "1.5.0",
      "model_name": "FloatTextModel",
      "state": {
       "description": "inflow_noise",
       "description_tooltip": "Random amplitude value at inflow boundary, turbulence intensity",
       "layout": "IPY_MODEL_2e01d9fd54f34a96ba01f62ea3b28797",
       "step": null,
       "style": "IPY_MODEL_9b4490af09b14ff0a15de3cbbb54700a",
       "value": 0.0125
      }
     },
     "5a5434d74f7b40f5ba5bcb3a69df96ee": {
      "model_module": "@jupyter-widgets/controls",
      "model_module_version": "1.5.0",
      "model_name": "IntTextModel",
      "state": {
       "description": "ifirst",
       "description_tooltip": "Value to first iteration",
       "layout": "IPY_MODEL_fd5a2540151a4136801835ac20a659cd",
       "step": 1,
       "style": "IPY_MODEL_38d5263a72ec4be487cddafba0f530e2",
       "value": 1
      }
     },
     "5c10367c2b46418aa131e6cdcdbda732": {
      "model_module": "@jupyter-widgets/controls",
      "model_module_version": "1.5.0",
      "model_name": "HBoxModel",
      "state": {
       "children": [
        "IPY_MODEL_f4329a75f4da4a399fbafcb611704642"
       ],
       "layout": "IPY_MODEL_a74381746672460c98b6cec2c67fb641"
      }
     },
     "5c5ebf194b58412baadfea91b89b8450": {
      "model_module": "@jupyter-widgets/base",
      "model_module_version": "1.2.0",
      "model_name": "LayoutModel",
      "state": {}
     },
     "5e1f960d2fc74c4689b829a3d7cdb093": {
      "model_module": "@jupyter-widgets/controls",
      "model_module_version": "1.5.0",
      "model_name": "BoundedFloatTextModel",
      "state": {
       "description": "xlx",
       "description_tooltip": "Domain size in x direction",
       "layout": "IPY_MODEL_d8c14593b5e7424aaba584f420301ffa",
       "max": 1000000,
       "step": null,
       "style": "IPY_MODEL_c2c87c9597ae4d0bbcc546536f14dabb",
       "value": 1.2
      }
     },
     "5f847ca29c3e45f19c2e83191d975379": {
      "model_module": "@jupyter-widgets/controls",
      "model_module_version": "1.5.0",
      "model_name": "DescriptionStyleModel",
      "state": {
       "description_width": ""
      }
     },
     "5ffa3407163f47ceb08a99b22acb1d00": {
      "model_module": "@jupyter-widgets/base",
      "model_module_version": "1.2.0",
      "model_name": "LayoutModel",
      "state": {}
     },
     "601d5c51481d4a4ca15a28d3de11180d": {
      "model_module": "@jupyter-widgets/controls",
      "model_module_version": "1.5.0",
      "model_name": "ButtonStyleModel",
      "state": {}
     },
     "60b71cfdcb6b4404becfac295fd6a5ae": {
      "model_module": "@jupyter-widgets/controls",
      "model_module_version": "1.5.0",
      "model_name": "HBoxModel",
      "state": {
       "children": [
        "IPY_MODEL_ce6311d0717440ca88d4496b0e38ae17",
        "IPY_MODEL_3a4ba6c670334b99bbdf84820eefbbb5",
        "IPY_MODEL_ffff703a9d9344968572072aa009e8b7"
       ],
       "layout": "IPY_MODEL_6df7edd8a9be4f1388edcfbe3d4f0aa5"
      }
     },
     "61a475beb4b74800ae987d6d0bfc0d39": {
      "model_module": "@jupyter-widgets/base",
      "model_module_version": "1.2.0",
      "model_name": "LayoutModel",
      "state": {}
     },
     "61c0d07f65204cd78c340cbd1d1fbd19": {
      "model_module": "@jupyter-widgets/controls",
      "model_module_version": "1.5.0",
      "model_name": "DescriptionStyleModel",
      "state": {
       "description_width": ""
      }
     },
     "6351b32c173a450d8730edf14bf82312": {
      "model_module": "@jupyter-widgets/controls",
      "model_module_version": "1.5.0",
      "model_name": "DescriptionStyleModel",
      "state": {
       "description_width": ""
      }
     },
     "63b7897e211b48759df168718cde1227": {
      "model_module": "@jupyter-widgets/controls",
      "model_module_version": "1.5.0",
      "model_name": "HTMLModel",
      "state": {
       "layout": "IPY_MODEL_8a5cbe48cc704ad99f9f29e51dadb955",
       "style": "IPY_MODEL_7d0aa94220644e539edc956fab112699",
       "value": "<strong>cp, us, sc, ri, scalar_lbound & scalar_ubound</strong> are lists with length numscalar, set them properly on the code."
      }
     },
     "64e3f21297614843af600d4e18dcb98e": {
      "model_module": "@jupyter-widgets/controls",
      "model_module_version": "1.5.0",
      "model_name": "DescriptionStyleModel",
      "state": {
       "description_width": ""
      }
     },
     "66dfcc596c464c33b9438c635798a863": {
      "model_module": "@jupyter-widgets/controls",
      "model_module_version": "1.5.0",
      "model_name": "SliderStyleModel",
      "state": {
       "description_width": ""
      }
     },
     "68af314c093045ddbd422a08a85ace14": {
      "model_module": "@jupyter-widgets/base",
      "model_module_version": "1.2.0",
      "model_name": "LayoutModel",
      "state": {}
     },
     "68fcc710b5ca4d3385b51b0090eefb9d": {
      "model_module": "@jupyter-widgets/controls",
      "model_module_version": "1.5.0",
      "model_name": "FloatTextModel",
      "state": {
       "description": "re",
       "description_tooltip": "Reynolds number",
       "layout": "IPY_MODEL_1cb3f7fb63ed4cceb42cc84461a6e356",
       "step": null,
       "style": "IPY_MODEL_7a762bf60a284a20a20aa6b974dc313f",
       "value": 300
      }
     },
     "6971c3b586e7483389863edfee59b930": {
      "model_module": "@jupyter-widgets/controls",
      "model_module_version": "1.5.0",
      "model_name": "HBoxModel",
      "state": {
       "children": [
        "IPY_MODEL_c0b8efb4de014e118212d3a6ed4a0885",
        "IPY_MODEL_07e69b03c4894a75b35003c777723aec",
        "IPY_MODEL_90956127d4114d408438e4d96b43d24f"
       ],
       "layout": "IPY_MODEL_d851f575c4644b4dbfdc1dd2828b1f2a"
      }
     },
     "6a68cc94fd504941beba5066a05f9c07": {
      "model_module": "@jupyter-widgets/controls",
      "model_module_version": "1.5.0",
      "model_name": "DescriptionStyleModel",
      "state": {
       "description_width": ""
      }
     },
     "6a91ce8b2a7c412dbc213632bd5dc869": {
      "model_module": "@jupyter-widgets/controls",
      "model_module_version": "1.5.0",
      "model_name": "DropdownModel",
      "state": {
       "_options_labels": [
        "Periodic",
        "Free-slip",
        "Outflow"
       ],
       "description": "nclxn",
       "description_tooltip": "Velocidy boundary condition at end of x direction",
       "index": 1,
       "layout": "IPY_MODEL_73f925a90d004650bfd20ad9d0c540e3",
       "style": "IPY_MODEL_f5044d20c9d944e9a060af4b88838227"
      }
     },
     "6b79938c8057429180d85f6b0937bf52": {
      "model_module": "@jupyter-widgets/base",
      "model_module_version": "1.2.0",
      "model_name": "LayoutModel",
      "state": {}
     },
     "6c7e6b10838746ceb43f5fe6f3b33793": {
      "model_module": "@jupyter-widgets/controls",
      "model_module_version": "1.5.0",
      "model_name": "IntTextModel",
      "state": {
       "description": "ilast",
       "description_tooltip": "Value to last iteration",
       "layout": "IPY_MODEL_a1955868766040ff9d90be884c476df1",
       "step": 1,
       "style": "IPY_MODEL_b8f8b18039ab499584e3a8f3b8d8ae07",
       "value": 45000
      }
     },
     "6d560b0e39d841488bf2fa65f87cc7b2": {
      "model_module": "@jupyter-widgets/controls",
      "model_module_version": "1.5.0",
      "model_name": "HTMLModel",
      "state": {
       "layout": "IPY_MODEL_f1cb7f3061354e7e9f08a7f242354cc5",
       "style": "IPY_MODEL_87803b834ed44fb68bf0c66f2291a824",
       "value": "<h2>ScalarParam</h2>"
      }
     },
     "6df7edd8a9be4f1388edcfbe3d4f0aa5": {
      "model_module": "@jupyter-widgets/base",
      "model_module_version": "1.2.0",
      "model_name": "LayoutModel",
      "state": {}
     },
     "6e58c03e270647ae8143e0952f1731de": {
      "model_module": "@jupyter-widgets/base",
      "model_module_version": "1.2.0",
      "model_name": "LayoutModel",
      "state": {}
     },
     "6eacadd887244c5a81b89ef6c0d7edc5": {
      "model_module": "@jupyter-widgets/controls",
      "model_module_version": "1.5.0",
      "model_name": "BoundedIntTextModel",
      "state": {
       "description": "icheckpoint",
       "description_tooltip": "Frequency for writing backup file",
       "layout": "IPY_MODEL_00e630c043f1453e8cc95edbcce1c0cb",
       "max": 1000000000,
       "min": 1,
       "style": "IPY_MODEL_0d3e8b4979f747799cf965a861dda600",
       "value": 45000
      }
     },
     "6f6eeff194d840cabebbeb716f1e62b5": {
      "model_module": "@jupyter-widgets/base",
      "model_module_version": "1.2.0",
      "model_name": "LayoutModel",
      "state": {}
     },
     "73f925a90d004650bfd20ad9d0c540e3": {
      "model_module": "@jupyter-widgets/base",
      "model_module_version": "1.2.0",
      "model_name": "LayoutModel",
      "state": {}
     },
     "7474382ac644498b97c90405017cb4c2": {
      "model_module": "@jupyter-widgets/controls",
      "model_module_version": "1.5.0",
      "model_name": "DescriptionStyleModel",
      "state": {
       "description_width": ""
      }
     },
     "74be7068b80f4a45a6af55def68a5636": {
      "model_module": "@jupyter-widgets/controls",
      "model_module_version": "1.5.0",
      "model_name": "HBoxModel",
      "state": {
       "children": [
        "IPY_MODEL_2947ff2deb2548b4b790c8cb66ac9155",
        "IPY_MODEL_77a3194ae9bb42669bda547eec45cb19",
        "IPY_MODEL_08e44d76887f4057b7b76df8e35b3187"
       ],
       "layout": "IPY_MODEL_8075b63094394523b53097e1f501be10"
      }
     },
     "75bc1f5f3a23496bbec6c60e251a780d": {
      "model_module": "@jupyter-widgets/base",
      "model_module_version": "1.2.0",
      "model_name": "LayoutModel",
      "state": {}
     },
     "76a0541a55444ba1bbfffababd8d9ae4": {
      "model_module": "@jupyter-widgets/controls",
      "model_module_version": "1.5.0",
      "model_name": "DescriptionStyleModel",
      "state": {
       "description_width": ""
      }
     },
     "777d2d2071114bc2809b5f68565808d0": {
      "model_module": "@jupyter-widgets/controls",
      "model_module_version": "1.5.0",
      "model_name": "HTMLModel",
      "state": {
       "layout": "IPY_MODEL_97fa77b5589849469a0212c363efcb3e",
       "style": "IPY_MODEL_26b153f3aab3413390a87f5a0621c6aa",
       "value": "<h2>BasicParam</h2>"
      }
     },
     "77a3194ae9bb42669bda547eec45cb19": {
      "model_module": "@jupyter-widgets/controls",
      "model_module_version": "1.5.0",
      "model_name": "FloatTextModel",
      "state": {
       "description": "gravy",
       "description_tooltip": "Value to y component in gravity unitary vector",
       "disabled": true,
       "layout": "IPY_MODEL_b397306292e541688c48ea2c40c1034b",
       "step": null,
       "style": "IPY_MODEL_ea0d7a08e97d470883596b51ab005834"
      }
     },
     "77fe4c64f94c474fa59ee30fe46e5e06": {
      "model_module": "@jupyter-widgets/controls",
      "model_module_version": "1.5.0",
      "model_name": "HBoxModel",
      "state": {
       "children": [
        "IPY_MODEL_2f87db02e4bc4d9d9dc9a8def06004ed",
        "IPY_MODEL_1a19ed3829ad408ab3abf5d06a65dd9e",
        "IPY_MODEL_780de79f54b94e388b039788c07f6f73"
       ],
       "layout": "IPY_MODEL_b20075673998490592f3a08a87fa12ca"
      }
     },
     "780de79f54b94e388b039788c07f6f73": {
      "model_module": "@jupyter-widgets/controls",
      "model_module_version": "1.5.0",
      "model_name": "DropdownModel",
      "state": {
       "_options_labels": [
        "Periodic",
        "No-flux",
        "Dirichlet"
       ],
       "description": "nclzS1",
       "description_tooltip": "Scalar boundary condition at begin of z direction",
       "index": 0,
       "layout": "IPY_MODEL_f9a07ef4e11149c5bbe2e8d0da6a1788",
       "style": "IPY_MODEL_a94b1f5a79404b72af724212aee0a56f"
      }
     },
     "7842ad1c552844dbb1c5d768e6509ba7": {
      "model_module": "@jupyter-widgets/base",
      "model_module_version": "1.2.0",
      "model_name": "LayoutModel",
      "state": {}
     },
     "78726f1eece04eac964e8fa9600b6b82": {
      "model_module": "@jupyter-widgets/controls",
      "model_module_version": "1.5.0",
      "model_name": "HBoxModel",
      "state": {
       "children": [
        "IPY_MODEL_940ca9e028c447af83e361ca24668699",
        "IPY_MODEL_68fcc710b5ca4d3385b51b0090eefb9d"
       ],
       "layout": "IPY_MODEL_80111868ae73422d98b83c03b68475f5"
      }
     },
     "78ad68f767234f979163fd5f7101daf6": {
      "model_module": "@jupyter-widgets/controls",
      "model_module_version": "1.5.0",
      "model_name": "DescriptionStyleModel",
      "state": {
       "description_width": ""
      }
     },
     "7986e9e976ba43abb263709be9e6f6d0": {
      "model_module": "@jupyter-widgets/controls",
      "model_module_version": "1.5.0",
      "model_name": "ButtonModel",
      "state": {
       "description": "Read",
       "disabled": true,
       "icon": "file-upload",
       "layout": "IPY_MODEL_8b07ddd9e7e7483e881084839c4c22d4",
       "style": "IPY_MODEL_601d5c51481d4a4ca15a28d3de11180d"
      }
     },
     "79b944f360704ae49191659f0a6a8a2f": {
      "model_module": "@jupyter-widgets/controls",
      "model_module_version": "1.5.0",
      "model_name": "DropdownModel",
      "state": {
       "_options_labels": [
        "Periodic",
        "Free-slip",
        "No-slip"
       ],
       "description": "nclzn",
       "description_tooltip": "Velocidy boundary condition at end of z direction",
       "index": 0,
       "layout": "IPY_MODEL_f1b907bee317475baceabf6d77dbd297",
       "style": "IPY_MODEL_eb797d9595fa48349a531f6c3d38b8ee"
      }
     },
     "7a575152327d4de1b20ed63add7e2da4": {
      "model_module": "@jupyter-widgets/controls",
      "model_module_version": "1.5.0",
      "model_name": "VBoxModel",
      "state": {
       "children": [
        "IPY_MODEL_10cc8d84c674412aa91d43925d7e3bb6",
        "IPY_MODEL_5534d8ff36f649238f5d970c97893e38",
        "IPY_MODEL_777d2d2071114bc2809b5f68565808d0",
        "IPY_MODEL_78726f1eece04eac964e8fa9600b6b82",
        "IPY_MODEL_554b2ef272f04270ae2cb7aa3bc0d54c",
        "IPY_MODEL_1abfeaaa11d14bf28a9a2258d376a43d",
        "IPY_MODEL_7dd683e42690444480246937f0301713",
        "IPY_MODEL_7e03cd9bf9e04046ba8017ac4fa00bf8",
        "IPY_MODEL_bf8074bb4a8e4c6c8e183b41fbf1f9ad",
        "IPY_MODEL_817989adbd8d4ce0b4298bed859a15d3",
        "IPY_MODEL_bf5bdba121144d2090c1fb93cdcf18e4",
        "IPY_MODEL_3b41d3b7e5394fe4b3791982bf0748af",
        "IPY_MODEL_af1937620e67433d9297dd8be46b7473",
        "IPY_MODEL_a713244d2c2948e7a3bd382cdbf5715c",
        "IPY_MODEL_2948a3752fb94f6fb349f1502994a274",
        "IPY_MODEL_183f50b6a316425b9e9c8e041d92a2f3",
        "IPY_MODEL_97348203f9004e21928e3bbf3e98aaf8",
        "IPY_MODEL_08c87fd6ee7b4b08a5dd55e43d0bc917",
        "IPY_MODEL_b1c3de85cf054949a75ea45d46775bab",
        "IPY_MODEL_bca76ee6f0fb469887c315ad0689319e",
        "IPY_MODEL_60b71cfdcb6b4404becfac295fd6a5ae",
        "IPY_MODEL_ffea7c23ba11436aa263f0fb01ce607e",
        "IPY_MODEL_6d560b0e39d841488bf2fa65f87cc7b2",
        "IPY_MODEL_5c10367c2b46418aa131e6cdcdbda732",
        "IPY_MODEL_77fe4c64f94c474fa59ee30fe46e5e06",
        "IPY_MODEL_6971c3b586e7483389863edfee59b930",
        "IPY_MODEL_74be7068b80f4a45a6af55def68a5636",
        "IPY_MODEL_d69635564e0a442584472cd1c24ed588",
        "IPY_MODEL_63b7897e211b48759df168718cde1227",
        "IPY_MODEL_52e84b1119c74a54ac29e84eb3af3d59",
        "IPY_MODEL_0a80bb903a7749c7a0529a96e68f4137"
       ],
       "layout": "IPY_MODEL_46b53027ac9d450c8803a9589933a3bf"
      }
     },
     "7a762bf60a284a20a20aa6b974dc313f": {
      "model_module": "@jupyter-widgets/controls",
      "model_module_version": "1.5.0",
      "model_name": "DescriptionStyleModel",
      "state": {
       "description_width": ""
      }
     },
     "7bf53d588b18499e8dcd6794e9c5398a": {
      "model_module": "@jupyter-widgets/controls",
      "model_module_version": "1.5.0",
      "model_name": "DescriptionStyleModel",
      "state": {
       "description_width": ""
      }
     },
     "7d0aa94220644e539edc956fab112699": {
      "model_module": "@jupyter-widgets/controls",
      "model_module_version": "1.5.0",
      "model_name": "DescriptionStyleModel",
      "state": {
       "description_width": ""
      }
     },
     "7dd683e42690444480246937f0301713": {
      "model_module": "@jupyter-widgets/controls",
      "model_module_version": "1.5.0",
      "model_name": "HBoxModel",
      "state": {
       "children": [
        "IPY_MODEL_f4b2b7c232ab4f5885d2534b8ff3d431",
        "IPY_MODEL_fe10ee670b15431e979c5a540259f2a6",
        "IPY_MODEL_559e9e831f0a43e09c6fb571a4e89309"
       ],
       "layout": "IPY_MODEL_d49535eeb05b4bb191f8426780e8ce63"
      }
     },
     "7df773d290a54c0586d8d1715e6179b8": {
      "model_module": "@jupyter-widgets/controls",
      "model_module_version": "1.5.0",
      "model_name": "DescriptionStyleModel",
      "state": {
       "description_width": ""
      }
     },
     "7e03cd9bf9e04046ba8017ac4fa00bf8": {
      "model_module": "@jupyter-widgets/controls",
      "model_module_version": "1.5.0",
      "model_name": "HTMLModel",
      "state": {
       "layout": "IPY_MODEL_b061cf051a5e444bb3bfc3db3f12cdfa",
       "style": "IPY_MODEL_ddaffffbea2f429286038a5dfa66ad54",
       "value": "<h3>Temporal discretization</h3>"
      }
     },
     "7e3149e807d4444785181370bef32ea7": {
      "model_module": "@jupyter-widgets/controls",
      "model_module_version": "1.5.0",
      "model_name": "DropdownModel",
      "state": {
       "_options_labels": [
        "Periodic",
        "Free-slip",
        "No-slip"
       ],
       "description": "ncly1",
       "description_tooltip": "Velocidy boundary condition at begin of y direction",
       "index": 1,
       "layout": "IPY_MODEL_1fdaaafb145f40c8bacf5b4ce0b8cf88",
       "style": "IPY_MODEL_e94b744d38f9493885972ab310f9f75e"
      }
     },
     "7e4106dee68f4c85ada19b14a80d129b": {
      "model_module": "@jupyter-widgets/controls",
      "model_module_version": "1.5.0",
      "model_name": "IntSliderModel",
      "state": {
       "description": "nraf",
       "description_tooltip": "Refinement constant which each axis will be multiplicated",
       "layout": "IPY_MODEL_c9f2dcfd32674292b0c62dc10b82226c",
       "max": 25,
       "min": 1,
       "style": "IPY_MODEL_66dfcc596c464c33b9438c635798a863",
       "value": 10
      }
     },
     "7e4225e94c974ec2a7748efea5373a0e": {
      "model_module": "@jupyter-widgets/base",
      "model_module_version": "1.2.0",
      "model_name": "LayoutModel",
      "state": {}
     },
     "7f310a3b747642688e80277d01670380": {
      "model_module": "@jupyter-widgets/base",
      "model_module_version": "1.2.0",
      "model_name": "LayoutModel",
      "state": {}
     },
     "8008718a7bf64bef8c5361aa8e36551f": {
      "model_module": "@jupyter-widgets/base",
      "model_module_version": "1.2.0",
      "model_name": "LayoutModel",
      "state": {}
     },
     "80111868ae73422d98b83c03b68475f5": {
      "model_module": "@jupyter-widgets/base",
      "model_module_version": "1.2.0",
      "model_name": "LayoutModel",
      "state": {}
     },
     "8075b63094394523b53097e1f501be10": {
      "model_module": "@jupyter-widgets/base",
      "model_module_version": "1.2.0",
      "model_name": "LayoutModel",
      "state": {}
     },
     "807b94a93a5a406baf30d80a9c20ca10": {
      "model_module": "@jupyter-widgets/controls",
      "model_module_version": "1.5.0",
      "model_name": "DescriptionStyleModel",
      "state": {
       "description_width": ""
      }
     },
     "81370514fdf24ef1846e008ee0175c04": {
      "model_module": "@jupyter-widgets/controls",
      "model_module_version": "1.5.0",
      "model_name": "BoundedFloatTextModel",
      "state": {
       "description": "dx",
       "layout": "IPY_MODEL_98e0783f81344e1e92de95a6a061e1e7",
       "max": 1000000,
       "step": null,
       "style": "IPY_MODEL_2178844e239a4dfabc7e73e2ba8a2aeb",
       "value": 0.01
      }
     },
     "817989adbd8d4ce0b4298bed859a15d3": {
      "model_module": "@jupyter-widgets/controls",
      "model_module_version": "1.5.0",
      "model_name": "HTMLModel",
      "state": {
       "layout": "IPY_MODEL_982c7bf7f218444db3f1c9d2ea0543bf",
       "style": "IPY_MODEL_8d94e8f6452d4d7e95520111bac04275",
       "value": "<h3>InOutParam</h3>"
      }
     },
     "8334aee0053349d58ce1dd7a8e02665f": {
      "model_module": "@jupyter-widgets/base",
      "model_module_version": "1.2.0",
      "model_name": "LayoutModel",
      "state": {}
     },
     "83b8f63790f344bb803f67ab112a3e06": {
      "model_module": "@jupyter-widgets/base",
      "model_module_version": "1.2.0",
      "model_name": "LayoutModel",
      "state": {}
     },
     "83f90743b2054f69945366e62912d882": {
      "model_module": "@jupyter-widgets/base",
      "model_module_version": "1.2.0",
      "model_name": "LayoutModel",
      "state": {}
     },
     "85d555c7be48458aab7b40494271a73f": {
      "model_module": "@jupyter-widgets/controls",
      "model_module_version": "1.5.0",
      "model_name": "DescriptionStyleModel",
      "state": {
       "description_width": ""
      }
     },
     "87414d9d5c3d4b4b9f4fb886e910bf70": {
      "model_module": "@jupyter-widgets/base",
      "model_module_version": "1.2.0",
      "model_name": "LayoutModel",
      "state": {}
     },
     "874344a52969402e8c5fedcf3b373222": {
      "model_module": "@jupyter-widgets/base",
      "model_module_version": "1.2.0",
      "model_name": "LayoutModel",
      "state": {}
     },
     "87803b834ed44fb68bf0c66f2291a824": {
      "model_module": "@jupyter-widgets/controls",
      "model_module_version": "1.5.0",
      "model_name": "DescriptionStyleModel",
      "state": {
       "description_width": ""
      }
     },
     "88a3ac62f50d49a397b711ae9ce1a71d": {
      "model_module": "@jupyter-widgets/controls",
      "model_module_version": "1.5.0",
      "model_name": "DropdownModel",
      "state": {
       "_options_labels": [
        "Off",
        "On"
       ],
       "description": "ipost",
       "description_tooltip": " Enbalbes online postprocessing",
       "index": 1,
       "layout": "IPY_MODEL_8008718a7bf64bef8c5361aa8e36551f",
       "style": "IPY_MODEL_6a68cc94fd504941beba5066a05f9c07"
      }
     },
     "89870f17c877421f8a4065a9afb40c5a": {
      "model_module": "@jupyter-widgets/base",
      "model_module_version": "1.2.0",
      "model_name": "LayoutModel",
      "state": {}
     },
     "8a5cbe48cc704ad99f9f29e51dadb955": {
      "model_module": "@jupyter-widgets/base",
      "model_module_version": "1.2.0",
      "model_name": "LayoutModel",
      "state": {}
     },
     "8b07ddd9e7e7483e881084839c4c22d4": {
      "model_module": "@jupyter-widgets/base",
      "model_module_version": "1.2.0",
      "model_name": "LayoutModel",
      "state": {}
     },
     "8d94e8f6452d4d7e95520111bac04275": {
      "model_module": "@jupyter-widgets/controls",
      "model_module_version": "1.5.0",
      "model_name": "DescriptionStyleModel",
      "state": {
       "description_width": ""
      }
     },
     "8f99bf2ac73d40edabc7f6325fc4f589": {
      "model_module": "@jupyter-widgets/controls",
      "model_module_version": "1.5.0",
      "model_name": "DescriptionStyleModel",
      "state": {
       "description_width": ""
      }
     },
     "90956127d4114d408438e4d96b43d24f": {
      "model_module": "@jupyter-widgets/controls",
      "model_module_version": "1.5.0",
      "model_name": "DropdownModel",
      "state": {
       "_options_labels": [
        "Periodic",
        "No-flux",
        "Dirichlet"
       ],
       "description": "nclzSn",
       "description_tooltip": "Scalar boundary condition at end of z direction",
       "index": 0,
       "layout": "IPY_MODEL_14feefcde33e497cadddd3f1c3f494af",
       "style": "IPY_MODEL_dc2f0471f15c409e986dc4caaf881913"
      }
     },
     "940ca9e028c447af83e361ca24668699": {
      "model_module": "@jupyter-widgets/controls",
      "model_module_version": "1.5.0",
      "model_name": "DropdownModel",
      "state": {
       "_options_labels": [
        "User",
        "Lock-exchange",
        "Taylor-Green Vortex",
        "Channel",
        "Periodic Hill",
        "Cylinder",
        "Debug Schemes",
        "Mixing Layer",
        "Turbulent Jet",
        "Turbulent Boundary Layer",
        "Sandbox"
       ],
       "description": "itype",
       "description_tooltip": "Flow configuration (Taylor-Green Vortex,  Flow around a Cylinder...)",
       "disabled": true,
       "index": 10,
       "layout": "IPY_MODEL_ac7e600491064c119b8af5153be297eb",
       "style": "IPY_MODEL_28d82dc508af43c6a433c07c26221d69"
      }
     },
     "94cd78031372435c9e2273a09adc6f51": {
      "model_module": "@jupyter-widgets/base",
      "model_module_version": "1.2.0",
      "model_name": "LayoutModel",
      "state": {}
     },
     "96626521d34b4adc9ca4ff762b4f1897": {
      "model_module": "@jupyter-widgets/base",
      "model_module_version": "1.2.0",
      "model_name": "LayoutModel",
      "state": {}
     },
     "97348203f9004e21928e3bbf3e98aaf8": {
      "model_module": "@jupyter-widgets/controls",
      "model_module_version": "1.5.0",
      "model_name": "HBoxModel",
      "state": {
       "children": [
        "IPY_MODEL_e222053c76c34e6cb76f9ccfd2a36ca1",
        "IPY_MODEL_7e3149e807d4444785181370bef32ea7",
        "IPY_MODEL_e080bcd91ae849e3b8107a7dffeebe10"
       ],
       "layout": "IPY_MODEL_c9d8d02af2b74e299c54c429ec8f4dd2"
      }
     },
     "97fa77b5589849469a0212c363efcb3e": {
      "model_module": "@jupyter-widgets/base",
      "model_module_version": "1.2.0",
      "model_name": "LayoutModel",
      "state": {}
     },
     "982c7bf7f218444db3f1c9d2ea0543bf": {
      "model_module": "@jupyter-widgets/base",
      "model_module_version": "1.2.0",
      "model_name": "LayoutModel",
      "state": {}
     },
     "98e0783f81344e1e92de95a6a061e1e7": {
      "model_module": "@jupyter-widgets/base",
      "model_module_version": "1.2.0",
      "model_name": "LayoutModel",
      "state": {}
     },
     "98ea7b9758314f8a8dd7c1845d945336": {
      "model_module": "@jupyter-widgets/base",
      "model_module_version": "1.2.0",
      "model_name": "LayoutModel",
      "state": {}
     },
     "9a0d928c98f34259bbb8c582eb83472c": {
      "model_module": "@jupyter-widgets/base",
      "model_module_version": "1.2.0",
      "model_name": "LayoutModel",
      "state": {}
     },
     "9b4490af09b14ff0a15de3cbbb54700a": {
      "model_module": "@jupyter-widgets/controls",
      "model_module_version": "1.5.0",
      "model_name": "DescriptionStyleModel",
      "state": {
       "description_width": ""
      }
     },
     "9b5c01a882574d82a6ba05a175eb6532": {
      "model_module": "@jupyter-widgets/base",
      "model_module_version": "1.2.0",
      "model_name": "LayoutModel",
      "state": {}
     },
     "9e9b85b37a6044ddb92533bcacfc7f7f": {
      "model_module": "@jupyter-widgets/base",
      "model_module_version": "1.2.0",
      "model_name": "LayoutModel",
      "state": {}
     },
     "9ef4111200ea49a58291d9bcd7360a48": {
      "model_module": "@jupyter-widgets/controls",
      "model_module_version": "1.5.0",
      "model_name": "DescriptionStyleModel",
      "state": {
       "description_width": ""
      }
     },
     "a0c407a7eaf944d2af5a522aed52467e": {
      "model_module": "@jupyter-widgets/base",
      "model_module_version": "1.2.0",
      "model_name": "LayoutModel",
      "state": {}
     },
     "a1955868766040ff9d90be884c476df1": {
      "model_module": "@jupyter-widgets/base",
      "model_module_version": "1.2.0",
      "model_name": "LayoutModel",
      "state": {}
     },
     "a3f4b7d2643048fca6da63d1d12c0262": {
      "model_module": "@jupyter-widgets/base",
      "model_module_version": "1.2.0",
      "model_name": "LayoutModel",
      "state": {}
     },
     "a546dc9fe932463284829974fc6d6d9b": {
      "model_module": "@jupyter-widgets/controls",
      "model_module_version": "1.5.0",
      "model_name": "FloatTextModel",
      "state": {
       "description": "init_noise",
       "description_tooltip": "Value to initial noise, turbulence intensity",
       "layout": "IPY_MODEL_25a740f76e2844b7a11d183b2486c6b4",
       "step": null,
       "style": "IPY_MODEL_0ab0f5a97bc3450b94db567c0dc4d1e1",
       "value": 0.0125
      }
     },
     "a5fb008fe6b247d99e001f68cf454d06": {
      "model_module": "@jupyter-widgets/controls",
      "model_module_version": "1.5.0",
      "model_name": "DescriptionStyleModel",
      "state": {
       "description_width": ""
      }
     },
     "a713244d2c2948e7a3bd382cdbf5715c": {
      "model_module": "@jupyter-widgets/controls",
      "model_module_version": "1.5.0",
      "model_name": "HBoxModel",
      "state": {
       "children": [
        "IPY_MODEL_e620526113da4771832a91fa2f7c3e8b",
        "IPY_MODEL_ba79dd818c1b4222bfedb68781dc03db",
        "IPY_MODEL_cf61e7c907b64060850f61925bae67c7"
       ],
       "layout": "IPY_MODEL_b87181bdc58e41339f341e1d86b2bde8"
      }
     },
     "a74381746672460c98b6cec2c67fb641": {
      "model_module": "@jupyter-widgets/base",
      "model_module_version": "1.2.0",
      "model_name": "LayoutModel",
      "state": {}
     },
     "a850f9fd6e434ad1ac0409750cf4d4b6": {
      "model_module": "@jupyter-widgets/controls",
      "model_module_version": "1.5.0",
      "model_name": "VBoxModel",
      "state": {
       "children": [
        "IPY_MODEL_e620526113da4771832a91fa2f7c3e8b",
        "IPY_MODEL_5e1f960d2fc74c4689b829a3d7cdb093",
        "IPY_MODEL_81370514fdf24ef1846e008ee0175c04",
        "IPY_MODEL_e222053c76c34e6cb76f9ccfd2a36ca1",
        "IPY_MODEL_6a91ce8b2a7c412dbc213632bd5dc869"
       ],
       "layout": "IPY_MODEL_1b7242c7786148dba6e1230ac5e4386d"
      }
     },
     "a94b1f5a79404b72af724212aee0a56f": {
      "model_module": "@jupyter-widgets/controls",
      "model_module_version": "1.5.0",
      "model_name": "DescriptionStyleModel",
      "state": {
       "description_width": ""
      }
     },
     "a9518e90ceae4123af8ba4d014c72f1b": {
      "model_module": "@jupyter-widgets/controls",
      "model_module_version": "1.5.0",
      "model_name": "IntTextModel",
      "state": {
       "description": "nobjmax",
       "description_tooltip": "Maximum number of objects in any direction",
       "disabled": true,
       "layout": "IPY_MODEL_9b5c01a882574d82a6ba05a175eb6532",
       "step": 1,
       "style": "IPY_MODEL_bde999657e16416fa9491e066fb55aeb",
       "value": 1
      }
     },
     "aaffef672d9c41f5b329e82abab2038d": {
      "model_module": "@jupyter-widgets/base",
      "model_module_version": "1.2.0",
      "model_name": "LayoutModel",
      "state": {}
     },
     "aba2dd3d7a5b4f9ca4a743abf9058363": {
      "model_module": "@jupyter-widgets/controls",
      "model_module_version": "1.5.0",
      "model_name": "BoundedIntTextModel",
      "state": {
       "description": "iprocessing",
       "description_tooltip": "Frequency for online postprocessing",
       "layout": "IPY_MODEL_32c8f9edc2894915b01514536e9b8ffd",
       "max": 1000000000,
       "min": 1,
       "style": "IPY_MODEL_78ad68f767234f979163fd5f7101daf6",
       "value": 50
      }
     },
     "abbdcf9cd1624efea33368cf4c3fa9e8": {
      "model_module": "@jupyter-widgets/controls",
      "model_module_version": "1.5.0",
      "model_name": "ButtonModel",
      "state": {
       "description": "Write",
       "disabled": true,
       "icon": "file-download",
       "layout": "IPY_MODEL_c1e0fc1dd6c440df8afea983acf06f11",
       "style": "IPY_MODEL_1253824bb6094ea1b47be06486e5d860"
      }
     },
     "abc04231877e4f92ac97f216877de6b6": {
      "model_module": "@jupyter-widgets/controls",
      "model_module_version": "1.5.0",
      "model_name": "VBoxModel",
      "state": {
       "children": [
        "IPY_MODEL_e620526113da4771832a91fa2f7c3e8b"
       ],
       "layout": "IPY_MODEL_8334aee0053349d58ce1dd7a8e02665f"
      }
     },
     "ac7e600491064c119b8af5153be297eb": {
      "model_module": "@jupyter-widgets/base",
      "model_module_version": "1.2.0",
      "model_name": "LayoutModel",
      "state": {}
     },
     "adb5e88ba31e43f89553a2ca6253308f": {
      "model_module": "@jupyter-widgets/controls",
      "model_module_version": "1.5.0",
      "model_name": "ButtonModel",
      "state": {
       "description": "Run",
       "disabled": true,
       "icon": "rocket",
       "layout": "IPY_MODEL_b6a80788bc21429e82681b08a9c7f385",
       "style": "IPY_MODEL_34ffb8dc11f0493d9807a668e215e393"
      }
     },
     "adf09b816285420cbbd55a5d93d6a699": {
      "model_module": "@jupyter-widgets/controls",
      "model_module_version": "1.5.0",
      "model_name": "ButtonStyleModel",
      "state": {}
     },
     "aed6a7dcc1fc4823a1ecf4f27c9249f9": {
      "model_module": "@jupyter-widgets/base",
      "model_module_version": "1.2.0",
      "model_name": "LayoutModel",
      "state": {}
     },
     "af1937620e67433d9297dd8be46b7473": {
      "model_module": "@jupyter-widgets/controls",
      "model_module_version": "1.5.0",
      "model_name": "HTMLModel",
      "state": {
       "layout": "IPY_MODEL_83f90743b2054f69945366e62912d882",
       "style": "IPY_MODEL_7df773d290a54c0586d8d1715e6179b8",
       "value": "<h3>Spatial discretization</h3>"
      }
     },
     "afbbf095c3c84f91b54b3ae5d5248d2a": {
      "model_module": "@jupyter-widgets/controls",
      "model_module_version": "1.5.0",
      "model_name": "DropdownModel",
      "state": {
       "_options_labels": [
        "Off",
        "On"
       ],
       "description": "ilesmod",
       "description_tooltip": "Enables Large-Eddy methodologies",
       "index": 1,
       "layout": "IPY_MODEL_bebc3ccdfa004a128f7db9ba3afe8b59",
       "style": "IPY_MODEL_7bf53d588b18499e8dcd6794e9c5398a"
      }
     },
     "b061cf051a5e444bb3bfc3db3f12cdfa": {
      "model_module": "@jupyter-widgets/base",
      "model_module_version": "1.2.0",
      "model_name": "LayoutModel",
      "state": {}
     },
     "b1c3de85cf054949a75ea45d46775bab": {
      "model_module": "@jupyter-widgets/controls",
      "model_module_version": "1.5.0",
      "model_name": "HBoxModel",
      "state": {
       "children": [
        "IPY_MODEL_b6adae46cd44498ba4d73741a34510db",
        "IPY_MODEL_fb9f202b70fe4ef793b3df3336890377"
       ],
       "layout": "IPY_MODEL_ec88920fffbd48c986cbdbab313c3bf9"
      }
     },
     "b20075673998490592f3a08a87fa12ca": {
      "model_module": "@jupyter-widgets/base",
      "model_module_version": "1.2.0",
      "model_name": "LayoutModel",
      "state": {}
     },
     "b397306292e541688c48ea2c40c1034b": {
      "model_module": "@jupyter-widgets/base",
      "model_module_version": "1.2.0",
      "model_name": "LayoutModel",
      "state": {}
     },
     "b6a80788bc21429e82681b08a9c7f385": {
      "model_module": "@jupyter-widgets/base",
      "model_module_version": "1.2.0",
      "model_name": "LayoutModel",
      "state": {}
     },
     "b6adae46cd44498ba4d73741a34510db": {
      "model_module": "@jupyter-widgets/controls",
      "model_module_version": "1.5.0",
      "model_name": "DropdownModel",
      "state": {
       "_options_labels": [
        "No refinement",
        "Refinement at the center",
        "Both sides",
        "Just near the bottom"
       ],
       "description": "istret",
       "description_tooltip": "Mesh refinement in y direction at certain location",
       "disabled": true,
       "index": 0,
       "layout": "IPY_MODEL_4ae5cdad08aa47feb65af2f3bc2eab68",
       "style": "IPY_MODEL_334a7ec0471b4080ade4d87fa469f1db"
      }
     },
     "b81caca75c4f42aa8c79bf0a6af3883b": {
      "model_module": "@jupyter-widgets/controls",
      "model_module_version": "1.5.0",
      "model_name": "BoundedIntTextModel",
      "state": {
       "description": "ioutput",
       "description_tooltip": "Frequency for visualization file",
       "layout": "IPY_MODEL_7f310a3b747642688e80277d01670380",
       "max": 1000000000,
       "min": 1,
       "style": "IPY_MODEL_76a0541a55444ba1bbfffababd8d9ae4",
       "value": 200
      }
     },
     "b85c8dffa532487f81914864decfd03f": {
      "model_module": "@jupyter-widgets/base",
      "model_module_version": "1.2.0",
      "model_name": "LayoutModel",
      "state": {}
     },
     "b87181bdc58e41339f341e1d86b2bde8": {
      "model_module": "@jupyter-widgets/base",
      "model_module_version": "1.2.0",
      "model_name": "LayoutModel",
      "state": {}
     },
     "b8f8b18039ab499584e3a8f3b8d8ae07": {
      "model_module": "@jupyter-widgets/controls",
      "model_module_version": "1.5.0",
      "model_name": "DescriptionStyleModel",
      "state": {
       "description_width": ""
      }
     },
     "b9a0ee56c0ac4a79afae4013acb44d8e": {
      "model_module": "@jupyter-widgets/controls",
      "model_module_version": "1.5.0",
      "model_name": "TextModel",
      "state": {
       "description": "Size",
       "disabled": true,
       "layout": "IPY_MODEL_23c6c055b0df408db11b9af3445cde0f",
       "style": "IPY_MODEL_85d555c7be48458aab7b40494271a73f",
       "value": "1.6 GB"
      }
     },
     "ba79dd818c1b4222bfedb68781dc03db": {
      "model_module": "@jupyter-widgets/controls",
      "model_module_version": "1.5.0",
      "model_name": "DropdownModel",
      "state": {
       "_options_labels": [
        "9",
        "11",
        "13",
        "17",
        "19",
        "21",
        "25",
        "31",
        "33",
        "37",
        "41",
        "49",
        "51",
        "55",
        "61",
        "65",
        "73",
        "81",
        "91",
        "97",
        "101",
        "109",
        "121",
        "129",
        "145",
        "151",
        "161",
        "163",
        "181",
        "193",
        "201",
        "217",
        "241",
        "251",
        "257",
        "271",
        "289",
        "301",
        "321",
        "325",
        "361",
        "385",
        "401",
        "433",
        "451",
        "481",
        "487",
        "501",
        "513",
        "541",
        "577",
        "601",
        "641",
        "649",
        "721",
        "751",
        "769",
        "801",
        "811",
        "865",
        "901",
        "961",
        "973",
        "1001",
        "1025",
        "1081",
        "1153",
        "1201",
        "1251",
        "1281",
        "1297",
        "1351",
        "1441",
        "1459",
        "1501",
        "1537",
        "1601",
        "1621",
        "1729",
        "1801",
        "1921",
        "1945",
        "2001",
        "2049",
        "2161",
        "2251",
        "2305",
        "2401",
        "2431",
        "2501",
        "2561",
        "2593",
        "2701",
        "2881",
        "2917",
        "3001",
        "3073",
        "3201",
        "3241",
        "3457",
        "3601",
        "3751",
        "3841",
        "3889",
        "4001",
        "4051",
        "4097",
        "4321",
        "4375",
        "4501",
        "4609",
        "4801",
        "4861",
        "5001",
        "5121",
        "5185",
        "5401",
        "5761",
        "5833",
        "6001",
        "6145",
        "6251",
        "6401",
        "6481",
        "6751",
        "6913",
        "7201",
        "7291",
        "7501",
        "7681",
        "7777",
        "8001",
        "8101",
        "8193",
        "8641",
        "8749",
        "9001"
       ],
       "description": "ny",
       "description_tooltip": "Number of mesh points in y direction",
       "index": 23,
       "layout": "IPY_MODEL_7842ad1c552844dbb1c5d768e6509ba7",
       "style": "IPY_MODEL_09b675df0f414ef2aba05244db85632d"
      }
     },
     "bb1a6daa78974633a41d7d0c2e8707c6": {
      "model_module": "@jupyter-widgets/controls",
      "model_module_version": "1.5.0",
      "model_name": "DescriptionStyleModel",
      "state": {
       "description_width": ""
      }
     },
     "bbd746f1548d4f40a8216abe3472f807": {
      "model_module": "@jupyter-widgets/controls",
      "model_module_version": "1.5.0",
      "model_name": "DescriptionStyleModel",
      "state": {
       "description_width": ""
      }
     },
     "bca76ee6f0fb469887c315ad0689319e": {
      "model_module": "@jupyter-widgets/controls",
      "model_module_version": "1.5.0",
      "model_name": "HTMLModel",
      "state": {
       "layout": "IPY_MODEL_96626521d34b4adc9ca4ff762b4f1897",
       "style": "IPY_MODEL_21caa3a97b024d319266effb48d9d910",
       "value": "<h2>NumOptions</h2>"
      }
     },
     "bcd9648e0b8c4f3d8f26cc061ac05b9e": {
      "model_module": "@jupyter-widgets/controls",
      "model_module_version": "1.5.0",
      "model_name": "BoundedFloatTextModel",
      "state": {
       "description": "zlz",
       "description_tooltip": "Domain size in z direction",
       "layout": "IPY_MODEL_aaffef672d9c41f5b329e82abab2038d",
       "max": 1000000,
       "step": null,
       "style": "IPY_MODEL_5854b0985a2b4a70b32b1844abfb6500",
       "value": 3
      }
     },
     "bde999657e16416fa9491e066fb55aeb": {
      "model_module": "@jupyter-widgets/controls",
      "model_module_version": "1.5.0",
      "model_name": "DescriptionStyleModel",
      "state": {
       "description_width": ""
      }
     },
     "bebc3ccdfa004a128f7db9ba3afe8b59": {
      "model_module": "@jupyter-widgets/base",
      "model_module_version": "1.2.0",
      "model_name": "LayoutModel",
      "state": {}
     },
     "bf1ef3ca510044f5ba6834b3c3b37bd4": {
      "model_module": "@jupyter-widgets/controls",
      "model_module_version": "1.5.0",
      "model_name": "DescriptionStyleModel",
      "state": {
       "description_width": ""
      }
     },
     "bf5bdba121144d2090c1fb93cdcf18e4": {
      "model_module": "@jupyter-widgets/controls",
      "model_module_version": "1.5.0",
      "model_name": "HBoxModel",
      "state": {
       "children": [
        "IPY_MODEL_d93cd24109b54de38b1ba5712f5ed7ea",
        "IPY_MODEL_db02351ca57142ffaddb9920d0ea598d",
        "IPY_MODEL_b9a0ee56c0ac4a79afae4013acb44d8e"
       ],
       "layout": "IPY_MODEL_a3f4b7d2643048fca6da63d1d12c0262"
      }
     },
     "bf8074bb4a8e4c6c8e183b41fbf1f9ad": {
      "model_module": "@jupyter-widgets/controls",
      "model_module_version": "1.5.0",
      "model_name": "HBoxModel",
      "state": {
       "children": [
        "IPY_MODEL_5a5434d74f7b40f5ba5bcb3a69df96ee",
        "IPY_MODEL_6c7e6b10838746ceb43f5fe6f3b33793",
        "IPY_MODEL_4ff983c8c8654c0aa2571b69a3d8bdbe"
       ],
       "layout": "IPY_MODEL_9a0d928c98f34259bbb8c582eb83472c"
      }
     },
     "c0b8efb4de014e118212d3a6ed4a0885": {
      "model_module": "@jupyter-widgets/controls",
      "model_module_version": "1.5.0",
      "model_name": "DropdownModel",
      "state": {
       "_options_labels": [
        "Periodic",
        "No-flux",
        "Dirichlet"
       ],
       "description": "nclxSn",
       "description_tooltip": "Scalar boundary condition at end of x direction",
       "index": 2,
       "layout": "IPY_MODEL_d2862e4e5ae34baebd70189ba1d72e4f",
       "style": "IPY_MODEL_64e3f21297614843af600d4e18dcb98e"
      }
     },
     "c111cb42e75b4a9baa1c5542258190c2": {
      "model_module": "@jupyter-widgets/base",
      "model_module_version": "1.2.0",
      "model_name": "LayoutModel",
      "state": {}
     },
     "c1e0fc1dd6c440df8afea983acf06f11": {
      "model_module": "@jupyter-widgets/base",
      "model_module_version": "1.2.0",
      "model_name": "LayoutModel",
      "state": {}
     },
     "c1fe87ebc3af4d63a94f4e698c985362": {
      "model_module": "@jupyter-widgets/base",
      "model_module_version": "1.2.0",
      "model_name": "LayoutModel",
      "state": {}
     },
     "c2c07dc4105a416a8f2d1c4866f35333": {
      "model_module": "@jupyter-widgets/base",
      "model_module_version": "1.2.0",
      "model_name": "LayoutModel",
      "state": {}
     },
     "c2c87c9597ae4d0bbcc546536f14dabb": {
      "model_module": "@jupyter-widgets/controls",
      "model_module_version": "1.5.0",
      "model_name": "DescriptionStyleModel",
      "state": {
       "description_width": ""
      }
     },
     "c4ae0673f0b1404d9348356e6a5a3873": {
      "model_module": "@jupyter-widgets/controls",
      "model_module_version": "1.5.0",
      "model_name": "DropdownModel",
      "state": {
       "_options_labels": [
        "Off",
        "Forced to zero",
        "Interpolated to zero"
       ],
       "description": "iibm",
       "description_tooltip": "Immersed boundary configuration for velocity",
       "index": 0,
       "layout": "IPY_MODEL_c111cb42e75b4a9baa1c5542258190c2",
       "style": "IPY_MODEL_134a747ba18347bfa5d73dbfaf1b9bb4"
      }
     },
     "c9d8d02af2b74e299c54c429ec8f4dd2": {
      "model_module": "@jupyter-widgets/base",
      "model_module_version": "1.2.0",
      "model_name": "LayoutModel",
      "state": {}
     },
     "c9f2dcfd32674292b0c62dc10b82226c": {
      "model_module": "@jupyter-widgets/base",
      "model_module_version": "1.2.0",
      "model_name": "LayoutModel",
      "state": {}
     },
     "cbf57e2f4f05494a8aff2933e8ef6f71": {
      "model_module": "@jupyter-widgets/controls",
      "model_module_version": "1.5.0",
      "model_name": "DropdownModel",
      "state": {
       "_options_labels": [
        "Off",
        "Forced to zero",
        "Interpolated to zero",
        "Interpolated to no-flux"
       ],
       "description": "iibmS",
       "description_tooltip": "Immersed boundary configuration for scalar (alpha version)",
       "index": 0,
       "layout": "IPY_MODEL_495080fae8c04204865e97c0bd328b4b",
       "style": "IPY_MODEL_56c2f1f474fa4b88826b48e07767de6f"
      }
     },
     "cc5273a61ac84cc5ad084aceec5f3e08": {
      "model_module": "@jupyter-widgets/base",
      "model_module_version": "1.2.0",
      "model_name": "LayoutModel",
      "state": {}
     },
     "ce6311d0717440ca88d4496b0e38ae17": {
      "model_module": "@jupyter-widgets/controls",
      "model_module_version": "1.5.0",
      "model_name": "DropdownModel",
      "state": {
       "_options_labels": [
        "2nd central",
        "4th central",
        "4th compact",
        "6th compact"
       ],
       "description": "ifirstder",
       "description_tooltip": "Scheme for first order derivative",
       "disabled": true,
       "index": 3,
       "layout": "IPY_MODEL_091d3117951b426a838a7efd7bf7b7d4",
       "style": "IPY_MODEL_1f56729d951d45f587e039e32ea526e8"
      }
     },
     "cf61e7c907b64060850f61925bae67c7": {
      "model_module": "@jupyter-widgets/controls",
      "model_module_version": "1.5.0",
      "model_name": "DropdownModel",
      "state": {
       "_options_labels": [
        "8",
        "10",
        "12",
        "16",
        "18",
        "20",
        "24",
        "30",
        "32",
        "36",
        "40",
        "48",
        "50",
        "54",
        "60",
        "64",
        "72",
        "80",
        "90",
        "96",
        "100",
        "108",
        "120",
        "128",
        "144",
        "150",
        "160",
        "162",
        "180",
        "192",
        "200",
        "216",
        "240",
        "250",
        "256",
        "270",
        "288",
        "300",
        "320",
        "324",
        "360",
        "384",
        "400",
        "432",
        "450",
        "480",
        "486",
        "500",
        "512",
        "540",
        "576",
        "600",
        "640",
        "648",
        "720",
        "750",
        "768",
        "800",
        "810",
        "864",
        "900",
        "960",
        "972",
        "1000",
        "1024",
        "1080",
        "1152",
        "1200",
        "1250",
        "1280",
        "1296",
        "1350",
        "1440",
        "1458",
        "1500",
        "1536",
        "1600",
        "1620",
        "1728",
        "1800",
        "1920",
        "1944",
        "2000",
        "2048",
        "2160",
        "2250",
        "2304",
        "2400",
        "2430",
        "2500",
        "2560",
        "2592",
        "2700",
        "2880",
        "2916",
        "3000",
        "3072",
        "3200",
        "3240",
        "3456",
        "3600",
        "3750",
        "3840",
        "3888",
        "4000",
        "4050",
        "4096",
        "4320",
        "4374",
        "4500",
        "4608",
        "4800",
        "4860",
        "5000",
        "5120",
        "5184",
        "5400",
        "5760",
        "5832",
        "6000",
        "6144",
        "6250",
        "6400",
        "6480",
        "6750",
        "6912",
        "7200",
        "7290",
        "7500",
        "7680",
        "7776",
        "8000",
        "8100",
        "8192",
        "8640",
        "8748",
        "9000"
       ],
       "description": "nz",
       "description_tooltip": "Number of mesh points in z direction",
       "index": 0,
       "layout": "IPY_MODEL_5490d6f0a2d047ab8df16cf614fc5b58",
       "style": "IPY_MODEL_20f1f2d458ed45dc9c2a7be050f6088d"
      }
     },
     "d2862e4e5ae34baebd70189ba1d72e4f": {
      "model_module": "@jupyter-widgets/base",
      "model_module_version": "1.2.0",
      "model_name": "LayoutModel",
      "state": {}
     },
     "d44ccf34838a4bccb1c590b294db5aea": {
      "model_module": "@jupyter-widgets/base",
      "model_module_version": "1.2.0",
      "model_name": "LayoutModel",
      "state": {}
     },
     "d49535eeb05b4bb191f8426780e8ce63": {
      "model_module": "@jupyter-widgets/base",
      "model_module_version": "1.2.0",
      "model_name": "LayoutModel",
      "state": {}
     },
     "d4df41a8824d433a8ed5d7f584647fe9": {
      "model_module": "@jupyter-widgets/controls",
      "model_module_version": "1.5.0",
      "model_name": "DropdownModel",
      "state": {
       "_options_labels": [
        "DNS",
        "Phys Smag",
        "Phys WALE",
        "Phys dyn. Smag",
        "iSVV"
       ],
       "description": "ilesmod",
       "description_tooltip": "LES model",
       "index": 0,
       "layout": "IPY_MODEL_89870f17c877421f8a4065a9afb40c5a",
       "style": "IPY_MODEL_6351b32c173a450d8730edf14bf82312"
      }
     },
     "d69635564e0a442584472cd1c24ed588": {
      "model_module": "@jupyter-widgets/controls",
      "model_module_version": "1.5.0",
      "model_name": "HBoxModel",
      "state": {
       "children": [
        "IPY_MODEL_cbf57e2f4f05494a8aff2933e8ef6f71"
       ],
       "layout": "IPY_MODEL_68af314c093045ddbd422a08a85ace14"
      }
     },
     "d7bb78ad832247219dd079ea662f4365": {
      "model_module": "@jupyter-widgets/controls",
      "model_module_version": "1.5.0",
      "model_name": "SliderStyleModel",
      "state": {
       "description_width": ""
      }
     },
     "d851f575c4644b4dbfdc1dd2828b1f2a": {
      "model_module": "@jupyter-widgets/base",
      "model_module_version": "1.2.0",
      "model_name": "LayoutModel",
      "state": {}
     },
     "d8c14593b5e7424aaba584f420301ffa": {
      "model_module": "@jupyter-widgets/base",
      "model_module_version": "1.2.0",
      "model_name": "LayoutModel",
      "state": {}
     },
     "d93cd24109b54de38b1ba5712f5ed7ea": {
      "model_module": "@jupyter-widgets/controls",
      "model_module_version": "1.5.0",
      "model_name": "DropdownModel",
      "state": {
       "_options_labels": [
        "Off",
        "On"
       ],
       "description": "irestart",
       "description_tooltip": "Flag to read initial flow field",
       "index": 0,
       "layout": "IPY_MODEL_94cd78031372435c9e2273a09adc6f51",
       "style": "IPY_MODEL_9ef4111200ea49a58291d9bcd7360a48"
      }
     },
     "d991feaeb9c84413a8cecd121025f2a1": {
      "model_module": "@jupyter-widgets/base",
      "model_module_version": "1.2.0",
      "model_name": "LayoutModel",
      "state": {}
     },
     "da8e082f8c4641efb21234319089391e": {
      "model_module": "@jupyter-widgets/controls",
      "model_module_version": "1.5.0",
      "model_name": "DescriptionStyleModel",
      "state": {
       "description_width": ""
      }
     },
     "db02351ca57142ffaddb9920d0ea598d": {
      "model_module": "@jupyter-widgets/controls",
      "model_module_version": "1.5.0",
      "model_name": "BoundedIntTextModel",
      "state": {
       "description": "nvisu",
       "description_tooltip": "Size for visual collection",
       "disabled": true,
       "layout": "IPY_MODEL_a0c407a7eaf944d2af5a522aed52467e",
       "max": 1000000000,
       "min": 1,
       "style": "IPY_MODEL_f0706b0ac03a46d78e2b8941acf3c036",
       "value": 1
      }
     },
     "dc0376ce10b144c79594157d3e1f3728": {
      "model_module": "@jupyter-widgets/controls",
      "model_module_version": "1.5.0",
      "model_name": "BoundedFloatTextModel",
      "state": {
       "description": "dz",
       "layout": "IPY_MODEL_4b03958843484a7faa347b0faf48eecd",
       "max": 1000000,
       "step": null,
       "style": "IPY_MODEL_e86736bd6671496487f0505f5854fd64",
       "value": 0.375
      }
     },
     "dc2f0471f15c409e986dc4caaf881913": {
      "model_module": "@jupyter-widgets/controls",
      "model_module_version": "1.5.0",
      "model_name": "DescriptionStyleModel",
      "state": {
       "description_width": ""
      }
     },
     "ddaffffbea2f429286038a5dfa66ad54": {
      "model_module": "@jupyter-widgets/controls",
      "model_module_version": "1.5.0",
      "model_name": "DescriptionStyleModel",
      "state": {
       "description_width": ""
      }
     },
     "e080bcd91ae849e3b8107a7dffeebe10": {
      "model_module": "@jupyter-widgets/controls",
      "model_module_version": "1.5.0",
      "model_name": "DropdownModel",
      "state": {
       "_options_labels": [
        "Periodic",
        "Free-slip",
        "No-slip"
       ],
       "description": "nclz1",
       "description_tooltip": "Velocidy boundary condition at begin of z direction",
       "index": 0,
       "layout": "IPY_MODEL_83b8f63790f344bb803f67ab112a3e06",
       "style": "IPY_MODEL_19889f93a1ff4f5bb5437d6ffaa74c9b"
      }
     },
     "e101c2e426fb48e88708ca9406bb0fe2": {
      "model_module": "@jupyter-widgets/base",
      "model_module_version": "1.2.0",
      "model_name": "LayoutModel",
      "state": {}
     },
     "e21d1b21cc83497ebe5e52414271c86d": {
      "model_module": "@jupyter-widgets/controls",
      "model_module_version": "1.5.0",
      "model_name": "TextModel",
      "state": {
       "description": "filename",
       "layout": "IPY_MODEL_10f1a9ca8d564591a3dc3917967d84e0",
       "style": "IPY_MODEL_f4ceb76a670f4e20839122e3715082a1",
       "value": "example.i3d"
      }
     },
     "e222053c76c34e6cb76f9ccfd2a36ca1": {
      "model_module": "@jupyter-widgets/controls",
      "model_module_version": "1.5.0",
      "model_name": "DropdownModel",
      "state": {
       "_options_labels": [
        "Periodic",
        "Free-slip",
        "Inflow"
       ],
       "description": "nclx1",
       "description_tooltip": "Velocidy boundary condition at begin of x direction",
       "index": 2,
       "layout": "IPY_MODEL_5430fd66393149a9baea9b8118ec2e6f",
       "style": "IPY_MODEL_bb1a6daa78974633a41d7d0c2e8707c6"
      }
     },
     "e585bdc5defd4a009d573b9eba21e79e": {
      "model_module": "@jupyter-widgets/controls",
      "model_module_version": "1.5.0",
      "model_name": "BoundedFloatTextModel",
      "state": {
       "description": "dy",
       "layout": "IPY_MODEL_cc5273a61ac84cc5ad084aceec5f3e08",
       "max": 1000000,
       "step": null,
       "style": "IPY_MODEL_0299f02f2e934885a17181314429a23c",
       "value": 0.078125
      }
     },
     "e620526113da4771832a91fa2f7c3e8b": {
      "model_module": "@jupyter-widgets/controls",
      "model_module_version": "1.5.0",
      "model_name": "DropdownModel",
      "state": {
       "_options_labels": [
        "9",
        "11",
        "13",
        "17",
        "19",
        "21",
        "25",
        "31",
        "33",
        "37",
        "41",
        "49",
        "51",
        "55",
        "61",
        "65",
        "73",
        "81",
        "91",
        "97",
        "101",
        "109",
        "121",
        "129",
        "145",
        "151",
        "161",
        "163",
        "181",
        "193",
        "201",
        "217",
        "241",
        "251",
        "257",
        "271",
        "289",
        "301",
        "321",
        "325",
        "361",
        "385",
        "401",
        "433",
        "451",
        "481",
        "487",
        "501",
        "513",
        "541",
        "577",
        "601",
        "641",
        "649",
        "721",
        "751",
        "769",
        "801",
        "811",
        "865",
        "901",
        "961",
        "973",
        "1001",
        "1025",
        "1081",
        "1153",
        "1201",
        "1251",
        "1281",
        "1297",
        "1351",
        "1441",
        "1459",
        "1501",
        "1537",
        "1601",
        "1621",
        "1729",
        "1801",
        "1921",
        "1945",
        "2001",
        "2049",
        "2161",
        "2251",
        "2305",
        "2401",
        "2431",
        "2501",
        "2561",
        "2593",
        "2701",
        "2881",
        "2917",
        "3001",
        "3073",
        "3201",
        "3241",
        "3457",
        "3601",
        "3751",
        "3841",
        "3889",
        "4001",
        "4051",
        "4097",
        "4321",
        "4375",
        "4501",
        "4609",
        "4801",
        "4861",
        "5001",
        "5121",
        "5185",
        "5401",
        "5761",
        "5833",
        "6001",
        "6145",
        "6251",
        "6401",
        "6481",
        "6751",
        "6913",
        "7201",
        "7291",
        "7501",
        "7681",
        "7777",
        "8001",
        "8101",
        "8193",
        "8641",
        "8749",
        "9001"
       ],
       "description": "nx",
       "description_tooltip": "Number of mesh points in x direction",
       "index": 22,
       "layout": "IPY_MODEL_fff3a8ced19a48718b4f4f7177e7f43a",
       "style": "IPY_MODEL_7474382ac644498b97c90405017cb4c2"
      }
     },
     "e633325f79c24655a3d23cba76b0a4aa": {
      "model_module": "@jupyter-widgets/controls",
      "model_module_version": "1.5.0",
      "model_name": "DropdownModel",
      "state": {
       "_options_labels": [
        "No random noise",
        "Random noise",
        "Random noise with fixed seed"
       ],
       "description": "iin",
       "description_tooltip": "Defines pertubation at initial condition",
       "index": 1,
       "layout": "IPY_MODEL_ff3f26f062284947b808d46ee213f09d",
       "style": "IPY_MODEL_12b1e890d4e5482a9a0458f645cd5335"
      }
     },
     "e7246d8daada459b935a7edd3af2bc9e": {
      "model_module": "@jupyter-widgets/base",
      "model_module_version": "1.2.0",
      "model_name": "LayoutModel",
      "state": {}
     },
     "e86736bd6671496487f0505f5854fd64": {
      "model_module": "@jupyter-widgets/controls",
      "model_module_version": "1.5.0",
      "model_name": "DescriptionStyleModel",
      "state": {
       "description_width": ""
      }
     },
     "e8d9444bc6e24117886d529b84c8131a": {
      "model_module": "@jupyter-widgets/controls",
      "model_module_version": "1.5.0",
      "model_name": "BoundedFloatTextModel",
      "state": {
       "description": "cnu",
       "description_tooltip": "Ratio between hypervisvosity at km=2/3π and kc=π (dissipation factor range)",
       "disabled": true,
       "layout": "IPY_MODEL_00806cdd56b54bd7872e375a12fe2a23",
       "max": 1000000,
       "step": null,
       "style": "IPY_MODEL_0030693012954596a3690dac67e689c0",
       "value": 0.44
      }
     },
     "e8e5bee8ec8b4dcd8b85db98a3fc3484": {
      "model_module": "@jupyter-widgets/controls",
      "model_module_version": "1.5.0",
      "model_name": "DropdownModel",
      "state": {
       "_options_labels": [
        "Periodic",
        "Free-slip",
        "No-slip"
       ],
       "description": "nclyn",
       "description_tooltip": "Velocidy boundary condition at end of y direction",
       "index": 1,
       "layout": "IPY_MODEL_874344a52969402e8c5fedcf3b373222",
       "style": "IPY_MODEL_4a1f417c968245b4bde14c995829aec8"
      }
     },
     "e94b744d38f9493885972ab310f9f75e": {
      "model_module": "@jupyter-widgets/controls",
      "model_module_version": "1.5.0",
      "model_name": "DescriptionStyleModel",
      "state": {
       "description_width": ""
      }
     },
     "ea0d7a08e97d470883596b51ab005834": {
      "model_module": "@jupyter-widgets/controls",
      "model_module_version": "1.5.0",
      "model_name": "DescriptionStyleModel",
      "state": {
       "description_width": ""
      }
     },
     "eb797d9595fa48349a531f6c3d38b8ee": {
      "model_module": "@jupyter-widgets/controls",
      "model_module_version": "1.5.0",
      "model_name": "DescriptionStyleModel",
      "state": {
       "description_width": ""
      }
     },
     "ec88920fffbd48c986cbdbab313c3bf9": {
      "model_module": "@jupyter-widgets/base",
      "model_module_version": "1.2.0",
      "model_name": "LayoutModel",
      "state": {}
     },
     "ee57239b9a934a92b69f27803e06b9e0": {
      "model_module": "@jupyter-widgets/controls",
      "model_module_version": "1.5.0",
      "model_name": "BoundedFloatTextModel",
      "state": {
       "description": "nu0nu",
       "description_tooltip": "Ratio between hyperviscosity/viscosity at nu (dissipation factor intensity)",
       "disabled": true,
       "layout": "IPY_MODEL_9e9b85b37a6044ddb92533bcacfc7f7f",
       "max": 1000000,
       "step": null,
       "style": "IPY_MODEL_807b94a93a5a406baf30d80a9c20ca10",
       "value": 4
      }
     },
     "f0706b0ac03a46d78e2b8941acf3c036": {
      "model_module": "@jupyter-widgets/controls",
      "model_module_version": "1.5.0",
      "model_name": "DescriptionStyleModel",
      "state": {
       "description_width": ""
      }
     },
     "f13b0314834243db8dd5daf92c477a4d": {
      "model_module": "@jupyter-widgets/controls",
      "model_module_version": "1.5.0",
      "model_name": "DescriptionStyleModel",
      "state": {
       "description_width": ""
      }
     },
     "f1b907bee317475baceabf6d77dbd297": {
      "model_module": "@jupyter-widgets/base",
      "model_module_version": "1.2.0",
      "model_name": "LayoutModel",
      "state": {}
     },
     "f1cb7f3061354e7e9f08a7f242354cc5": {
      "model_module": "@jupyter-widgets/base",
      "model_module_version": "1.2.0",
      "model_name": "LayoutModel",
      "state": {}
     },
     "f25766ea0d18467c855073dd11f43386": {
      "model_module": "@jupyter-widgets/base",
      "model_module_version": "1.2.0",
      "model_name": "LayoutModel",
      "state": {}
     },
     "f4329a75f4da4a399fbafcb611704642": {
      "model_module": "@jupyter-widgets/controls",
      "model_module_version": "1.5.0",
      "model_name": "IntSliderModel",
      "state": {
       "continuous_update": false,
       "description": "numscalar",
       "description_tooltip": "Number of scalar fractions",
       "layout": "IPY_MODEL_d44ccf34838a4bccb1c590b294db5aea",
       "max": 9,
       "style": "IPY_MODEL_d7bb78ad832247219dd079ea662f4365"
      }
     },
     "f4b2b7c232ab4f5885d2534b8ff3d431": {
      "model_module": "@jupyter-widgets/controls",
      "model_module_version": "1.5.0",
      "model_name": "BoundedIntTextModel",
      "state": {
       "description": "ncores",
       "layout": "IPY_MODEL_aed6a7dcc1fc4823a1ecf4f27c9249f9",
       "max": 1000000000,
       "style": "IPY_MODEL_f13b0314834243db8dd5daf92c477a4d",
       "value": 4
      }
     },
     "f4ceb76a670f4e20839122e3715082a1": {
      "model_module": "@jupyter-widgets/controls",
      "model_module_version": "1.5.0",
      "model_name": "DescriptionStyleModel",
      "state": {
       "description_width": ""
      }
     },
     "f5044d20c9d944e9a060af4b88838227": {
      "model_module": "@jupyter-widgets/controls",
      "model_module_version": "1.5.0",
      "model_name": "DescriptionStyleModel",
      "state": {
       "description_width": ""
      }
     },
     "f9a07ef4e11149c5bbe2e8d0da6a1788": {
      "model_module": "@jupyter-widgets/base",
      "model_module_version": "1.2.0",
      "model_name": "LayoutModel",
      "state": {}
     },
     "fb9f202b70fe4ef793b3df3336890377": {
      "model_module": "@jupyter-widgets/controls",
      "model_module_version": "1.5.0",
      "model_name": "BoundedFloatTextModel",
      "state": {
       "description": "beta",
       "description_tooltip": "Refinement parameter",
       "disabled": true,
       "layout": "IPY_MODEL_98ea7b9758314f8a8dd7c1845d945336",
       "max": 1000000,
       "step": null,
       "style": "IPY_MODEL_4e927f0b907d4e28a1aa19c2fb6f6e0b",
       "value": 1
      }
     },
     "fccd9f13d20847a1a09b028942b80989": {
      "model_module": "@jupyter-widgets/base",
      "model_module_version": "1.2.0",
      "model_name": "LayoutModel",
      "state": {}
     },
     "fd5a2540151a4136801835ac20a659cd": {
      "model_module": "@jupyter-widgets/base",
      "model_module_version": "1.2.0",
      "model_name": "LayoutModel",
      "state": {}
     },
     "fe10ee670b15431e979c5a540259f2a6": {
      "model_module": "@jupyter-widgets/controls",
      "model_module_version": "1.5.0",
      "model_name": "DropdownModel",
      "state": {
       "_options_labels": [
        "1",
        "2",
        "4",
        "0"
       ],
       "description": "p_row",
       "description_tooltip": "Domain decomposition for parallel computation",
       "index": 2,
       "layout": "IPY_MODEL_0992455dd5ae432e89361a5396cb2d9b",
       "style": "IPY_MODEL_4cc4c7eb801547179a9883b1c2f4b1b1"
      }
     },
     "fe1a88e21ea7488ba12df5e248e6306d": {
      "model_module": "@jupyter-widgets/controls",
      "model_module_version": "1.5.0",
      "model_name": "DescriptionStyleModel",
      "state": {
       "description_width": ""
      }
     },
     "ff3f26f062284947b808d46ee213f09d": {
      "model_module": "@jupyter-widgets/base",
      "model_module_version": "1.2.0",
      "model_name": "LayoutModel",
      "state": {}
     },
     "ffea7c23ba11436aa263f0fb01ce607e": {
      "model_module": "@jupyter-widgets/controls",
      "model_module_version": "1.5.0",
      "model_name": "HBoxModel",
      "state": {
       "children": [
        "IPY_MODEL_afbbf095c3c84f91b54b3ae5d5248d2a",
        "IPY_MODEL_ee57239b9a934a92b69f27803e06b9e0",
        "IPY_MODEL_e8d9444bc6e24117886d529b84c8131a"
       ],
       "layout": "IPY_MODEL_87414d9d5c3d4b4b9f4fb886e910bf70"
      }
     },
     "fff3a8ced19a48718b4f4f7177e7f43a": {
      "model_module": "@jupyter-widgets/base",
      "model_module_version": "1.2.0",
      "model_name": "LayoutModel",
      "state": {}
     },
     "ffff703a9d9344968572072aa009e8b7": {
      "model_module": "@jupyter-widgets/controls",
      "model_module_version": "1.5.0",
      "model_name": "DropdownModel",
      "state": {
       "_options_labels": [
        "Euler",
        "AB2",
        "AB3",
        "RK3",
        "Semi-implicit"
       ],
       "description": "itimescheme",
       "description_tooltip": "Scheme for time integration",
       "index": 2,
       "layout": "IPY_MODEL_61a475beb4b74800ae987d6d0bfc0d39",
       "style": "IPY_MODEL_30cfaadf26b849efaaad130d63b17925"
      }
     }
    },
    "version_major": 2,
    "version_minor": 0
   }
  }
 },
 "nbformat": 4,
 "nbformat_minor": 4
}
