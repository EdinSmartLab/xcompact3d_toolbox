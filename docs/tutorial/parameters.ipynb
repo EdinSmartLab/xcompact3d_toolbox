{
 "cells": [
  {
   "cell_type": "markdown",
   "metadata": {},
   "source": [
    "# Parameters\n",
    "\n",
    "The computational and physical parameters are handled at `class xcompact3d_toolbox.Parameters`. It is built on top of [Traitlets](https://traitlets.readthedocs.io/en/stable/index.html), which brings some advantages:\n",
    "\n",
    "* Attributes are type-checked;\n",
    "* Default values and restrictions (min and max) are applied where necessary;\n",
    "* 'On change' callbacks for validation and observation;\n",
    "* Two-way linking with [ipywidgets](https://ipywidgets.readthedocs.io/en/latest/)."
   ]
  },
  {
   "cell_type": "code",
   "execution_count": 1,
   "metadata": {},
   "outputs": [],
   "source": [
    "import xcompact3d_toolbox as x3d\n",
    "import numpy as np"
   ]
  },
  {
   "cell_type": "markdown",
   "metadata": {},
   "source": [
    "Use `np.float64` if Xcompact3d was compiled with the flag `-DDOUBLE_PREC`, use `np.float32` otherwise."
   ]
  },
  {
   "cell_type": "code",
   "execution_count": 2,
   "metadata": {},
   "outputs": [],
   "source": [
    "x3d.mytype = np.float32"
   ]
  },
  {
   "cell_type": "markdown",
   "metadata": {},
   "source": [
    "## Initialization"
   ]
  },
  {
   "cell_type": "markdown",
   "metadata": {},
   "source": [
    "There are a few ways to initialize the class. First, calling it with no arguments initializes all variables with default value:"
   ]
  },
  {
   "cell_type": "code",
   "execution_count": 3,
   "metadata": {},
   "outputs": [],
   "source": [
    "prm = x3d.Parameters()"
   ]
  },
  {
   "cell_type": "markdown",
   "metadata": {},
   "source": [
    "You can access a list with all the available variables at [Api reference](file:///C:/Users/felip/Documents/GitHub/Xcompact3d-toolbox/docs/_build/html/Docstrings.html#xcompact3d_toolbox.parameters.Parameters)."
   ]
  },
  {
   "cell_type": "markdown",
   "metadata": {},
   "source": [
    "It is possible to access and/or set values afterwards:"
   ]
  },
  {
   "cell_type": "code",
   "execution_count": 4,
   "metadata": {},
   "outputs": [
    {
     "name": "stdout",
     "output_type": "stream",
     "text": [
      "1000.0\n",
      "1000000.0\n"
     ]
    }
   ],
   "source": [
    "# Reynolds Number\n",
    "print(prm.re)\n",
    "prm.re = 1e6\n",
    "print(prm.re)"
   ]
  },
  {
   "cell_type": "markdown",
   "metadata": {},
   "source": [
    "Second, we can specify some values, and let the missing ones be initialized with default value:"
   ]
  },
  {
   "cell_type": "code",
   "execution_count": 5,
   "metadata": {},
   "outputs": [],
   "source": [
    "prm = x3d.Parameters(\n",
    "    filename = 'example.i3d',\n",
    "    itype = 10,\n",
    "    nx = 257,\n",
    "    ny = 129,\n",
    "    nz = 32,\n",
    "    xlx = 15.0,\n",
    "    yly = 10.0,\n",
    "    zlz = 3.0,\n",
    "    nclx1 = 2,\n",
    "    nclxn = 2,\n",
    "    ncly1 = 1,\n",
    "    nclyn = 1,\n",
    "    nclz1 = 0,\n",
    "    nclzn = 0,\n",
    "    iin = 1,\n",
    "    re = 300.0,\n",
    "    init_noise = 0.0125,\n",
    "    inflow_noise = 0.0125,\n",
    "    dt = 0.0025,\n",
    "    ifirst = 1,\n",
    "    ilast = 45000,\n",
    "    irestart = 0,\n",
    "    icheckpoint = 45000,\n",
    "    ioutput = 200,\n",
    "    iprocessing = 50,\n",
    ")"
   ]
  },
  {
   "cell_type": "markdown",
   "metadata": {},
   "source": [
    "It is easy to write `example.i3d` to disc, just type:"
   ]
  },
  {
   "cell_type": "code",
   "execution_count": 6,
   "metadata": {},
   "outputs": [],
   "source": [
    "prm.write()"
   ]
  },
  {
   "cell_type": "markdown",
   "metadata": {},
   "source": [
    "And finally, it is possible to read the parameters from the disc:"
   ]
  },
  {
   "cell_type": "code",
   "execution_count": 7,
   "metadata": {},
   "outputs": [],
   "source": [
    "prm = x3d.Parameters(filename = 'example.i3d')\n",
    "prm.read()"
   ]
  },
  {
   "cell_type": "markdown",
   "metadata": {},
   "source": [
    "## Traitlets\n",
    "\n",
    "### Type-checking\n",
    "\n",
    "All parameters are type-checked, to make sure that they are what `Xcompact3d` expects. Use the cellcode below to see how a `TraitError` pops out when we try:\n",
    "\n",
    "```python\n",
    "prm.itype = 10.5\n",
    "prm.itype = -5\n",
    "prm.itype = 12\n",
    "prm.itype = 'sandbox'\n",
    "\n",
    "```\n"
   ]
  },
  {
   "cell_type": "code",
   "execution_count": null,
   "metadata": {},
   "outputs": [],
   "source": []
  },
  {
   "cell_type": "markdown",
   "metadata": {},
   "source": [
    "### Validation"
   ]
  },
  {
   "cell_type": "markdown",
   "metadata": {},
   "source": [
    "Some parameters, like mesh points (`nx`, `ny` and `nz`), trigger a validation operation when a new value is attributed to them.\n",
    "Due to restrictions at the FFT library, they must be equal to:\n",
    "\n",
    "$$\n",
    "n_i = \\left\\{ \\begin{array}{ll} 2^{1+a} \\times 3^b \\times 5^c &\\mbox{if periodic,} \\\\ 2^{1+a} \\times 3^b \\times 5^c + 1 &\\mbox{otherwise,}\n",
    "\\end{array} \\right.\n",
    "$$\n",
    "\n",
    "where $a$, $b$ and $c$ are non negative integers. In addition, the derivatives stencil imposes that:\n",
    "\n",
    "$$\n",
    "n_i \\ge \\left\\{ \\begin{array}{ll} 8 &\\mbox{if periodic,} \\\\ 9 &\\mbox{otherwise.}\n",
    "\\end{array} \\right.\n",
    "$$\n",
    "\n",
    "Again, give it a try at the cellcode below:\n",
    "\n",
    "```python\n",
    "prm.nx = 129\n",
    "prm.nx = 4\n",
    "prm.nx = 60\n",
    "prm.nx = 61\n",
    "```"
   ]
  },
  {
   "cell_type": "code",
   "execution_count": null,
   "metadata": {},
   "outputs": [],
   "source": []
  },
  {
   "cell_type": "markdown",
   "metadata": {},
   "source": [
    "### Observation"
   ]
  },
  {
   "cell_type": "markdown",
   "metadata": {},
   "source": [
    "Other parameters, like mesh resolution (`dx`, `dy` and `dz`), are automaticaly updated when any new atribution occurs to mesh points and/or domain size. Let's create a quick print functions to play with:"
   ]
  },
  {
   "cell_type": "code",
   "execution_count": 8,
   "metadata": {},
   "outputs": [],
   "source": [
    "def show_param():\n",
    "    for var in 'nclx1 nclxn nx xlx dx'.split():\n",
    "        print(f\"{var:>5} = {getattr(prm, var)}\")"
   ]
  },
  {
   "cell_type": "markdown",
   "metadata": {},
   "source": [
    "We are starting with:"
   ]
  },
  {
   "cell_type": "code",
   "execution_count": 9,
   "metadata": {},
   "outputs": [
    {
     "name": "stdout",
     "output_type": "stream",
     "text": [
      "nclx1 = 2\n",
      "nclxn = 2\n",
      "   nx = 257\n",
      "  xlx = 15.0\n",
      "   dx = 0.05859375\n"
     ]
    }
   ],
   "source": [
    "show_param()"
   ]
  },
  {
   "cell_type": "markdown",
   "metadata": {},
   "source": [
    "Let's change just the domain's length:"
   ]
  },
  {
   "cell_type": "code",
   "execution_count": 10,
   "metadata": {},
   "outputs": [
    {
     "name": "stdout",
     "output_type": "stream",
     "text": [
      "nclx1 = 2\n",
      "nclxn = 2\n",
      "   nx = 257\n",
      "  xlx = 50.0\n",
      "   dx = 0.1953125\n"
     ]
    }
   ],
   "source": [
    "prm.xlx = 50.0\n",
    "\n",
    "show_param()"
   ]
  },
  {
   "cell_type": "markdown",
   "metadata": {},
   "source": [
    "The resolutions was updated as well. Now the number of mesh points:"
   ]
  },
  {
   "cell_type": "code",
   "execution_count": 11,
   "metadata": {},
   "outputs": [
    {
     "name": "stdout",
     "output_type": "stream",
     "text": [
      "nclx1 = 2\n",
      "nclxn = 2\n",
      "   nx = 121\n",
      "  xlx = 50.0\n",
      "   dx = 0.4166666666666667\n"
     ]
    }
   ],
   "source": [
    "prm.nx = 121\n",
    "\n",
    "show_param()"
   ]
  },
  {
   "cell_type": "markdown",
   "metadata": {},
   "source": [
    "Again, the resolutions was updated. Now we set a new mesh resolution, this time, `xlx` will be updated in order to satisfy the new resolution:"
   ]
  },
  {
   "cell_type": "code",
   "execution_count": 12,
   "metadata": {},
   "outputs": [
    {
     "name": "stdout",
     "output_type": "stream",
     "text": [
      "nclx1 = 2\n",
      "nclxn = 2\n",
      "   nx = 121\n",
      "  xlx = 1.2\n",
      "   dx = 0.01\n"
     ]
    }
   ],
   "source": [
    "prm.dx = 1e-2\n",
    "\n",
    "show_param()"
   ]
  },
  {
   "cell_type": "markdown",
   "metadata": {},
   "source": [
    "Boundary conditions are observed as well. Xcompact3d allows three different BC for velocity:\n",
    "\n",
    "* Periodic `0`;\n",
    "* Free-slip `1`;\n",
    "* Dirichlet `2`.\n",
    "\n",
    "They can be assigned individualy for each of the six boundaries:\n",
    "\n",
    "* `nclx1` and `nclxn`, where $x=0$ and $x=xlx$;\n",
    "* `ncly1` and `nclyn`, where $y=0$ and $y=yly$;\n",
    "* `nclz1` and `nclzn`, where $z=0$ and $z=zlz$.\n",
    "\n",
    "It leads to 5 possibilities (`00`, `11`, `12`, `21` and `22`), because both boundary must be periodic, or not, so `0` cannot be combined.\n",
    "\n",
    "Let's check it out, we are starting with:"
   ]
  },
  {
   "cell_type": "code",
   "execution_count": 13,
   "metadata": {},
   "outputs": [
    {
     "name": "stdout",
     "output_type": "stream",
     "text": [
      "nclx1 = 2\n",
      "nclxn = 2\n",
      "   nx = 121\n",
      "  xlx = 1.2\n",
      "   dx = 0.01\n"
     ]
    }
   ],
   "source": [
    "show_param()"
   ]
  },
  {
   "cell_type": "markdown",
   "metadata": {},
   "source": [
    "We will change just one side to periodic (`nclx1 = 0`), for consistence, the other side should be periodic too. Let's see:"
   ]
  },
  {
   "cell_type": "code",
   "execution_count": 14,
   "metadata": {},
   "outputs": [
    {
     "name": "stdout",
     "output_type": "stream",
     "text": [
      "nclx1 = 0\n",
      "nclxn = 0\n",
      "   nx = 120\n",
      "  xlx = 1.2\n",
      "   dx = 0.01\n"
     ]
    }
   ],
   "source": [
    "prm.nclx1 = 0\n",
    "\n",
    "show_param()"
   ]
  },
  {
   "cell_type": "markdown",
   "metadata": {},
   "source": [
    "Now free-slip in one side (`nclx1 = 1`), and the other should be non-periodic:"
   ]
  },
  {
   "cell_type": "code",
   "execution_count": 15,
   "metadata": {},
   "outputs": [
    {
     "name": "stdout",
     "output_type": "stream",
     "text": [
      "nclx1 = 1\n",
      "nclxn = 1\n",
      "   nx = 121\n",
      "  xlx = 1.2\n",
      "   dx = 0.01\n"
     ]
    }
   ],
   "source": [
    "prm.nclx1 = 1\n",
    "\n",
    "show_param()"
   ]
  },
  {
   "cell_type": "markdown",
   "metadata": {},
   "source": [
    "Setting the other boundary to periodic:"
   ]
  },
  {
   "cell_type": "code",
   "execution_count": 16,
   "metadata": {},
   "outputs": [
    {
     "name": "stdout",
     "output_type": "stream",
     "text": [
      "nclx1 = 0\n",
      "nclxn = 0\n",
      "   nx = 120\n",
      "  xlx = 1.2\n",
      "   dx = 0.01\n"
     ]
    }
   ],
   "source": [
    "prm.nclxn = 0\n",
    "\n",
    "show_param()"
   ]
  },
  {
   "cell_type": "markdown",
   "metadata": {},
   "source": [
    "and now back to Dirichlet:"
   ]
  },
  {
   "cell_type": "code",
   "execution_count": 17,
   "metadata": {},
   "outputs": [
    {
     "name": "stdout",
     "output_type": "stream",
     "text": [
      "nclx1 = 2\n",
      "nclxn = 2\n",
      "   nx = 121\n",
      "  xlx = 1.2\n",
      "   dx = 0.01\n"
     ]
    }
   ],
   "source": [
    "prm.nclxn = 2\n",
    "\n",
    "show_param()"
   ]
  },
  {
   "cell_type": "markdown",
   "metadata": {},
   "source": [
    "This time, free-slip:"
   ]
  },
  {
   "cell_type": "code",
   "execution_count": 18,
   "metadata": {},
   "outputs": [
    {
     "name": "stdout",
     "output_type": "stream",
     "text": [
      "nclx1 = 2\n",
      "nclxn = 1\n",
      "   nx = 121\n",
      "  xlx = 1.2\n",
      "   dx = 0.01\n"
     ]
    }
   ],
   "source": [
    "prm.nclxn = 1\n",
    "\n",
    "show_param()"
   ]
  },
  {
   "cell_type": "markdown",
   "metadata": {},
   "source": [
    "There was no need to update `nclx1`, because `1` and `2` can be freely combined. Notice that `nx` was modified properly from 121 to 120 and then back, according to the possible values, `dx` and `xlx` stayed untouched."
   ]
  },
  {
   "cell_type": "markdown",
   "metadata": {},
   "source": [
    "### Metadata"
   ]
  },
  {
   "cell_type": "markdown",
   "metadata": {},
   "source": [
    "Traitlets types constructors have a `tag` method to store metadata in a dictionary. In the case of Xcompact3d-toolbox, two are especially useful:\n",
    "\n",
    "* `group` defines to what namespace a given parameter belongs when the class is written to `.i3d` file (`.write()` method) or read from `.i3d` file (`.read()` method), parameters without a group are ignored for both methods;\n",
    "* `widget` defines an [ipywidgets](https://ipywidgets.readthedocs.io/en/latest/) used to interact with each parameter."
   ]
  },
  {
   "cell_type": "markdown",
   "metadata": {},
   "source": [
    "### Linked widget"
   ]
  },
  {
   "cell_type": "markdown",
   "metadata": {},
   "source": [
    "<div class=\"alert alert-warning\">\n",
    "\n",
    "There is a bug reported affecting this subject [#2](https://github.com/fschuch/xcompact3d_toolbox/issues/2), the widgets are not working properly at the moment.\n",
    "\n",
    "</div>\n",
    "\n",
    "While the problem above persists, we can activate the link manually for this tutorial:"
   ]
  },
  {
   "cell_type": "code",
   "execution_count": 19,
   "metadata": {},
   "outputs": [],
   "source": [
    "prm.link_widgets()"
   ]
  },
  {
   "cell_type": "markdown",
   "metadata": {},
   "source": [
    "Parameters with `widget` tag are related to the value at its widget in a two-way link. Widgets are returned on demand when `class Parameters` is called, let's see:"
   ]
  },
  {
   "cell_type": "code",
   "execution_count": 20,
   "metadata": {},
   "outputs": [
    {
     "data": {
      "application/vnd.jupyter.widget-view+json": {
       "model_id": "1f0ba86ef6fd42a7b53e231a0c7e610e",
       "version_major": 2,
       "version_minor": 0
      },
      "text/plain": [
       "VBox(children=(Dropdown(description='nx', description_tooltip='Number of mesh points in x direction', index=22…"
      ]
     },
     "metadata": {},
     "output_type": "display_data"
    }
   ],
   "source": [
    "prm('nx', 'xlx', 'dx', 'nclx1', 'nclxn')"
   ]
  },
  {
   "cell_type": "markdown",
   "metadata": {},
   "source": [
    "You can play around with the widgets above and see the effect of the observations made previously."
   ]
  },
  {
   "cell_type": "markdown",
   "metadata": {},
   "source": [
    "Since there is a two-way link, a `print` will show the actual value on the widgets:"
   ]
  },
  {
   "cell_type": "code",
   "execution_count": 21,
   "metadata": {},
   "outputs": [
    {
     "name": "stdout",
     "output_type": "stream",
     "text": [
      "nclx1 = 2\n",
      "nclxn = 1\n",
      "   nx = 121\n",
      "  xlx = 1.2\n",
      "   dx = 0.01\n"
     ]
    }
   ],
   "source": [
    "show_param()"
   ]
  },
  {
   "cell_type": "markdown",
   "metadata": {},
   "source": [
    "Give it a try, modify the values at the widgets and print them again.\n",
    "\n",
    "It also works on the other way, atribute a new value to a parameters will change its widget, try it:"
   ]
  },
  {
   "cell_type": "code",
   "execution_count": 22,
   "metadata": {},
   "outputs": [],
   "source": [
    "#prm.nclx1 = 0"
   ]
  },
  {
   "cell_type": "markdown",
   "metadata": {},
   "source": [
    "And of course, different widgets for the same parameter are always synchronized, change the widget bellow and see waht hapens with the widget above:"
   ]
  },
  {
   "cell_type": "code",
   "execution_count": 23,
   "metadata": {},
   "outputs": [
    {
     "data": {
      "application/vnd.jupyter.widget-view+json": {
       "model_id": "3be1849a2608414095bfbc122b9b0cb5",
       "version_major": 2,
       "version_minor": 0
      },
      "text/plain": [
       "VBox(children=(Dropdown(description='nx', description_tooltip='Number of mesh points in x direction', index=22…"
      ]
     },
     "metadata": {},
     "output_type": "display_data"
    }
   ],
   "source": [
    "prm('nx')"
   ]
  },
  {
   "cell_type": "markdown",
   "metadata": {},
   "source": [
    "## Graphical User Interface"
   ]
  },
  {
   "cell_type": "markdown",
   "metadata": {},
   "source": [
    "To conclude this part of the tutorial, let's see what happend when `class Parameters` is called with no arguments, hover the mouse over some variable to see its description:"
   ]
  },
  {
   "cell_type": "code",
   "execution_count": 24,
   "metadata": {},
   "outputs": [
    {
     "data": {
      "application/vnd.jupyter.widget-view+json": {
       "model_id": "99184e9c9cf546a78184f23cd18a7882",
       "version_major": 2,
       "version_minor": 0
      },
      "text/plain": [
       "VBox(children=(HTML(value='<h1>Xcompact3d Parameters</h1>'), HBox(children=(Text(value='example.i3d', descript…"
      ]
     },
     "metadata": {},
     "output_type": "display_data"
    }
   ],
   "source": [
    "prm()"
   ]
  }
 ],
 "metadata": {
  "kernelspec": {
   "display_name": "Python 3",
   "language": "python",
   "name": "python3"
  },
  "language_info": {
   "codemirror_mode": {
    "name": "ipython",
    "version": 3
   },
   "file_extension": ".py",
   "mimetype": "text/x-python",
   "name": "python",
   "nbconvert_exporter": "python",
   "pygments_lexer": "ipython3",
   "version": "3.7.7"
  },
  "widgets": {
   "application/vnd.jupyter.widget-state+json": {
    "state": {
     "00f96b210a474d0abc6276021ccd5771": {
      "model_module": "@jupyter-widgets/controls",
      "model_module_version": "1.5.0",
      "model_name": "DescriptionStyleModel",
      "state": {
       "description_width": ""
      }
     },
     "00fad029dcfb4a348b9793cc244808fe": {
      "model_module": "@jupyter-widgets/controls",
      "model_module_version": "1.5.0",
      "model_name": "ButtonStyleModel",
      "state": {}
     },
     "015fb499d23c4564b08d1cefc3688f39": {
      "model_module": "@jupyter-widgets/controls",
      "model_module_version": "1.5.0",
      "model_name": "HBoxModel",
      "state": {
       "children": [
        "IPY_MODEL_cfafa60fe5b947c6a9f65c35aee2be21",
        "IPY_MODEL_2a2043e2d8b646afbff1b182b4382314",
        "IPY_MODEL_8d4c2fd571a949eb87cf660f4760ca78"
       ],
       "layout": "IPY_MODEL_c189748c9dd0458e8f60d295220b215e"
      }
     },
     "0231b4db3c3c45a8990aed7ed90e260c": {
      "model_module": "@jupyter-widgets/base",
      "model_module_version": "1.2.0",
      "model_name": "LayoutModel",
      "state": {}
     },
     "02c3513c9b6245788d349466ca3c5566": {
      "model_module": "@jupyter-widgets/controls",
      "model_module_version": "1.5.0",
      "model_name": "DropdownModel",
      "state": {
       "_options_labels": [
        "Periodic",
        "Free-slip",
        "Inflow"
       ],
       "description": "nclx1",
       "description_tooltip": "Velocidy boundary condition at begin of x direction",
       "index": 2,
       "layout": "IPY_MODEL_1df1b6de2fbd48358a1d106557691077",
       "style": "IPY_MODEL_bbf1d40f60074bf2b573622aacdb45af"
      }
     },
     "033dc67fd03847ae943e742ea3d4406e": {
      "model_module": "@jupyter-widgets/controls",
      "model_module_version": "1.5.0",
      "model_name": "HBoxModel",
      "state": {
       "children": [
        "IPY_MODEL_5e8c5fb90e0044b187dfaf804119fcd3",
        "IPY_MODEL_1b7b0570e6ef43f1ae9e94b5ef66839b"
       ],
       "layout": "IPY_MODEL_d4e1d526f2f2427ba9fb61ca3cdf0819"
      }
     },
     "055a31f1df134bb8ad78fbb6a257c0ec": {
      "model_module": "@jupyter-widgets/controls",
      "model_module_version": "1.5.0",
      "model_name": "DropdownModel",
      "state": {
       "_options_labels": [
        "Off",
        "On"
       ],
       "description": "ivisu",
       "description_tooltip": "Enable store snapshots",
       "index": 1,
       "layout": "IPY_MODEL_add5d41f3e8f4167bc6cbe2cd18a4b8d",
       "style": "IPY_MODEL_215d08fb74a74a89839f67a8679d2ff8"
      }
     },
     "069ef37da2c7447296d8316975a27e38": {
      "model_module": "@jupyter-widgets/controls",
      "model_module_version": "1.5.0",
      "model_name": "DropdownModel",
      "state": {
       "_options_labels": [
        "1",
        "2",
        "4",
        "0"
       ],
       "description": "p_row",
       "description_tooltip": "Domain decomposition for parallel computation",
       "index": 2,
       "layout": "IPY_MODEL_3ce1acee16ed426a8f1ed8fdc30407a4",
       "style": "IPY_MODEL_f6d787d95010479e89b7f1d854bb9056"
      }
     },
     "06d4fc1c47694b7a95c0cf42a012a5f9": {
      "model_module": "@jupyter-widgets/base",
      "model_module_version": "1.2.0",
      "model_name": "LayoutModel",
      "state": {}
     },
     "074a028a3fa54569ad20770540d1d752": {
      "model_module": "@jupyter-widgets/base",
      "model_module_version": "1.2.0",
      "model_name": "LayoutModel",
      "state": {}
     },
     "08a1df77469a44cda22ba22927bca651": {
      "model_module": "@jupyter-widgets/base",
      "model_module_version": "1.2.0",
      "model_name": "LayoutModel",
      "state": {}
     },
     "09f24b49af7648308fd363865b57f8fe": {
      "model_module": "@jupyter-widgets/base",
      "model_module_version": "1.2.0",
      "model_name": "LayoutModel",
      "state": {}
     },
     "0bca7893b8584b8f96105801a48f8383": {
      "model_module": "@jupyter-widgets/controls",
      "model_module_version": "1.5.0",
      "model_name": "ButtonStyleModel",
      "state": {}
     },
     "0c244df6e4664208854724b2832ee1e0": {
      "model_module": "@jupyter-widgets/controls",
      "model_module_version": "1.5.0",
      "model_name": "DropdownModel",
      "state": {
       "_options_labels": [
        "Periodic",
        "Free-slip",
        "No-slip"
       ],
       "description": "nclzn",
       "description_tooltip": "Velocidy boundary condition at end of z direction",
       "index": 0,
       "layout": "IPY_MODEL_49df0fab430848e2948c53d2c7e1b0b2",
       "style": "IPY_MODEL_3c6ca7d4277248b5ab15bd5b0600b944"
      }
     },
     "0f966a10c80b42559ee42b679b386715": {
      "model_module": "@jupyter-widgets/controls",
      "model_module_version": "1.5.0",
      "model_name": "HBoxModel",
      "state": {
       "children": [
        "IPY_MODEL_3de525e039bc46f1a6199f6bb2bfa963",
        "IPY_MODEL_72d30729fdd84a49b910e2af91c55d0d",
        "IPY_MODEL_76cee37f55e444de85acebe8423c5ab5"
       ],
       "layout": "IPY_MODEL_bf5dbe626eec4ca6a92d52c11d78b088"
      }
     },
     "101640ee4c1f4bb3878b1e415b8e6fda": {
      "model_module": "@jupyter-widgets/base",
      "model_module_version": "1.2.0",
      "model_name": "LayoutModel",
      "state": {}
     },
     "102f53bb4e9a42febd5c24abaffd8345": {
      "model_module": "@jupyter-widgets/base",
      "model_module_version": "1.2.0",
      "model_name": "LayoutModel",
      "state": {}
     },
     "10ebc508ad244e03a47bff2e2ee2ced3": {
      "model_module": "@jupyter-widgets/controls",
      "model_module_version": "1.5.0",
      "model_name": "BoundedIntTextModel",
      "state": {
       "description": "ncores",
       "layout": "IPY_MODEL_c844bd69744b4077b8f311cfda5fd3fd",
       "max": 1000000000,
       "style": "IPY_MODEL_271b524c742442dbb7274c81e774b2dc",
       "value": 4
      }
     },
     "1770b8455e1b4988a6e05f38e02520f0": {
      "model_module": "@jupyter-widgets/base",
      "model_module_version": "1.2.0",
      "model_name": "LayoutModel",
      "state": {}
     },
     "188905837c714111a5b3292a4b76645c": {
      "model_module": "@jupyter-widgets/base",
      "model_module_version": "1.2.0",
      "model_name": "LayoutModel",
      "state": {}
     },
     "197274a68f2f48bd83bc3b5603cad09c": {
      "model_module": "@jupyter-widgets/controls",
      "model_module_version": "1.5.0",
      "model_name": "DescriptionStyleModel",
      "state": {
       "description_width": ""
      }
     },
     "1b7b0570e6ef43f1ae9e94b5ef66839b": {
      "model_module": "@jupyter-widgets/controls",
      "model_module_version": "1.5.0",
      "model_name": "BoundedFloatTextModel",
      "state": {
       "description": "beta",
       "description_tooltip": "Refinement parameter",
       "disabled": true,
       "layout": "IPY_MODEL_188905837c714111a5b3292a4b76645c",
       "max": 1000000,
       "step": null,
       "style": "IPY_MODEL_2f4fe2d00424445082a89bc2975b0c94",
       "value": 1
      }
     },
     "1c9212adfff4449f8ec21b60238b23ab": {
      "model_module": "@jupyter-widgets/base",
      "model_module_version": "1.2.0",
      "model_name": "LayoutModel",
      "state": {}
     },
     "1dc012800274428f9c3fc2ca4ffd2c47": {
      "model_module": "@jupyter-widgets/controls",
      "model_module_version": "1.5.0",
      "model_name": "DescriptionStyleModel",
      "state": {
       "description_width": ""
      }
     },
     "1df1b6de2fbd48358a1d106557691077": {
      "model_module": "@jupyter-widgets/base",
      "model_module_version": "1.2.0",
      "model_name": "LayoutModel",
      "state": {}
     },
     "1e186bfbe4b840459f925e4595ddc0b9": {
      "model_module": "@jupyter-widgets/controls",
      "model_module_version": "1.5.0",
      "model_name": "HTMLModel",
      "state": {
       "layout": "IPY_MODEL_7ddcb6365c4c4066b17c26e03b69df43",
       "style": "IPY_MODEL_00f96b210a474d0abc6276021ccd5771",
       "value": "<strong>cp, us, sc, ri, scalar_lbound & scalar_ubound</strong> are lists with length numscalar, set them properly on the code."
      }
     },
     "1f0ba86ef6fd42a7b53e231a0c7e610e": {
      "model_module": "@jupyter-widgets/controls",
      "model_module_version": "1.5.0",
      "model_name": "VBoxModel",
      "state": {
       "children": [
        "IPY_MODEL_a96b4ab011f34920aa8d541d97813d56",
        "IPY_MODEL_8554ad13313e456681f91a3b90702305",
        "IPY_MODEL_a015235b1a604feeb679cd0e65d8454c",
        "IPY_MODEL_02c3513c9b6245788d349466ca3c5566",
        "IPY_MODEL_44bee9c5506847ee9da7203458641356"
       ],
       "layout": "IPY_MODEL_5e0795d5f2da41af833dc373a55476ae"
      }
     },
     "1f7f148478004ae2a255dcf03a405eda": {
      "model_module": "@jupyter-widgets/base",
      "model_module_version": "1.2.0",
      "model_name": "LayoutModel",
      "state": {}
     },
     "21524c51428c4d24815b1e6f48b5c351": {
      "model_module": "@jupyter-widgets/controls",
      "model_module_version": "1.5.0",
      "model_name": "DescriptionStyleModel",
      "state": {
       "description_width": ""
      }
     },
     "215d08fb74a74a89839f67a8679d2ff8": {
      "model_module": "@jupyter-widgets/controls",
      "model_module_version": "1.5.0",
      "model_name": "DescriptionStyleModel",
      "state": {
       "description_width": ""
      }
     },
     "2190c1c6ee1b4a2ba281a2acd2148ca8": {
      "model_module": "@jupyter-widgets/controls",
      "model_module_version": "1.5.0",
      "model_name": "DescriptionStyleModel",
      "state": {
       "description_width": ""
      }
     },
     "224b0dbc06db49ddbadf32961602cad3": {
      "model_module": "@jupyter-widgets/controls",
      "model_module_version": "1.5.0",
      "model_name": "DropdownModel",
      "state": {
       "_options_labels": [
        "Off",
        "On"
       ],
       "description": "irestart",
       "description_tooltip": "Flag to read initial flow field",
       "index": 0,
       "layout": "IPY_MODEL_843b6876c7294db5ad317c6d56b86dec",
       "style": "IPY_MODEL_ee7b04d3eeb84c3b96a69dd6ab994470"
      }
     },
     "240d939ab97d41cf8e8937f652fb509a": {
      "model_module": "@jupyter-widgets/controls",
      "model_module_version": "1.5.0",
      "model_name": "DescriptionStyleModel",
      "state": {
       "description_width": ""
      }
     },
     "24d27bec8a0b4332b1ac63a7d2110829": {
      "model_module": "@jupyter-widgets/controls",
      "model_module_version": "1.5.0",
      "model_name": "BoundedFloatTextModel",
      "state": {
       "description": "nu0nu",
       "description_tooltip": "Ratio between hyperviscosity/viscosity at nu (dissipation factor intensity)",
       "disabled": true,
       "layout": "IPY_MODEL_a973176cd67c4665bf0191db34eb035c",
       "max": 1000000,
       "step": null,
       "style": "IPY_MODEL_9b3b0b0ac873426289f32696eff2b3a0",
       "value": 4
      }
     },
     "258b90f86f994b878e34d2633728d476": {
      "model_module": "@jupyter-widgets/controls",
      "model_module_version": "1.5.0",
      "model_name": "HTMLModel",
      "state": {
       "layout": "IPY_MODEL_86630af01fa645ec935812d4cb5a71f9",
       "style": "IPY_MODEL_b57b9a4d4a33447b98e49bbc540c8fbc",
       "value": "<h3>Domain Decomposition</h3>"
      }
     },
     "271b524c742442dbb7274c81e774b2dc": {
      "model_module": "@jupyter-widgets/controls",
      "model_module_version": "1.5.0",
      "model_name": "DescriptionStyleModel",
      "state": {
       "description_width": ""
      }
     },
     "2750958779da481eae5397faa9a617aa": {
      "model_module": "@jupyter-widgets/base",
      "model_module_version": "1.2.0",
      "model_name": "LayoutModel",
      "state": {}
     },
     "282644188ecd4bd892112ce497cd4f75": {
      "model_module": "@jupyter-widgets/controls",
      "model_module_version": "1.5.0",
      "model_name": "HTMLModel",
      "state": {
       "layout": "IPY_MODEL_90b4411f539445cd9cb60d0b5638e3a5",
       "style": "IPY_MODEL_465f106f318d47a19aef204386aa277e",
       "value": "<h3>InOutParam</h3>"
      }
     },
     "28fab1124b874cecbbbd89346bb8cc39": {
      "model_module": "@jupyter-widgets/controls",
      "model_module_version": "1.5.0",
      "model_name": "DropdownModel",
      "state": {
       "_options_labels": [
        "Periodic",
        "No-flux",
        "Dirichlet"
       ],
       "description": "nclzSn",
       "description_tooltip": "Scalar boundary condition at end of z direction",
       "index": 0,
       "layout": "IPY_MODEL_8d33090c1a85457c8bfdca115e75983c",
       "style": "IPY_MODEL_dfa6dd99b610427b9e62090150085ef7"
      }
     },
     "291573e33147417298137fe3a6f45940": {
      "model_module": "@jupyter-widgets/controls",
      "model_module_version": "1.5.0",
      "model_name": "DescriptionStyleModel",
      "state": {
       "description_width": ""
      }
     },
     "292d1d5f7582450eb08a23d4863b73b4": {
      "model_module": "@jupyter-widgets/controls",
      "model_module_version": "1.5.0",
      "model_name": "HBoxModel",
      "state": {
       "children": [
        "IPY_MODEL_97571752540e430ebbe477f4636a64a5",
        "IPY_MODEL_cc9308cb5d1b4bbea1b485dcd95f236d"
       ],
       "layout": "IPY_MODEL_f508f56b5ba64c178628c1fb3baf5309"
      }
     },
     "2a2043e2d8b646afbff1b182b4382314": {
      "model_module": "@jupyter-widgets/controls",
      "model_module_version": "1.5.0",
      "model_name": "FloatTextModel",
      "state": {
       "description": "gravy",
       "description_tooltip": "Value to y component in gravity unitary vector",
       "disabled": true,
       "layout": "IPY_MODEL_d9955b05946b483d9496deb0dc0b375c",
       "step": null,
       "style": "IPY_MODEL_91814ffe3b25484d925e59bfd3197034"
      }
     },
     "2acf0720879f4d4e94b5a01311e0f8fa": {
      "model_module": "@jupyter-widgets/base",
      "model_module_version": "1.2.0",
      "model_name": "LayoutModel",
      "state": {}
     },
     "2f4fe2d00424445082a89bc2975b0c94": {
      "model_module": "@jupyter-widgets/controls",
      "model_module_version": "1.5.0",
      "model_name": "DescriptionStyleModel",
      "state": {
       "description_width": ""
      }
     },
     "2fbdcc3c4589487aa37f8caf678ed9ef": {
      "model_module": "@jupyter-widgets/controls",
      "model_module_version": "1.5.0",
      "model_name": "ButtonStyleModel",
      "state": {}
     },
     "306c0d5b83a643668de16cd7190fa545": {
      "model_module": "@jupyter-widgets/controls",
      "model_module_version": "1.5.0",
      "model_name": "DescriptionStyleModel",
      "state": {
       "description_width": ""
      }
     },
     "307295911c3f4cebab83e24a5c2e241a": {
      "model_module": "@jupyter-widgets/controls",
      "model_module_version": "1.5.0",
      "model_name": "FloatTextModel",
      "state": {
       "description": "init_noise",
       "description_tooltip": "Value to initial noise, turbulence intensity",
       "layout": "IPY_MODEL_c2ce1ddee3194a7895a707751932e232",
       "step": null,
       "style": "IPY_MODEL_240d939ab97d41cf8e8937f652fb509a",
       "value": 0.0125
      }
     },
     "320c3f8fbcdd457c9556bcec813d6456": {
      "model_module": "@jupyter-widgets/controls",
      "model_module_version": "1.5.0",
      "model_name": "DropdownModel",
      "state": {
       "_options_labels": [
        "Periodic",
        "No-flux",
        "Dirichlet"
       ],
       "description": "nclySn",
       "description_tooltip": "Scalar boundary condition at end of y direction",
       "index": 2,
       "layout": "IPY_MODEL_a55cd61cfd27499d8ea80dc77ded76f2",
       "style": "IPY_MODEL_7666385dbcf24744ba4d25b0493763e2"
      }
     },
     "32cce243026749d080aa1f69c6d6dade": {
      "model_module": "@jupyter-widgets/base",
      "model_module_version": "1.2.0",
      "model_name": "LayoutModel",
      "state": {}
     },
     "3347a711de2b4cd287cbb589da074a6a": {
      "model_module": "@jupyter-widgets/base",
      "model_module_version": "1.2.0",
      "model_name": "LayoutModel",
      "state": {}
     },
     "3508ce25723248cca7b8f84758cf4eb6": {
      "model_module": "@jupyter-widgets/controls",
      "model_module_version": "1.5.0",
      "model_name": "DescriptionStyleModel",
      "state": {
       "description_width": ""
      }
     },
     "359751357909477fb609c5ea8f6b6e91": {
      "model_module": "@jupyter-widgets/base",
      "model_module_version": "1.2.0",
      "model_name": "LayoutModel",
      "state": {}
     },
     "382c1cf1c6cb474dbaaee6a692796cb4": {
      "model_module": "@jupyter-widgets/controls",
      "model_module_version": "1.5.0",
      "model_name": "DescriptionStyleModel",
      "state": {
       "description_width": ""
      }
     },
     "38eff4f8aa484cbfbcdc04915fa5bf49": {
      "model_module": "@jupyter-widgets/controls",
      "model_module_version": "1.5.0",
      "model_name": "DescriptionStyleModel",
      "state": {
       "description_width": ""
      }
     },
     "39237361fde4405180354211263919f7": {
      "model_module": "@jupyter-widgets/base",
      "model_module_version": "1.2.0",
      "model_name": "LayoutModel",
      "state": {}
     },
     "393fc4be43974bd1a6ed05bb3b53b70b": {
      "model_module": "@jupyter-widgets/controls",
      "model_module_version": "1.5.0",
      "model_name": "DropdownModel",
      "state": {
       "_options_labels": [
        "Euler",
        "AB2",
        "AB3",
        "RK3",
        "Semi-implicit"
       ],
       "description": "itimescheme",
       "description_tooltip": "Scheme for time integration",
       "index": 2,
       "layout": "IPY_MODEL_604a7ba443b540b19396ad8880a52551",
       "style": "IPY_MODEL_8b933fd7e9e447c0ab2ca9854994be23"
      }
     },
     "39a3b15b0ed74f8b91e4451390c21c15": {
      "model_module": "@jupyter-widgets/base",
      "model_module_version": "1.2.0",
      "model_name": "LayoutModel",
      "state": {}
     },
     "3bd34baf261d4037b1158f2b51f71734": {
      "model_module": "@jupyter-widgets/controls",
      "model_module_version": "1.5.0",
      "model_name": "HBoxModel",
      "state": {
       "children": [
        "IPY_MODEL_8eac1e2a5f3a48c2a35e5042dba43f04",
        "IPY_MODEL_f9a3c047bf9b4e088504c6d0c55d98cd",
        "IPY_MODEL_780206fc665348498d73ca2991c267b5",
        "IPY_MODEL_dad027a1f12146c8b3fe65d4004df809",
        "IPY_MODEL_ce2f410c07ce4860892480e6dbb56d30"
       ],
       "layout": "IPY_MODEL_ad549c1939814ea99ed326aa2a462523"
      }
     },
     "3bdb7a61905042a8903db8a988e2cc83": {
      "model_module": "@jupyter-widgets/controls",
      "model_module_version": "1.5.0",
      "model_name": "DropdownModel",
      "state": {
       "_options_labels": [
        "Periodic",
        "Free-slip",
        "No-slip"
       ],
       "description": "ncly1",
       "description_tooltip": "Velocidy boundary condition at begin of y direction",
       "index": 1,
       "layout": "IPY_MODEL_e11414a207314cd598cb09bb6c683540",
       "style": "IPY_MODEL_cf3fa4bacaa4487fb7539ae9f770ad08"
      }
     },
     "3be1849a2608414095bfbc122b9b0cb5": {
      "model_module": "@jupyter-widgets/controls",
      "model_module_version": "1.5.0",
      "model_name": "VBoxModel",
      "state": {
       "children": [
        "IPY_MODEL_a96b4ab011f34920aa8d541d97813d56"
       ],
       "layout": "IPY_MODEL_dc62fe0a983c4c2e8407159dbc482389"
      }
     },
     "3be27b7a90d74e8fb6e3c74c0efebd44": {
      "model_module": "@jupyter-widgets/controls",
      "model_module_version": "1.5.0",
      "model_name": "DescriptionStyleModel",
      "state": {
       "description_width": ""
      }
     },
     "3c681c1c74b44532a8f6332bbadbf2bd": {
      "model_module": "@jupyter-widgets/base",
      "model_module_version": "1.2.0",
      "model_name": "LayoutModel",
      "state": {}
     },
     "3c6ca7d4277248b5ab15bd5b0600b944": {
      "model_module": "@jupyter-widgets/controls",
      "model_module_version": "1.5.0",
      "model_name": "DescriptionStyleModel",
      "state": {
       "description_width": ""
      }
     },
     "3ce1acee16ed426a8f1ed8fdc30407a4": {
      "model_module": "@jupyter-widgets/base",
      "model_module_version": "1.2.0",
      "model_name": "LayoutModel",
      "state": {}
     },
     "3de525e039bc46f1a6199f6bb2bfa963": {
      "model_module": "@jupyter-widgets/controls",
      "model_module_version": "1.5.0",
      "model_name": "DropdownModel",
      "state": {
       "_options_labels": [
        "Off",
        "Forced to zero",
        "Interpolated to zero"
       ],
       "description": "iibm",
       "description_tooltip": "Immersed boundary configuration for velocity",
       "index": 0,
       "layout": "IPY_MODEL_7a37e7344e7844898d648460e81de0c6",
       "style": "IPY_MODEL_2190c1c6ee1b4a2ba281a2acd2148ca8"
      }
     },
     "3e3b1ebb26ba4c91a9fd3c4e296dfcdb": {
      "model_module": "@jupyter-widgets/controls",
      "model_module_version": "1.5.0",
      "model_name": "DropdownModel",
      "state": {
       "_options_labels": [
        "Off",
        "Forced to zero",
        "Interpolated to zero",
        "Interpolated to no-flux"
       ],
       "description": "iibmS",
       "description_tooltip": "Immersed boundary configuration for scalar (alpha version)",
       "index": 0,
       "layout": "IPY_MODEL_eabf1f8a2ae5438c87587d30d1206672",
       "style": "IPY_MODEL_7122cbd01b1142e99af912eb85fed5bd"
      }
     },
     "40a9b5021e6a42429c1924077223b306": {
      "model_module": "@jupyter-widgets/base",
      "model_module_version": "1.2.0",
      "model_name": "LayoutModel",
      "state": {}
     },
     "42391809e1f64b80bc631d8b83dcdd42": {
      "model_module": "@jupyter-widgets/base",
      "model_module_version": "1.2.0",
      "model_name": "LayoutModel",
      "state": {}
     },
     "42b2bd1cc9ad4d6d8e67305e3bf3b812": {
      "model_module": "@jupyter-widgets/controls",
      "model_module_version": "1.5.0",
      "model_name": "DropdownModel",
      "state": {
       "_options_labels": [
        "Periodic",
        "No-flux",
        "Dirichlet"
       ],
       "description": "nclyS1",
       "description_tooltip": "Scalar boundary condition at begin of y direction",
       "index": 2,
       "layout": "IPY_MODEL_9ae97d93b5804c89b72f562da2f79c49",
       "style": "IPY_MODEL_ae7b2739c18741cea1eede8d06da8656"
      }
     },
     "43390778949d4016bc7d55cadb247faa": {
      "model_module": "@jupyter-widgets/base",
      "model_module_version": "1.2.0",
      "model_name": "LayoutModel",
      "state": {}
     },
     "44bee9c5506847ee9da7203458641356": {
      "model_module": "@jupyter-widgets/controls",
      "model_module_version": "1.5.0",
      "model_name": "DropdownModel",
      "state": {
       "_options_labels": [
        "Periodic",
        "Free-slip",
        "Outflow"
       ],
       "description": "nclxn",
       "description_tooltip": "Velocidy boundary condition at end of x direction",
       "index": 1,
       "layout": "IPY_MODEL_43390778949d4016bc7d55cadb247faa",
       "style": "IPY_MODEL_906e4fb9b3434e4ebf7f4b0b14484fd7"
      }
     },
     "465f106f318d47a19aef204386aa277e": {
      "model_module": "@jupyter-widgets/controls",
      "model_module_version": "1.5.0",
      "model_name": "DescriptionStyleModel",
      "state": {
       "description_width": ""
      }
     },
     "4660e13088754ca2b47792142fb05ad8": {
      "model_module": "@jupyter-widgets/controls",
      "model_module_version": "1.5.0",
      "model_name": "BoundedIntTextModel",
      "state": {
       "description": "ioutput",
       "description_tooltip": "Frequency for visualization file",
       "layout": "IPY_MODEL_758f9913779b4a8daa19f4cbf2f1c6a8",
       "max": 1000000000,
       "min": 1,
       "style": "IPY_MODEL_1dc012800274428f9c3fc2ca4ffd2c47",
       "value": 200
      }
     },
     "47b4544c214f43689317f3e2ca368831": {
      "model_module": "@jupyter-widgets/controls",
      "model_module_version": "1.5.0",
      "model_name": "DropdownModel",
      "state": {
       "_options_labels": [
        "Periodic",
        "Free-slip",
        "No-slip"
       ],
       "description": "nclyn",
       "description_tooltip": "Velocidy boundary condition at end of y direction",
       "index": 1,
       "layout": "IPY_MODEL_5ffc9426e42542d28f069f87c529ebfd",
       "style": "IPY_MODEL_197274a68f2f48bd83bc3b5603cad09c"
      }
     },
     "488a4cd3f85344dd9a183f689d43aaad": {
      "model_module": "@jupyter-widgets/base",
      "model_module_version": "1.2.0",
      "model_name": "LayoutModel",
      "state": {}
     },
     "4978df8506a9496db3d19778bc16e663": {
      "model_module": "@jupyter-widgets/controls",
      "model_module_version": "1.5.0",
      "model_name": "DescriptionStyleModel",
      "state": {
       "description_width": ""
      }
     },
     "49ba187cb7da40db98a9d8522fe301b5": {
      "model_module": "@jupyter-widgets/controls",
      "model_module_version": "1.5.0",
      "model_name": "DescriptionStyleModel",
      "state": {
       "description_width": ""
      }
     },
     "49df0fab430848e2948c53d2c7e1b0b2": {
      "model_module": "@jupyter-widgets/base",
      "model_module_version": "1.2.0",
      "model_name": "LayoutModel",
      "state": {}
     },
     "4d0638350e4544688924706c8db11729": {
      "model_module": "@jupyter-widgets/base",
      "model_module_version": "1.2.0",
      "model_name": "LayoutModel",
      "state": {}
     },
     "4df377c6f4004166aeecda5213f95d24": {
      "model_module": "@jupyter-widgets/base",
      "model_module_version": "1.2.0",
      "model_name": "LayoutModel",
      "state": {}
     },
     "4f1814eccb1d4bbc89cdd116fbc2c429": {
      "model_module": "@jupyter-widgets/controls",
      "model_module_version": "1.5.0",
      "model_name": "HBoxModel",
      "state": {
       "children": [
        "IPY_MODEL_6a91bd7dfb2a403680688b1cc04c54a2",
        "IPY_MODEL_d8e9933f919542799501466373c4bd50",
        "IPY_MODEL_e3f9f42cef794d85905ca7f2e5677ff4"
       ],
       "layout": "IPY_MODEL_074a028a3fa54569ad20770540d1d752"
      }
     },
     "5142ff01483d46488c9707a9179fd625": {
      "model_module": "@jupyter-widgets/base",
      "model_module_version": "1.2.0",
      "model_name": "LayoutModel",
      "state": {}
     },
     "51466cbb6e7c4cf6b8b8cf447b2187a2": {
      "model_module": "@jupyter-widgets/controls",
      "model_module_version": "1.5.0",
      "model_name": "HTMLModel",
      "state": {
       "layout": "IPY_MODEL_3c681c1c74b44532a8f6332bbadbf2bd",
       "style": "IPY_MODEL_5430b719776e448e942cd1427e0b8f80",
       "value": "<h3>Temporal discretization</h3>"
      }
     },
     "52675aa4b7414d84811ea97abd018a63": {
      "model_module": "@jupyter-widgets/controls",
      "model_module_version": "1.5.0",
      "model_name": "DescriptionStyleModel",
      "state": {
       "description_width": ""
      }
     },
     "53e2f0a0649b4b15bd664f993b563a84": {
      "model_module": "@jupyter-widgets/controls",
      "model_module_version": "1.5.0",
      "model_name": "DescriptionStyleModel",
      "state": {
       "description_width": ""
      }
     },
     "5430b719776e448e942cd1427e0b8f80": {
      "model_module": "@jupyter-widgets/controls",
      "model_module_version": "1.5.0",
      "model_name": "DescriptionStyleModel",
      "state": {
       "description_width": ""
      }
     },
     "54bd08bc65f04eb394da198698d336fd": {
      "model_module": "@jupyter-widgets/controls",
      "model_module_version": "1.5.0",
      "model_name": "HTMLModel",
      "state": {
       "layout": "IPY_MODEL_9a51a759e35947a1a4c6abfd019adffe",
       "style": "IPY_MODEL_21524c51428c4d24815b1e6f48b5c351",
       "value": "<h2>IBMStuff</h2>"
      }
     },
     "5806386d7c064f54a7edc56e23f99be3": {
      "model_module": "@jupyter-widgets/base",
      "model_module_version": "1.2.0",
      "model_name": "LayoutModel",
      "state": {}
     },
     "5e0795d5f2da41af833dc373a55476ae": {
      "model_module": "@jupyter-widgets/base",
      "model_module_version": "1.2.0",
      "model_name": "LayoutModel",
      "state": {}
     },
     "5e27d38a5dca44539f9647d54c30863f": {
      "model_module": "@jupyter-widgets/base",
      "model_module_version": "1.2.0",
      "model_name": "LayoutModel",
      "state": {}
     },
     "5e8c5fb90e0044b187dfaf804119fcd3": {
      "model_module": "@jupyter-widgets/controls",
      "model_module_version": "1.5.0",
      "model_name": "DropdownModel",
      "state": {
       "_options_labels": [
        "No refinement",
        "Refinement at the center",
        "Both sides",
        "Just near the bottom"
       ],
       "description": "istret",
       "description_tooltip": "Mesh refinement in y direction at certain location",
       "disabled": true,
       "index": 0,
       "layout": "IPY_MODEL_8ab5d2bcdd7e4c7381a01f5a0f9ba0d5",
       "style": "IPY_MODEL_caaba9dc785846f7aee99a4a4ab888e7"
      }
     },
     "5ffc9426e42542d28f069f87c529ebfd": {
      "model_module": "@jupyter-widgets/base",
      "model_module_version": "1.2.0",
      "model_name": "LayoutModel",
      "state": {}
     },
     "604a7ba443b540b19396ad8880a52551": {
      "model_module": "@jupyter-widgets/base",
      "model_module_version": "1.2.0",
      "model_name": "LayoutModel",
      "state": {}
     },
     "606af6c4bb644c35aab56b14b71c55ce": {
      "model_module": "@jupyter-widgets/base",
      "model_module_version": "1.2.0",
      "model_name": "LayoutModel",
      "state": {}
     },
     "6157b9f4e0d14c09877ce7fdbf7ac699": {
      "model_module": "@jupyter-widgets/controls",
      "model_module_version": "1.5.0",
      "model_name": "DescriptionStyleModel",
      "state": {
       "description_width": ""
      }
     },
     "616e8aeba37446b3a8294f350436934c": {
      "model_module": "@jupyter-widgets/controls",
      "model_module_version": "1.5.0",
      "model_name": "HBoxModel",
      "state": {
       "children": [
        "IPY_MODEL_d875d43de4484630af4af14fd8de3de0",
        "IPY_MODEL_307295911c3f4cebab83e24a5c2e241a",
        "IPY_MODEL_d8119afd67e84d26ad77ef7c6e52468e"
       ],
       "layout": "IPY_MODEL_359751357909477fb609c5ea8f6b6e91"
      }
     },
     "61acef7b3d1b40b9a9bbc0d388ad6723": {
      "model_module": "@jupyter-widgets/controls",
      "model_module_version": "1.5.0",
      "model_name": "BoundedFloatTextModel",
      "state": {
       "description": "zlz",
       "description_tooltip": "Domain size in z direction",
       "layout": "IPY_MODEL_7f1f4c3dcc7746aca534a3435c75a234",
       "max": 1000000,
       "step": null,
       "style": "IPY_MODEL_6d715b8e66bd4be8a54c7a78334636ba",
       "value": 3
      }
     },
     "628a32a2c68b43f09f2b5194fa63084f": {
      "model_module": "@jupyter-widgets/controls",
      "model_module_version": "1.5.0",
      "model_name": "BoundedFloatTextModel",
      "state": {
       "description": "dy",
       "layout": "IPY_MODEL_66f46ed907a346ebb4166de7b666f8fe",
       "max": 1000000,
       "step": null,
       "style": "IPY_MODEL_72b1687940fe4a64b276e8d576cb03ff",
       "value": 0.078125
      }
     },
     "6313e6c94ec94305aaa855b7c256dbe8": {
      "model_module": "@jupyter-widgets/controls",
      "model_module_version": "1.5.0",
      "model_name": "DescriptionStyleModel",
      "state": {
       "description_width": ""
      }
     },
     "6626b6cc658f44fcaf5979287e383430": {
      "model_module": "@jupyter-widgets/base",
      "model_module_version": "1.2.0",
      "model_name": "LayoutModel",
      "state": {}
     },
     "663f080f58c741bc82f57fbe3d714514": {
      "model_module": "@jupyter-widgets/controls",
      "model_module_version": "1.5.0",
      "model_name": "BoundedFloatTextModel",
      "state": {
       "description": "cnu",
       "description_tooltip": "Ratio between hypervisvosity at km=2/3π and kc=π (dissipation factor range)",
       "disabled": true,
       "layout": "IPY_MODEL_39a3b15b0ed74f8b91e4451390c21c15",
       "max": 1000000,
       "step": null,
       "style": "IPY_MODEL_6157b9f4e0d14c09877ce7fdbf7ac699",
       "value": 0.44
      }
     },
     "66f46ed907a346ebb4166de7b666f8fe": {
      "model_module": "@jupyter-widgets/base",
      "model_module_version": "1.2.0",
      "model_name": "LayoutModel",
      "state": {}
     },
     "6701615f00d04181b0cd7ab5d4ce1ba7": {
      "model_module": "@jupyter-widgets/controls",
      "model_module_version": "1.5.0",
      "model_name": "DescriptionStyleModel",
      "state": {
       "description_width": ""
      }
     },
     "6787a969ae6e4e74a2aea2615e49effa": {
      "model_module": "@jupyter-widgets/controls",
      "model_module_version": "1.5.0",
      "model_name": "DropdownModel",
      "state": {
       "_options_labels": [
        "9",
        "11",
        "13",
        "17",
        "19",
        "21",
        "25",
        "31",
        "33",
        "37",
        "41",
        "49",
        "51",
        "55",
        "61",
        "65",
        "73",
        "81",
        "91",
        "97",
        "101",
        "109",
        "121",
        "129",
        "145",
        "151",
        "161",
        "163",
        "181",
        "193",
        "201",
        "217",
        "241",
        "251",
        "257",
        "271",
        "289",
        "301",
        "321",
        "325",
        "361",
        "385",
        "401",
        "433",
        "451",
        "481",
        "487",
        "501",
        "513",
        "541",
        "577",
        "601",
        "641",
        "649",
        "721",
        "751",
        "769",
        "801",
        "811",
        "865",
        "901",
        "961",
        "973",
        "1001",
        "1025",
        "1081",
        "1153",
        "1201",
        "1251",
        "1281",
        "1297",
        "1351",
        "1441",
        "1459",
        "1501",
        "1537",
        "1601",
        "1621",
        "1729",
        "1801",
        "1921",
        "1945",
        "2001",
        "2049",
        "2161",
        "2251",
        "2305",
        "2401",
        "2431",
        "2501",
        "2561",
        "2593",
        "2701",
        "2881",
        "2917",
        "3001",
        "3073",
        "3201",
        "3241",
        "3457",
        "3601",
        "3751",
        "3841",
        "3889",
        "4001",
        "4051",
        "4097",
        "4321",
        "4375",
        "4501",
        "4609",
        "4801",
        "4861",
        "5001",
        "5121",
        "5185",
        "5401",
        "5761",
        "5833",
        "6001",
        "6145",
        "6251",
        "6401",
        "6481",
        "6751",
        "6913",
        "7201",
        "7291",
        "7501",
        "7681",
        "7777",
        "8001",
        "8101",
        "8193",
        "8641",
        "8749",
        "9001"
       ],
       "description": "ny",
       "description_tooltip": "Number of mesh points in y direction",
       "index": 23,
       "layout": "IPY_MODEL_ea94355a97a745e88c8dc1637f42673b",
       "style": "IPY_MODEL_edeaaeaecc27462783d0602e006cbe22"
      }
     },
     "67c3dfe475464eefbbcdd69976a5f619": {
      "model_module": "@jupyter-widgets/controls",
      "model_module_version": "1.5.0",
      "model_name": "DescriptionStyleModel",
      "state": {
       "description_width": ""
      }
     },
     "6a91bd7dfb2a403680688b1cc04c54a2": {
      "model_module": "@jupyter-widgets/controls",
      "model_module_version": "1.5.0",
      "model_name": "IntTextModel",
      "state": {
       "description": "ifirst",
       "description_tooltip": "Value to first iteration",
       "layout": "IPY_MODEL_f12da437e41a4101bfa36e755b5e6572",
       "step": 1,
       "style": "IPY_MODEL_94288797d70e4ca29a39be777cbc307e",
       "value": 1
      }
     },
     "6b7a0d939f534a6285c2a0e2037b2dcb": {
      "model_module": "@jupyter-widgets/base",
      "model_module_version": "1.2.0",
      "model_name": "LayoutModel",
      "state": {}
     },
     "6ba13ed3ff824487a91ac559db241f49": {
      "model_module": "@jupyter-widgets/base",
      "model_module_version": "1.2.0",
      "model_name": "LayoutModel",
      "state": {}
     },
     "6cd8297471f040d0a6920a1f79805822": {
      "model_module": "@jupyter-widgets/controls",
      "model_module_version": "1.5.0",
      "model_name": "HTMLModel",
      "state": {
       "layout": "IPY_MODEL_d66b3787c63d4d5c9a8b30d3503d6c3b",
       "style": "IPY_MODEL_38eff4f8aa484cbfbcdc04915fa5bf49",
       "value": "<h2>ScalarParam</h2>"
      }
     },
     "6d715b8e66bd4be8a54c7a78334636ba": {
      "model_module": "@jupyter-widgets/controls",
      "model_module_version": "1.5.0",
      "model_name": "DescriptionStyleModel",
      "state": {
       "description_width": ""
      }
     },
     "6df30cca17254451ab5d1e62accdc38d": {
      "model_module": "@jupyter-widgets/base",
      "model_module_version": "1.2.0",
      "model_name": "LayoutModel",
      "state": {}
     },
     "7122cbd01b1142e99af912eb85fed5bd": {
      "model_module": "@jupyter-widgets/controls",
      "model_module_version": "1.5.0",
      "model_name": "DescriptionStyleModel",
      "state": {
       "description_width": ""
      }
     },
     "72b1687940fe4a64b276e8d576cb03ff": {
      "model_module": "@jupyter-widgets/controls",
      "model_module_version": "1.5.0",
      "model_name": "DescriptionStyleModel",
      "state": {
       "description_width": ""
      }
     },
     "72d30729fdd84a49b910e2af91c55d0d": {
      "model_module": "@jupyter-widgets/controls",
      "model_module_version": "1.5.0",
      "model_name": "IntSliderModel",
      "state": {
       "description": "nraf",
       "description_tooltip": "Refinement constant which each axis will be multiplicated",
       "layout": "IPY_MODEL_08a1df77469a44cda22ba22927bca651",
       "max": 25,
       "min": 1,
       "style": "IPY_MODEL_96860d491c21403e850a5aa25764b32c",
       "value": 10
      }
     },
     "758f9913779b4a8daa19f4cbf2f1c6a8": {
      "model_module": "@jupyter-widgets/base",
      "model_module_version": "1.2.0",
      "model_name": "LayoutModel",
      "state": {}
     },
     "7666385dbcf24744ba4d25b0493763e2": {
      "model_module": "@jupyter-widgets/controls",
      "model_module_version": "1.5.0",
      "model_name": "DescriptionStyleModel",
      "state": {
       "description_width": ""
      }
     },
     "76cee37f55e444de85acebe8423c5ab5": {
      "model_module": "@jupyter-widgets/controls",
      "model_module_version": "1.5.0",
      "model_name": "IntTextModel",
      "state": {
       "description": "nobjmax",
       "description_tooltip": "Maximum number of objects in any direction",
       "disabled": true,
       "layout": "IPY_MODEL_cc01bea0f26240cdacb32fbc32a4212b",
       "step": 1,
       "style": "IPY_MODEL_ebff16089bb24f4685585743d73d91ad",
       "value": 1
      }
     },
     "780206fc665348498d73ca2991c267b5": {
      "model_module": "@jupyter-widgets/controls",
      "model_module_version": "1.5.0",
      "model_name": "ButtonModel",
      "state": {
       "description": "Write",
       "disabled": true,
       "icon": "file-download",
       "layout": "IPY_MODEL_95879a09cb4c482a841dec3e984ee4c5",
       "style": "IPY_MODEL_d42990d5001741e2a599ef68b3c9de79"
      }
     },
     "795edcaea340441694b6c1370bf2979d": {
      "model_module": "@jupyter-widgets/base",
      "model_module_version": "1.2.0",
      "model_name": "LayoutModel",
      "state": {}
     },
     "7a37e7344e7844898d648460e81de0c6": {
      "model_module": "@jupyter-widgets/base",
      "model_module_version": "1.2.0",
      "model_name": "LayoutModel",
      "state": {}
     },
     "7ddcb6365c4c4066b17c26e03b69df43": {
      "model_module": "@jupyter-widgets/base",
      "model_module_version": "1.2.0",
      "model_name": "LayoutModel",
      "state": {}
     },
     "7f1f4c3dcc7746aca534a3435c75a234": {
      "model_module": "@jupyter-widgets/base",
      "model_module_version": "1.2.0",
      "model_name": "LayoutModel",
      "state": {}
     },
     "835a5e4f2f9949a5a27800a7bd055809": {
      "model_module": "@jupyter-widgets/controls",
      "model_module_version": "1.5.0",
      "model_name": "DescriptionStyleModel",
      "state": {
       "description_width": ""
      }
     },
     "83ba929a925b4d0c8133fe889e0822dc": {
      "model_module": "@jupyter-widgets/controls",
      "model_module_version": "1.5.0",
      "model_name": "DescriptionStyleModel",
      "state": {
       "description_width": ""
      }
     },
     "83fda83561b748f5bc46e90d9cea805c": {
      "model_module": "@jupyter-widgets/controls",
      "model_module_version": "1.5.0",
      "model_name": "DescriptionStyleModel",
      "state": {
       "description_width": ""
      }
     },
     "843b6876c7294db5ad317c6d56b86dec": {
      "model_module": "@jupyter-widgets/base",
      "model_module_version": "1.2.0",
      "model_name": "LayoutModel",
      "state": {}
     },
     "847742e1e13a484a95ba44e3c57163ca": {
      "model_module": "@jupyter-widgets/controls",
      "model_module_version": "1.5.0",
      "model_name": "DescriptionStyleModel",
      "state": {
       "description_width": ""
      }
     },
     "84837289ec814269bad0c67052f25069": {
      "model_module": "@jupyter-widgets/controls",
      "model_module_version": "1.5.0",
      "model_name": "HBoxModel",
      "state": {
       "children": [
        "IPY_MODEL_d0d6213681aa4e17b9875581b536bbd9",
        "IPY_MODEL_24d27bec8a0b4332b1ac63a7d2110829",
        "IPY_MODEL_663f080f58c741bc82f57fbe3d714514"
       ],
       "layout": "IPY_MODEL_6626b6cc658f44fcaf5979287e383430"
      }
     },
     "8554ad13313e456681f91a3b90702305": {
      "model_module": "@jupyter-widgets/controls",
      "model_module_version": "1.5.0",
      "model_name": "BoundedFloatTextModel",
      "state": {
       "description": "xlx",
       "description_tooltip": "Domain size in x direction",
       "layout": "IPY_MODEL_c922ed359c6e4838abe1d1e6c74c7d1d",
       "max": 1000000,
       "step": null,
       "style": "IPY_MODEL_53e2f0a0649b4b15bd664f993b563a84",
       "value": 1.2
      }
     },
     "86630af01fa645ec935812d4cb5a71f9": {
      "model_module": "@jupyter-widgets/base",
      "model_module_version": "1.2.0",
      "model_name": "LayoutModel",
      "state": {}
     },
     "8950a393850b42cf920d865c8a67070d": {
      "model_module": "@jupyter-widgets/base",
      "model_module_version": "1.2.0",
      "model_name": "LayoutModel",
      "state": {}
     },
     "8a4a710f3eb54c32b8c12eb705648a44": {
      "model_module": "@jupyter-widgets/controls",
      "model_module_version": "1.5.0",
      "model_name": "HBoxModel",
      "state": {
       "children": [
        "IPY_MODEL_10ebc508ad244e03a47bff2e2ee2ced3",
        "IPY_MODEL_069ef37da2c7447296d8316975a27e38",
        "IPY_MODEL_fe8270bfce2c410e94fcf602bd1de419"
       ],
       "layout": "IPY_MODEL_6b7a0d939f534a6285c2a0e2037b2dcb"
      }
     },
     "8ab5d2bcdd7e4c7381a01f5a0f9ba0d5": {
      "model_module": "@jupyter-widgets/base",
      "model_module_version": "1.2.0",
      "model_name": "LayoutModel",
      "state": {}
     },
     "8b933fd7e9e447c0ab2ca9854994be23": {
      "model_module": "@jupyter-widgets/controls",
      "model_module_version": "1.5.0",
      "model_name": "DescriptionStyleModel",
      "state": {
       "description_width": ""
      }
     },
     "8d33090c1a85457c8bfdca115e75983c": {
      "model_module": "@jupyter-widgets/base",
      "model_module_version": "1.2.0",
      "model_name": "LayoutModel",
      "state": {}
     },
     "8d4c2fd571a949eb87cf660f4760ca78": {
      "model_module": "@jupyter-widgets/controls",
      "model_module_version": "1.5.0",
      "model_name": "FloatTextModel",
      "state": {
       "description": "gravz",
       "description_tooltip": "Value to z component in gravity unitary vector",
       "disabled": true,
       "layout": "IPY_MODEL_dd632f755f054c75b32f8d1f08c538ef",
       "step": null,
       "style": "IPY_MODEL_291573e33147417298137fe3a6f45940"
      }
     },
     "8dce56a0ba6f4fe0b9985496d5b684de": {
      "model_module": "@jupyter-widgets/controls",
      "model_module_version": "1.5.0",
      "model_name": "BoundedFloatTextModel",
      "state": {
       "description": "dz",
       "layout": "IPY_MODEL_c8291968468e42f4aa44f3bc6306a1af",
       "max": 1000000,
       "step": null,
       "style": "IPY_MODEL_b61a6d29de584fb3a1f3c911ff3a8924",
       "value": 0.375
      }
     },
     "8eac1e2a5f3a48c2a35e5042dba43f04": {
      "model_module": "@jupyter-widgets/controls",
      "model_module_version": "1.5.0",
      "model_name": "TextModel",
      "state": {
       "description": "filename",
       "layout": "IPY_MODEL_40a9b5021e6a42429c1924077223b306",
       "style": "IPY_MODEL_ece98851b6b64549b51c7602fba45b95",
       "value": "example.i3d"
      }
     },
     "8f3c9e2a18434375a60639d8139de951": {
      "model_module": "@jupyter-widgets/controls",
      "model_module_version": "1.5.0",
      "model_name": "TextModel",
      "state": {
       "description": "Size",
       "disabled": true,
       "layout": "IPY_MODEL_39237361fde4405180354211263919f7",
       "style": "IPY_MODEL_4978df8506a9496db3d19778bc16e663",
       "value": "1.6 GB"
      }
     },
     "906e4fb9b3434e4ebf7f4b0b14484fd7": {
      "model_module": "@jupyter-widgets/controls",
      "model_module_version": "1.5.0",
      "model_name": "DescriptionStyleModel",
      "state": {
       "description_width": ""
      }
     },
     "90b4411f539445cd9cb60d0b5638e3a5": {
      "model_module": "@jupyter-widgets/base",
      "model_module_version": "1.2.0",
      "model_name": "LayoutModel",
      "state": {}
     },
     "91814ffe3b25484d925e59bfd3197034": {
      "model_module": "@jupyter-widgets/controls",
      "model_module_version": "1.5.0",
      "model_name": "DescriptionStyleModel",
      "state": {
       "description_width": ""
      }
     },
     "92c5f11df5fa4f2089898eae10429b56": {
      "model_module": "@jupyter-widgets/controls",
      "model_module_version": "1.5.0",
      "model_name": "DescriptionStyleModel",
      "state": {
       "description_width": ""
      }
     },
     "94288797d70e4ca29a39be777cbc307e": {
      "model_module": "@jupyter-widgets/controls",
      "model_module_version": "1.5.0",
      "model_name": "DescriptionStyleModel",
      "state": {
       "description_width": ""
      }
     },
     "95879a09cb4c482a841dec3e984ee4c5": {
      "model_module": "@jupyter-widgets/base",
      "model_module_version": "1.2.0",
      "model_name": "LayoutModel",
      "state": {}
     },
     "96860d491c21403e850a5aa25764b32c": {
      "model_module": "@jupyter-widgets/controls",
      "model_module_version": "1.5.0",
      "model_name": "SliderStyleModel",
      "state": {
       "description_width": ""
      }
     },
     "97571752540e430ebbe477f4636a64a5": {
      "model_module": "@jupyter-widgets/controls",
      "model_module_version": "1.5.0",
      "model_name": "DropdownModel",
      "state": {
       "_options_labels": [
        "User",
        "Lock-exchange",
        "Taylor-Green Vortex",
        "Channel",
        "Periodic Hill",
        "Cylinder",
        "Debug Schemes",
        "Mixing Layer",
        "Turbulent Jet",
        "Turbulent Boundary Layer",
        "Sandbox"
       ],
       "description": "itype",
       "description_tooltip": "Flow configuration (Taylor-Green Vortex,  Flow around a Cylinder...)",
       "disabled": true,
       "index": 10,
       "layout": "IPY_MODEL_1f7f148478004ae2a255dcf03a405eda",
       "style": "IPY_MODEL_83fda83561b748f5bc46e90d9cea805c"
      }
     },
     "97de2edc393e4d0eb406a7fffb270c5f": {
      "model_module": "@jupyter-widgets/base",
      "model_module_version": "1.2.0",
      "model_name": "LayoutModel",
      "state": {}
     },
     "99184e9c9cf546a78184f23cd18a7882": {
      "model_module": "@jupyter-widgets/controls",
      "model_module_version": "1.5.0",
      "model_name": "VBoxModel",
      "state": {
       "children": [
        "IPY_MODEL_ed8df42d531b4251b360889eac2f0564",
        "IPY_MODEL_3bd34baf261d4037b1158f2b51f71734",
        "IPY_MODEL_da58f593ffc9435eb107e1a23ee7bf4a",
        "IPY_MODEL_292d1d5f7582450eb08a23d4863b73b4",
        "IPY_MODEL_616e8aeba37446b3a8294f350436934c",
        "IPY_MODEL_258b90f86f994b878e34d2633728d476",
        "IPY_MODEL_8a4a710f3eb54c32b8c12eb705648a44",
        "IPY_MODEL_51466cbb6e7c4cf6b8b8cf447b2187a2",
        "IPY_MODEL_4f1814eccb1d4bbc89cdd116fbc2c429",
        "IPY_MODEL_282644188ecd4bd892112ce497cd4f75",
        "IPY_MODEL_ee778e44defd4f2eb4d46b3f45bf42f5",
        "IPY_MODEL_b5a88da5c40d422e953f2e7ce3617d0e",
        "IPY_MODEL_fa8e0a10a3ea4f0fa21bb1964e8b0b45",
        "IPY_MODEL_d59f7bd60c3243ceb51c374307d7d446",
        "IPY_MODEL_ae706ac1b8f04d9491f983ad83b8186e",
        "IPY_MODEL_9ba656972b124ec1ae594105c79d1254",
        "IPY_MODEL_dfd06833c58943fea1ffb74c136f1927",
        "IPY_MODEL_b4bd304370cb438da2680d6d949c028b",
        "IPY_MODEL_033dc67fd03847ae943e742ea3d4406e",
        "IPY_MODEL_d77a07b871b04799a23e3097c6f07765",
        "IPY_MODEL_c6331935cf974535bd5fa0e146aeb385",
        "IPY_MODEL_84837289ec814269bad0c67052f25069",
        "IPY_MODEL_6cd8297471f040d0a6920a1f79805822",
        "IPY_MODEL_a60766ef18f1402fa3557e67e1c790ff",
        "IPY_MODEL_c207173f32744e9a900728e84835dcf5",
        "IPY_MODEL_a8e2901d30ab4b2bbd362ee811dcf434",
        "IPY_MODEL_015fb499d23c4564b08d1cefc3688f39",
        "IPY_MODEL_c4e6a8a64b844c2ca80930f89d79521d",
        "IPY_MODEL_1e186bfbe4b840459f925e4595ddc0b9",
        "IPY_MODEL_54bd08bc65f04eb394da198698d336fd",
        "IPY_MODEL_0f966a10c80b42559ee42b679b386715"
       ],
       "layout": "IPY_MODEL_0231b4db3c3c45a8990aed7ed90e260c"
      }
     },
     "992aa7a4bd0c4535bce0689d6e3195da": {
      "model_module": "@jupyter-widgets/base",
      "model_module_version": "1.2.0",
      "model_name": "LayoutModel",
      "state": {}
     },
     "9a4c68e951c5402186228696df4ddcbc": {
      "model_module": "@jupyter-widgets/base",
      "model_module_version": "1.2.0",
      "model_name": "LayoutModel",
      "state": {}
     },
     "9a51a759e35947a1a4c6abfd019adffe": {
      "model_module": "@jupyter-widgets/base",
      "model_module_version": "1.2.0",
      "model_name": "LayoutModel",
      "state": {}
     },
     "9ae97d93b5804c89b72f562da2f79c49": {
      "model_module": "@jupyter-widgets/base",
      "model_module_version": "1.2.0",
      "model_name": "LayoutModel",
      "state": {}
     },
     "9b3b0b0ac873426289f32696eff2b3a0": {
      "model_module": "@jupyter-widgets/controls",
      "model_module_version": "1.5.0",
      "model_name": "DescriptionStyleModel",
      "state": {
       "description_width": ""
      }
     },
     "9ba656972b124ec1ae594105c79d1254": {
      "model_module": "@jupyter-widgets/controls",
      "model_module_version": "1.5.0",
      "model_name": "HBoxModel",
      "state": {
       "children": [
        "IPY_MODEL_a015235b1a604feeb679cd0e65d8454c",
        "IPY_MODEL_628a32a2c68b43f09f2b5194fa63084f",
        "IPY_MODEL_8dce56a0ba6f4fe0b9985496d5b684de"
       ],
       "layout": "IPY_MODEL_8950a393850b42cf920d865c8a67070d"
      }
     },
     "9ee61fb682b648da9e1ad49d2b3260d9": {
      "model_module": "@jupyter-widgets/controls",
      "model_module_version": "1.5.0",
      "model_name": "DescriptionStyleModel",
      "state": {
       "description_width": ""
      }
     },
     "9f0ecdc4b713488ba6965a6f5b6ffeaf": {
      "model_module": "@jupyter-widgets/controls",
      "model_module_version": "1.5.0",
      "model_name": "DescriptionStyleModel",
      "state": {
       "description_width": ""
      }
     },
     "a015235b1a604feeb679cd0e65d8454c": {
      "model_module": "@jupyter-widgets/controls",
      "model_module_version": "1.5.0",
      "model_name": "BoundedFloatTextModel",
      "state": {
       "description": "dx",
       "layout": "IPY_MODEL_2acf0720879f4d4e94b5a01311e0f8fa",
       "max": 1000000,
       "step": null,
       "style": "IPY_MODEL_835a5e4f2f9949a5a27800a7bd055809",
       "value": 0.01
      }
     },
     "a142f1266d63417d8c949a6f0b7e100f": {
      "model_module": "@jupyter-widgets/base",
      "model_module_version": "1.2.0",
      "model_name": "LayoutModel",
      "state": {}
     },
     "a264a780f5064c6f917cf0babc95e758": {
      "model_module": "@jupyter-widgets/controls",
      "model_module_version": "1.5.0",
      "model_name": "DropdownModel",
      "state": {
       "_options_labels": [
        "DNS",
        "Phys Smag",
        "Phys WALE",
        "Phys dyn. Smag",
        "iSVV"
       ],
       "description": "ilesmod",
       "description_tooltip": "LES model",
       "index": 0,
       "layout": "IPY_MODEL_32cce243026749d080aa1f69c6d6dade",
       "style": "IPY_MODEL_f86f695ae9a0409c91f83d0781f1d1f7"
      }
     },
     "a350e9584f3d4f33b423aecf25486c83": {
      "model_module": "@jupyter-widgets/controls",
      "model_module_version": "1.5.0",
      "model_name": "DescriptionStyleModel",
      "state": {
       "description_width": ""
      }
     },
     "a42db78dffd84aa1b772069d21d329b1": {
      "model_module": "@jupyter-widgets/base",
      "model_module_version": "1.2.0",
      "model_name": "LayoutModel",
      "state": {}
     },
     "a55cd61cfd27499d8ea80dc77ded76f2": {
      "model_module": "@jupyter-widgets/base",
      "model_module_version": "1.2.0",
      "model_name": "LayoutModel",
      "state": {}
     },
     "a60766ef18f1402fa3557e67e1c790ff": {
      "model_module": "@jupyter-widgets/controls",
      "model_module_version": "1.5.0",
      "model_name": "HBoxModel",
      "state": {
       "children": [
        "IPY_MODEL_daed5fddd7b54a7f9dd38a878bee0685"
       ],
       "layout": "IPY_MODEL_c9312468ee3d4c21add2ca4500b274e8"
      }
     },
     "a8e2901d30ab4b2bbd362ee811dcf434": {
      "model_module": "@jupyter-widgets/controls",
      "model_module_version": "1.5.0",
      "model_name": "HBoxModel",
      "state": {
       "children": [
        "IPY_MODEL_f998a8770061477393c9b30b71e53554",
        "IPY_MODEL_320c3f8fbcdd457c9556bcec813d6456",
        "IPY_MODEL_28fab1124b874cecbbbd89346bb8cc39"
       ],
       "layout": "IPY_MODEL_6df30cca17254451ab5d1e62accdc38d"
      }
     },
     "a96b4ab011f34920aa8d541d97813d56": {
      "model_module": "@jupyter-widgets/controls",
      "model_module_version": "1.5.0",
      "model_name": "DropdownModel",
      "state": {
       "_options_labels": [
        "9",
        "11",
        "13",
        "17",
        "19",
        "21",
        "25",
        "31",
        "33",
        "37",
        "41",
        "49",
        "51",
        "55",
        "61",
        "65",
        "73",
        "81",
        "91",
        "97",
        "101",
        "109",
        "121",
        "129",
        "145",
        "151",
        "161",
        "163",
        "181",
        "193",
        "201",
        "217",
        "241",
        "251",
        "257",
        "271",
        "289",
        "301",
        "321",
        "325",
        "361",
        "385",
        "401",
        "433",
        "451",
        "481",
        "487",
        "501",
        "513",
        "541",
        "577",
        "601",
        "641",
        "649",
        "721",
        "751",
        "769",
        "801",
        "811",
        "865",
        "901",
        "961",
        "973",
        "1001",
        "1025",
        "1081",
        "1153",
        "1201",
        "1251",
        "1281",
        "1297",
        "1351",
        "1441",
        "1459",
        "1501",
        "1537",
        "1601",
        "1621",
        "1729",
        "1801",
        "1921",
        "1945",
        "2001",
        "2049",
        "2161",
        "2251",
        "2305",
        "2401",
        "2431",
        "2501",
        "2561",
        "2593",
        "2701",
        "2881",
        "2917",
        "3001",
        "3073",
        "3201",
        "3241",
        "3457",
        "3601",
        "3751",
        "3841",
        "3889",
        "4001",
        "4051",
        "4097",
        "4321",
        "4375",
        "4501",
        "4609",
        "4801",
        "4861",
        "5001",
        "5121",
        "5185",
        "5401",
        "5761",
        "5833",
        "6001",
        "6145",
        "6251",
        "6401",
        "6481",
        "6751",
        "6913",
        "7201",
        "7291",
        "7501",
        "7681",
        "7777",
        "8001",
        "8101",
        "8193",
        "8641",
        "8749",
        "9001"
       ],
       "description": "nx",
       "description_tooltip": "Number of mesh points in x direction",
       "index": 22,
       "layout": "IPY_MODEL_06d4fc1c47694b7a95c0cf42a012a5f9",
       "style": "IPY_MODEL_6701615f00d04181b0cd7ab5d4ce1ba7"
      }
     },
     "a973176cd67c4665bf0191db34eb035c": {
      "model_module": "@jupyter-widgets/base",
      "model_module_version": "1.2.0",
      "model_name": "LayoutModel",
      "state": {}
     },
     "ad057d7b3e994301939adba5a7da2afa": {
      "model_module": "@jupyter-widgets/controls",
      "model_module_version": "1.5.0",
      "model_name": "BoundedFloatTextModel",
      "state": {
       "description": "yly",
       "description_tooltip": "Domain size in y direction",
       "layout": "IPY_MODEL_97de2edc393e4d0eb406a7fffb270c5f",
       "max": 1000000,
       "step": null,
       "style": "IPY_MODEL_847742e1e13a484a95ba44e3c57163ca",
       "value": 10
      }
     },
     "ad549c1939814ea99ed326aa2a462523": {
      "model_module": "@jupyter-widgets/base",
      "model_module_version": "1.2.0",
      "model_name": "LayoutModel",
      "state": {}
     },
     "add5d41f3e8f4167bc6cbe2cd18a4b8d": {
      "model_module": "@jupyter-widgets/base",
      "model_module_version": "1.2.0",
      "model_name": "LayoutModel",
      "state": {}
     },
     "ae2ab2876995480fa7d90d099ebd0e7f": {
      "model_module": "@jupyter-widgets/controls",
      "model_module_version": "1.5.0",
      "model_name": "BoundedIntTextModel",
      "state": {
       "description": "nvisu",
       "description_tooltip": "Size for visual collection",
       "disabled": true,
       "layout": "IPY_MODEL_3347a711de2b4cd287cbb589da074a6a",
       "max": 1000000000,
       "min": 1,
       "style": "IPY_MODEL_e9ee0b10ef274060813344f796e17836",
       "value": 1
      }
     },
     "ae706ac1b8f04d9491f983ad83b8186e": {
      "model_module": "@jupyter-widgets/controls",
      "model_module_version": "1.5.0",
      "model_name": "HBoxModel",
      "state": {
       "children": [
        "IPY_MODEL_8554ad13313e456681f91a3b90702305",
        "IPY_MODEL_ad057d7b3e994301939adba5a7da2afa",
        "IPY_MODEL_61acef7b3d1b40b9a9bbc0d388ad6723"
       ],
       "layout": "IPY_MODEL_d783c0978d404c6ba39f555e2af9610e"
      }
     },
     "ae7b2739c18741cea1eede8d06da8656": {
      "model_module": "@jupyter-widgets/controls",
      "model_module_version": "1.5.0",
      "model_name": "DescriptionStyleModel",
      "state": {
       "description_width": ""
      }
     },
     "afa5ce3d7963474588ce38eafb9c3c79": {
      "model_module": "@jupyter-widgets/base",
      "model_module_version": "1.2.0",
      "model_name": "LayoutModel",
      "state": {}
     },
     "b06051ca1ce14d45ad45d4a896d764ee": {
      "model_module": "@jupyter-widgets/controls",
      "model_module_version": "1.5.0",
      "model_name": "DropdownModel",
      "state": {
       "_options_labels": [
        "2nd central",
        "4th central",
        "4th compact",
        "6th compact"
       ],
       "description": "ifirstder",
       "description_tooltip": "Scheme for first order derivative",
       "disabled": true,
       "index": 3,
       "layout": "IPY_MODEL_606af6c4bb644c35aab56b14b71c55ce",
       "style": "IPY_MODEL_ed0134c55080402dbaa5545fb9187af1"
      }
     },
     "b0db15d8ac33401fb406042e94580a7c": {
      "model_module": "@jupyter-widgets/controls",
      "model_module_version": "1.5.0",
      "model_name": "DescriptionStyleModel",
      "state": {
       "description_width": ""
      }
     },
     "b1bf6bf5e60448e58751b69ca01c22ae": {
      "model_module": "@jupyter-widgets/controls",
      "model_module_version": "1.5.0",
      "model_name": "DropdownModel",
      "state": {
       "_options_labels": [
        "6th compact",
        "hyperviscous 6th"
       ],
       "description": "isecondder",
       "description_tooltip": "Scheme for second order derivative",
       "disabled": true,
       "index": 0,
       "layout": "IPY_MODEL_5e27d38a5dca44539f9647d54c30863f",
       "style": "IPY_MODEL_3be27b7a90d74e8fb6e3c74c0efebd44"
      }
     },
     "b3b1833782b24411b41d44e1296ce948": {
      "model_module": "@jupyter-widgets/controls",
      "model_module_version": "1.5.0",
      "model_name": "DescriptionStyleModel",
      "state": {
       "description_width": ""
      }
     },
     "b4bd304370cb438da2680d6d949c028b": {
      "model_module": "@jupyter-widgets/controls",
      "model_module_version": "1.5.0",
      "model_name": "HBoxModel",
      "state": {
       "children": [
        "IPY_MODEL_44bee9c5506847ee9da7203458641356",
        "IPY_MODEL_47b4544c214f43689317f3e2ca368831",
        "IPY_MODEL_0c244df6e4664208854724b2832ee1e0"
       ],
       "layout": "IPY_MODEL_afa5ce3d7963474588ce38eafb9c3c79"
      }
     },
     "b57b9a4d4a33447b98e49bbc540c8fbc": {
      "model_module": "@jupyter-widgets/controls",
      "model_module_version": "1.5.0",
      "model_name": "DescriptionStyleModel",
      "state": {
       "description_width": ""
      }
     },
     "b5a88da5c40d422e953f2e7ce3617d0e": {
      "model_module": "@jupyter-widgets/controls",
      "model_module_version": "1.5.0",
      "model_name": "HBoxModel",
      "state": {
       "children": [
        "IPY_MODEL_e1efefc580474513a442ed78c4cca799",
        "IPY_MODEL_4660e13088754ca2b47792142fb05ad8",
        "IPY_MODEL_e32bb77abd414bc88d1a5e398d7194f0"
       ],
       "layout": "IPY_MODEL_f441090304c243a6ac76b7b8e5a96b11"
      }
     },
     "b61a6d29de584fb3a1f3c911ff3a8924": {
      "model_module": "@jupyter-widgets/controls",
      "model_module_version": "1.5.0",
      "model_name": "DescriptionStyleModel",
      "state": {
       "description_width": ""
      }
     },
     "b63bfd0a537e48ddbf276c582a7affec": {
      "model_module": "@jupyter-widgets/base",
      "model_module_version": "1.2.0",
      "model_name": "LayoutModel",
      "state": {}
     },
     "b7822f471b22429d940b6b48253f7034": {
      "model_module": "@jupyter-widgets/controls",
      "model_module_version": "1.5.0",
      "model_name": "DropdownModel",
      "state": {
       "_options_labels": [
        "8",
        "10",
        "12",
        "16",
        "18",
        "20",
        "24",
        "30",
        "32",
        "36",
        "40",
        "48",
        "50",
        "54",
        "60",
        "64",
        "72",
        "80",
        "90",
        "96",
        "100",
        "108",
        "120",
        "128",
        "144",
        "150",
        "160",
        "162",
        "180",
        "192",
        "200",
        "216",
        "240",
        "250",
        "256",
        "270",
        "288",
        "300",
        "320",
        "324",
        "360",
        "384",
        "400",
        "432",
        "450",
        "480",
        "486",
        "500",
        "512",
        "540",
        "576",
        "600",
        "640",
        "648",
        "720",
        "750",
        "768",
        "800",
        "810",
        "864",
        "900",
        "960",
        "972",
        "1000",
        "1024",
        "1080",
        "1152",
        "1200",
        "1250",
        "1280",
        "1296",
        "1350",
        "1440",
        "1458",
        "1500",
        "1536",
        "1600",
        "1620",
        "1728",
        "1800",
        "1920",
        "1944",
        "2000",
        "2048",
        "2160",
        "2250",
        "2304",
        "2400",
        "2430",
        "2500",
        "2560",
        "2592",
        "2700",
        "2880",
        "2916",
        "3000",
        "3072",
        "3200",
        "3240",
        "3456",
        "3600",
        "3750",
        "3840",
        "3888",
        "4000",
        "4050",
        "4096",
        "4320",
        "4374",
        "4500",
        "4608",
        "4800",
        "4860",
        "5000",
        "5120",
        "5184",
        "5400",
        "5760",
        "5832",
        "6000",
        "6144",
        "6250",
        "6400",
        "6480",
        "6750",
        "6912",
        "7200",
        "7290",
        "7500",
        "7680",
        "7776",
        "8000",
        "8100",
        "8192",
        "8640",
        "8748",
        "9000"
       ],
       "description": "nz",
       "description_tooltip": "Number of mesh points in z direction",
       "index": 0,
       "layout": "IPY_MODEL_1c9212adfff4449f8ec21b60238b23ab",
       "style": "IPY_MODEL_e1327154973b4a89a3efade1f8ad99b9"
      }
     },
     "bbf1d40f60074bf2b573622aacdb45af": {
      "model_module": "@jupyter-widgets/controls",
      "model_module_version": "1.5.0",
      "model_name": "DescriptionStyleModel",
      "state": {
       "description_width": ""
      }
     },
     "bc0e2a7dc0c44b0a91d19fbbcd1c2389": {
      "model_module": "@jupyter-widgets/base",
      "model_module_version": "1.2.0",
      "model_name": "LayoutModel",
      "state": {}
     },
     "bd2d0bcd24fc440fa1adf020477bf9f0": {
      "model_module": "@jupyter-widgets/base",
      "model_module_version": "1.2.0",
      "model_name": "LayoutModel",
      "state": {}
     },
     "be7474df14984deead0b70aea8927336": {
      "model_module": "@jupyter-widgets/controls",
      "model_module_version": "1.5.0",
      "model_name": "DropdownModel",
      "state": {
       "_options_labels": [
        "Periodic",
        "Free-slip",
        "No-slip"
       ],
       "description": "nclz1",
       "description_tooltip": "Velocidy boundary condition at begin of z direction",
       "index": 0,
       "layout": "IPY_MODEL_1770b8455e1b4988a6e05f38e02520f0",
       "style": "IPY_MODEL_b0db15d8ac33401fb406042e94580a7c"
      }
     },
     "bf5dbe626eec4ca6a92d52c11d78b088": {
      "model_module": "@jupyter-widgets/base",
      "model_module_version": "1.2.0",
      "model_name": "LayoutModel",
      "state": {}
     },
     "bfd0170b0d604c69bd33bdffce41f779": {
      "model_module": "@jupyter-widgets/controls",
      "model_module_version": "1.5.0",
      "model_name": "DescriptionStyleModel",
      "state": {
       "description_width": ""
      }
     },
     "c0263c5b242a400b9e93cc76bec07356": {
      "model_module": "@jupyter-widgets/controls",
      "model_module_version": "1.5.0",
      "model_name": "DropdownModel",
      "state": {
       "_options_labels": [
        "Periodic",
        "No-flux",
        "Dirichlet"
       ],
       "description": "nclxS1",
       "description_tooltip": "Scalar boundary condition at begin of x direction",
       "index": 2,
       "layout": "IPY_MODEL_f09fa118cb1b472eaa2227a807f21353",
       "style": "IPY_MODEL_9ee61fb682b648da9e1ad49d2b3260d9"
      }
     },
     "c189748c9dd0458e8f60d295220b215e": {
      "model_module": "@jupyter-widgets/base",
      "model_module_version": "1.2.0",
      "model_name": "LayoutModel",
      "state": {}
     },
     "c207173f32744e9a900728e84835dcf5": {
      "model_module": "@jupyter-widgets/controls",
      "model_module_version": "1.5.0",
      "model_name": "HBoxModel",
      "state": {
       "children": [
        "IPY_MODEL_c0263c5b242a400b9e93cc76bec07356",
        "IPY_MODEL_42b2bd1cc9ad4d6d8e67305e3bf3b812",
        "IPY_MODEL_d696959736cf47f9b0de7cbb2ee30df9"
       ],
       "layout": "IPY_MODEL_42391809e1f64b80bc631d8b83dcdd42"
      }
     },
     "c2ce1ddee3194a7895a707751932e232": {
      "model_module": "@jupyter-widgets/base",
      "model_module_version": "1.2.0",
      "model_name": "LayoutModel",
      "state": {}
     },
     "c4e6a8a64b844c2ca80930f89d79521d": {
      "model_module": "@jupyter-widgets/controls",
      "model_module_version": "1.5.0",
      "model_name": "HBoxModel",
      "state": {
       "children": [
        "IPY_MODEL_3e3b1ebb26ba4c91a9fd3c4e296dfcdb"
       ],
       "layout": "IPY_MODEL_a142f1266d63417d8c949a6f0b7e100f"
      }
     },
     "c6331935cf974535bd5fa0e146aeb385": {
      "model_module": "@jupyter-widgets/controls",
      "model_module_version": "1.5.0",
      "model_name": "HBoxModel",
      "state": {
       "children": [
        "IPY_MODEL_b06051ca1ce14d45ad45d4a896d764ee",
        "IPY_MODEL_b1bf6bf5e60448e58751b69ca01c22ae",
        "IPY_MODEL_393fc4be43974bd1a6ed05bb3b53b70b"
       ],
       "layout": "IPY_MODEL_5142ff01483d46488c9707a9179fd625"
      }
     },
     "c8291968468e42f4aa44f3bc6306a1af": {
      "model_module": "@jupyter-widgets/base",
      "model_module_version": "1.2.0",
      "model_name": "LayoutModel",
      "state": {}
     },
     "c844bd69744b4077b8f311cfda5fd3fd": {
      "model_module": "@jupyter-widgets/base",
      "model_module_version": "1.2.0",
      "model_name": "LayoutModel",
      "state": {}
     },
     "c922ed359c6e4838abe1d1e6c74c7d1d": {
      "model_module": "@jupyter-widgets/base",
      "model_module_version": "1.2.0",
      "model_name": "LayoutModel",
      "state": {}
     },
     "c9312468ee3d4c21add2ca4500b274e8": {
      "model_module": "@jupyter-widgets/base",
      "model_module_version": "1.2.0",
      "model_name": "LayoutModel",
      "state": {}
     },
     "ca16db74c3794c378b4eafa5a068598c": {
      "model_module": "@jupyter-widgets/base",
      "model_module_version": "1.2.0",
      "model_name": "LayoutModel",
      "state": {}
     },
     "caaba9dc785846f7aee99a4a4ab888e7": {
      "model_module": "@jupyter-widgets/controls",
      "model_module_version": "1.5.0",
      "model_name": "DescriptionStyleModel",
      "state": {
       "description_width": ""
      }
     },
     "cbf281065ff7466393e27c58efd3d2c6": {
      "model_module": "@jupyter-widgets/base",
      "model_module_version": "1.2.0",
      "model_name": "LayoutModel",
      "state": {}
     },
     "cc01bea0f26240cdacb32fbc32a4212b": {
      "model_module": "@jupyter-widgets/base",
      "model_module_version": "1.2.0",
      "model_name": "LayoutModel",
      "state": {}
     },
     "cc9308cb5d1b4bbea1b485dcd95f236d": {
      "model_module": "@jupyter-widgets/controls",
      "model_module_version": "1.5.0",
      "model_name": "FloatTextModel",
      "state": {
       "description": "re",
       "description_tooltip": "Reynolds number",
       "layout": "IPY_MODEL_e458f94776ef4e85941abf8609512873",
       "step": null,
       "style": "IPY_MODEL_382c1cf1c6cb474dbaaee6a692796cb4",
       "value": 300
      }
     },
     "ce2f410c07ce4860892480e6dbb56d30": {
      "model_module": "@jupyter-widgets/controls",
      "model_module_version": "1.5.0",
      "model_name": "ButtonModel",
      "state": {
       "description": "Sync",
       "disabled": true,
       "icon": "sync",
       "layout": "IPY_MODEL_f7b72903944b408cb7b5f4938d55cd24",
       "style": "IPY_MODEL_2fbdcc3c4589487aa37f8caf678ed9ef"
      }
     },
     "cf3fa4bacaa4487fb7539ae9f770ad08": {
      "model_module": "@jupyter-widgets/controls",
      "model_module_version": "1.5.0",
      "model_name": "DescriptionStyleModel",
      "state": {
       "description_width": ""
      }
     },
     "cfafa60fe5b947c6a9f65c35aee2be21": {
      "model_module": "@jupyter-widgets/controls",
      "model_module_version": "1.5.0",
      "model_name": "FloatTextModel",
      "state": {
       "description": "gravx",
       "description_tooltip": "Value to x component in gravity unitary vector",
       "disabled": true,
       "layout": "IPY_MODEL_5806386d7c064f54a7edc56e23f99be3",
       "step": null,
       "style": "IPY_MODEL_bfd0170b0d604c69bd33bdffce41f779"
      }
     },
     "d0d6213681aa4e17b9875581b536bbd9": {
      "model_module": "@jupyter-widgets/controls",
      "model_module_version": "1.5.0",
      "model_name": "DropdownModel",
      "state": {
       "_options_labels": [
        "Off",
        "On"
       ],
       "description": "ilesmod",
       "description_tooltip": "Enables Large-Eddy methodologies",
       "index": 1,
       "layout": "IPY_MODEL_488a4cd3f85344dd9a183f689d43aaad",
       "style": "IPY_MODEL_e82739fc84354c459054dc94acbe33a8"
      }
     },
     "d34550e290c442aeabd24d08c2a63668": {
      "model_module": "@jupyter-widgets/controls",
      "model_module_version": "1.5.0",
      "model_name": "DescriptionStyleModel",
      "state": {
       "description_width": ""
      }
     },
     "d42990d5001741e2a599ef68b3c9de79": {
      "model_module": "@jupyter-widgets/controls",
      "model_module_version": "1.5.0",
      "model_name": "ButtonStyleModel",
      "state": {}
     },
     "d4e1d526f2f2427ba9fb61ca3cdf0819": {
      "model_module": "@jupyter-widgets/base",
      "model_module_version": "1.2.0",
      "model_name": "LayoutModel",
      "state": {}
     },
     "d59f7bd60c3243ceb51c374307d7d446": {
      "model_module": "@jupyter-widgets/controls",
      "model_module_version": "1.5.0",
      "model_name": "HBoxModel",
      "state": {
       "children": [
        "IPY_MODEL_a96b4ab011f34920aa8d541d97813d56",
        "IPY_MODEL_6787a969ae6e4e74a2aea2615e49effa",
        "IPY_MODEL_b7822f471b22429d940b6b48253f7034"
       ],
       "layout": "IPY_MODEL_9a4c68e951c5402186228696df4ddcbc"
      }
     },
     "d66b3787c63d4d5c9a8b30d3503d6c3b": {
      "model_module": "@jupyter-widgets/base",
      "model_module_version": "1.2.0",
      "model_name": "LayoutModel",
      "state": {}
     },
     "d696959736cf47f9b0de7cbb2ee30df9": {
      "model_module": "@jupyter-widgets/controls",
      "model_module_version": "1.5.0",
      "model_name": "DropdownModel",
      "state": {
       "_options_labels": [
        "Periodic",
        "No-flux",
        "Dirichlet"
       ],
       "description": "nclzS1",
       "description_tooltip": "Scalar boundary condition at begin of z direction",
       "index": 0,
       "layout": "IPY_MODEL_101640ee4c1f4bb3878b1e415b8e6fda",
       "style": "IPY_MODEL_d8e94f7e87b44a3fba8cfe8ec4abb2c7"
      }
     },
     "d77a07b871b04799a23e3097c6f07765": {
      "model_module": "@jupyter-widgets/controls",
      "model_module_version": "1.5.0",
      "model_name": "HTMLModel",
      "state": {
       "layout": "IPY_MODEL_f4f926f37adf459b8d439cb627e50f14",
       "style": "IPY_MODEL_306c0d5b83a643668de16cd7190fa545",
       "value": "<h2>NumOptions</h2>"
      }
     },
     "d783c0978d404c6ba39f555e2af9610e": {
      "model_module": "@jupyter-widgets/base",
      "model_module_version": "1.2.0",
      "model_name": "LayoutModel",
      "state": {}
     },
     "d8119afd67e84d26ad77ef7c6e52468e": {
      "model_module": "@jupyter-widgets/controls",
      "model_module_version": "1.5.0",
      "model_name": "FloatTextModel",
      "state": {
       "description": "inflow_noise",
       "description_tooltip": "Random amplitude value at inflow boundary, turbulence intensity",
       "layout": "IPY_MODEL_f9b101037c0342759a8b5fa6b3b829e3",
       "step": null,
       "style": "IPY_MODEL_83ba929a925b4d0c8133fe889e0822dc",
       "value": 0.0125
      }
     },
     "d875d43de4484630af4af14fd8de3de0": {
      "model_module": "@jupyter-widgets/controls",
      "model_module_version": "1.5.0",
      "model_name": "DropdownModel",
      "state": {
       "_options_labels": [
        "No random noise",
        "Random noise",
        "Random noise with fixed seed"
       ],
       "description": "iin",
       "description_tooltip": "Defines pertubation at initial condition",
       "index": 1,
       "layout": "IPY_MODEL_6ba13ed3ff824487a91ac559db241f49",
       "style": "IPY_MODEL_9f0ecdc4b713488ba6965a6f5b6ffeaf"
      }
     },
     "d8e94f7e87b44a3fba8cfe8ec4abb2c7": {
      "model_module": "@jupyter-widgets/controls",
      "model_module_version": "1.5.0",
      "model_name": "DescriptionStyleModel",
      "state": {
       "description_width": ""
      }
     },
     "d8e9933f919542799501466373c4bd50": {
      "model_module": "@jupyter-widgets/controls",
      "model_module_version": "1.5.0",
      "model_name": "IntTextModel",
      "state": {
       "description": "ilast",
       "description_tooltip": "Value to last iteration",
       "layout": "IPY_MODEL_2750958779da481eae5397faa9a617aa",
       "step": 1,
       "style": "IPY_MODEL_d34550e290c442aeabd24d08c2a63668",
       "value": 45000
      }
     },
     "d9955b05946b483d9496deb0dc0b375c": {
      "model_module": "@jupyter-widgets/base",
      "model_module_version": "1.2.0",
      "model_name": "LayoutModel",
      "state": {}
     },
     "da58f593ffc9435eb107e1a23ee7bf4a": {
      "model_module": "@jupyter-widgets/controls",
      "model_module_version": "1.5.0",
      "model_name": "HTMLModel",
      "state": {
       "layout": "IPY_MODEL_4df377c6f4004166aeecda5213f95d24",
       "style": "IPY_MODEL_6313e6c94ec94305aaa855b7c256dbe8",
       "value": "<h2>BasicParam</h2>"
      }
     },
     "dad027a1f12146c8b3fe65d4004df809": {
      "model_module": "@jupyter-widgets/controls",
      "model_module_version": "1.5.0",
      "model_name": "ButtonModel",
      "state": {
       "description": "Run",
       "disabled": true,
       "icon": "rocket",
       "layout": "IPY_MODEL_bd2d0bcd24fc440fa1adf020477bf9f0",
       "style": "IPY_MODEL_00fad029dcfb4a348b9793cc244808fe"
      }
     },
     "daed5fddd7b54a7f9dd38a878bee0685": {
      "model_module": "@jupyter-widgets/controls",
      "model_module_version": "1.5.0",
      "model_name": "IntSliderModel",
      "state": {
       "continuous_update": false,
       "description": "numscalar",
       "description_tooltip": "Number of scalar fractions",
       "layout": "IPY_MODEL_4d0638350e4544688924706c8db11729",
       "max": 9,
       "style": "IPY_MODEL_e2f263152d15443781f9e67e769c47fe"
      }
     },
     "dc62fe0a983c4c2e8407159dbc482389": {
      "model_module": "@jupyter-widgets/base",
      "model_module_version": "1.2.0",
      "model_name": "LayoutModel",
      "state": {}
     },
     "dd632f755f054c75b32f8d1f08c538ef": {
      "model_module": "@jupyter-widgets/base",
      "model_module_version": "1.2.0",
      "model_name": "LayoutModel",
      "state": {}
     },
     "dfa6dd99b610427b9e62090150085ef7": {
      "model_module": "@jupyter-widgets/controls",
      "model_module_version": "1.5.0",
      "model_name": "DescriptionStyleModel",
      "state": {
       "description_width": ""
      }
     },
     "dfd06833c58943fea1ffb74c136f1927": {
      "model_module": "@jupyter-widgets/controls",
      "model_module_version": "1.5.0",
      "model_name": "HBoxModel",
      "state": {
       "children": [
        "IPY_MODEL_02c3513c9b6245788d349466ca3c5566",
        "IPY_MODEL_3bdb7a61905042a8903db8a988e2cc83",
        "IPY_MODEL_be7474df14984deead0b70aea8927336"
       ],
       "layout": "IPY_MODEL_ca16db74c3794c378b4eafa5a068598c"
      }
     },
     "e11414a207314cd598cb09bb6c683540": {
      "model_module": "@jupyter-widgets/base",
      "model_module_version": "1.2.0",
      "model_name": "LayoutModel",
      "state": {}
     },
     "e1327154973b4a89a3efade1f8ad99b9": {
      "model_module": "@jupyter-widgets/controls",
      "model_module_version": "1.5.0",
      "model_name": "DescriptionStyleModel",
      "state": {
       "description_width": ""
      }
     },
     "e1efefc580474513a442ed78c4cca799": {
      "model_module": "@jupyter-widgets/controls",
      "model_module_version": "1.5.0",
      "model_name": "BoundedIntTextModel",
      "state": {
       "description": "icheckpoint",
       "description_tooltip": "Frequency for writing backup file",
       "layout": "IPY_MODEL_fa67e7b3534a47c88702e8eb5e169a67",
       "max": 1000000000,
       "min": 1,
       "style": "IPY_MODEL_b3b1833782b24411b41d44e1296ce948",
       "value": 45000
      }
     },
     "e2f263152d15443781f9e67e769c47fe": {
      "model_module": "@jupyter-widgets/controls",
      "model_module_version": "1.5.0",
      "model_name": "SliderStyleModel",
      "state": {
       "description_width": ""
      }
     },
     "e32bb77abd414bc88d1a5e398d7194f0": {
      "model_module": "@jupyter-widgets/controls",
      "model_module_version": "1.5.0",
      "model_name": "BoundedIntTextModel",
      "state": {
       "description": "iprocessing",
       "description_tooltip": "Frequency for online postprocessing",
       "layout": "IPY_MODEL_795edcaea340441694b6c1370bf2979d",
       "max": 1000000000,
       "min": 1,
       "style": "IPY_MODEL_3508ce25723248cca7b8f84758cf4eb6",
       "value": 50
      }
     },
     "e3f9f42cef794d85905ca7f2e5677ff4": {
      "model_module": "@jupyter-widgets/controls",
      "model_module_version": "1.5.0",
      "model_name": "BoundedFloatTextModel",
      "state": {
       "description": "dt",
       "description_tooltip": "Value to time step",
       "layout": "IPY_MODEL_09f24b49af7648308fd363865b57f8fe",
       "max": 1000000,
       "step": null,
       "style": "IPY_MODEL_49ba187cb7da40db98a9d8522fe301b5",
       "value": 0.0025
      }
     },
     "e458f94776ef4e85941abf8609512873": {
      "model_module": "@jupyter-widgets/base",
      "model_module_version": "1.2.0",
      "model_name": "LayoutModel",
      "state": {}
     },
     "e82739fc84354c459054dc94acbe33a8": {
      "model_module": "@jupyter-widgets/controls",
      "model_module_version": "1.5.0",
      "model_name": "DescriptionStyleModel",
      "state": {
       "description_width": ""
      }
     },
     "e9ee0b10ef274060813344f796e17836": {
      "model_module": "@jupyter-widgets/controls",
      "model_module_version": "1.5.0",
      "model_name": "DescriptionStyleModel",
      "state": {
       "description_width": ""
      }
     },
     "ea94355a97a745e88c8dc1637f42673b": {
      "model_module": "@jupyter-widgets/base",
      "model_module_version": "1.2.0",
      "model_name": "LayoutModel",
      "state": {}
     },
     "eabf1f8a2ae5438c87587d30d1206672": {
      "model_module": "@jupyter-widgets/base",
      "model_module_version": "1.2.0",
      "model_name": "LayoutModel",
      "state": {}
     },
     "ebff16089bb24f4685585743d73d91ad": {
      "model_module": "@jupyter-widgets/controls",
      "model_module_version": "1.5.0",
      "model_name": "DescriptionStyleModel",
      "state": {
       "description_width": ""
      }
     },
     "ece98851b6b64549b51c7602fba45b95": {
      "model_module": "@jupyter-widgets/controls",
      "model_module_version": "1.5.0",
      "model_name": "DescriptionStyleModel",
      "state": {
       "description_width": ""
      }
     },
     "ed0134c55080402dbaa5545fb9187af1": {
      "model_module": "@jupyter-widgets/controls",
      "model_module_version": "1.5.0",
      "model_name": "DescriptionStyleModel",
      "state": {
       "description_width": ""
      }
     },
     "ed8df42d531b4251b360889eac2f0564": {
      "model_module": "@jupyter-widgets/controls",
      "model_module_version": "1.5.0",
      "model_name": "HTMLModel",
      "state": {
       "layout": "IPY_MODEL_ef0da34597314c5d84e990f30a6519b0",
       "style": "IPY_MODEL_52675aa4b7414d84811ea97abd018a63",
       "value": "<h1>Xcompact3d Parameters</h1>"
      }
     },
     "edeaaeaecc27462783d0602e006cbe22": {
      "model_module": "@jupyter-widgets/controls",
      "model_module_version": "1.5.0",
      "model_name": "DescriptionStyleModel",
      "state": {
       "description_width": ""
      }
     },
     "ee778e44defd4f2eb4d46b3f45bf42f5": {
      "model_module": "@jupyter-widgets/controls",
      "model_module_version": "1.5.0",
      "model_name": "HBoxModel",
      "state": {
       "children": [
        "IPY_MODEL_224b0dbc06db49ddbadf32961602cad3",
        "IPY_MODEL_ae2ab2876995480fa7d90d099ebd0e7f",
        "IPY_MODEL_8f3c9e2a18434375a60639d8139de951"
       ],
       "layout": "IPY_MODEL_cbf281065ff7466393e27c58efd3d2c6"
      }
     },
     "ee7b04d3eeb84c3b96a69dd6ab994470": {
      "model_module": "@jupyter-widgets/controls",
      "model_module_version": "1.5.0",
      "model_name": "DescriptionStyleModel",
      "state": {
       "description_width": ""
      }
     },
     "eefd1e5784fe4caaa4d66a367be5851f": {
      "model_module": "@jupyter-widgets/controls",
      "model_module_version": "1.5.0",
      "model_name": "DropdownModel",
      "state": {
       "_options_labels": [
        "Off",
        "On"
       ],
       "description": "ipost",
       "description_tooltip": " Enbalbes online postprocessing",
       "index": 1,
       "layout": "IPY_MODEL_992aa7a4bd0c4535bce0689d6e3195da",
       "style": "IPY_MODEL_fa415fbc18f144e185f7b9128dd8eec6"
      }
     },
     "ef0da34597314c5d84e990f30a6519b0": {
      "model_module": "@jupyter-widgets/base",
      "model_module_version": "1.2.0",
      "model_name": "LayoutModel",
      "state": {}
     },
     "f09fa118cb1b472eaa2227a807f21353": {
      "model_module": "@jupyter-widgets/base",
      "model_module_version": "1.2.0",
      "model_name": "LayoutModel",
      "state": {}
     },
     "f12da437e41a4101bfa36e755b5e6572": {
      "model_module": "@jupyter-widgets/base",
      "model_module_version": "1.2.0",
      "model_name": "LayoutModel",
      "state": {}
     },
     "f441090304c243a6ac76b7b8e5a96b11": {
      "model_module": "@jupyter-widgets/base",
      "model_module_version": "1.2.0",
      "model_name": "LayoutModel",
      "state": {}
     },
     "f4f926f37adf459b8d439cb627e50f14": {
      "model_module": "@jupyter-widgets/base",
      "model_module_version": "1.2.0",
      "model_name": "LayoutModel",
      "state": {}
     },
     "f508f56b5ba64c178628c1fb3baf5309": {
      "model_module": "@jupyter-widgets/base",
      "model_module_version": "1.2.0",
      "model_name": "LayoutModel",
      "state": {}
     },
     "f6d787d95010479e89b7f1d854bb9056": {
      "model_module": "@jupyter-widgets/controls",
      "model_module_version": "1.5.0",
      "model_name": "DescriptionStyleModel",
      "state": {
       "description_width": ""
      }
     },
     "f7b72903944b408cb7b5f4938d55cd24": {
      "model_module": "@jupyter-widgets/base",
      "model_module_version": "1.2.0",
      "model_name": "LayoutModel",
      "state": {}
     },
     "f86f695ae9a0409c91f83d0781f1d1f7": {
      "model_module": "@jupyter-widgets/controls",
      "model_module_version": "1.5.0",
      "model_name": "DescriptionStyleModel",
      "state": {
       "description_width": ""
      }
     },
     "f998a8770061477393c9b30b71e53554": {
      "model_module": "@jupyter-widgets/controls",
      "model_module_version": "1.5.0",
      "model_name": "DropdownModel",
      "state": {
       "_options_labels": [
        "Periodic",
        "No-flux",
        "Dirichlet"
       ],
       "description": "nclxSn",
       "description_tooltip": "Scalar boundary condition at end of x direction",
       "index": 2,
       "layout": "IPY_MODEL_102f53bb4e9a42febd5c24abaffd8345",
       "style": "IPY_MODEL_a350e9584f3d4f33b423aecf25486c83"
      }
     },
     "f9a3c047bf9b4e088504c6d0c55d98cd": {
      "model_module": "@jupyter-widgets/controls",
      "model_module_version": "1.5.0",
      "model_name": "ButtonModel",
      "state": {
       "description": "Read",
       "disabled": true,
       "icon": "file-upload",
       "layout": "IPY_MODEL_b63bfd0a537e48ddbf276c582a7affec",
       "style": "IPY_MODEL_0bca7893b8584b8f96105801a48f8383"
      }
     },
     "f9b101037c0342759a8b5fa6b3b829e3": {
      "model_module": "@jupyter-widgets/base",
      "model_module_version": "1.2.0",
      "model_name": "LayoutModel",
      "state": {}
     },
     "fa415fbc18f144e185f7b9128dd8eec6": {
      "model_module": "@jupyter-widgets/controls",
      "model_module_version": "1.5.0",
      "model_name": "DescriptionStyleModel",
      "state": {
       "description_width": ""
      }
     },
     "fa67e7b3534a47c88702e8eb5e169a67": {
      "model_module": "@jupyter-widgets/base",
      "model_module_version": "1.2.0",
      "model_name": "LayoutModel",
      "state": {}
     },
     "fa8e0a10a3ea4f0fa21bb1964e8b0b45": {
      "model_module": "@jupyter-widgets/controls",
      "model_module_version": "1.5.0",
      "model_name": "HTMLModel",
      "state": {
       "layout": "IPY_MODEL_a42db78dffd84aa1b772069d21d329b1",
       "style": "IPY_MODEL_67c3dfe475464eefbbcdd69976a5f619",
       "value": "<h3>Spatial discretization</h3>"
      }
     },
     "fe8270bfce2c410e94fcf602bd1de419": {
      "model_module": "@jupyter-widgets/controls",
      "model_module_version": "1.5.0",
      "model_name": "DropdownModel",
      "state": {
       "_options_labels": [
        "1",
        "2",
        "4",
        "0"
       ],
       "description": "p_col",
       "description_tooltip": "Domain decomposition for parallel computation",
       "index": 0,
       "layout": "IPY_MODEL_bc0e2a7dc0c44b0a91d19fbbcd1c2389",
       "style": "IPY_MODEL_92c5f11df5fa4f2089898eae10429b56"
      }
     }
    },
    "version_major": 2,
    "version_minor": 0
   }
  }
 },
 "nbformat": 4,
 "nbformat_minor": 4
}
