{
 "cells": [
  {
   "cell_type": "markdown",
   "metadata": {},
   "source": [
    "# Parameters\n",
    "\n",
    "The computational and physical parameters are handled at `class xcompact3d_toolbox.Parameters`. It is built on top of [Traitlets](https://traitlets.readthedocs.io/en/stable/index.html), which brings some advantages:\n",
    "\n",
    "* Attributes are type-checked;\n",
    "* Default values and restrictions (min and max) are applied where necessary;\n",
    "* 'On change' callbacks for validation and observation;\n",
    "* Two-way linking with [ipywidgets](https://ipywidgets.readthedocs.io/en/latest/)."
   ]
  },
  {
   "cell_type": "code",
   "execution_count": 1,
   "metadata": {},
   "outputs": [],
   "source": [
    "import xcompact3d_toolbox as x3d\n",
    "import numpy as np"
   ]
  },
  {
   "cell_type": "markdown",
   "metadata": {},
   "source": [
    "Use `np.float64` if Xcompact3d was compiled with the flag `-DDOUBLE_PREC`, use `np.float32` otherwise."
   ]
  },
  {
   "cell_type": "code",
   "execution_count": 2,
   "metadata": {},
   "outputs": [],
   "source": [
    "x3d.mytype = np.float32"
   ]
  },
  {
   "cell_type": "markdown",
   "metadata": {},
   "source": [
    "## Initialization"
   ]
  },
  {
   "cell_type": "markdown",
   "metadata": {},
   "source": [
    "There are a few ways to initialize the class. First, calling it with no arguments initializes all variables with default value:"
   ]
  },
  {
   "cell_type": "code",
   "execution_count": 3,
   "metadata": {},
   "outputs": [],
   "source": [
    "prm = x3d.Parameters()"
   ]
  },
  {
   "cell_type": "markdown",
   "metadata": {},
   "source": [
    "You can access a list with all the available variables at [Api reference](file:///C:/Users/felip/Documents/GitHub/Xcompact3d-toolbox/docs/_build/html/Docstrings.html#xcompact3d_toolbox.parameters.Parameters)."
   ]
  },
  {
   "cell_type": "markdown",
   "metadata": {},
   "source": [
    "It is possible to access and/or set values afterwards:"
   ]
  },
  {
   "cell_type": "code",
   "execution_count": 4,
   "metadata": {},
   "outputs": [
    {
     "name": "stdout",
     "output_type": "stream",
     "text": [
      "1000.0\n",
      "1000000.0\n"
     ]
    }
   ],
   "source": [
    "# Reynolds Number\n",
    "print(prm.re)\n",
    "prm.re = 1e6\n",
    "print(prm.re)"
   ]
  },
  {
   "cell_type": "markdown",
   "metadata": {},
   "source": [
    "Second, we can specify some values, and let the missing ones be initialized with default value:"
   ]
  },
  {
   "cell_type": "code",
   "execution_count": 5,
   "metadata": {},
   "outputs": [],
   "source": [
    "prm = x3d.Parameters(\n",
    "    filename = 'example.i3d',\n",
    "    itype = 10,\n",
    "    nx = 257,\n",
    "    ny = 129,\n",
    "    nz = 32,\n",
    "    xlx = 15.0,\n",
    "    yly = 10.0,\n",
    "    zlz = 3.0,\n",
    "    nclx1 = 2,\n",
    "    nclxn = 2,\n",
    "    ncly1 = 1,\n",
    "    nclyn = 1,\n",
    "    nclz1 = 0,\n",
    "    nclzn = 0,\n",
    "    iin = 1,\n",
    "    re = 300.0,\n",
    "    init_noise = 0.0125,\n",
    "    inflow_noise = 0.0125,\n",
    "    dt = 0.0025,\n",
    "    ifirst = 1,\n",
    "    ilast = 45000,\n",
    "    irestart = 0,\n",
    "    icheckpoint = 45000,\n",
    "    ioutput = 200,\n",
    "    iprocessing = 50,\n",
    ")"
   ]
  },
  {
   "cell_type": "markdown",
   "metadata": {},
   "source": [
    "It is easy to write `example.i3d` to disc, just type:"
   ]
  },
  {
   "cell_type": "code",
   "execution_count": 6,
   "metadata": {},
   "outputs": [],
   "source": [
    "prm.write()"
   ]
  },
  {
   "cell_type": "markdown",
   "metadata": {},
   "source": [
    "And finally, it is possible to read the parameters from the disc:"
   ]
  },
  {
   "cell_type": "code",
   "execution_count": 7,
   "metadata": {},
   "outputs": [],
   "source": [
    "prm = x3d.Parameters(filename = 'example.i3d')\n",
    "prm.read()"
   ]
  },
  {
   "cell_type": "markdown",
   "metadata": {},
   "source": [
    "## Traitlets\n",
    "\n",
    "### Type-checking\n",
    "\n",
    "All parameters are type-checked, to make sure that they are what `Xcompact3d` expects. Use the cellcode below to see how a `TraitError` pops out when we try:\n",
    "\n",
    "```python\n",
    "prm.itype = 10.5\n",
    "prm.itype = -5\n",
    "prm.itype = 12\n",
    "prm.itype = 'sandbox'\n",
    "\n",
    "```\n"
   ]
  },
  {
   "cell_type": "code",
   "execution_count": null,
   "metadata": {},
   "outputs": [],
   "source": []
  },
  {
   "cell_type": "markdown",
   "metadata": {},
   "source": [
    "### Validation"
   ]
  },
  {
   "cell_type": "markdown",
   "metadata": {},
   "source": [
    "Some parameters, like mesh points (`nx`, `ny` and `nz`), trigger a validation operation when a new value is attributed to them.\n",
    "Due to restrictions at the FFT library, they must be equal to:\n",
    "\n",
    "$$\n",
    "n_i = \\left\\{ \\begin{array}{ll} 2^{1+a} \\times 3^b \\times 5^c &\\mbox{if periodic,} \\\\ 2^{1+a} \\times 3^b \\times 5^c + 1 &\\mbox{otherwise,}\n",
    "\\end{array} \\right.\n",
    "$$\n",
    "\n",
    "where $a$, $b$ and $c$ are non negative integers. In addition, the derivatives stencil imposes that:\n",
    "\n",
    "$$\n",
    "n_i \\ge \\left\\{ \\begin{array}{ll} 8 &\\mbox{if periodic,} \\\\ 9 &\\mbox{otherwise.}\n",
    "\\end{array} \\right.\n",
    "$$\n",
    "\n",
    "Again, give it a try at the cellcode below:\n",
    "\n",
    "```python\n",
    "prm.nx = 129\n",
    "prm.nx = 4\n",
    "prm.nx = 60\n",
    "prm.nx = 61\n",
    "```"
   ]
  },
  {
   "cell_type": "code",
   "execution_count": null,
   "metadata": {},
   "outputs": [],
   "source": []
  },
  {
   "cell_type": "markdown",
   "metadata": {},
   "source": [
    "### Observation"
   ]
  },
  {
   "cell_type": "markdown",
   "metadata": {},
   "source": [
    "Other parameters, like mesh resolution (`dx`, `dy` and `dz`), are automaticaly updated when any new atribution occurs to mesh points and/or domain size. Let's create a quick print functions to play with:"
   ]
  },
  {
   "cell_type": "code",
   "execution_count": 8,
   "metadata": {},
   "outputs": [],
   "source": [
    "def show_param():\n",
    "    for var in 'nclx1 nclxn nx xlx dx'.split():\n",
    "        print(f\"{var:>5} = {getattr(prm, var)}\")"
   ]
  },
  {
   "cell_type": "markdown",
   "metadata": {},
   "source": [
    "We are starting with:"
   ]
  },
  {
   "cell_type": "code",
   "execution_count": 9,
   "metadata": {},
   "outputs": [
    {
     "name": "stdout",
     "output_type": "stream",
     "text": [
      "nclx1 = 2\n",
      "nclxn = 2\n",
      "   nx = 257\n",
      "  xlx = 15.0\n",
      "   dx = 0.05859375\n"
     ]
    }
   ],
   "source": [
    "show_param()"
   ]
  },
  {
   "cell_type": "markdown",
   "metadata": {},
   "source": [
    "Let's change just the domain's length:"
   ]
  },
  {
   "cell_type": "code",
   "execution_count": 10,
   "metadata": {},
   "outputs": [
    {
     "name": "stdout",
     "output_type": "stream",
     "text": [
      "nclx1 = 2\n",
      "nclxn = 2\n",
      "   nx = 257\n",
      "  xlx = 50.0\n",
      "   dx = 0.1953125\n"
     ]
    }
   ],
   "source": [
    "prm.xlx = 50.0\n",
    "\n",
    "show_param()"
   ]
  },
  {
   "cell_type": "markdown",
   "metadata": {},
   "source": [
    "The resolutions was updated as well. Now the number of mesh points:"
   ]
  },
  {
   "cell_type": "code",
   "execution_count": 11,
   "metadata": {},
   "outputs": [
    {
     "name": "stdout",
     "output_type": "stream",
     "text": [
      "nclx1 = 2\n",
      "nclxn = 2\n",
      "   nx = 121\n",
      "  xlx = 50.0\n",
      "   dx = 0.4166666666666667\n"
     ]
    }
   ],
   "source": [
    "prm.nx = 121\n",
    "\n",
    "show_param()"
   ]
  },
  {
   "cell_type": "markdown",
   "metadata": {},
   "source": [
    "Again, the resolutions was updated. Now we set a new mesh resolution, this time, `xlx` will be updated in order to satisfy the new resolution:"
   ]
  },
  {
   "cell_type": "code",
   "execution_count": 12,
   "metadata": {},
   "outputs": [
    {
     "name": "stdout",
     "output_type": "stream",
     "text": [
      "nclx1 = 2\n",
      "nclxn = 2\n",
      "   nx = 121\n",
      "  xlx = 1.2\n",
      "   dx = 0.01\n"
     ]
    }
   ],
   "source": [
    "prm.dx = 1e-2\n",
    "\n",
    "show_param()"
   ]
  },
  {
   "cell_type": "markdown",
   "metadata": {},
   "source": [
    "Boundary conditions are observed as well. Xcompact3d allows three different BC for velocity:\n",
    "\n",
    "* Periodic `0`;\n",
    "* Free-slip `1`;\n",
    "* Dirichlet `2`.\n",
    "\n",
    "They can be assigned individualy for each of the eigth boundaries:\n",
    "\n",
    "* `nclx1` and `nclxn`, where $x=0$ and $x=xlx$;\n",
    "* `ncly1` and `nclyn`, where $y=0$ and $y=yly$;\n",
    "* `nclz1` and `nclzn`, where $z=0$ and $z=zlz$.\n",
    "\n",
    "It leads to 5 possibilities (`00`, `11`, `12`, `21` and `22`), because both boundary must be periodic, or not, so `0` cannot be combined.\n",
    "\n",
    "Let's check it out, we are starting with:"
   ]
  },
  {
   "cell_type": "code",
   "execution_count": 13,
   "metadata": {},
   "outputs": [
    {
     "name": "stdout",
     "output_type": "stream",
     "text": [
      "nclx1 = 2\n",
      "nclxn = 2\n",
      "   nx = 121\n",
      "  xlx = 1.2\n",
      "   dx = 0.01\n"
     ]
    }
   ],
   "source": [
    "show_param()"
   ]
  },
  {
   "cell_type": "markdown",
   "metadata": {},
   "source": [
    "We will change just one side to periodic (`nclx1 = 0`), for consistence, the other side should be periodic too. Let's see:"
   ]
  },
  {
   "cell_type": "code",
   "execution_count": 14,
   "metadata": {},
   "outputs": [
    {
     "name": "stdout",
     "output_type": "stream",
     "text": [
      "nclx1 = 0\n",
      "nclxn = 0\n",
      "   nx = 120\n",
      "  xlx = 1.2\n",
      "   dx = 0.01\n"
     ]
    }
   ],
   "source": [
    "prm.nclx1 = 0\n",
    "\n",
    "show_param()"
   ]
  },
  {
   "cell_type": "markdown",
   "metadata": {},
   "source": [
    "Now free-slip in one side (`nclx1 = 1`), and the other should be non-periodic:"
   ]
  },
  {
   "cell_type": "code",
   "execution_count": 15,
   "metadata": {},
   "outputs": [
    {
     "name": "stdout",
     "output_type": "stream",
     "text": [
      "nclx1 = 1\n",
      "nclxn = 1\n",
      "   nx = 121\n",
      "  xlx = 1.2\n",
      "   dx = 0.01\n"
     ]
    }
   ],
   "source": [
    "prm.nclx1 = 1\n",
    "\n",
    "show_param()"
   ]
  },
  {
   "cell_type": "markdown",
   "metadata": {},
   "source": [
    "Setting the other boundary to periodic:"
   ]
  },
  {
   "cell_type": "code",
   "execution_count": 16,
   "metadata": {},
   "outputs": [
    {
     "name": "stdout",
     "output_type": "stream",
     "text": [
      "nclx1 = 0\n",
      "nclxn = 0\n",
      "   nx = 120\n",
      "  xlx = 1.2\n",
      "   dx = 0.01\n"
     ]
    }
   ],
   "source": [
    "prm.nclxn = 0\n",
    "\n",
    "show_param()"
   ]
  },
  {
   "cell_type": "markdown",
   "metadata": {},
   "source": [
    "and now back to Dirichlet:"
   ]
  },
  {
   "cell_type": "code",
   "execution_count": 17,
   "metadata": {},
   "outputs": [
    {
     "name": "stdout",
     "output_type": "stream",
     "text": [
      "nclx1 = 2\n",
      "nclxn = 2\n",
      "   nx = 121\n",
      "  xlx = 1.2\n",
      "   dx = 0.01\n"
     ]
    }
   ],
   "source": [
    "prm.nclxn = 2\n",
    "\n",
    "show_param()"
   ]
  },
  {
   "cell_type": "markdown",
   "metadata": {},
   "source": [
    "This time, free-slip:"
   ]
  },
  {
   "cell_type": "code",
   "execution_count": 18,
   "metadata": {},
   "outputs": [
    {
     "name": "stdout",
     "output_type": "stream",
     "text": [
      "nclx1 = 2\n",
      "nclxn = 1\n",
      "   nx = 121\n",
      "  xlx = 1.2\n",
      "   dx = 0.01\n"
     ]
    }
   ],
   "source": [
    "prm.nclxn = 1\n",
    "\n",
    "show_param()"
   ]
  },
  {
   "cell_type": "markdown",
   "metadata": {},
   "source": [
    "There was no need to update `nclx1`, because `1` and `2` can be freely combined. Notice that `nx` was modified properly from 121 to 120 and then back, according to the possible values, `dx` and `xlx` stayed untouched."
   ]
  },
  {
   "cell_type": "markdown",
   "metadata": {},
   "source": [
    "### Metadata"
   ]
  },
  {
   "cell_type": "markdown",
   "metadata": {},
   "source": [
    "Traitlets types constructors have a `tag` method to store metadata in a dictionary. In the case of Xcompact3d-toolbox, two are especially useful:\n",
    "\n",
    "* `group` defines to what namespace a given parameter belongs when the class is written to `.i3d` file (`.write()` method) or read from `.i3d` file (`.read()` method), parameters without a group are ignored for both methods;\n",
    "* `widget` defines an [ipywidgets](https://ipywidgets.readthedocs.io/en/latest/) used to interact with each parameter."
   ]
  },
  {
   "cell_type": "markdown",
   "metadata": {},
   "source": [
    "### Linked widget"
   ]
  },
  {
   "cell_type": "markdown",
   "metadata": {},
   "source": [
    "<div class=\"alert alert-warning\">\n",
    "\n",
    "There is a bug reported affecting this subject [#2](https://github.com/fschuch/xcompact3d_toolbox/issues/2), the widgets are not working properly at the moment.\n",
    "\n",
    "</div>\n",
    "\n",
    "Parameters with `widget` tag are related to the value at its widget in a two-way link. Widgets are returned on demand when `class Parameters` is called, let's see:"
   ]
  },
  {
   "cell_type": "code",
   "execution_count": 19,
   "metadata": {},
   "outputs": [
    {
     "data": {
      "application/vnd.jupyter.widget-view+json": {
       "model_id": "9947b4650cee47bcba8987422c89ffbe",
       "version_major": 2,
       "version_minor": 0
      },
      "text/plain": [
       "VBox(children=(Dropdown(description='nx', options=(9, 11, 13, 17, 19, 21, 25, 31, 33, 37, 41, 49, 51, 55, 61, …"
      ]
     },
     "metadata": {},
     "output_type": "display_data"
    }
   ],
   "source": [
    "prm('nx', 'xlx', 'dx', 'nclx1', 'nclxn')"
   ]
  },
  {
   "cell_type": "code",
   "execution_count": null,
   "metadata": {},
   "outputs": [],
   "source": []
  },
  {
   "cell_type": "markdown",
   "metadata": {},
   "source": [
    "You can play around with the widgets above and see the effect of the observations made previously."
   ]
  },
  {
   "cell_type": "markdown",
   "metadata": {},
   "source": [
    "Since there is a two-way link, a `print` will show the actual value on the widgets:"
   ]
  },
  {
   "cell_type": "code",
   "execution_count": 20,
   "metadata": {},
   "outputs": [
    {
     "name": "stdout",
     "output_type": "stream",
     "text": [
      "nclx1 = 2\n",
      "nclxn = 1\n",
      "   nx = 121\n",
      "  xlx = 1.2\n",
      "   dx = 0.01\n"
     ]
    }
   ],
   "source": [
    "show_param()"
   ]
  },
  {
   "cell_type": "markdown",
   "metadata": {},
   "source": [
    "Give it a try, modify the values at the widgets and print them again.\n",
    "\n",
    "It also works on the other way, atribute a new value to a parameters will change its widget, see:"
   ]
  },
  {
   "cell_type": "code",
   "execution_count": 21,
   "metadata": {},
   "outputs": [],
   "source": [
    "prm.nclx1 = 0"
   ]
  },
  {
   "cell_type": "markdown",
   "metadata": {},
   "source": [
    "And of course, different widgets for the same parameter are always synchronized, change the widget bellow and see waht hapens with the widget above:"
   ]
  },
  {
   "cell_type": "code",
   "execution_count": 22,
   "metadata": {},
   "outputs": [
    {
     "data": {
      "application/vnd.jupyter.widget-view+json": {
       "model_id": "7643a8d70c4e4020b16ddfd3678cfe35",
       "version_major": 2,
       "version_minor": 0
      },
      "text/plain": [
       "VBox(children=(Dropdown(description='nx', options=(9, 11, 13, 17, 19, 21, 25, 31, 33, 37, 41, 49, 51, 55, 61, …"
      ]
     },
     "metadata": {},
     "output_type": "display_data"
    }
   ],
   "source": [
    "prm('nx')"
   ]
  },
  {
   "cell_type": "markdown",
   "metadata": {},
   "source": [
    "## Graphical User Interface"
   ]
  },
  {
   "cell_type": "markdown",
   "metadata": {},
   "source": [
    "To conclude this part of the tutorial, let's see what happend when `class Parameters` is called with no arguments, hover the mouse over some variable to see its description:"
   ]
  },
  {
   "cell_type": "code",
   "execution_count": 23,
   "metadata": {},
   "outputs": [
    {
     "data": {
      "application/vnd.jupyter.widget-view+json": {
       "model_id": "ece95219ff9a4e1593c15d03ea045123",
       "version_major": 2,
       "version_minor": 0
      },
      "text/plain": [
       "VBox(children=(HTML(value='<h1>Xcompact3d Parameters</h1>'), HBox(children=(Text(value='', description='filena…"
      ]
     },
     "metadata": {},
     "output_type": "display_data"
    }
   ],
   "source": [
    "prm()"
   ]
  }
 ],
 "metadata": {
  "kernelspec": {
   "display_name": "Python 3",
   "language": "python",
   "name": "python3"
  },
  "language_info": {
   "codemirror_mode": {
    "name": "ipython",
    "version": 3
   },
   "file_extension": ".py",
   "mimetype": "text/x-python",
   "name": "python",
   "nbconvert_exporter": "python",
   "pygments_lexer": "ipython3",
   "version": "3.7.7"
  },
  "widgets": {
   "application/vnd.jupyter.widget-state+json": {
    "state": {
     "00c0bf6e042d42eaac2d43a5763156f6": {
      "model_module": "@jupyter-widgets/controls",
      "model_module_version": "1.5.0",
      "model_name": "DescriptionStyleModel",
      "state": {
       "description_width": ""
      }
     },
     "00e5fc80f1434121bd94de4f3dad77d3": {
      "model_module": "@jupyter-widgets/base",
      "model_module_version": "1.2.0",
      "model_name": "LayoutModel",
      "state": {}
     },
     "00ed34a80aab49f0a11e13f405aed910": {
      "model_module": "@jupyter-widgets/base",
      "model_module_version": "1.2.0",
      "model_name": "LayoutModel",
      "state": {}
     },
     "011df955dce04309b9a8be5a079de064": {
      "model_module": "@jupyter-widgets/controls",
      "model_module_version": "1.5.0",
      "model_name": "DropdownModel",
      "state": {
       "_options_labels": [
        "Periodic",
        "Free-slip",
        "Inflow"
       ],
       "description": "nclx1",
       "index": 0,
       "layout": "IPY_MODEL_0a2fd71cef404e23888bf5210a7e7646",
       "style": "IPY_MODEL_41fe4aa2359042c5bc99c76ca58c92bb"
      }
     },
     "01383d154bd441818f0bb62bfb2a8f94": {
      "model_module": "@jupyter-widgets/controls",
      "model_module_version": "1.5.0",
      "model_name": "HBoxModel",
      "state": {
       "children": [
        "IPY_MODEL_f9338ecc25e44e999796e0231f113e8a"
       ],
       "layout": "IPY_MODEL_5b4c88c497c64c35bfaa0f27c2d18778"
      }
     },
     "019c155a09d14bf8b998725fd8117436": {
      "model_module": "@jupyter-widgets/base",
      "model_module_version": "1.2.0",
      "model_name": "LayoutModel",
      "state": {}
     },
     "0298e982dfc048b5996c38e19e2b3057": {
      "model_module": "@jupyter-widgets/controls",
      "model_module_version": "1.5.0",
      "model_name": "ButtonStyleModel",
      "state": {}
     },
     "078a573638b14544963998031120d48c": {
      "model_module": "@jupyter-widgets/controls",
      "model_module_version": "1.5.0",
      "model_name": "BoundedFloatTextModel",
      "state": {
       "description": "yly",
       "layout": "IPY_MODEL_aff8e43150904104abba5cf20961aa23",
       "max": 1000000,
       "step": null,
       "style": "IPY_MODEL_2c8735c935e3437c908aaaa9d2ef6a11"
      }
     },
     "0795134c09f04f3dbd9d107d9b4e4945": {
      "model_module": "@jupyter-widgets/base",
      "model_module_version": "1.2.0",
      "model_name": "LayoutModel",
      "state": {}
     },
     "084e78e60b1b4e319e834c13e0cf44e5": {
      "model_module": "@jupyter-widgets/base",
      "model_module_version": "1.2.0",
      "model_name": "LayoutModel",
      "state": {}
     },
     "089ab48a4c2a4f9db496670e93d85aeb": {
      "model_module": "@jupyter-widgets/controls",
      "model_module_version": "1.5.0",
      "model_name": "DescriptionStyleModel",
      "state": {
       "description_width": ""
      }
     },
     "0950b5fb08dd4691913cb15b8b75729c": {
      "model_module": "@jupyter-widgets/controls",
      "model_module_version": "1.5.0",
      "model_name": "DescriptionStyleModel",
      "state": {
       "description_width": ""
      }
     },
     "0a2fd71cef404e23888bf5210a7e7646": {
      "model_module": "@jupyter-widgets/base",
      "model_module_version": "1.2.0",
      "model_name": "LayoutModel",
      "state": {}
     },
     "0a472af2d69b456e98af345af15c46f2": {
      "model_module": "@jupyter-widgets/base",
      "model_module_version": "1.2.0",
      "model_name": "LayoutModel",
      "state": {}
     },
     "0eda583e11484dc8bd369413fbbded92": {
      "model_module": "@jupyter-widgets/controls",
      "model_module_version": "1.5.0",
      "model_name": "HTMLModel",
      "state": {
       "layout": "IPY_MODEL_48b316fc84c7418dbffc4dc4ff49145f",
       "style": "IPY_MODEL_9ebc2bad9a1a46a28b66d176f82da94c",
       "value": "<h3>InOutParam</h3>"
      }
     },
     "0f941df1886f4a1d961fd8fa1f7d785b": {
      "model_module": "@jupyter-widgets/base",
      "model_module_version": "1.2.0",
      "model_name": "LayoutModel",
      "state": {}
     },
     "101354acf9ed48288cb7442f001c72b4": {
      "model_module": "@jupyter-widgets/controls",
      "model_module_version": "1.5.0",
      "model_name": "DescriptionStyleModel",
      "state": {
       "description_width": ""
      }
     },
     "10a580122e9b47338d8fb4d401f72b2d": {
      "model_module": "@jupyter-widgets/controls",
      "model_module_version": "1.5.0",
      "model_name": "DescriptionStyleModel",
      "state": {
       "description_width": ""
      }
     },
     "110538972ed240218a4c17f15dd62e48": {
      "model_module": "@jupyter-widgets/base",
      "model_module_version": "1.2.0",
      "model_name": "LayoutModel",
      "state": {}
     },
     "12eb1bf811594f8b8d50cf0271daef8a": {
      "model_module": "@jupyter-widgets/controls",
      "model_module_version": "1.5.0",
      "model_name": "DescriptionStyleModel",
      "state": {
       "description_width": ""
      }
     },
     "1532826725564119b0b9febe380a1071": {
      "model_module": "@jupyter-widgets/controls",
      "model_module_version": "1.5.0",
      "model_name": "DescriptionStyleModel",
      "state": {
       "description_width": ""
      }
     },
     "159b7c0520014b3fa976df2be1248c8a": {
      "model_module": "@jupyter-widgets/base",
      "model_module_version": "1.2.0",
      "model_name": "LayoutModel",
      "state": {}
     },
     "15c9c9ba7fde48239fd1d835a191c9ed": {
      "model_module": "@jupyter-widgets/controls",
      "model_module_version": "1.5.0",
      "model_name": "FloatTextModel",
      "state": {
       "description": "init_noise",
       "layout": "IPY_MODEL_e0064b6a331e4a5db9a83122b1eeb5b1",
       "step": null,
       "style": "IPY_MODEL_9d18f6c78a3d4050bca189e5030f33f9"
      }
     },
     "1693621bd48b42ca9768bee638666c62": {
      "model_module": "@jupyter-widgets/base",
      "model_module_version": "1.2.0",
      "model_name": "LayoutModel",
      "state": {}
     },
     "17643c863bc344c8bffe092e1e3ade34": {
      "model_module": "@jupyter-widgets/base",
      "model_module_version": "1.2.0",
      "model_name": "LayoutModel",
      "state": {}
     },
     "184c34fd898643c781b9cf9fb471115a": {
      "model_module": "@jupyter-widgets/base",
      "model_module_version": "1.2.0",
      "model_name": "LayoutModel",
      "state": {}
     },
     "1868d3e5b1024cfdb9cfb8dbed33d53e": {
      "model_module": "@jupyter-widgets/controls",
      "model_module_version": "1.5.0",
      "model_name": "DropdownModel",
      "state": {
       "_options_labels": [
        "User",
        "Lock-exchange",
        "Taylor-Green Vortex",
        "Channel",
        "Periodic Hill",
        "Cylinder",
        "Debug Schemes",
        "Mixing Layer",
        "Turbulent Jet",
        "Turbulent Boundary Layer",
        "Sandbox"
       ],
       "description": "itype",
       "disabled": true,
       "index": 0,
       "layout": "IPY_MODEL_1afb573ee5d747ecbcd3cc7705511ba2",
       "style": "IPY_MODEL_b1525d0eceae4a5cb2336f3d8541cb40"
      }
     },
     "18c1ea05c9a84421bcbf731969cc874a": {
      "model_module": "@jupyter-widgets/base",
      "model_module_version": "1.2.0",
      "model_name": "LayoutModel",
      "state": {}
     },
     "194e7d4204414887bc390ce3e271a95b": {
      "model_module": "@jupyter-widgets/controls",
      "model_module_version": "1.5.0",
      "model_name": "DescriptionStyleModel",
      "state": {
       "description_width": ""
      }
     },
     "19aeddfa70c94f918b64f560b06332d8": {
      "model_module": "@jupyter-widgets/base",
      "model_module_version": "1.2.0",
      "model_name": "LayoutModel",
      "state": {}
     },
     "1afb573ee5d747ecbcd3cc7705511ba2": {
      "model_module": "@jupyter-widgets/base",
      "model_module_version": "1.2.0",
      "model_name": "LayoutModel",
      "state": {}
     },
     "1b3c823a7f1f4e9780f941f75c119326": {
      "model_module": "@jupyter-widgets/base",
      "model_module_version": "1.2.0",
      "model_name": "LayoutModel",
      "state": {}
     },
     "1dd7eb32ed76474fa4b42ac14688ed24": {
      "model_module": "@jupyter-widgets/base",
      "model_module_version": "1.2.0",
      "model_name": "LayoutModel",
      "state": {}
     },
     "1eea3f26b6484d038fcf45a5106bbf53": {
      "model_module": "@jupyter-widgets/controls",
      "model_module_version": "1.5.0",
      "model_name": "FloatTextModel",
      "state": {
       "description": "re",
       "layout": "IPY_MODEL_4aab330f724d48ce86b02ff361ac32aa",
       "step": null,
       "style": "IPY_MODEL_194e7d4204414887bc390ce3e271a95b"
      }
     },
     "1f925a6b7b10476cbb6d072c38600cb3": {
      "model_module": "@jupyter-widgets/base",
      "model_module_version": "1.2.0",
      "model_name": "LayoutModel",
      "state": {}
     },
     "204a16e5248f4f9a8c44455806af2790": {
      "model_module": "@jupyter-widgets/base",
      "model_module_version": "1.2.0",
      "model_name": "LayoutModel",
      "state": {}
     },
     "2050a53ac72b450dbc99bb6bc75e38fe": {
      "model_module": "@jupyter-widgets/controls",
      "model_module_version": "1.5.0",
      "model_name": "IntSliderModel",
      "state": {
       "continuous_update": false,
       "description": "numscalar",
       "layout": "IPY_MODEL_0a472af2d69b456e98af345af15c46f2",
       "max": 9,
       "style": "IPY_MODEL_f75bcaa926c34001975b6f56abad4389"
      }
     },
     "21206af1d48941cdbd35dafd75d713e7": {
      "model_module": "@jupyter-widgets/controls",
      "model_module_version": "1.5.0",
      "model_name": "DescriptionStyleModel",
      "state": {
       "description_width": ""
      }
     },
     "216267f5412e42d282bbdeeea1a00323": {
      "model_module": "@jupyter-widgets/base",
      "model_module_version": "1.2.0",
      "model_name": "LayoutModel",
      "state": {}
     },
     "2446d39166f949dc8dd3842e0bbcc595": {
      "model_module": "@jupyter-widgets/controls",
      "model_module_version": "1.5.0",
      "model_name": "DescriptionStyleModel",
      "state": {
       "description_width": ""
      }
     },
     "261a3f8013974a5f9c6d27fcd9efb4a4": {
      "model_module": "@jupyter-widgets/base",
      "model_module_version": "1.2.0",
      "model_name": "LayoutModel",
      "state": {}
     },
     "279dbd618f9245209db9f15f079a4026": {
      "model_module": "@jupyter-widgets/controls",
      "model_module_version": "1.5.0",
      "model_name": "DropdownModel",
      "state": {
       "_options_labels": [
        "9",
        "11",
        "13",
        "17",
        "19",
        "21",
        "25",
        "31",
        "33",
        "37",
        "41",
        "49",
        "51",
        "55",
        "61",
        "65",
        "73",
        "81",
        "91",
        "97",
        "101",
        "109",
        "121",
        "129",
        "145",
        "151",
        "161",
        "163",
        "181",
        "193",
        "201",
        "217",
        "241",
        "251",
        "257",
        "271",
        "289",
        "301",
        "321",
        "325",
        "361",
        "385",
        "401",
        "433",
        "451",
        "481",
        "487",
        "501",
        "513",
        "541",
        "577",
        "601",
        "641",
        "649",
        "721",
        "751",
        "769",
        "801",
        "811",
        "865",
        "901",
        "961",
        "973",
        "1001",
        "1025",
        "1081",
        "1153",
        "1201",
        "1251",
        "1281",
        "1297",
        "1351",
        "1441",
        "1459",
        "1501",
        "1537",
        "1601",
        "1621",
        "1729",
        "1801",
        "1921",
        "1945",
        "2001",
        "2049",
        "2161",
        "2251",
        "2305",
        "2401",
        "2431",
        "2501",
        "2561",
        "2593",
        "2701",
        "2881",
        "2917",
        "3001",
        "3073",
        "3201",
        "3241",
        "3457",
        "3601",
        "3751",
        "3841",
        "3889",
        "4001",
        "4051",
        "4097",
        "4321",
        "4375",
        "4501",
        "4609",
        "4801",
        "4861",
        "5001",
        "5121",
        "5185",
        "5401",
        "5761",
        "5833",
        "6001",
        "6145",
        "6251",
        "6401",
        "6481",
        "6751",
        "6913",
        "7201",
        "7291",
        "7501",
        "7681",
        "7777",
        "8001",
        "8101",
        "8193",
        "8641",
        "8749",
        "9001"
       ],
       "description": "ny",
       "index": 0,
       "layout": "IPY_MODEL_9665000b2c8f41c381e8b22b2d620918",
       "style": "IPY_MODEL_c3432e9ffcec4501a7aa7430092ecd12"
      }
     },
     "28a799906223422a8a3038ee6e34f348": {
      "model_module": "@jupyter-widgets/base",
      "model_module_version": "1.2.0",
      "model_name": "LayoutModel",
      "state": {}
     },
     "28cfd5b5a88442888347b5228fa050af": {
      "model_module": "@jupyter-widgets/controls",
      "model_module_version": "1.5.0",
      "model_name": "HBoxModel",
      "state": {
       "children": [
        "IPY_MODEL_d2bbecadb8d34792ba67f5b6fde7b1b5",
        "IPY_MODEL_e9443b6a854941c2a36e538a33a60546",
        "IPY_MODEL_bb7041d6092a497d904f768dd8616ae3"
       ],
       "layout": "IPY_MODEL_1693621bd48b42ca9768bee638666c62"
      }
     },
     "29106dedb8034efeab9e261aa94f8e55": {
      "model_module": "@jupyter-widgets/controls",
      "model_module_version": "1.5.0",
      "model_name": "BoundedFloatTextModel",
      "state": {
       "description": "xlx",
       "layout": "IPY_MODEL_28a799906223422a8a3038ee6e34f348",
       "max": 1000000,
       "step": null,
       "style": "IPY_MODEL_101354acf9ed48288cb7442f001c72b4"
      }
     },
     "29d9c4e7662c4ce692fa469b7f9aead3": {
      "model_module": "@jupyter-widgets/controls",
      "model_module_version": "1.5.0",
      "model_name": "DescriptionStyleModel",
      "state": {
       "description_width": ""
      }
     },
     "2c6af7d3599646fbbbb9a7fd42ab06c8": {
      "model_module": "@jupyter-widgets/controls",
      "model_module_version": "1.5.0",
      "model_name": "BoundedFloatTextModel",
      "state": {
       "description": "dt",
       "layout": "IPY_MODEL_9c15d6ccb7f34164b656d3b1e258fea4",
       "max": 1000000,
       "step": null,
       "style": "IPY_MODEL_b1b1df68d1644a6fa3908c2eb4bddbb6"
      }
     },
     "2c8735c935e3437c908aaaa9d2ef6a11": {
      "model_module": "@jupyter-widgets/controls",
      "model_module_version": "1.5.0",
      "model_name": "DescriptionStyleModel",
      "state": {
       "description_width": ""
      }
     },
     "2d8d8801a925432583533e761f281f93": {
      "model_module": "@jupyter-widgets/controls",
      "model_module_version": "1.5.0",
      "model_name": "HBoxModel",
      "state": {
       "children": [
        "IPY_MODEL_79db15259c1c4c32b22aafac77f58453",
        "IPY_MODEL_e5c5ab971af24e92965e6eddf26b925f",
        "IPY_MODEL_bc780d72768b456d8027165ee24aadf8"
       ],
       "layout": "IPY_MODEL_a5a00c324cb844dfbaa56dc39e0c6498"
      }
     },
     "2dcc714a8b6047e79ca4f06685ad6fc5": {
      "model_module": "@jupyter-widgets/controls",
      "model_module_version": "1.5.0",
      "model_name": "ButtonModel",
      "state": {
       "description": "Run",
       "disabled": true,
       "icon": "rocket",
       "layout": "IPY_MODEL_de40a4e8790f49caae88fdb0b97db35a",
       "style": "IPY_MODEL_0298e982dfc048b5996c38e19e2b3057"
      }
     },
     "2dff6599fff84486a7a52cf76edb7fff": {
      "model_module": "@jupyter-widgets/base",
      "model_module_version": "1.2.0",
      "model_name": "LayoutModel",
      "state": {}
     },
     "2e1842d2d60347bdb5f324dadebfd123": {
      "model_module": "@jupyter-widgets/base",
      "model_module_version": "1.2.0",
      "model_name": "LayoutModel",
      "state": {}
     },
     "356ee17c0ed04fe9a0bdc0cee5ab2971": {
      "model_module": "@jupyter-widgets/base",
      "model_module_version": "1.2.0",
      "model_name": "LayoutModel",
      "state": {}
     },
     "3666b9d5540c4198b5b529ea8fa2f29d": {
      "model_module": "@jupyter-widgets/controls",
      "model_module_version": "1.5.0",
      "model_name": "DropdownModel",
      "state": {
       "_options_labels": [
        "Periodic",
        "Free-slip",
        "No-slip"
       ],
       "description": "nclyn",
       "index": 0,
       "layout": "IPY_MODEL_216267f5412e42d282bbdeeea1a00323",
       "style": "IPY_MODEL_861fb6f51ed34ebeb0d5932223c4247b"
      }
     },
     "3666de6a5b4e4027b96d495cfa8f4edb": {
      "model_module": "@jupyter-widgets/controls",
      "model_module_version": "1.5.0",
      "model_name": "BoundedFloatTextModel",
      "state": {
       "description": "zlz",
       "layout": "IPY_MODEL_a53ec81ff81b4c10a6a7a712099417ca",
       "max": 1000000,
       "step": null,
       "style": "IPY_MODEL_d8e7cac618754ca48280311cae8c26f2"
      }
     },
     "36f7c20da92048089df4afaf9cf21f8c": {
      "model_module": "@jupyter-widgets/base",
      "model_module_version": "1.2.0",
      "model_name": "LayoutModel",
      "state": {}
     },
     "37af94a96a784cbc89aba41cfdd6f42a": {
      "model_module": "@jupyter-widgets/controls",
      "model_module_version": "1.5.0",
      "model_name": "HBoxModel",
      "state": {
       "children": [
        "IPY_MODEL_011df955dce04309b9a8be5a079de064",
        "IPY_MODEL_7300895d4c8342069ad26e6b6c68bb66",
        "IPY_MODEL_f66e925e6371485485296cfeededf68b"
       ],
       "layout": "IPY_MODEL_cf39d6851b4048a6ab3a33a6fd06425f"
      }
     },
     "37d8f5e44c784aeaa8bf8b837ef38309": {
      "model_module": "@jupyter-widgets/base",
      "model_module_version": "1.2.0",
      "model_name": "LayoutModel",
      "state": {}
     },
     "37e37caf9f584830ae980249a791f2ba": {
      "model_module": "@jupyter-widgets/controls",
      "model_module_version": "1.5.0",
      "model_name": "IntTextModel",
      "state": {
       "description": "nobjmax",
       "disabled": true,
       "layout": "IPY_MODEL_70a1a51397ca4542808582db229e7955",
       "step": 1,
       "style": "IPY_MODEL_75f55052487a453eb8ee59f9a5c06a30"
      }
     },
     "39850493ba1643ec9344c84cd396f7f5": {
      "model_module": "@jupyter-widgets/base",
      "model_module_version": "1.2.0",
      "model_name": "LayoutModel",
      "state": {}
     },
     "3a2532731a41428fab40d537100c407c": {
      "model_module": "@jupyter-widgets/controls",
      "model_module_version": "1.5.0",
      "model_name": "ButtonModel",
      "state": {
       "description": "Sync",
       "disabled": true,
       "icon": "sync",
       "layout": "IPY_MODEL_0795134c09f04f3dbd9d107d9b4e4945",
       "style": "IPY_MODEL_9b242c06f69a48ffb69f504a71b22f5b"
      }
     },
     "3aaced4db6b24ccd8d87e927bf41754d": {
      "model_module": "@jupyter-widgets/base",
      "model_module_version": "1.2.0",
      "model_name": "LayoutModel",
      "state": {}
     },
     "3acfd07ee5ad4f298464e031ece0d954": {
      "model_module": "@jupyter-widgets/controls",
      "model_module_version": "1.5.0",
      "model_name": "SliderStyleModel",
      "state": {
       "description_width": ""
      }
     },
     "3b8019c9fe024f60ad27b6eae5d9cebf": {
      "model_module": "@jupyter-widgets/controls",
      "model_module_version": "1.5.0",
      "model_name": "DescriptionStyleModel",
      "state": {
       "description_width": ""
      }
     },
     "3e981141dc844c7f8c077b01753f83df": {
      "model_module": "@jupyter-widgets/controls",
      "model_module_version": "1.5.0",
      "model_name": "DropdownModel",
      "state": {
       "_options_labels": [
        "No random noise",
        "Random noise",
        "Random noise with fixed seed"
       ],
       "description": "iin",
       "index": 0,
       "layout": "IPY_MODEL_bcbb5c3f45ee450e83fce5efdd6b3f92",
       "style": "IPY_MODEL_f1e7a366aea14319a2415ffc9b8b7578"
      }
     },
     "407be7480dc445419e47608d8e195ccc": {
      "model_module": "@jupyter-widgets/base",
      "model_module_version": "1.2.0",
      "model_name": "LayoutModel",
      "state": {}
     },
     "41fe4aa2359042c5bc99c76ca58c92bb": {
      "model_module": "@jupyter-widgets/controls",
      "model_module_version": "1.5.0",
      "model_name": "DescriptionStyleModel",
      "state": {
       "description_width": ""
      }
     },
     "426883e8113e46be9841bf995f7709fb": {
      "model_module": "@jupyter-widgets/controls",
      "model_module_version": "1.5.0",
      "model_name": "DropdownModel",
      "state": {
       "_options_labels": [
        "2nd central",
        "4th central",
        "4th compact",
        "6th compact"
       ],
       "description": "ifirstder",
       "disabled": true,
       "index": 0,
       "layout": "IPY_MODEL_8f1a50c526a14d07844127ad50530a53",
       "style": "IPY_MODEL_6dcd19dbd1e64fd0bc4499ec2b422eba"
      }
     },
     "43898a1837794541a9e5041a11ba8c2d": {
      "model_module": "@jupyter-widgets/controls",
      "model_module_version": "1.5.0",
      "model_name": "DescriptionStyleModel",
      "state": {
       "description_width": ""
      }
     },
     "4706bd9e803d45d5a9f803c58202538c": {
      "model_module": "@jupyter-widgets/base",
      "model_module_version": "1.2.0",
      "model_name": "LayoutModel",
      "state": {}
     },
     "48828c0ccdd3428da1f9fcbdb0286db7": {
      "model_module": "@jupyter-widgets/controls",
      "model_module_version": "1.5.0",
      "model_name": "DropdownModel",
      "state": {
       "_options_labels": [
        "Off",
        "Forced to zero",
        "Interpolated to zero"
       ],
       "description": "iibm",
       "index": 0,
       "layout": "IPY_MODEL_b8a3f8b4f5d54c328c3a1913755f3b63",
       "style": "IPY_MODEL_29d9c4e7662c4ce692fa469b7f9aead3"
      }
     },
     "48b316fc84c7418dbffc4dc4ff49145f": {
      "model_module": "@jupyter-widgets/base",
      "model_module_version": "1.2.0",
      "model_name": "LayoutModel",
      "state": {}
     },
     "49551522657044ca9b079fcbda9d2ef6": {
      "model_module": "@jupyter-widgets/base",
      "model_module_version": "1.2.0",
      "model_name": "LayoutModel",
      "state": {}
     },
     "49750355e46842ad8b7cabfad4a9a4a7": {
      "model_module": "@jupyter-widgets/controls",
      "model_module_version": "1.5.0",
      "model_name": "HBoxModel",
      "state": {
       "children": [
        "IPY_MODEL_f762f336f8f149e78ec3dbc7e2c06a8b",
        "IPY_MODEL_f9f14aeae29e4edf9f621826c376a6ea",
        "IPY_MODEL_ac7c527f2fc14db88b6ae7e9f40613ff"
       ],
       "layout": "IPY_MODEL_e630428692e44d8381cae47c4a89dd26"
      }
     },
     "4aab330f724d48ce86b02ff361ac32aa": {
      "model_module": "@jupyter-widgets/base",
      "model_module_version": "1.2.0",
      "model_name": "LayoutModel",
      "state": {}
     },
     "4ad49a4c850e48e38d5d5044ca3b7bc4": {
      "model_module": "@jupyter-widgets/controls",
      "model_module_version": "1.5.0",
      "model_name": "DropdownModel",
      "state": {
       "_options_labels": [
        "0"
       ],
       "description": "p_col",
       "index": 0,
       "layout": "IPY_MODEL_f67f501c95904da794b494597971939c",
       "style": "IPY_MODEL_1532826725564119b0b9febe380a1071"
      }
     },
     "4b74cc6ee98b4ad0bc99d4c578bac176": {
      "model_module": "@jupyter-widgets/controls",
      "model_module_version": "1.5.0",
      "model_name": "BoundedIntTextModel",
      "state": {
       "description": "iprocessing",
       "layout": "IPY_MODEL_a351affbb1564fafb1cc69f9b52a4822",
       "max": 1000000000,
       "min": 1,
       "style": "IPY_MODEL_ff9e49f5780347ac992891acd11453be",
       "value": 1
      }
     },
     "4cf6219755fb4673a170a889f1bb7286": {
      "model_module": "@jupyter-widgets/base",
      "model_module_version": "1.2.0",
      "model_name": "LayoutModel",
      "state": {}
     },
     "4d9897a9141649e1804d7d09d16a895c": {
      "model_module": "@jupyter-widgets/base",
      "model_module_version": "1.2.0",
      "model_name": "LayoutModel",
      "state": {}
     },
     "4f1da047823a4e348f354a4513d8517e": {
      "model_module": "@jupyter-widgets/base",
      "model_module_version": "1.2.0",
      "model_name": "LayoutModel",
      "state": {}
     },
     "50356b960139478e9cca85279b8c4a4a": {
      "model_module": "@jupyter-widgets/controls",
      "model_module_version": "1.5.0",
      "model_name": "TextModel",
      "state": {
       "description": "filename",
       "layout": "IPY_MODEL_1b3c823a7f1f4e9780f941f75c119326",
       "style": "IPY_MODEL_00c0bf6e042d42eaac2d43a5763156f6"
      }
     },
     "52febeb0121e49c8ac0c838c8eae78ab": {
      "model_module": "@jupyter-widgets/controls",
      "model_module_version": "1.5.0",
      "model_name": "BoundedFloatTextModel",
      "state": {
       "description": "cnu",
       "disabled": true,
       "layout": "IPY_MODEL_cf115bcd588142caae6636c1f25e970b",
       "max": 1000000,
       "step": null,
       "style": "IPY_MODEL_5707d3632990483c9bd73b2b3ac5c2d6"
      }
     },
     "5707d3632990483c9bd73b2b3ac5c2d6": {
      "model_module": "@jupyter-widgets/controls",
      "model_module_version": "1.5.0",
      "model_name": "DescriptionStyleModel",
      "state": {
       "description_width": ""
      }
     },
     "57508a34f8fa44f5a53b3321996b6dc7": {
      "model_module": "@jupyter-widgets/controls",
      "model_module_version": "1.5.0",
      "model_name": "DescriptionStyleModel",
      "state": {
       "description_width": ""
      }
     },
     "5761aa8364d64e0786cb961354385801": {
      "model_module": "@jupyter-widgets/controls",
      "model_module_version": "1.5.0",
      "model_name": "DescriptionStyleModel",
      "state": {
       "description_width": ""
      }
     },
     "58108b63576241a6909b7c575917ce3f": {
      "model_module": "@jupyter-widgets/base",
      "model_module_version": "1.2.0",
      "model_name": "LayoutModel",
      "state": {}
     },
     "595f02c2e6f448de9f5cc39f08f53dff": {
      "model_module": "@jupyter-widgets/controls",
      "model_module_version": "1.5.0",
      "model_name": "DescriptionStyleModel",
      "state": {
       "description_width": ""
      }
     },
     "5b4c88c497c64c35bfaa0f27c2d18778": {
      "model_module": "@jupyter-widgets/base",
      "model_module_version": "1.2.0",
      "model_name": "LayoutModel",
      "state": {}
     },
     "5bf6cdeb8ea944fc8d4bcf260659ff7d": {
      "model_module": "@jupyter-widgets/base",
      "model_module_version": "1.2.0",
      "model_name": "LayoutModel",
      "state": {}
     },
     "5c5b1cca53b74ddbbaedbec1e3d9b743": {
      "model_module": "@jupyter-widgets/base",
      "model_module_version": "1.2.0",
      "model_name": "LayoutModel",
      "state": {}
     },
     "5e023209fa0f4093840f4e9f0d405a55": {
      "model_module": "@jupyter-widgets/base",
      "model_module_version": "1.2.0",
      "model_name": "LayoutModel",
      "state": {}
     },
     "5eb0c0e1dbfc428a829e9dbe56b0b56d": {
      "model_module": "@jupyter-widgets/base",
      "model_module_version": "1.2.0",
      "model_name": "LayoutModel",
      "state": {}
     },
     "5ebf6fdd5a384392b4264a5e7ab248e0": {
      "model_module": "@jupyter-widgets/controls",
      "model_module_version": "1.5.0",
      "model_name": "DescriptionStyleModel",
      "state": {
       "description_width": ""
      }
     },
     "5ee7c8414d2c44cca8e49cb67c5f9a8e": {
      "model_module": "@jupyter-widgets/base",
      "model_module_version": "1.2.0",
      "model_name": "LayoutModel",
      "state": {}
     },
     "5f896afe5b154cf2b2362ddc30e88d96": {
      "model_module": "@jupyter-widgets/controls",
      "model_module_version": "1.5.0",
      "model_name": "DropdownModel",
      "state": {
       "_options_labels": [
        "Periodic",
        "Free-slip",
        "No-slip"
       ],
       "description": "nclzn",
       "index": 0,
       "layout": "IPY_MODEL_17643c863bc344c8bffe092e1e3ade34",
       "style": "IPY_MODEL_fbd16825803b4ffda666be973a1f6a88"
      }
     },
     "6167269b02214d9598e8c926d3ae69af": {
      "model_module": "@jupyter-widgets/base",
      "model_module_version": "1.2.0",
      "model_name": "LayoutModel",
      "state": {}
     },
     "635a898be79f475eb3d4e382502f7d87": {
      "model_module": "@jupyter-widgets/controls",
      "model_module_version": "1.5.0",
      "model_name": "HTMLModel",
      "state": {
       "layout": "IPY_MODEL_f4608bef3f5e48aaba530480a9e612aa",
       "style": "IPY_MODEL_d9c354d3aeec486c89a78647e9e37e72",
       "value": "<h2>BasicParam</h2>"
      }
     },
     "6362480413ad4a92a38100d282bd9cef": {
      "model_module": "@jupyter-widgets/base",
      "model_module_version": "1.2.0",
      "model_name": "LayoutModel",
      "state": {}
     },
     "63b37b770fb744c08a0f55577ca449ba": {
      "model_module": "@jupyter-widgets/base",
      "model_module_version": "1.2.0",
      "model_name": "LayoutModel",
      "state": {}
     },
     "63e923a49be640429683c21c046a0745": {
      "model_module": "@jupyter-widgets/controls",
      "model_module_version": "1.5.0",
      "model_name": "DescriptionStyleModel",
      "state": {
       "description_width": ""
      }
     },
     "67f242c4c53744fb8873928abcf66db7": {
      "model_module": "@jupyter-widgets/controls",
      "model_module_version": "1.5.0",
      "model_name": "ButtonStyleModel",
      "state": {}
     },
     "694e62e529f8441b86fe9346972245e3": {
      "model_module": "@jupyter-widgets/controls",
      "model_module_version": "1.5.0",
      "model_name": "DescriptionStyleModel",
      "state": {
       "description_width": ""
      }
     },
     "6cdd8e9bea2547a191344b40fe85e594": {
      "model_module": "@jupyter-widgets/controls",
      "model_module_version": "1.5.0",
      "model_name": "HBoxModel",
      "state": {
       "children": [
        "IPY_MODEL_da287fb62d254867ba77cb1fbbbf5028",
        "IPY_MODEL_933969fa73ab4e5499ee0f8ee3b6b153",
        "IPY_MODEL_c8ead62e1f9b431b90418aa7ec8a82ad"
       ],
       "layout": "IPY_MODEL_19aeddfa70c94f918b64f560b06332d8"
      }
     },
     "6d9543202fad4bc6b8920ee5e9204a47": {
      "model_module": "@jupyter-widgets/controls",
      "model_module_version": "1.5.0",
      "model_name": "DescriptionStyleModel",
      "state": {
       "description_width": ""
      }
     },
     "6dcd19dbd1e64fd0bc4499ec2b422eba": {
      "model_module": "@jupyter-widgets/controls",
      "model_module_version": "1.5.0",
      "model_name": "DescriptionStyleModel",
      "state": {
       "description_width": ""
      }
     },
     "706475c97b4b4201b25ecfb057c46782": {
      "model_module": "@jupyter-widgets/controls",
      "model_module_version": "1.5.0",
      "model_name": "DescriptionStyleModel",
      "state": {
       "description_width": ""
      }
     },
     "70a1a51397ca4542808582db229e7955": {
      "model_module": "@jupyter-widgets/base",
      "model_module_version": "1.2.0",
      "model_name": "LayoutModel",
      "state": {}
     },
     "71904ee0167342d8a07f985d0a6fda44": {
      "model_module": "@jupyter-widgets/controls",
      "model_module_version": "1.5.0",
      "model_name": "BoundedFloatTextModel",
      "state": {
       "description": "nu0nu",
       "disabled": true,
       "layout": "IPY_MODEL_407be7480dc445419e47608d8e195ccc",
       "max": 1000000,
       "step": null,
       "style": "IPY_MODEL_8c8a3b24f2264295b60d80ae5f02c563"
      }
     },
     "720614dbdfb04b228ce53031fc37e61b": {
      "model_module": "@jupyter-widgets/controls",
      "model_module_version": "1.5.0",
      "model_name": "BoundedIntTextModel",
      "state": {
       "description": "ncores",
       "layout": "IPY_MODEL_a6f0016f5a0648b4a67eeea611443946",
       "max": 1000000000,
       "style": "IPY_MODEL_c651ebe7234c4ce3a1f282dcc2496f39"
      }
     },
     "7300895d4c8342069ad26e6b6c68bb66": {
      "model_module": "@jupyter-widgets/controls",
      "model_module_version": "1.5.0",
      "model_name": "DropdownModel",
      "state": {
       "_options_labels": [
        "Periodic",
        "Free-slip",
        "No-slip"
       ],
       "description": "ncly1",
       "index": 0,
       "layout": "IPY_MODEL_58108b63576241a6909b7c575917ce3f",
       "style": "IPY_MODEL_937e16bf881041fdac758b87d86b1fa7"
      }
     },
     "75eba36568564b118eb3e701179f3f20": {
      "model_module": "@jupyter-widgets/base",
      "model_module_version": "1.2.0",
      "model_name": "LayoutModel",
      "state": {}
     },
     "75f55052487a453eb8ee59f9a5c06a30": {
      "model_module": "@jupyter-widgets/controls",
      "model_module_version": "1.5.0",
      "model_name": "DescriptionStyleModel",
      "state": {
       "description_width": ""
      }
     },
     "7643a8d70c4e4020b16ddfd3678cfe35": {
      "model_module": "@jupyter-widgets/controls",
      "model_module_version": "1.5.0",
      "model_name": "VBoxModel",
      "state": {
       "children": [
        "IPY_MODEL_c9204cff30f24496bf6e6a4d5c5cdaf1"
       ],
       "layout": "IPY_MODEL_d168946284ab4a3d92b67bd87bdedbb4"
      }
     },
     "7652ab200a9045649eba01df5814d2a7": {
      "model_module": "@jupyter-widgets/controls",
      "model_module_version": "1.5.0",
      "model_name": "DropdownModel",
      "state": {
       "_options_labels": [
        "Periodic",
        "Free-slip",
        "Outflow"
       ],
       "description": "nclxn",
       "index": 0,
       "layout": "IPY_MODEL_a30df2efcf9e4949895be1aa0e913b89",
       "style": "IPY_MODEL_694e62e529f8441b86fe9346972245e3"
      }
     },
     "768c05a952f24acb8a06058490c31f64": {
      "model_module": "@jupyter-widgets/controls",
      "model_module_version": "1.5.0",
      "model_name": "DropdownModel",
      "state": {
       "_options_labels": [
        "9",
        "11",
        "13",
        "17",
        "19",
        "21",
        "25",
        "31",
        "33",
        "37",
        "41",
        "49",
        "51",
        "55",
        "61",
        "65",
        "73",
        "81",
        "91",
        "97",
        "101",
        "109",
        "121",
        "129",
        "145",
        "151",
        "161",
        "163",
        "181",
        "193",
        "201",
        "217",
        "241",
        "251",
        "257",
        "271",
        "289",
        "301",
        "321",
        "325",
        "361",
        "385",
        "401",
        "433",
        "451",
        "481",
        "487",
        "501",
        "513",
        "541",
        "577",
        "601",
        "641",
        "649",
        "721",
        "751",
        "769",
        "801",
        "811",
        "865",
        "901",
        "961",
        "973",
        "1001",
        "1025",
        "1081",
        "1153",
        "1201",
        "1251",
        "1281",
        "1297",
        "1351",
        "1441",
        "1459",
        "1501",
        "1537",
        "1601",
        "1621",
        "1729",
        "1801",
        "1921",
        "1945",
        "2001",
        "2049",
        "2161",
        "2251",
        "2305",
        "2401",
        "2431",
        "2501",
        "2561",
        "2593",
        "2701",
        "2881",
        "2917",
        "3001",
        "3073",
        "3201",
        "3241",
        "3457",
        "3601",
        "3751",
        "3841",
        "3889",
        "4001",
        "4051",
        "4097",
        "4321",
        "4375",
        "4501",
        "4609",
        "4801",
        "4861",
        "5001",
        "5121",
        "5185",
        "5401",
        "5761",
        "5833",
        "6001",
        "6145",
        "6251",
        "6401",
        "6481",
        "6751",
        "6913",
        "7201",
        "7291",
        "7501",
        "7681",
        "7777",
        "8001",
        "8101",
        "8193",
        "8641",
        "8749",
        "9001"
       ],
       "description": "nz",
       "index": 0,
       "layout": "IPY_MODEL_8e6648bae4fd476fa0fc1117f42362b6",
       "style": "IPY_MODEL_21206af1d48941cdbd35dafd75d713e7"
      }
     },
     "79db15259c1c4c32b22aafac77f58453": {
      "model_module": "@jupyter-widgets/controls",
      "model_module_version": "1.5.0",
      "model_name": "BoundedFloatTextModel",
      "state": {
       "description": "dx",
       "layout": "IPY_MODEL_084e78e60b1b4e319e834c13e0cf44e5",
       "max": 1000000,
       "step": null,
       "style": "IPY_MODEL_a5a3edfb01714b03a8ab1b31e1c371a4"
      }
     },
     "7fd3276d612940f893a6abe03c479da4": {
      "model_module": "@jupyter-widgets/controls",
      "model_module_version": "1.5.0",
      "model_name": "DropdownModel",
      "state": {
       "_options_labels": [
        "Off",
        "On"
       ],
       "description": "ivisu",
       "index": 0,
       "layout": "IPY_MODEL_37d8f5e44c784aeaa8bf8b837ef38309",
       "style": "IPY_MODEL_cb94b488ae0e40b580da1a8f0cce206f"
      }
     },
     "82233773139545ccab85dacf41ef80ac": {
      "model_module": "@jupyter-widgets/controls",
      "model_module_version": "1.5.0",
      "model_name": "DescriptionStyleModel",
      "state": {
       "description_width": ""
      }
     },
     "85012ff3f7ca426aad595160d3092b03": {
      "model_module": "@jupyter-widgets/controls",
      "model_module_version": "1.5.0",
      "model_name": "DescriptionStyleModel",
      "state": {
       "description_width": ""
      }
     },
     "85f82ce89d744bd195f157c2975972cf": {
      "model_module": "@jupyter-widgets/controls",
      "model_module_version": "1.5.0",
      "model_name": "HBoxModel",
      "state": {
       "children": [
        "IPY_MODEL_7652ab200a9045649eba01df5814d2a7",
        "IPY_MODEL_3666b9d5540c4198b5b529ea8fa2f29d",
        "IPY_MODEL_5f896afe5b154cf2b2362ddc30e88d96"
       ],
       "layout": "IPY_MODEL_1f925a6b7b10476cbb6d072c38600cb3"
      }
     },
     "861fb6f51ed34ebeb0d5932223c4247b": {
      "model_module": "@jupyter-widgets/controls",
      "model_module_version": "1.5.0",
      "model_name": "DescriptionStyleModel",
      "state": {
       "description_width": ""
      }
     },
     "865c44dcc84a4e33aa1ddf8c4e95cae7": {
      "model_module": "@jupyter-widgets/controls",
      "model_module_version": "1.5.0",
      "model_name": "HTMLModel",
      "state": {
       "layout": "IPY_MODEL_a7a3b73fc5ac485eaf45e9ea3dff5978",
       "style": "IPY_MODEL_c3cebc4b2f7a489bafacdf90e67e1ba5",
       "value": "<h1>Xcompact3d Parameters</h1>"
      }
     },
     "87470ef434e34f18ab4de915d98b33ac": {
      "model_module": "@jupyter-widgets/controls",
      "model_module_version": "1.5.0",
      "model_name": "HBoxModel",
      "state": {
       "children": [
        "IPY_MODEL_720614dbdfb04b228ce53031fc37e61b",
        "IPY_MODEL_88ac0e123acd402eaba59f7c9368c19f",
        "IPY_MODEL_4ad49a4c850e48e38d5d5044ca3b7bc4"
       ],
       "layout": "IPY_MODEL_c8f8567582ff41b497e671b1f38fb8c8"
      }
     },
     "87ee72bcd2b1447594c1059e8b048b7a": {
      "model_module": "@jupyter-widgets/controls",
      "model_module_version": "1.5.0",
      "model_name": "DescriptionStyleModel",
      "state": {
       "description_width": ""
      }
     },
     "880d63634bcc483b967c7ca4189ed783": {
      "model_module": "@jupyter-widgets/controls",
      "model_module_version": "1.5.0",
      "model_name": "ButtonStyleModel",
      "state": {}
     },
     "88ac0e123acd402eaba59f7c9368c19f": {
      "model_module": "@jupyter-widgets/controls",
      "model_module_version": "1.5.0",
      "model_name": "DropdownModel",
      "state": {
       "_options_labels": [
        "0"
       ],
       "description": "p_row",
       "index": 0,
       "layout": "IPY_MODEL_019c155a09d14bf8b998725fd8117436",
       "style": "IPY_MODEL_85012ff3f7ca426aad595160d3092b03"
      }
     },
     "89aa21fa3d48420b875b0564d9e18e2d": {
      "model_module": "@jupyter-widgets/controls",
      "model_module_version": "1.5.0",
      "model_name": "HBoxModel",
      "state": {
       "children": [
        "IPY_MODEL_d253d43e418a4c2f99e4f820ebc0dab2",
        "IPY_MODEL_e556f7045fda4b06bc5facd6127ebf81",
        "IPY_MODEL_cd78d9c560844a32959c335957b02182"
       ],
       "layout": "IPY_MODEL_6362480413ad4a92a38100d282bd9cef"
      }
     },
     "8b36cd3bbc2b44ab976f345bd7c4130f": {
      "model_module": "@jupyter-widgets/controls",
      "model_module_version": "1.5.0",
      "model_name": "HBoxModel",
      "state": {
       "children": [
        "IPY_MODEL_3e981141dc844c7f8c077b01753f83df",
        "IPY_MODEL_15c9c9ba7fde48239fd1d835a191c9ed",
        "IPY_MODEL_f21ff86f50014a909c1eece1acd1bbb8"
       ],
       "layout": "IPY_MODEL_356ee17c0ed04fe9a0bdc0cee5ab2971"
      }
     },
     "8b467ed1e2dc47aa868c8eea45468537": {
      "model_module": "@jupyter-widgets/controls",
      "model_module_version": "1.5.0",
      "model_name": "IntTextModel",
      "state": {
       "description": "ilast",
       "layout": "IPY_MODEL_4cf6219755fb4673a170a889f1bb7286",
       "step": 1,
       "style": "IPY_MODEL_82233773139545ccab85dacf41ef80ac"
      }
     },
     "8bd59a73b3174e429b191ed96a06e689": {
      "model_module": "@jupyter-widgets/controls",
      "model_module_version": "1.5.0",
      "model_name": "DescriptionStyleModel",
      "state": {
       "description_width": ""
      }
     },
     "8c8a3b24f2264295b60d80ae5f02c563": {
      "model_module": "@jupyter-widgets/controls",
      "model_module_version": "1.5.0",
      "model_name": "DescriptionStyleModel",
      "state": {
       "description_width": ""
      }
     },
     "8d81a2e9ce0f42c0862e97a0ad2ec137": {
      "model_module": "@jupyter-widgets/base",
      "model_module_version": "1.2.0",
      "model_name": "LayoutModel",
      "state": {}
     },
     "8e6648bae4fd476fa0fc1117f42362b6": {
      "model_module": "@jupyter-widgets/base",
      "model_module_version": "1.2.0",
      "model_name": "LayoutModel",
      "state": {}
     },
     "8e88748a4a58460380223219eb64f2c3": {
      "model_module": "@jupyter-widgets/controls",
      "model_module_version": "1.5.0",
      "model_name": "DescriptionStyleModel",
      "state": {
       "description_width": ""
      }
     },
     "8ec100f6c0f24e8987386ed60e0382af": {
      "model_module": "@jupyter-widgets/controls",
      "model_module_version": "1.5.0",
      "model_name": "DescriptionStyleModel",
      "state": {
       "description_width": ""
      }
     },
     "8f1a50c526a14d07844127ad50530a53": {
      "model_module": "@jupyter-widgets/base",
      "model_module_version": "1.2.0",
      "model_name": "LayoutModel",
      "state": {}
     },
     "91b529598e794e7f840e3a478daf1f21": {
      "model_module": "@jupyter-widgets/base",
      "model_module_version": "1.2.0",
      "model_name": "LayoutModel",
      "state": {}
     },
     "91fa064a434d4a969deb76b89b213d68": {
      "model_module": "@jupyter-widgets/controls",
      "model_module_version": "1.5.0",
      "model_name": "BoundedIntTextModel",
      "state": {
       "description": "ioutput",
       "layout": "IPY_MODEL_4f1da047823a4e348f354a4513d8517e",
       "max": 1000000000,
       "min": 1,
       "style": "IPY_MODEL_f3cf341875424587b3f56f5029eed1e0",
       "value": 1
      }
     },
     "92b2f2eef8214b778f3c9a0b944fc3fb": {
      "model_module": "@jupyter-widgets/controls",
      "model_module_version": "1.5.0",
      "model_name": "HTMLModel",
      "state": {
       "layout": "IPY_MODEL_261a3f8013974a5f9c6d27fcd9efb4a4",
       "style": "IPY_MODEL_10a580122e9b47338d8fb4d401f72b2d",
       "value": "<h2>NumOptions</h2>"
      }
     },
     "933969fa73ab4e5499ee0f8ee3b6b153": {
      "model_module": "@jupyter-widgets/controls",
      "model_module_version": "1.5.0",
      "model_name": "BoundedIntTextModel",
      "state": {
       "description": "nvisu",
       "disabled": true,
       "layout": "IPY_MODEL_e4b7137c31884bdea657177bf9759f04",
       "max": 1000000000,
       "min": 1,
       "style": "IPY_MODEL_6d9543202fad4bc6b8920ee5e9204a47",
       "value": 1
      }
     },
     "937e16bf881041fdac758b87d86b1fa7": {
      "model_module": "@jupyter-widgets/controls",
      "model_module_version": "1.5.0",
      "model_name": "DescriptionStyleModel",
      "state": {
       "description_width": ""
      }
     },
     "94d4ce80b7514666a4dcc0d2296e4c3c": {
      "model_module": "@jupyter-widgets/base",
      "model_module_version": "1.2.0",
      "model_name": "LayoutModel",
      "state": {}
     },
     "9665000b2c8f41c381e8b22b2d620918": {
      "model_module": "@jupyter-widgets/base",
      "model_module_version": "1.2.0",
      "model_name": "LayoutModel",
      "state": {}
     },
     "968cb07a248a402fa2aa7c257d7369a7": {
      "model_module": "@jupyter-widgets/controls",
      "model_module_version": "1.5.0",
      "model_name": "IntSliderModel",
      "state": {
       "description": "nraf",
       "layout": "IPY_MODEL_9d4ac2220baa4a7dbd2510edfc5780e8",
       "max": 25,
       "min": 1,
       "style": "IPY_MODEL_3acfd07ee5ad4f298464e031ece0d954",
       "value": 1
      }
     },
     "97a06a4887874086bd595d15e6fba08e": {
      "model_module": "@jupyter-widgets/controls",
      "model_module_version": "1.5.0",
      "model_name": "DropdownModel",
      "state": {
       "_options_labels": [
        "Off",
        "On"
       ],
       "description": "ipost",
       "index": 0,
       "layout": "IPY_MODEL_e22c26ad41e7435baa587b583640f106",
       "style": "IPY_MODEL_595f02c2e6f448de9f5cc39f08f53dff"
      }
     },
     "99093c2168ac4513874ac024b7a71aaf": {
      "model_module": "@jupyter-widgets/base",
      "model_module_version": "1.2.0",
      "model_name": "LayoutModel",
      "state": {}
     },
     "9947b4650cee47bcba8987422c89ffbe": {
      "model_module": "@jupyter-widgets/controls",
      "model_module_version": "1.5.0",
      "model_name": "VBoxModel",
      "state": {
       "children": [
        "IPY_MODEL_c9204cff30f24496bf6e6a4d5c5cdaf1",
        "IPY_MODEL_29106dedb8034efeab9e261aa94f8e55",
        "IPY_MODEL_79db15259c1c4c32b22aafac77f58453",
        "IPY_MODEL_011df955dce04309b9a8be5a079de064",
        "IPY_MODEL_7652ab200a9045649eba01df5814d2a7"
       ],
       "layout": "IPY_MODEL_63b37b770fb744c08a0f55577ca449ba"
      }
     },
     "995ad50209a741fbbd80c8091da4b51d": {
      "model_module": "@jupyter-widgets/controls",
      "model_module_version": "1.5.0",
      "model_name": "DropdownModel",
      "state": {
       "_options_labels": [
        "No refinement",
        "Refinement at the center",
        "Both sides",
        "Just near the bottom"
       ],
       "description": "istret",
       "disabled": true,
       "index": 0,
       "layout": "IPY_MODEL_5bf6cdeb8ea944fc8d4bcf260659ff7d",
       "style": "IPY_MODEL_cfbf7f4b3c3948c0bc240ef9dd9ca331"
      }
     },
     "9a68310e27c0458f8f61df64cb1bc979": {
      "model_module": "@jupyter-widgets/base",
      "model_module_version": "1.2.0",
      "model_name": "LayoutModel",
      "state": {}
     },
     "9b242c06f69a48ffb69f504a71b22f5b": {
      "model_module": "@jupyter-widgets/controls",
      "model_module_version": "1.5.0",
      "model_name": "ButtonStyleModel",
      "state": {}
     },
     "9c15d6ccb7f34164b656d3b1e258fea4": {
      "model_module": "@jupyter-widgets/base",
      "model_module_version": "1.2.0",
      "model_name": "LayoutModel",
      "state": {}
     },
     "9d18f6c78a3d4050bca189e5030f33f9": {
      "model_module": "@jupyter-widgets/controls",
      "model_module_version": "1.5.0",
      "model_name": "DescriptionStyleModel",
      "state": {
       "description_width": ""
      }
     },
     "9d4ac2220baa4a7dbd2510edfc5780e8": {
      "model_module": "@jupyter-widgets/base",
      "model_module_version": "1.2.0",
      "model_name": "LayoutModel",
      "state": {}
     },
     "9da5fad1653d4cd890a97da8e63386be": {
      "model_module": "@jupyter-widgets/controls",
      "model_module_version": "1.5.0",
      "model_name": "DescriptionStyleModel",
      "state": {
       "description_width": ""
      }
     },
     "9ebc2bad9a1a46a28b66d176f82da94c": {
      "model_module": "@jupyter-widgets/controls",
      "model_module_version": "1.5.0",
      "model_name": "DescriptionStyleModel",
      "state": {
       "description_width": ""
      }
     },
     "9f31e77acf3149bba7dce90401c31de0": {
      "model_module": "@jupyter-widgets/base",
      "model_module_version": "1.2.0",
      "model_name": "LayoutModel",
      "state": {}
     },
     "a01a431b325041348c948e8647ad9e6e": {
      "model_module": "@jupyter-widgets/controls",
      "model_module_version": "1.5.0",
      "model_name": "DescriptionStyleModel",
      "state": {
       "description_width": ""
      }
     },
     "a0983d4fb17d42cfbe551bf7d84211b9": {
      "model_module": "@jupyter-widgets/controls",
      "model_module_version": "1.5.0",
      "model_name": "IntTextModel",
      "state": {
       "description": "ifirst",
       "layout": "IPY_MODEL_39850493ba1643ec9344c84cd396f7f5",
       "step": 1,
       "style": "IPY_MODEL_d4c68ba4e3ea4a0abd7bd69347eae1fe"
      }
     },
     "a30df2efcf9e4949895be1aa0e913b89": {
      "model_module": "@jupyter-widgets/base",
      "model_module_version": "1.2.0",
      "model_name": "LayoutModel",
      "state": {}
     },
     "a351affbb1564fafb1cc69f9b52a4822": {
      "model_module": "@jupyter-widgets/base",
      "model_module_version": "1.2.0",
      "model_name": "LayoutModel",
      "state": {}
     },
     "a4ad7647faaa4964aabc602a2ff461cc": {
      "model_module": "@jupyter-widgets/base",
      "model_module_version": "1.2.0",
      "model_name": "LayoutModel",
      "state": {}
     },
     "a4cb5ed119bb497aaee9f1683ece3ed6": {
      "model_module": "@jupyter-widgets/base",
      "model_module_version": "1.2.0",
      "model_name": "LayoutModel",
      "state": {}
     },
     "a4cf4ef20fa04e0ca936b5ed8ab5bf8b": {
      "model_module": "@jupyter-widgets/controls",
      "model_module_version": "1.5.0",
      "model_name": "HBoxModel",
      "state": {
       "children": [
        "IPY_MODEL_d3f9038ca4bd4558a458d4d1ffde662b",
        "IPY_MODEL_71904ee0167342d8a07f985d0a6fda44",
        "IPY_MODEL_52febeb0121e49c8ac0c838c8eae78ab"
       ],
       "layout": "IPY_MODEL_159b7c0520014b3fa976df2be1248c8a"
      }
     },
     "a53ec81ff81b4c10a6a7a712099417ca": {
      "model_module": "@jupyter-widgets/base",
      "model_module_version": "1.2.0",
      "model_name": "LayoutModel",
      "state": {}
     },
     "a5a00c324cb844dfbaa56dc39e0c6498": {
      "model_module": "@jupyter-widgets/base",
      "model_module_version": "1.2.0",
      "model_name": "LayoutModel",
      "state": {}
     },
     "a5a3edfb01714b03a8ab1b31e1c371a4": {
      "model_module": "@jupyter-widgets/controls",
      "model_module_version": "1.5.0",
      "model_name": "DescriptionStyleModel",
      "state": {
       "description_width": ""
      }
     },
     "a625fde9a5a24f3eb8a13b2c8f5a89af": {
      "model_module": "@jupyter-widgets/base",
      "model_module_version": "1.2.0",
      "model_name": "LayoutModel",
      "state": {}
     },
     "a6f0016f5a0648b4a67eeea611443946": {
      "model_module": "@jupyter-widgets/base",
      "model_module_version": "1.2.0",
      "model_name": "LayoutModel",
      "state": {}
     },
     "a7a3b73fc5ac485eaf45e9ea3dff5978": {
      "model_module": "@jupyter-widgets/base",
      "model_module_version": "1.2.0",
      "model_name": "LayoutModel",
      "state": {}
     },
     "ac7c527f2fc14db88b6ae7e9f40613ff": {
      "model_module": "@jupyter-widgets/controls",
      "model_module_version": "1.5.0",
      "model_name": "DropdownModel",
      "state": {
       "_options_labels": [
        "Periodic",
        "No-flux",
        "Dirichlet"
       ],
       "description": "nclzS1",
       "index": 0,
       "layout": "IPY_MODEL_b74e9166395d4e9e9b1983bf57117009",
       "style": "IPY_MODEL_5761aa8364d64e0786cb961354385801"
      }
     },
     "acd5e5e127c84374a451fccce91b66e1": {
      "model_module": "@jupyter-widgets/base",
      "model_module_version": "1.2.0",
      "model_name": "LayoutModel",
      "state": {}
     },
     "af55730551594dcaa5bbaec9113da690": {
      "model_module": "@jupyter-widgets/base",
      "model_module_version": "1.2.0",
      "model_name": "LayoutModel",
      "state": {}
     },
     "aff8e43150904104abba5cf20961aa23": {
      "model_module": "@jupyter-widgets/base",
      "model_module_version": "1.2.0",
      "model_name": "LayoutModel",
      "state": {}
     },
     "b1525d0eceae4a5cb2336f3d8541cb40": {
      "model_module": "@jupyter-widgets/controls",
      "model_module_version": "1.5.0",
      "model_name": "DescriptionStyleModel",
      "state": {
       "description_width": ""
      }
     },
     "b1b1df68d1644a6fa3908c2eb4bddbb6": {
      "model_module": "@jupyter-widgets/controls",
      "model_module_version": "1.5.0",
      "model_name": "DescriptionStyleModel",
      "state": {
       "description_width": ""
      }
     },
     "b2693bf4adc44c4aad3a8a52c699593c": {
      "model_module": "@jupyter-widgets/controls",
      "model_module_version": "1.5.0",
      "model_name": "ButtonModel",
      "state": {
       "description": "Write",
       "disabled": true,
       "icon": "file-download",
       "layout": "IPY_MODEL_2e1842d2d60347bdb5f324dadebfd123",
       "style": "IPY_MODEL_67f242c4c53744fb8873928abcf66db7"
      }
     },
     "b404ee0278bb4a58a76cc7e80eb65040": {
      "model_module": "@jupyter-widgets/controls",
      "model_module_version": "1.5.0",
      "model_name": "DescriptionStyleModel",
      "state": {
       "description_width": ""
      }
     },
     "b74e9166395d4e9e9b1983bf57117009": {
      "model_module": "@jupyter-widgets/base",
      "model_module_version": "1.2.0",
      "model_name": "LayoutModel",
      "state": {}
     },
     "b80f7fe488f047999c679fdca3cac378": {
      "model_module": "@jupyter-widgets/controls",
      "model_module_version": "1.5.0",
      "model_name": "DescriptionStyleModel",
      "state": {
       "description_width": ""
      }
     },
     "b8a3f8b4f5d54c328c3a1913755f3b63": {
      "model_module": "@jupyter-widgets/base",
      "model_module_version": "1.2.0",
      "model_name": "LayoutModel",
      "state": {}
     },
     "b8f4c8cb31924dc6a88cac8a19769d86": {
      "model_module": "@jupyter-widgets/controls",
      "model_module_version": "1.5.0",
      "model_name": "HBoxModel",
      "state": {
       "children": [
        "IPY_MODEL_e3d9a308eb374a2eb836d9551147c57f",
        "IPY_MODEL_91fa064a434d4a969deb76b89b213d68",
        "IPY_MODEL_4b74cc6ee98b4ad0bc99d4c578bac176"
       ],
       "layout": "IPY_MODEL_5ee7c8414d2c44cca8e49cb67c5f9a8e"
      }
     },
     "babb15fdf6c543979a9fc7aedb5534c8": {
      "model_module": "@jupyter-widgets/controls",
      "model_module_version": "1.5.0",
      "model_name": "DropdownModel",
      "state": {
       "_options_labels": [
        "6th compact",
        "hyperviscous 6th"
       ],
       "description": "isecondder",
       "disabled": true,
       "index": 0,
       "layout": "IPY_MODEL_4d9897a9141649e1804d7d09d16a895c",
       "style": "IPY_MODEL_a01a431b325041348c948e8647ad9e6e"
      }
     },
     "bb7041d6092a497d904f768dd8616ae3": {
      "model_module": "@jupyter-widgets/controls",
      "model_module_version": "1.5.0",
      "model_name": "FloatTextModel",
      "state": {
       "description": "gravz",
       "disabled": true,
       "layout": "IPY_MODEL_a4ad7647faaa4964aabc602a2ff461cc",
       "step": null,
       "style": "IPY_MODEL_43898a1837794541a9e5041a11ba8c2d"
      }
     },
     "bbd333ca471349d39d4a0b50e94d5e6c": {
      "model_module": "@jupyter-widgets/controls",
      "model_module_version": "1.5.0",
      "model_name": "HTMLModel",
      "state": {
       "layout": "IPY_MODEL_1dd7eb32ed76474fa4b42ac14688ed24",
       "style": "IPY_MODEL_089ab48a4c2a4f9db496670e93d85aeb",
       "value": "<h2>IBMStuff</h2>"
      }
     },
     "bc780d72768b456d8027165ee24aadf8": {
      "model_module": "@jupyter-widgets/controls",
      "model_module_version": "1.5.0",
      "model_name": "BoundedFloatTextModel",
      "state": {
       "description": "dz",
       "layout": "IPY_MODEL_184c34fd898643c781b9cf9fb471115a",
       "max": 1000000,
       "step": null,
       "style": "IPY_MODEL_63e923a49be640429683c21c046a0745"
      }
     },
     "bcbb5c3f45ee450e83fce5efdd6b3f92": {
      "model_module": "@jupyter-widgets/base",
      "model_module_version": "1.2.0",
      "model_name": "LayoutModel",
      "state": {}
     },
     "be0e359a46874fe681e9572db4e304a4": {
      "model_module": "@jupyter-widgets/controls",
      "model_module_version": "1.5.0",
      "model_name": "BoundedFloatTextModel",
      "state": {
       "description": "beta",
       "disabled": true,
       "layout": "IPY_MODEL_99093c2168ac4513874ac024b7a71aaf",
       "max": 1000000,
       "step": null,
       "style": "IPY_MODEL_8ec100f6c0f24e8987386ed60e0382af"
      }
     },
     "c0aed3ac61644dc395bc25a2a016d666": {
      "model_module": "@jupyter-widgets/controls",
      "model_module_version": "1.5.0",
      "model_name": "HTMLModel",
      "state": {
       "layout": "IPY_MODEL_0f941df1886f4a1d961fd8fa1f7d785b",
       "style": "IPY_MODEL_12eb1bf811594f8b8d50cf0271daef8a",
       "value": "<h3>Spatial discretization</h3>"
      }
     },
     "c3432e9ffcec4501a7aa7430092ecd12": {
      "model_module": "@jupyter-widgets/controls",
      "model_module_version": "1.5.0",
      "model_name": "DescriptionStyleModel",
      "state": {
       "description_width": ""
      }
     },
     "c3cebc4b2f7a489bafacdf90e67e1ba5": {
      "model_module": "@jupyter-widgets/controls",
      "model_module_version": "1.5.0",
      "model_name": "DescriptionStyleModel",
      "state": {
       "description_width": ""
      }
     },
     "c48461594c914d939253dab23125d1c0": {
      "model_module": "@jupyter-widgets/controls",
      "model_module_version": "1.5.0",
      "model_name": "DescriptionStyleModel",
      "state": {
       "description_width": ""
      }
     },
     "c651ebe7234c4ce3a1f282dcc2496f39": {
      "model_module": "@jupyter-widgets/controls",
      "model_module_version": "1.5.0",
      "model_name": "DescriptionStyleModel",
      "state": {
       "description_width": ""
      }
     },
     "c78ab21c591f4f15801c16c21d9b9aa1": {
      "model_module": "@jupyter-widgets/controls",
      "model_module_version": "1.5.0",
      "model_name": "HBoxModel",
      "state": {
       "children": [
        "IPY_MODEL_48828c0ccdd3428da1f9fcbdb0286db7",
        "IPY_MODEL_968cb07a248a402fa2aa7c257d7369a7",
        "IPY_MODEL_37e37caf9f584830ae980249a791f2ba"
       ],
       "layout": "IPY_MODEL_204a16e5248f4f9a8c44455806af2790"
      }
     },
     "c8ead62e1f9b431b90418aa7ec8a82ad": {
      "model_module": "@jupyter-widgets/controls",
      "model_module_version": "1.5.0",
      "model_name": "TextModel",
      "state": {
       "description": "Size",
       "disabled": true,
       "layout": "IPY_MODEL_49551522657044ca9b079fcbda9d2ef6",
       "style": "IPY_MODEL_fcd074a2aa4849e5bf89f392836000f1"
      }
     },
     "c8f8567582ff41b497e671b1f38fb8c8": {
      "model_module": "@jupyter-widgets/base",
      "model_module_version": "1.2.0",
      "model_name": "LayoutModel",
      "state": {}
     },
     "c919e6b771b84c0593db50721c3e8e40": {
      "model_module": "@jupyter-widgets/controls",
      "model_module_version": "1.5.0",
      "model_name": "DropdownModel",
      "state": {
       "_options_labels": [
        "DNS",
        "Phys Smag",
        "Phys WALE",
        "Phys dyn. Smag",
        "iSVV"
       ],
       "description": "ilesmod",
       "index": 0,
       "layout": "IPY_MODEL_fe9e29cc4df64cb6b226004796f7de88",
       "style": "IPY_MODEL_c48461594c914d939253dab23125d1c0"
      }
     },
     "c9204cff30f24496bf6e6a4d5c5cdaf1": {
      "model_module": "@jupyter-widgets/controls",
      "model_module_version": "1.5.0",
      "model_name": "DropdownModel",
      "state": {
       "_options_labels": [
        "9",
        "11",
        "13",
        "17",
        "19",
        "21",
        "25",
        "31",
        "33",
        "37",
        "41",
        "49",
        "51",
        "55",
        "61",
        "65",
        "73",
        "81",
        "91",
        "97",
        "101",
        "109",
        "121",
        "129",
        "145",
        "151",
        "161",
        "163",
        "181",
        "193",
        "201",
        "217",
        "241",
        "251",
        "257",
        "271",
        "289",
        "301",
        "321",
        "325",
        "361",
        "385",
        "401",
        "433",
        "451",
        "481",
        "487",
        "501",
        "513",
        "541",
        "577",
        "601",
        "641",
        "649",
        "721",
        "751",
        "769",
        "801",
        "811",
        "865",
        "901",
        "961",
        "973",
        "1001",
        "1025",
        "1081",
        "1153",
        "1201",
        "1251",
        "1281",
        "1297",
        "1351",
        "1441",
        "1459",
        "1501",
        "1537",
        "1601",
        "1621",
        "1729",
        "1801",
        "1921",
        "1945",
        "2001",
        "2049",
        "2161",
        "2251",
        "2305",
        "2401",
        "2431",
        "2501",
        "2561",
        "2593",
        "2701",
        "2881",
        "2917",
        "3001",
        "3073",
        "3201",
        "3241",
        "3457",
        "3601",
        "3751",
        "3841",
        "3889",
        "4001",
        "4051",
        "4097",
        "4321",
        "4375",
        "4501",
        "4609",
        "4801",
        "4861",
        "5001",
        "5121",
        "5185",
        "5401",
        "5761",
        "5833",
        "6001",
        "6145",
        "6251",
        "6401",
        "6481",
        "6751",
        "6913",
        "7201",
        "7291",
        "7501",
        "7681",
        "7777",
        "8001",
        "8101",
        "8193",
        "8641",
        "8749",
        "9001"
       ],
       "description": "nx",
       "index": 0,
       "layout": "IPY_MODEL_5c5b1cca53b74ddbbaedbec1e3d9b743",
       "style": "IPY_MODEL_d29dffd5a9884ff089fc5df5f7a29147"
      }
     },
     "cb94b488ae0e40b580da1a8f0cce206f": {
      "model_module": "@jupyter-widgets/controls",
      "model_module_version": "1.5.0",
      "model_name": "DescriptionStyleModel",
      "state": {
       "description_width": ""
      }
     },
     "cd78d9c560844a32959c335957b02182": {
      "model_module": "@jupyter-widgets/controls",
      "model_module_version": "1.5.0",
      "model_name": "DropdownModel",
      "state": {
       "_options_labels": [
        "Periodic",
        "No-flux",
        "Dirichlet"
       ],
       "description": "nclzSn",
       "index": 0,
       "layout": "IPY_MODEL_110538972ed240218a4c17f15dd62e48",
       "style": "IPY_MODEL_eb9ce7051e4c4b4bbff673ab3291ff56"
      }
     },
     "cd7bf249779744f19648e834ac184566": {
      "model_module": "@jupyter-widgets/base",
      "model_module_version": "1.2.0",
      "model_name": "LayoutModel",
      "state": {}
     },
     "ceb28caddc7946fbb5710ffb451ba965": {
      "model_module": "@jupyter-widgets/base",
      "model_module_version": "1.2.0",
      "model_name": "LayoutModel",
      "state": {}
     },
     "cf115bcd588142caae6636c1f25e970b": {
      "model_module": "@jupyter-widgets/base",
      "model_module_version": "1.2.0",
      "model_name": "LayoutModel",
      "state": {}
     },
     "cf39d6851b4048a6ab3a33a6fd06425f": {
      "model_module": "@jupyter-widgets/base",
      "model_module_version": "1.2.0",
      "model_name": "LayoutModel",
      "state": {}
     },
     "cfbf7f4b3c3948c0bc240ef9dd9ca331": {
      "model_module": "@jupyter-widgets/controls",
      "model_module_version": "1.5.0",
      "model_name": "DescriptionStyleModel",
      "state": {
       "description_width": ""
      }
     },
     "d168946284ab4a3d92b67bd87bdedbb4": {
      "model_module": "@jupyter-widgets/base",
      "model_module_version": "1.2.0",
      "model_name": "LayoutModel",
      "state": {}
     },
     "d1ce69ab9e8847f1858855a32f1bee20": {
      "model_module": "@jupyter-widgets/controls",
      "model_module_version": "1.5.0",
      "model_name": "HTMLModel",
      "state": {
       "layout": "IPY_MODEL_5e023209fa0f4093840f4e9f0d405a55",
       "style": "IPY_MODEL_2446d39166f949dc8dd3842e0bbcc595",
       "value": "<h3>Temporal discretization</h3>"
      }
     },
     "d253d43e418a4c2f99e4f820ebc0dab2": {
      "model_module": "@jupyter-widgets/controls",
      "model_module_version": "1.5.0",
      "model_name": "DropdownModel",
      "state": {
       "_options_labels": [
        "Periodic",
        "No-flux",
        "Dirichlet"
       ],
       "description": "nclxSn",
       "index": 0,
       "layout": "IPY_MODEL_9f31e77acf3149bba7dce90401c31de0",
       "style": "IPY_MODEL_eeb685dbdad1499c8a987f449a70b84a"
      }
     },
     "d299376f9de248758c4cd124a8948702": {
      "model_module": "@jupyter-widgets/controls",
      "model_module_version": "1.5.0",
      "model_name": "DescriptionStyleModel",
      "state": {
       "description_width": ""
      }
     },
     "d29dffd5a9884ff089fc5df5f7a29147": {
      "model_module": "@jupyter-widgets/controls",
      "model_module_version": "1.5.0",
      "model_name": "DescriptionStyleModel",
      "state": {
       "description_width": ""
      }
     },
     "d29fe230a7dd46aa94fe720c13e3f7e5": {
      "model_module": "@jupyter-widgets/controls",
      "model_module_version": "1.5.0",
      "model_name": "HBoxModel",
      "state": {
       "children": [
        "IPY_MODEL_50356b960139478e9cca85279b8c4a4a",
        "IPY_MODEL_ee44b420744c493cb2c771d91e7ac3ef",
        "IPY_MODEL_b2693bf4adc44c4aad3a8a52c699593c",
        "IPY_MODEL_2dcc714a8b6047e79ca4f06685ad6fc5",
        "IPY_MODEL_3a2532731a41428fab40d537100c407c"
       ],
       "layout": "IPY_MODEL_3aaced4db6b24ccd8d87e927bf41754d"
      }
     },
     "d2bbecadb8d34792ba67f5b6fde7b1b5": {
      "model_module": "@jupyter-widgets/controls",
      "model_module_version": "1.5.0",
      "model_name": "FloatTextModel",
      "state": {
       "description": "gravx",
       "disabled": true,
       "layout": "IPY_MODEL_94d4ce80b7514666a4dcc0d2296e4c3c",
       "step": null,
       "style": "IPY_MODEL_3b8019c9fe024f60ad27b6eae5d9cebf"
      }
     },
     "d399cc998fd442ac869ec8b662f3fa8e": {
      "model_module": "@jupyter-widgets/controls",
      "model_module_version": "1.5.0",
      "model_name": "HTMLModel",
      "state": {
       "layout": "IPY_MODEL_18c1ea05c9a84421bcbf731969cc874a",
       "style": "IPY_MODEL_d299376f9de248758c4cd124a8948702",
       "value": "<h2>ScalarParam</h2>"
      }
     },
     "d3f9038ca4bd4558a458d4d1ffde662b": {
      "model_module": "@jupyter-widgets/controls",
      "model_module_version": "1.5.0",
      "model_name": "DropdownModel",
      "state": {
       "_options_labels": [
        "Off",
        "On"
       ],
       "description": "ilesmod",
       "index": 0,
       "layout": "IPY_MODEL_cd7bf249779744f19648e834ac184566",
       "style": "IPY_MODEL_87ee72bcd2b1447594c1059e8b048b7a"
      }
     },
     "d4c68ba4e3ea4a0abd7bd69347eae1fe": {
      "model_module": "@jupyter-widgets/controls",
      "model_module_version": "1.5.0",
      "model_name": "DescriptionStyleModel",
      "state": {
       "description_width": ""
      }
     },
     "d8d0209672f749a096a9e21333fd723b": {
      "model_module": "@jupyter-widgets/base",
      "model_module_version": "1.2.0",
      "model_name": "LayoutModel",
      "state": {}
     },
     "d8e7cac618754ca48280311cae8c26f2": {
      "model_module": "@jupyter-widgets/controls",
      "model_module_version": "1.5.0",
      "model_name": "DescriptionStyleModel",
      "state": {
       "description_width": ""
      }
     },
     "d9c354d3aeec486c89a78647e9e37e72": {
      "model_module": "@jupyter-widgets/controls",
      "model_module_version": "1.5.0",
      "model_name": "DescriptionStyleModel",
      "state": {
       "description_width": ""
      }
     },
     "da287fb62d254867ba77cb1fbbbf5028": {
      "model_module": "@jupyter-widgets/controls",
      "model_module_version": "1.5.0",
      "model_name": "DropdownModel",
      "state": {
       "_options_labels": [
        "Off",
        "On"
       ],
       "description": "irestart",
       "index": 0,
       "layout": "IPY_MODEL_e94cf0d5cb044d48af8d1f1ff7b1d740",
       "style": "IPY_MODEL_8bd59a73b3174e429b191ed96a06e689"
      }
     },
     "dc5c4eab25bb44daba7313f8fef9a448": {
      "model_module": "@jupyter-widgets/controls",
      "model_module_version": "1.5.0",
      "model_name": "DescriptionStyleModel",
      "state": {
       "description_width": ""
      }
     },
     "de40a4e8790f49caae88fdb0b97db35a": {
      "model_module": "@jupyter-widgets/base",
      "model_module_version": "1.2.0",
      "model_name": "LayoutModel",
      "state": {}
     },
     "dea194aa3c9d40c692685d1ecc3cfb49": {
      "model_module": "@jupyter-widgets/controls",
      "model_module_version": "1.5.0",
      "model_name": "HBoxModel",
      "state": {
       "children": [
        "IPY_MODEL_a0983d4fb17d42cfbe551bf7d84211b9",
        "IPY_MODEL_8b467ed1e2dc47aa868c8eea45468537",
        "IPY_MODEL_2c6af7d3599646fbbbb9a7fd42ab06c8"
       ],
       "layout": "IPY_MODEL_ceb28caddc7946fbb5710ffb451ba965"
      }
     },
     "e0064b6a331e4a5db9a83122b1eeb5b1": {
      "model_module": "@jupyter-widgets/base",
      "model_module_version": "1.2.0",
      "model_name": "LayoutModel",
      "state": {}
     },
     "e0164eff13364031a31b53b357e0f8af": {
      "model_module": "@jupyter-widgets/controls",
      "model_module_version": "1.5.0",
      "model_name": "DescriptionStyleModel",
      "state": {
       "description_width": ""
      }
     },
     "e22c26ad41e7435baa587b583640f106": {
      "model_module": "@jupyter-widgets/base",
      "model_module_version": "1.2.0",
      "model_name": "LayoutModel",
      "state": {}
     },
     "e3d9a308eb374a2eb836d9551147c57f": {
      "model_module": "@jupyter-widgets/controls",
      "model_module_version": "1.5.0",
      "model_name": "BoundedIntTextModel",
      "state": {
       "description": "icheckpoint",
       "layout": "IPY_MODEL_6167269b02214d9598e8c926d3ae69af",
       "max": 1000000000,
       "min": 1,
       "style": "IPY_MODEL_b80f7fe488f047999c679fdca3cac378",
       "value": 1
      }
     },
     "e4b7137c31884bdea657177bf9759f04": {
      "model_module": "@jupyter-widgets/base",
      "model_module_version": "1.2.0",
      "model_name": "LayoutModel",
      "state": {}
     },
     "e514b9c8a9f14d13b28b1df83cd9b51e": {
      "model_module": "@jupyter-widgets/base",
      "model_module_version": "1.2.0",
      "model_name": "LayoutModel",
      "state": {}
     },
     "e556f7045fda4b06bc5facd6127ebf81": {
      "model_module": "@jupyter-widgets/controls",
      "model_module_version": "1.5.0",
      "model_name": "DropdownModel",
      "state": {
       "_options_labels": [
        "Periodic",
        "No-flux",
        "Dirichlet"
       ],
       "description": "nclySn",
       "index": 0,
       "layout": "IPY_MODEL_8d81a2e9ce0f42c0862e97a0ad2ec137",
       "style": "IPY_MODEL_706475c97b4b4201b25ecfb057c46782"
      }
     },
     "e5c5ab971af24e92965e6eddf26b925f": {
      "model_module": "@jupyter-widgets/controls",
      "model_module_version": "1.5.0",
      "model_name": "BoundedFloatTextModel",
      "state": {
       "description": "dy",
       "layout": "IPY_MODEL_2dff6599fff84486a7a52cf76edb7fff",
       "max": 1000000,
       "step": null,
       "style": "IPY_MODEL_b404ee0278bb4a58a76cc7e80eb65040"
      }
     },
     "e630428692e44d8381cae47c4a89dd26": {
      "model_module": "@jupyter-widgets/base",
      "model_module_version": "1.2.0",
      "model_name": "LayoutModel",
      "state": {}
     },
     "e67815b8cf8d4bdcae181278e1271da8": {
      "model_module": "@jupyter-widgets/controls",
      "model_module_version": "1.5.0",
      "model_name": "HBoxModel",
      "state": {
       "children": [
        "IPY_MODEL_2050a53ac72b450dbc99bb6bc75e38fe"
       ],
       "layout": "IPY_MODEL_75eba36568564b118eb3e701179f3f20"
      }
     },
     "e9443b6a854941c2a36e538a33a60546": {
      "model_module": "@jupyter-widgets/controls",
      "model_module_version": "1.5.0",
      "model_name": "FloatTextModel",
      "state": {
       "description": "gravy",
       "disabled": true,
       "layout": "IPY_MODEL_ecc2676e4bca415696b35b210f3ab078",
       "step": null,
       "style": "IPY_MODEL_ede3ddf96f344450aa4e922742dd9807"
      }
     },
     "e94cf0d5cb044d48af8d1f1ff7b1d740": {
      "model_module": "@jupyter-widgets/base",
      "model_module_version": "1.2.0",
      "model_name": "LayoutModel",
      "state": {}
     },
     "eb9ce7051e4c4b4bbff673ab3291ff56": {
      "model_module": "@jupyter-widgets/controls",
      "model_module_version": "1.5.0",
      "model_name": "DescriptionStyleModel",
      "state": {
       "description_width": ""
      }
     },
     "ec8df609c91741978cbc5750534b3274": {
      "model_module": "@jupyter-widgets/controls",
      "model_module_version": "1.5.0",
      "model_name": "HBoxModel",
      "state": {
       "children": [
        "IPY_MODEL_29106dedb8034efeab9e261aa94f8e55",
        "IPY_MODEL_078a573638b14544963998031120d48c",
        "IPY_MODEL_3666de6a5b4e4027b96d495cfa8f4edb"
       ],
       "layout": "IPY_MODEL_00e5fc80f1434121bd94de4f3dad77d3"
      }
     },
     "ecc2676e4bca415696b35b210f3ab078": {
      "model_module": "@jupyter-widgets/base",
      "model_module_version": "1.2.0",
      "model_name": "LayoutModel",
      "state": {}
     },
     "ece95219ff9a4e1593c15d03ea045123": {
      "model_module": "@jupyter-widgets/controls",
      "model_module_version": "1.5.0",
      "model_name": "VBoxModel",
      "state": {
       "children": [
        "IPY_MODEL_865c44dcc84a4e33aa1ddf8c4e95cae7",
        "IPY_MODEL_d29fe230a7dd46aa94fe720c13e3f7e5",
        "IPY_MODEL_635a898be79f475eb3d4e382502f7d87",
        "IPY_MODEL_f84f73c6230540dba8971976144902b7",
        "IPY_MODEL_8b36cd3bbc2b44ab976f345bd7c4130f",
        "IPY_MODEL_f719331bdd254e3abd31823e241e8524",
        "IPY_MODEL_87470ef434e34f18ab4de915d98b33ac",
        "IPY_MODEL_d1ce69ab9e8847f1858855a32f1bee20",
        "IPY_MODEL_dea194aa3c9d40c692685d1ecc3cfb49",
        "IPY_MODEL_0eda583e11484dc8bd369413fbbded92",
        "IPY_MODEL_6cdd8e9bea2547a191344b40fe85e594",
        "IPY_MODEL_b8f4c8cb31924dc6a88cac8a19769d86",
        "IPY_MODEL_c0aed3ac61644dc395bc25a2a016d666",
        "IPY_MODEL_ff93ff731e3f4b3f9b935cc5b6d29e07",
        "IPY_MODEL_ec8df609c91741978cbc5750534b3274",
        "IPY_MODEL_2d8d8801a925432583533e761f281f93",
        "IPY_MODEL_37af94a96a784cbc89aba41cfdd6f42a",
        "IPY_MODEL_85f82ce89d744bd195f157c2975972cf",
        "IPY_MODEL_f19360fb0e2e46089255fa732e0ecb5d",
        "IPY_MODEL_92b2f2eef8214b778f3c9a0b944fc3fb",
        "IPY_MODEL_fc406f91cf60497fa6aa9397fbd9120e",
        "IPY_MODEL_a4cf4ef20fa04e0ca936b5ed8ab5bf8b",
        "IPY_MODEL_d399cc998fd442ac869ec8b662f3fa8e",
        "IPY_MODEL_e67815b8cf8d4bdcae181278e1271da8",
        "IPY_MODEL_49750355e46842ad8b7cabfad4a9a4a7",
        "IPY_MODEL_89aa21fa3d48420b875b0564d9e18e2d",
        "IPY_MODEL_28cfd5b5a88442888347b5228fa050af",
        "IPY_MODEL_01383d154bd441818f0bb62bfb2a8f94",
        "IPY_MODEL_f2a48b208f044b2681bac22f6159f87f",
        "IPY_MODEL_bbd333ca471349d39d4a0b50e94d5e6c",
        "IPY_MODEL_c78ab21c591f4f15801c16c21d9b9aa1"
       ],
       "layout": "IPY_MODEL_af55730551594dcaa5bbaec9113da690"
      }
     },
     "ede3ddf96f344450aa4e922742dd9807": {
      "model_module": "@jupyter-widgets/controls",
      "model_module_version": "1.5.0",
      "model_name": "DescriptionStyleModel",
      "state": {
       "description_width": ""
      }
     },
     "ee44b420744c493cb2c771d91e7ac3ef": {
      "model_module": "@jupyter-widgets/controls",
      "model_module_version": "1.5.0",
      "model_name": "ButtonModel",
      "state": {
       "description": "Read",
       "disabled": true,
       "icon": "file-upload",
       "layout": "IPY_MODEL_d8d0209672f749a096a9e21333fd723b",
       "style": "IPY_MODEL_880d63634bcc483b967c7ca4189ed783"
      }
     },
     "eeb685dbdad1499c8a987f449a70b84a": {
      "model_module": "@jupyter-widgets/controls",
      "model_module_version": "1.5.0",
      "model_name": "DescriptionStyleModel",
      "state": {
       "description_width": ""
      }
     },
     "f19360fb0e2e46089255fa732e0ecb5d": {
      "model_module": "@jupyter-widgets/controls",
      "model_module_version": "1.5.0",
      "model_name": "HBoxModel",
      "state": {
       "children": [
        "IPY_MODEL_995ad50209a741fbbd80c8091da4b51d",
        "IPY_MODEL_be0e359a46874fe681e9572db4e304a4"
       ],
       "layout": "IPY_MODEL_a625fde9a5a24f3eb8a13b2c8f5a89af"
      }
     },
     "f1e7a366aea14319a2415ffc9b8b7578": {
      "model_module": "@jupyter-widgets/controls",
      "model_module_version": "1.5.0",
      "model_name": "DescriptionStyleModel",
      "state": {
       "description_width": ""
      }
     },
     "f21ff86f50014a909c1eece1acd1bbb8": {
      "model_module": "@jupyter-widgets/controls",
      "model_module_version": "1.5.0",
      "model_name": "FloatTextModel",
      "state": {
       "description": "inflow_noise",
       "layout": "IPY_MODEL_a4cb5ed119bb497aaee9f1683ece3ed6",
       "step": null,
       "style": "IPY_MODEL_8e88748a4a58460380223219eb64f2c3"
      }
     },
     "f2a48b208f044b2681bac22f6159f87f": {
      "model_module": "@jupyter-widgets/controls",
      "model_module_version": "1.5.0",
      "model_name": "HTMLModel",
      "state": {
       "layout": "IPY_MODEL_4706bd9e803d45d5a9f803c58202538c",
       "style": "IPY_MODEL_9da5fad1653d4cd890a97da8e63386be",
       "value": "<strong>cp, us, sc, ri, scalar_lbound & scalar_ubound</strong> are lists with length numscalar, set them properly on the code."
      }
     },
     "f3cf341875424587b3f56f5029eed1e0": {
      "model_module": "@jupyter-widgets/controls",
      "model_module_version": "1.5.0",
      "model_name": "DescriptionStyleModel",
      "state": {
       "description_width": ""
      }
     },
     "f4608bef3f5e48aaba530480a9e612aa": {
      "model_module": "@jupyter-widgets/base",
      "model_module_version": "1.2.0",
      "model_name": "LayoutModel",
      "state": {}
     },
     "f582edb9da3a4fcdb3dce9e41ed98069": {
      "model_module": "@jupyter-widgets/base",
      "model_module_version": "1.2.0",
      "model_name": "LayoutModel",
      "state": {}
     },
     "f66e925e6371485485296cfeededf68b": {
      "model_module": "@jupyter-widgets/controls",
      "model_module_version": "1.5.0",
      "model_name": "DropdownModel",
      "state": {
       "_options_labels": [
        "Periodic",
        "Free-slip",
        "No-slip"
       ],
       "description": "nclz1",
       "index": 0,
       "layout": "IPY_MODEL_91b529598e794e7f840e3a478daf1f21",
       "style": "IPY_MODEL_dc5c4eab25bb44daba7313f8fef9a448"
      }
     },
     "f67f501c95904da794b494597971939c": {
      "model_module": "@jupyter-widgets/base",
      "model_module_version": "1.2.0",
      "model_name": "LayoutModel",
      "state": {}
     },
     "f719331bdd254e3abd31823e241e8524": {
      "model_module": "@jupyter-widgets/controls",
      "model_module_version": "1.5.0",
      "model_name": "HTMLModel",
      "state": {
       "layout": "IPY_MODEL_f582edb9da3a4fcdb3dce9e41ed98069",
       "style": "IPY_MODEL_0950b5fb08dd4691913cb15b8b75729c",
       "value": "<h3>Domain Decomposition</h3>"
      }
     },
     "f75bcaa926c34001975b6f56abad4389": {
      "model_module": "@jupyter-widgets/controls",
      "model_module_version": "1.5.0",
      "model_name": "SliderStyleModel",
      "state": {
       "description_width": ""
      }
     },
     "f762f336f8f149e78ec3dbc7e2c06a8b": {
      "model_module": "@jupyter-widgets/controls",
      "model_module_version": "1.5.0",
      "model_name": "DropdownModel",
      "state": {
       "_options_labels": [
        "Periodic",
        "No-flux",
        "Dirichlet"
       ],
       "description": "nclxS1",
       "index": 0,
       "layout": "IPY_MODEL_acd5e5e127c84374a451fccce91b66e1",
       "style": "IPY_MODEL_e0164eff13364031a31b53b357e0f8af"
      }
     },
     "f84f73c6230540dba8971976144902b7": {
      "model_module": "@jupyter-widgets/controls",
      "model_module_version": "1.5.0",
      "model_name": "HBoxModel",
      "state": {
       "children": [
        "IPY_MODEL_1868d3e5b1024cfdb9cfb8dbed33d53e",
        "IPY_MODEL_1eea3f26b6484d038fcf45a5106bbf53"
       ],
       "layout": "IPY_MODEL_5eb0c0e1dbfc428a829e9dbe56b0b56d"
      }
     },
     "f9338ecc25e44e999796e0231f113e8a": {
      "model_module": "@jupyter-widgets/controls",
      "model_module_version": "1.5.0",
      "model_name": "DropdownModel",
      "state": {
       "_options_labels": [
        "Off",
        "Forced to zero",
        "Interpolated to zero",
        "Interpolated to no-flux"
       ],
       "description": "iibmS",
       "index": 0,
       "layout": "IPY_MODEL_00ed34a80aab49f0a11e13f405aed910",
       "style": "IPY_MODEL_feefa81f2bc44cafbd81609e3233563b"
      }
     },
     "f9f14aeae29e4edf9f621826c376a6ea": {
      "model_module": "@jupyter-widgets/controls",
      "model_module_version": "1.5.0",
      "model_name": "DropdownModel",
      "state": {
       "_options_labels": [
        "Periodic",
        "No-flux",
        "Dirichlet"
       ],
       "description": "nclyS1",
       "index": 0,
       "layout": "IPY_MODEL_fe309a8213114e428cafbac96179e5d0",
       "style": "IPY_MODEL_5ebf6fdd5a384392b4264a5e7ab248e0"
      }
     },
     "fbd16825803b4ffda666be973a1f6a88": {
      "model_module": "@jupyter-widgets/controls",
      "model_module_version": "1.5.0",
      "model_name": "DescriptionStyleModel",
      "state": {
       "description_width": ""
      }
     },
     "fc2c5c5774ff43cb949a14df69cce194": {
      "model_module": "@jupyter-widgets/controls",
      "model_module_version": "1.5.0",
      "model_name": "DropdownModel",
      "state": {
       "_options_labels": [
        "Euler",
        "AB2",
        "AB3",
        "RK3",
        "Semi-implicit"
       ],
       "description": "itimescheme",
       "index": 0,
       "layout": "IPY_MODEL_36f7c20da92048089df4afaf9cf21f8c",
       "style": "IPY_MODEL_57508a34f8fa44f5a53b3321996b6dc7"
      }
     },
     "fc406f91cf60497fa6aa9397fbd9120e": {
      "model_module": "@jupyter-widgets/controls",
      "model_module_version": "1.5.0",
      "model_name": "HBoxModel",
      "state": {
       "children": [
        "IPY_MODEL_426883e8113e46be9841bf995f7709fb",
        "IPY_MODEL_babb15fdf6c543979a9fc7aedb5534c8",
        "IPY_MODEL_fc2c5c5774ff43cb949a14df69cce194"
       ],
       "layout": "IPY_MODEL_e514b9c8a9f14d13b28b1df83cd9b51e"
      }
     },
     "fcd074a2aa4849e5bf89f392836000f1": {
      "model_module": "@jupyter-widgets/controls",
      "model_module_version": "1.5.0",
      "model_name": "DescriptionStyleModel",
      "state": {
       "description_width": ""
      }
     },
     "fe309a8213114e428cafbac96179e5d0": {
      "model_module": "@jupyter-widgets/base",
      "model_module_version": "1.2.0",
      "model_name": "LayoutModel",
      "state": {}
     },
     "fe9e29cc4df64cb6b226004796f7de88": {
      "model_module": "@jupyter-widgets/base",
      "model_module_version": "1.2.0",
      "model_name": "LayoutModel",
      "state": {}
     },
     "feefa81f2bc44cafbd81609e3233563b": {
      "model_module": "@jupyter-widgets/controls",
      "model_module_version": "1.5.0",
      "model_name": "DescriptionStyleModel",
      "state": {
       "description_width": ""
      }
     },
     "ff93ff731e3f4b3f9b935cc5b6d29e07": {
      "model_module": "@jupyter-widgets/controls",
      "model_module_version": "1.5.0",
      "model_name": "HBoxModel",
      "state": {
       "children": [
        "IPY_MODEL_c9204cff30f24496bf6e6a4d5c5cdaf1",
        "IPY_MODEL_279dbd618f9245209db9f15f079a4026",
        "IPY_MODEL_768c05a952f24acb8a06058490c31f64"
       ],
       "layout": "IPY_MODEL_9a68310e27c0458f8f61df64cb1bc979"
      }
     },
     "ff9e49f5780347ac992891acd11453be": {
      "model_module": "@jupyter-widgets/controls",
      "model_module_version": "1.5.0",
      "model_name": "DescriptionStyleModel",
      "state": {
       "description_width": ""
      }
     }
    },
    "version_major": 2,
    "version_minor": 0
   }
  }
 },
 "nbformat": 4,
 "nbformat_minor": 4
}
