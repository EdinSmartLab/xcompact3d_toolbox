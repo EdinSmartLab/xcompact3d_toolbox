{
 "cells": [
  {
   "cell_type": "markdown",
   "metadata": {},
   "source": [
    "# Parameters\n",
    "\n",
    "The computational and physical parameters are handled at `class xcompact3d_toolbox.Parameters`. It is built on top of [Traitlets](https://traitlets.readthedocs.io/en/stable/index.html), which brings some advantages:\n",
    "\n",
    "* Attributes are type-checked;\n",
    "* Default values and restrictions (min and max) are applied where necessary;\n",
    "* 'On change' callbacks for validation and observation;\n",
    "* Two-way linking with [ipywidgets](https://ipywidgets.readthedocs.io/en/latest/)."
   ]
  },
  {
   "cell_type": "code",
   "execution_count": 1,
   "metadata": {},
   "outputs": [],
   "source": [
    "import xcompact3d_toolbox as x3d\n",
    "import numpy as np"
   ]
  },
  {
   "cell_type": "markdown",
   "metadata": {},
   "source": [
    "Use `np.float64` if Xcompact3d was compiled with the flag `-DDOUBLE_PREC`, use `np.float32` otherwise."
   ]
  },
  {
   "cell_type": "code",
   "execution_count": 2,
   "metadata": {},
   "outputs": [],
   "source": [
    "x3d.mytype = np.float32"
   ]
  },
  {
   "cell_type": "markdown",
   "metadata": {},
   "source": [
    "## Initialization"
   ]
  },
  {
   "cell_type": "markdown",
   "metadata": {},
   "source": [
    "There are a few ways to initialize the class. First, calling it with no arguments initializes all variables with default value:"
   ]
  },
  {
   "cell_type": "code",
   "execution_count": 3,
   "metadata": {},
   "outputs": [],
   "source": [
    "prm = x3d.Parameters()"
   ]
  },
  {
   "cell_type": "markdown",
   "metadata": {},
   "source": [
    "You can access a list with all the available variables at [Api reference](file:///C:/Users/felip/Documents/GitHub/Xcompact3d-toolbox/docs/_build/html/Docstrings.html#xcompact3d_toolbox.parameters.Parameters)."
   ]
  },
  {
   "cell_type": "markdown",
   "metadata": {},
   "source": [
    "It is possible to access and/or set values afterwards:"
   ]
  },
  {
   "cell_type": "code",
   "execution_count": 4,
   "metadata": {},
   "outputs": [
    {
     "name": "stdout",
     "output_type": "stream",
     "text": [
      "1000.0\n",
      "1000000.0\n"
     ]
    }
   ],
   "source": [
    "# Reynolds Number\n",
    "print(prm.re)\n",
    "prm.re = 1e6\n",
    "print(prm.re)"
   ]
  },
  {
   "cell_type": "markdown",
   "metadata": {},
   "source": [
    "Second, we can specify some values, and let the missing ones be initialized with default value:"
   ]
  },
  {
   "cell_type": "code",
   "execution_count": 5,
   "metadata": {},
   "outputs": [],
   "source": [
    "prm = x3d.Parameters(\n",
    "    filename = 'example.i3d',\n",
    "    itype = 10,\n",
    "    nx = 257,\n",
    "    ny = 129,\n",
    "    nz = 32,\n",
    "    xlx = 15.0,\n",
    "    yly = 10.0,\n",
    "    zlz = 3.0,\n",
    "    nclx1 = 2,\n",
    "    nclxn = 2,\n",
    "    ncly1 = 1,\n",
    "    nclyn = 1,\n",
    "    nclz1 = 0,\n",
    "    nclzn = 0,\n",
    "    iin = 1,\n",
    "    re = 300.0,\n",
    "    init_noise = 0.0125,\n",
    "    inflow_noise = 0.0125,\n",
    "    dt = 0.0025,\n",
    "    ifirst = 1,\n",
    "    ilast = 45000,\n",
    "    irestart = 0,\n",
    "    icheckpoint = 45000,\n",
    "    ioutput = 200,\n",
    "    iprocessing = 50,\n",
    ")"
   ]
  },
  {
   "cell_type": "markdown",
   "metadata": {},
   "source": [
    "It is easy to write `example.i3d` to disc, just type:"
   ]
  },
  {
   "cell_type": "code",
   "execution_count": 6,
   "metadata": {},
   "outputs": [],
   "source": [
    "prm.write()"
   ]
  },
  {
   "cell_type": "markdown",
   "metadata": {},
   "source": [
    "And finally, it is possible to read the parameters from the disc:"
   ]
  },
  {
   "cell_type": "code",
   "execution_count": 7,
   "metadata": {},
   "outputs": [],
   "source": [
    "prm = x3d.Parameters(filename = 'example.i3d')\n",
    "prm.read()"
   ]
  },
  {
   "cell_type": "markdown",
   "metadata": {},
   "source": [
    "## Traitlets\n",
    "\n",
    "### Type-checking\n",
    "\n",
    "All parameters are type-checked, to make sure that they are what `Xcompact3d` expects. Use the cellcode below to see how a `TraitError` pops out when we try:\n",
    "\n",
    "```python\n",
    "prm.itype = 10.5\n",
    "prm.itype = -5\n",
    "prm.itype = 12\n",
    "prm.itype = 'sandbox'\n",
    "\n",
    "```\n"
   ]
  },
  {
   "cell_type": "code",
   "execution_count": null,
   "metadata": {},
   "outputs": [],
   "source": []
  },
  {
   "cell_type": "markdown",
   "metadata": {},
   "source": [
    "### Validation"
   ]
  },
  {
   "cell_type": "markdown",
   "metadata": {},
   "source": [
    "Some parameters, like mesh points (`nx`, `ny` and `nz`), trigger a validation operation when a new value is attributed to them.\n",
    "Due to restrictions at the FFT library, they must be equal to:\n",
    "\n",
    "$$\n",
    "n_i = \\left\\{ \\begin{array}{ll} 2^{1+a} \\times 3^b \\times 5^c &\\mbox{if periodic,} \\\\ 2^{1+a} \\times 3^b \\times 5^c + 1 &\\mbox{otherwise,}\n",
    "\\end{array} \\right.\n",
    "$$\n",
    "\n",
    "where $a$, $b$ and $c$ are non negative integers. In addition, the derivatives stencil imposes that:\n",
    "\n",
    "$$\n",
    "n_i \\ge \\left\\{ \\begin{array}{ll} 8 &\\mbox{if periodic,} \\\\ 9 &\\mbox{otherwise.}\n",
    "\\end{array} \\right.\n",
    "$$\n",
    "\n",
    "Again, give it a try at the cellcode below:\n",
    "\n",
    "```python\n",
    "prm.nx = 129\n",
    "prm.nx = 4\n",
    "prm.nx = 60\n",
    "prm.nx = 61\n",
    "```"
   ]
  },
  {
   "cell_type": "code",
   "execution_count": null,
   "metadata": {},
   "outputs": [],
   "source": []
  },
  {
   "cell_type": "markdown",
   "metadata": {},
   "source": [
    "### Observation"
   ]
  },
  {
   "cell_type": "markdown",
   "metadata": {},
   "source": [
    "Other parameters, like mesh resolution (`dx`, `dy` and `dz`), are automaticaly updated when any new atribution occurs to mesh points and/or domain size. Let's create a quick print functions to play with:"
   ]
  },
  {
   "cell_type": "code",
   "execution_count": 8,
   "metadata": {},
   "outputs": [],
   "source": [
    "def show_param():\n",
    "    for var in 'nclx1 nclxn nx xlx dx'.split():\n",
    "        print(f\"{var:>5} = {getattr(prm, var)}\")"
   ]
  },
  {
   "cell_type": "markdown",
   "metadata": {},
   "source": [
    "We are starting with:"
   ]
  },
  {
   "cell_type": "code",
   "execution_count": 9,
   "metadata": {},
   "outputs": [
    {
     "name": "stdout",
     "output_type": "stream",
     "text": [
      "nclx1 = 2\n",
      "nclxn = 2\n",
      "   nx = 257\n",
      "  xlx = 15.0\n",
      "   dx = 0.05859375\n"
     ]
    }
   ],
   "source": [
    "show_param()"
   ]
  },
  {
   "cell_type": "markdown",
   "metadata": {},
   "source": [
    "Let's change just the domain's length:"
   ]
  },
  {
   "cell_type": "code",
   "execution_count": 10,
   "metadata": {},
   "outputs": [
    {
     "name": "stdout",
     "output_type": "stream",
     "text": [
      "nclx1 = 2\n",
      "nclxn = 2\n",
      "   nx = 257\n",
      "  xlx = 50.0\n",
      "   dx = 0.1953125\n"
     ]
    }
   ],
   "source": [
    "prm.xlx = 50.0\n",
    "\n",
    "show_param()"
   ]
  },
  {
   "cell_type": "markdown",
   "metadata": {},
   "source": [
    "The resolutions was updated as well. Now the number of mesh points:"
   ]
  },
  {
   "cell_type": "code",
   "execution_count": 11,
   "metadata": {},
   "outputs": [
    {
     "name": "stdout",
     "output_type": "stream",
     "text": [
      "nclx1 = 2\n",
      "nclxn = 2\n",
      "   nx = 121\n",
      "  xlx = 50.0\n",
      "   dx = 0.4166666666666667\n"
     ]
    }
   ],
   "source": [
    "prm.nx = 121\n",
    "\n",
    "show_param()"
   ]
  },
  {
   "cell_type": "markdown",
   "metadata": {},
   "source": [
    "Again, the resolutions was updated. Now we set a new mesh resolution, this time, `xlx` will be updated in order to satisfy the new resolution:"
   ]
  },
  {
   "cell_type": "code",
   "execution_count": 12,
   "metadata": {},
   "outputs": [
    {
     "name": "stdout",
     "output_type": "stream",
     "text": [
      "nclx1 = 2\n",
      "nclxn = 2\n",
      "   nx = 121\n",
      "  xlx = 1.2\n",
      "   dx = 0.01\n"
     ]
    }
   ],
   "source": [
    "prm.dx = 1e-2\n",
    "\n",
    "show_param()"
   ]
  },
  {
   "cell_type": "markdown",
   "metadata": {},
   "source": [
    "Boundary conditions are observed as well. Xcompact3d allows three different BC for velocity:\n",
    "\n",
    "* Periodic `0`;\n",
    "* Free-slip `1`;\n",
    "* Dirichlet `2`.\n",
    "\n",
    "They can be assigned individualy for each of the eigth boundaries:\n",
    "\n",
    "* `nclx1` and `nclxn`, where $x=0$ and $x=xlx$;\n",
    "* `ncly1` and `nclyn`, where $y=0$ and $y=yly$;\n",
    "* `nclz1` and `nclzn`, where $z=0$ and $z=zlz$.\n",
    "\n",
    "It leads to 5 possibilities (`00`, `11`, `12`, `21` and `22`), because both boundary must be periodic, or not, so `0` cannot be combined.\n",
    "\n",
    "Let's check it out, we are starting with:"
   ]
  },
  {
   "cell_type": "code",
   "execution_count": 13,
   "metadata": {},
   "outputs": [
    {
     "name": "stdout",
     "output_type": "stream",
     "text": [
      "nclx1 = 2\n",
      "nclxn = 2\n",
      "   nx = 121\n",
      "  xlx = 1.2\n",
      "   dx = 0.01\n"
     ]
    }
   ],
   "source": [
    "show_param()"
   ]
  },
  {
   "cell_type": "markdown",
   "metadata": {},
   "source": [
    "We will change just one side to periodic (`nclx1 = 0`), for consistence, the other side should be periodic too. Let's see:"
   ]
  },
  {
   "cell_type": "code",
   "execution_count": 14,
   "metadata": {},
   "outputs": [
    {
     "name": "stdout",
     "output_type": "stream",
     "text": [
      "nclx1 = 0\n",
      "nclxn = 0\n",
      "   nx = 120\n",
      "  xlx = 1.2\n",
      "   dx = 0.01\n"
     ]
    }
   ],
   "source": [
    "prm.nclx1 = 0\n",
    "\n",
    "show_param()"
   ]
  },
  {
   "cell_type": "markdown",
   "metadata": {},
   "source": [
    "Now free-slip in one side (`nclx1 = 1`), and the other should be non-periodic:"
   ]
  },
  {
   "cell_type": "code",
   "execution_count": 15,
   "metadata": {},
   "outputs": [
    {
     "name": "stdout",
     "output_type": "stream",
     "text": [
      "nclx1 = 1\n",
      "nclxn = 1\n",
      "   nx = 121\n",
      "  xlx = 1.2\n",
      "   dx = 0.01\n"
     ]
    }
   ],
   "source": [
    "prm.nclx1 = 1\n",
    "\n",
    "show_param()"
   ]
  },
  {
   "cell_type": "markdown",
   "metadata": {},
   "source": [
    "Setting the other boundary to periodic:"
   ]
  },
  {
   "cell_type": "code",
   "execution_count": 16,
   "metadata": {},
   "outputs": [
    {
     "name": "stdout",
     "output_type": "stream",
     "text": [
      "nclx1 = 0\n",
      "nclxn = 0\n",
      "   nx = 120\n",
      "  xlx = 1.2\n",
      "   dx = 0.01\n"
     ]
    }
   ],
   "source": [
    "prm.nclxn = 0\n",
    "\n",
    "show_param()"
   ]
  },
  {
   "cell_type": "markdown",
   "metadata": {},
   "source": [
    "and now back to Dirichlet:"
   ]
  },
  {
   "cell_type": "code",
   "execution_count": 17,
   "metadata": {},
   "outputs": [
    {
     "name": "stdout",
     "output_type": "stream",
     "text": [
      "nclx1 = 2\n",
      "nclxn = 2\n",
      "   nx = 121\n",
      "  xlx = 1.2\n",
      "   dx = 0.01\n"
     ]
    }
   ],
   "source": [
    "prm.nclxn = 2\n",
    "\n",
    "show_param()"
   ]
  },
  {
   "cell_type": "markdown",
   "metadata": {},
   "source": [
    "This time, free-slip:"
   ]
  },
  {
   "cell_type": "code",
   "execution_count": 18,
   "metadata": {},
   "outputs": [
    {
     "name": "stdout",
     "output_type": "stream",
     "text": [
      "nclx1 = 2\n",
      "nclxn = 1\n",
      "   nx = 121\n",
      "  xlx = 1.2\n",
      "   dx = 0.01\n"
     ]
    }
   ],
   "source": [
    "prm.nclxn = 1\n",
    "\n",
    "show_param()"
   ]
  },
  {
   "cell_type": "markdown",
   "metadata": {},
   "source": [
    "There was no need to update `nclx1`, because `1` and `2` can be freely combined. Notice that `nx` was modified properly from 121 to 120 and then back, according to the possible values, `dx` and `xlx` stayed untouched."
   ]
  },
  {
   "cell_type": "markdown",
   "metadata": {},
   "source": [
    "### Metadata"
   ]
  },
  {
   "cell_type": "markdown",
   "metadata": {},
   "source": [
    "Traitlets types constructors have a `tag` method to store metadata in a dictionary. In the case of Xcompact3d-toolbox, two are especially useful:\n",
    "\n",
    "* `group` defines to what namespace a given parameter belongs when the class is written to `.i3d` file (`.write()` method) or read from `.i3d` file (`.read()` method), parameters without a group are ignored for both methods;\n",
    "* `widget` defines an [ipywidgets](https://ipywidgets.readthedocs.io/en/latest/) used to interact with each parameter."
   ]
  },
  {
   "cell_type": "markdown",
   "metadata": {},
   "source": [
    "### Linked widget"
   ]
  },
  {
   "cell_type": "markdown",
   "metadata": {},
   "source": [
    "<div class=\"alert alert-warning\">\n",
    "\n",
    "There is a bug reported affecting this subject [#2](https://github.com/fschuch/xcompact3d_toolbox/issues/2), the widgets are not working properly at the moment.\n",
    "\n",
    "</div>\n",
    "\n",
    "Parameters with `widget` tag are related to the value at its widget in a two-way link. Widgets are returned on demand when `class Parameters` is called, let's see:"
   ]
  },
  {
   "cell_type": "code",
   "execution_count": 19,
   "metadata": {},
   "outputs": [
    {
     "data": {
      "application/vnd.jupyter.widget-view+json": {
       "model_id": "237874889ccb4a1896852f5251141898",
       "version_major": 2,
       "version_minor": 0
      },
      "text/plain": [
       "VBox(children=(Dropdown(description='nx', options=(9, 11, 13, 17, 19, 21, 25, 31, 33, 37, 41, 49, 51, 55, 61, …"
      ]
     },
     "metadata": {},
     "output_type": "display_data"
    }
   ],
   "source": [
    "prm('nx', 'xlx', 'dx', 'nclx1', 'nclxn')"
   ]
  },
  {
   "cell_type": "code",
   "execution_count": null,
   "metadata": {},
   "outputs": [],
   "source": []
  },
  {
   "cell_type": "markdown",
   "metadata": {},
   "source": [
    "You can play around with the widgets above and see the effect of the observations made previously."
   ]
  },
  {
   "cell_type": "markdown",
   "metadata": {},
   "source": [
    "Since there is a two-way link, a `print` will show the actual value on the widgets:"
   ]
  },
  {
   "cell_type": "code",
   "execution_count": 20,
   "metadata": {},
   "outputs": [
    {
     "name": "stdout",
     "output_type": "stream",
     "text": [
      "121 1.2 0.01 2 1\n"
     ]
    }
   ],
   "source": [
    "print(prm.nx, prm.xlx, prm.dx, prm.nclx1, prm.nclxn)"
   ]
  },
  {
   "cell_type": "markdown",
   "metadata": {},
   "source": [
    "Give it a try, modify the values at the widgets and print them again.\n",
    "\n",
    "It also works on the other way, atribute a new value to a parameters will change its widget, see:"
   ]
  },
  {
   "cell_type": "code",
   "execution_count": 21,
   "metadata": {},
   "outputs": [],
   "source": [
    "prm.nclx1 = 0"
   ]
  },
  {
   "cell_type": "markdown",
   "metadata": {},
   "source": [
    "And of course, different widgets for the same parameter are always synchronized, change the widget bellow and see waht hapens with the widget above:"
   ]
  },
  {
   "cell_type": "code",
   "execution_count": 22,
   "metadata": {},
   "outputs": [
    {
     "data": {
      "application/vnd.jupyter.widget-view+json": {
       "model_id": "db1b36ec976e4066968a45993d94389d",
       "version_major": 2,
       "version_minor": 0
      },
      "text/plain": [
       "VBox(children=(Dropdown(description='nx', options=(9, 11, 13, 17, 19, 21, 25, 31, 33, 37, 41, 49, 51, 55, 61, …"
      ]
     },
     "metadata": {},
     "output_type": "display_data"
    }
   ],
   "source": [
    "prm('nx')"
   ]
  },
  {
   "cell_type": "markdown",
   "metadata": {},
   "source": [
    "## Graphical User Interface"
   ]
  },
  {
   "cell_type": "markdown",
   "metadata": {},
   "source": [
    "To conclude this part of the tutorial, let's see what happend when `class Parameters` is called with no arguments, hover the mouse over some variable to see its description:"
   ]
  },
  {
   "cell_type": "code",
   "execution_count": 23,
   "metadata": {},
   "outputs": [
    {
     "data": {
      "application/vnd.jupyter.widget-view+json": {
       "model_id": "44c6981b2c8c4b39a11c5cc7c8b48dc6",
       "version_major": 2,
       "version_minor": 0
      },
      "text/plain": [
       "VBox(children=(HTML(value='<h1>Xcompact3d Parameters</h1>'), HBox(children=(Text(value='', description='filena…"
      ]
     },
     "metadata": {},
     "output_type": "display_data"
    }
   ],
   "source": [
    "prm()"
   ]
  }
 ],
 "metadata": {
  "kernelspec": {
   "display_name": "Python 3",
   "language": "python",
   "name": "python3"
  },
  "language_info": {
   "codemirror_mode": {
    "name": "ipython",
    "version": 3
   },
   "file_extension": ".py",
   "mimetype": "text/x-python",
   "name": "python",
   "nbconvert_exporter": "python",
   "pygments_lexer": "ipython3",
   "version": "3.7.7"
  },
  "widgets": {
   "application/vnd.jupyter.widget-state+json": {
    "state": {
     "007df31ebd774ba1bede6b0647d62b12": {
      "model_module": "@jupyter-widgets/controls",
      "model_module_version": "1.5.0",
      "model_name": "HTMLModel",
      "state": {
       "layout": "IPY_MODEL_72c8420800364486b5fc4ddedeee46d5",
       "style": "IPY_MODEL_ff46a663e0b9458b8f00612d26ebe5ca",
       "value": "<strong>cp, us, sc, ri, scalar_lbound & scalar_ubound</strong> are lists with length numscalar, set them properly on the code."
      }
     },
     "01694bd5b41d422eb3deeb49325ec05e": {
      "model_module": "@jupyter-widgets/controls",
      "model_module_version": "1.5.0",
      "model_name": "DropdownModel",
      "state": {
       "_options_labels": [
        "6th compact",
        "hyperviscous 6th"
       ],
       "description": "isecondder",
       "disabled": true,
       "index": 0,
       "layout": "IPY_MODEL_7c3e451f1d6544049cb1e47bef36befd",
       "style": "IPY_MODEL_fc2b8415837043b188423034a351a96b"
      }
     },
     "04191b5659d144c191a05a2a5f23297c": {
      "model_module": "@jupyter-widgets/controls",
      "model_module_version": "1.5.0",
      "model_name": "DescriptionStyleModel",
      "state": {
       "description_width": ""
      }
     },
     "043a4dccf72d4ba3aba0dc7c2250a622": {
      "model_module": "@jupyter-widgets/controls",
      "model_module_version": "1.5.0",
      "model_name": "DescriptionStyleModel",
      "state": {
       "description_width": ""
      }
     },
     "054ba4c0f46e454d926e46ad378ec7f4": {
      "model_module": "@jupyter-widgets/base",
      "model_module_version": "1.2.0",
      "model_name": "LayoutModel",
      "state": {}
     },
     "06226e9e55524ead967923827241ccca": {
      "model_module": "@jupyter-widgets/controls",
      "model_module_version": "1.5.0",
      "model_name": "DescriptionStyleModel",
      "state": {
       "description_width": ""
      }
     },
     "0704a4942a9649b78d2bb17b38e35957": {
      "model_module": "@jupyter-widgets/controls",
      "model_module_version": "1.5.0",
      "model_name": "DescriptionStyleModel",
      "state": {
       "description_width": ""
      }
     },
     "0725b50d6a3642b28a53c8cb49d0972f": {
      "model_module": "@jupyter-widgets/controls",
      "model_module_version": "1.5.0",
      "model_name": "DescriptionStyleModel",
      "state": {
       "description_width": ""
      }
     },
     "07a59f699d274c988c7d98ab8a34694f": {
      "model_module": "@jupyter-widgets/base",
      "model_module_version": "1.2.0",
      "model_name": "LayoutModel",
      "state": {}
     },
     "07afbedcb5034cd48a60304463010989": {
      "model_module": "@jupyter-widgets/controls",
      "model_module_version": "1.5.0",
      "model_name": "IntSliderModel",
      "state": {
       "continuous_update": false,
       "description": "numscalar",
       "layout": "IPY_MODEL_4df0f186cf0943eab0be1f5b5803e8d9",
       "max": 9,
       "style": "IPY_MODEL_cdd7f3a8a1af408699083c989f65d775"
      }
     },
     "09cb2eea3cb8459e8a13d44f351aaa6e": {
      "model_module": "@jupyter-widgets/base",
      "model_module_version": "1.2.0",
      "model_name": "LayoutModel",
      "state": {}
     },
     "0b55e0d377494e38b6f6666826b3ee37": {
      "model_module": "@jupyter-widgets/controls",
      "model_module_version": "1.5.0",
      "model_name": "DescriptionStyleModel",
      "state": {
       "description_width": ""
      }
     },
     "0db5dc56d5914b1491eb3d84789b330c": {
      "model_module": "@jupyter-widgets/base",
      "model_module_version": "1.2.0",
      "model_name": "LayoutModel",
      "state": {}
     },
     "0dd73b89fb9e4709aa04763db61356a2": {
      "model_module": "@jupyter-widgets/base",
      "model_module_version": "1.2.0",
      "model_name": "LayoutModel",
      "state": {}
     },
     "0de02e2ba24a459aa09fa38252209c1f": {
      "model_module": "@jupyter-widgets/controls",
      "model_module_version": "1.5.0",
      "model_name": "DescriptionStyleModel",
      "state": {
       "description_width": ""
      }
     },
     "0ef988bc40b747e3b3ed56489f8acb30": {
      "model_module": "@jupyter-widgets/base",
      "model_module_version": "1.2.0",
      "model_name": "LayoutModel",
      "state": {}
     },
     "0f7ed5655180401c8994d2a73391c71c": {
      "model_module": "@jupyter-widgets/controls",
      "model_module_version": "1.5.0",
      "model_name": "HBoxModel",
      "state": {
       "children": [
        "IPY_MODEL_56be3e12d3a84683a3bd32f91067f902",
        "IPY_MODEL_8aeab640ad3c49328536cb9f60c68d84",
        "IPY_MODEL_56b3714326f649ba841e8995009465ff"
       ],
       "layout": "IPY_MODEL_473a1f01c2c543c5b8cbc6a8a1853061"
      }
     },
     "121014e2cb9c4b2dbea50b8292f44b46": {
      "model_module": "@jupyter-widgets/controls",
      "model_module_version": "1.5.0",
      "model_name": "DescriptionStyleModel",
      "state": {
       "description_width": ""
      }
     },
     "12632a842b1541febb48da2df316bfb5": {
      "model_module": "@jupyter-widgets/controls",
      "model_module_version": "1.5.0",
      "model_name": "DescriptionStyleModel",
      "state": {
       "description_width": ""
      }
     },
     "12af0794861e478e992575a9b14bfd2d": {
      "model_module": "@jupyter-widgets/controls",
      "model_module_version": "1.5.0",
      "model_name": "HBoxModel",
      "state": {
       "children": [
        "IPY_MODEL_1ad4243ce4214390aa253ed1fda0dad7",
        "IPY_MODEL_569fd340e7e541b8a7c23f5dc50785be",
        "IPY_MODEL_595dd7a2868f43bd91e698ed0a6a2629"
       ],
       "layout": "IPY_MODEL_bbaee07799f64f9aacbed33bad21da1d"
      }
     },
     "13e976cb2b0248b798a3ac91dd745abc": {
      "model_module": "@jupyter-widgets/controls",
      "model_module_version": "1.5.0",
      "model_name": "DropdownModel",
      "state": {
       "_options_labels": [
        "Periodic",
        "No-flux",
        "Dirichlet"
       ],
       "description": "nclzSn",
       "index": 0,
       "layout": "IPY_MODEL_46a65ba149854d0cba5545d218e9049a",
       "style": "IPY_MODEL_e6537361df084b3cb53ae42a54a3c4bb"
      }
     },
     "13f8b5bc13a1439d8fc7d1c41531ba05": {
      "model_module": "@jupyter-widgets/controls",
      "model_module_version": "1.5.0",
      "model_name": "HBoxModel",
      "state": {
       "children": [
        "IPY_MODEL_9d4bcdb749a1435d9de28dba7f3ff58d",
        "IPY_MODEL_c3b50147eb764dd0b67e542787c9bb91",
        "IPY_MODEL_182c3d42616b422b805003c757e8fb1e"
       ],
       "layout": "IPY_MODEL_ab4c25d0175a47cd914eb34f2c666825"
      }
     },
     "1400a358c73b43ddbc36260833d42481": {
      "model_module": "@jupyter-widgets/controls",
      "model_module_version": "1.5.0",
      "model_name": "DropdownModel",
      "state": {
       "_options_labels": [
        "9",
        "11",
        "13",
        "17",
        "19",
        "21",
        "25",
        "31",
        "33",
        "37",
        "41",
        "49",
        "51",
        "55",
        "61",
        "65",
        "73",
        "81",
        "91",
        "97",
        "101",
        "109",
        "121",
        "129",
        "145",
        "151",
        "161",
        "163",
        "181",
        "193",
        "201",
        "217",
        "241",
        "251",
        "257",
        "271",
        "289",
        "301",
        "321",
        "325",
        "361",
        "385",
        "401",
        "433",
        "451",
        "481",
        "487",
        "501",
        "513",
        "541",
        "577",
        "601",
        "641",
        "649",
        "721",
        "751",
        "769",
        "801",
        "811",
        "865",
        "901",
        "961",
        "973",
        "1001",
        "1025",
        "1081",
        "1153",
        "1201",
        "1251",
        "1281",
        "1297",
        "1351",
        "1441",
        "1459",
        "1501",
        "1537",
        "1601",
        "1621",
        "1729",
        "1801",
        "1921",
        "1945",
        "2001",
        "2049",
        "2161",
        "2251",
        "2305",
        "2401",
        "2431",
        "2501",
        "2561",
        "2593",
        "2701",
        "2881",
        "2917",
        "3001",
        "3073",
        "3201",
        "3241",
        "3457",
        "3601",
        "3751",
        "3841",
        "3889",
        "4001",
        "4051",
        "4097",
        "4321",
        "4375",
        "4501",
        "4609",
        "4801",
        "4861",
        "5001",
        "5121",
        "5185",
        "5401",
        "5761",
        "5833",
        "6001",
        "6145",
        "6251",
        "6401",
        "6481",
        "6751",
        "6913",
        "7201",
        "7291",
        "7501",
        "7681",
        "7777",
        "8001",
        "8101",
        "8193",
        "8641",
        "8749",
        "9001"
       ],
       "description": "nx",
       "index": 0,
       "layout": "IPY_MODEL_3fe5132afee34568a6186b50f3abe47d",
       "style": "IPY_MODEL_06226e9e55524ead967923827241ccca"
      }
     },
     "15d801b28cb244e283c31ad5d567ddca": {
      "model_module": "@jupyter-widgets/base",
      "model_module_version": "1.2.0",
      "model_name": "LayoutModel",
      "state": {}
     },
     "15e381fb62094597afae8cd49a7e7259": {
      "model_module": "@jupyter-widgets/controls",
      "model_module_version": "1.5.0",
      "model_name": "DropdownModel",
      "state": {
       "_options_labels": [
        "Off",
        "Forced to zero",
        "Interpolated to zero"
       ],
       "description": "iibm",
       "index": 0,
       "layout": "IPY_MODEL_732e0c94c676450c84786dc4af99770c",
       "style": "IPY_MODEL_81edaa6cb6d14e849aa3b73dfe03467b"
      }
     },
     "164a7bd331514c9f8742c5198c93ad98": {
      "model_module": "@jupyter-widgets/controls",
      "model_module_version": "1.5.0",
      "model_name": "DescriptionStyleModel",
      "state": {
       "description_width": ""
      }
     },
     "1687e58b0a924086bcffafabf710d18c": {
      "model_module": "@jupyter-widgets/base",
      "model_module_version": "1.2.0",
      "model_name": "LayoutModel",
      "state": {}
     },
     "182c3d42616b422b805003c757e8fb1e": {
      "model_module": "@jupyter-widgets/controls",
      "model_module_version": "1.5.0",
      "model_name": "FloatTextModel",
      "state": {
       "description": "gravz",
       "disabled": true,
       "layout": "IPY_MODEL_27e10246b65c462f9fecc9dca13180ac",
       "step": null,
       "style": "IPY_MODEL_79c24887d89249f698869dc5167fff8e"
      }
     },
     "1868daf6cc2f43b6a5a120c233ce3da5": {
      "model_module": "@jupyter-widgets/base",
      "model_module_version": "1.2.0",
      "model_name": "LayoutModel",
      "state": {}
     },
     "18b66ec780844aaa94b38bf372622229": {
      "model_module": "@jupyter-widgets/controls",
      "model_module_version": "1.5.0",
      "model_name": "ButtonModel",
      "state": {
       "description": "Run",
       "disabled": true,
       "icon": "rocket",
       "layout": "IPY_MODEL_38c22eb8f7ae40e1abaad59e3373f72c",
       "style": "IPY_MODEL_f50424b459a24182ad092977c2f22109"
      }
     },
     "1a44af69aad043488cd8812e2c51ab3e": {
      "model_module": "@jupyter-widgets/base",
      "model_module_version": "1.2.0",
      "model_name": "LayoutModel",
      "state": {}
     },
     "1ad4243ce4214390aa253ed1fda0dad7": {
      "model_module": "@jupyter-widgets/controls",
      "model_module_version": "1.5.0",
      "model_name": "BoundedIntTextModel",
      "state": {
       "description": "ncores",
       "layout": "IPY_MODEL_cabb3c5fb1c94f3589f6237434037700",
       "max": 1000000000,
       "style": "IPY_MODEL_667c81a2c05d46aa82d140a053801c4d"
      }
     },
     "1b3f341dfea0489db6946eeab78b6519": {
      "model_module": "@jupyter-widgets/base",
      "model_module_version": "1.2.0",
      "model_name": "LayoutModel",
      "state": {}
     },
     "1b8e5b4a5830401aabcef06804d74314": {
      "model_module": "@jupyter-widgets/base",
      "model_module_version": "1.2.0",
      "model_name": "LayoutModel",
      "state": {}
     },
     "1d9a414f6fc54062a7b5c89664619f02": {
      "model_module": "@jupyter-widgets/controls",
      "model_module_version": "1.5.0",
      "model_name": "DescriptionStyleModel",
      "state": {
       "description_width": ""
      }
     },
     "1e5edd23ef21487095d5e26128b976a4": {
      "model_module": "@jupyter-widgets/controls",
      "model_module_version": "1.5.0",
      "model_name": "BoundedFloatTextModel",
      "state": {
       "description": "dx",
       "layout": "IPY_MODEL_69ffd1e453314ddfaada6c2ba5f479a8",
       "max": 1000000,
       "step": null,
       "style": "IPY_MODEL_a222eafa9d1f494fb9d417f9865f3c11"
      }
     },
     "1fb33db31f4643d29c42b035ff6988db": {
      "model_module": "@jupyter-widgets/controls",
      "model_module_version": "1.5.0",
      "model_name": "HBoxModel",
      "state": {
       "children": [
        "IPY_MODEL_07afbedcb5034cd48a60304463010989"
       ],
       "layout": "IPY_MODEL_d17ac968cc5a4056a1694a194ed69317"
      }
     },
     "20678eb2a5d04db0a04034c9ed4e3c57": {
      "model_module": "@jupyter-widgets/controls",
      "model_module_version": "1.5.0",
      "model_name": "DropdownModel",
      "state": {
       "_options_labels": [
        "Off",
        "Forced to zero",
        "Interpolated to zero",
        "Interpolated to no-flux"
       ],
       "description": "iibmS",
       "index": 0,
       "layout": "IPY_MODEL_edff2736f74c478c9ed9901725be3d03",
       "style": "IPY_MODEL_fe8da990dbf94f5f97de72b2ff8adf6e"
      }
     },
     "2115f095c6e94939832de3cc8eaf99ad": {
      "model_module": "@jupyter-widgets/controls",
      "model_module_version": "1.5.0",
      "model_name": "HBoxModel",
      "state": {
       "children": [
        "IPY_MODEL_7681cf5bebcc4641a8c4b32134f68405",
        "IPY_MODEL_ac68e087ae5f43e78acd485f3502ffd9",
        "IPY_MODEL_5f8b016914be46ee8cf6f51ada69263a",
        "IPY_MODEL_18b66ec780844aaa94b38bf372622229",
        "IPY_MODEL_3adb93c885e745cda19d5cef0bd03ab0"
       ],
       "layout": "IPY_MODEL_0db5dc56d5914b1491eb3d84789b330c"
      }
     },
     "22c48dfddce44872a29398722d5474c8": {
      "model_module": "@jupyter-widgets/controls",
      "model_module_version": "1.5.0",
      "model_name": "HBoxModel",
      "state": {
       "children": [
        "IPY_MODEL_2be0d7692bb842f0be74fad80b651106",
        "IPY_MODEL_eef704b512784716b806c809ab80ba21"
       ],
       "layout": "IPY_MODEL_ded5914f46654693b467640cd9680d3c"
      }
     },
     "237874889ccb4a1896852f5251141898": {
      "model_module": "@jupyter-widgets/controls",
      "model_module_version": "1.5.0",
      "model_name": "VBoxModel",
      "state": {
       "children": [
        "IPY_MODEL_1400a358c73b43ddbc36260833d42481",
        "IPY_MODEL_56be3e12d3a84683a3bd32f91067f902",
        "IPY_MODEL_1e5edd23ef21487095d5e26128b976a4",
        "IPY_MODEL_df8361de227b45dba28acd2ddd7e366f",
        "IPY_MODEL_5d763eef88f44c99af71975485ca7d02"
       ],
       "layout": "IPY_MODEL_3ba91df2b59c44c8b353d6940cf31f4a"
      }
     },
     "24276e0c959a44e681cae6ce972837c2": {
      "model_module": "@jupyter-widgets/base",
      "model_module_version": "1.2.0",
      "model_name": "LayoutModel",
      "state": {}
     },
     "243625f340964e3a81f58535ab50e69f": {
      "model_module": "@jupyter-widgets/controls",
      "model_module_version": "1.5.0",
      "model_name": "ButtonStyleModel",
      "state": {}
     },
     "250582bf431545658adcd4232575eab9": {
      "model_module": "@jupyter-widgets/controls",
      "model_module_version": "1.5.0",
      "model_name": "DescriptionStyleModel",
      "state": {
       "description_width": ""
      }
     },
     "254272773ce943c7874ddefe5ffd0ee5": {
      "model_module": "@jupyter-widgets/controls",
      "model_module_version": "1.5.0",
      "model_name": "HBoxModel",
      "state": {
       "children": [
        "IPY_MODEL_9253e5cbfbbb43c688e9533a67f3b78d",
        "IPY_MODEL_3813b4fc728a461588f29924573e4316",
        "IPY_MODEL_7405709389ef4927aba8a842f6bd7052"
       ],
       "layout": "IPY_MODEL_3999552657dd4045b34ad2a9c2a40391"
      }
     },
     "2589cd0ed7124c6d8ff400f3cc1272a1": {
      "model_module": "@jupyter-widgets/controls",
      "model_module_version": "1.5.0",
      "model_name": "BoundedFloatTextModel",
      "state": {
       "description": "dt",
       "layout": "IPY_MODEL_634ed7c7547247cba86b250d80dad747",
       "max": 1000000,
       "step": null,
       "style": "IPY_MODEL_7a22c6d649284e40885a6b90d4e31cc0"
      }
     },
     "25e8b132fad24ea390425c5c30df6418": {
      "model_module": "@jupyter-widgets/base",
      "model_module_version": "1.2.0",
      "model_name": "LayoutModel",
      "state": {}
     },
     "272c925d063a40178b3cf39cae9dbe4b": {
      "model_module": "@jupyter-widgets/controls",
      "model_module_version": "1.5.0",
      "model_name": "FloatTextModel",
      "state": {
       "description": "init_noise",
       "layout": "IPY_MODEL_3bb6e1bd0e754bc681010be9b7fbff18",
       "step": null,
       "style": "IPY_MODEL_6d62963d414e4d0cb71b0d2777ef4e01"
      }
     },
     "27e10246b65c462f9fecc9dca13180ac": {
      "model_module": "@jupyter-widgets/base",
      "model_module_version": "1.2.0",
      "model_name": "LayoutModel",
      "state": {}
     },
     "280bf5efe4934c8a9315aa997b088081": {
      "model_module": "@jupyter-widgets/base",
      "model_module_version": "1.2.0",
      "model_name": "LayoutModel",
      "state": {}
     },
     "2b793b5e91fa41228cc7fcde54e0acc9": {
      "model_module": "@jupyter-widgets/controls",
      "model_module_version": "1.5.0",
      "model_name": "DescriptionStyleModel",
      "state": {
       "description_width": ""
      }
     },
     "2be0d7692bb842f0be74fad80b651106": {
      "model_module": "@jupyter-widgets/controls",
      "model_module_version": "1.5.0",
      "model_name": "DropdownModel",
      "state": {
       "_options_labels": [
        "User",
        "Lock-exchange",
        "Taylor-Green Vortex",
        "Channel",
        "Periodic Hill",
        "Cylinder",
        "Debug Schemes",
        "Mixing Layer",
        "Turbulent Jet",
        "Turbulent Boundary Layer",
        "Sandbox"
       ],
       "description": "itype",
       "disabled": true,
       "index": 0,
       "layout": "IPY_MODEL_a1251fa442844f0d97f00e803c0ae4c5",
       "style": "IPY_MODEL_88ab41cf6f7b450a9507e29d692a9abd"
      }
     },
     "2dbbe9e7a4a6408d962c84ad57978441": {
      "model_module": "@jupyter-widgets/controls",
      "model_module_version": "1.5.0",
      "model_name": "DescriptionStyleModel",
      "state": {
       "description_width": ""
      }
     },
     "303c3f665a7a4ddaacfb064e9503f50e": {
      "model_module": "@jupyter-widgets/base",
      "model_module_version": "1.2.0",
      "model_name": "LayoutModel",
      "state": {}
     },
     "31a0c7345068418ca8055c37e64d7eb0": {
      "model_module": "@jupyter-widgets/controls",
      "model_module_version": "1.5.0",
      "model_name": "DropdownModel",
      "state": {
       "_options_labels": [
        "2nd central",
        "4th central",
        "4th compact",
        "6th compact"
       ],
       "description": "ifirstder",
       "disabled": true,
       "index": 0,
       "layout": "IPY_MODEL_c7616a863087449fb256a794e1765944",
       "style": "IPY_MODEL_0b55e0d377494e38b6f6666826b3ee37"
      }
     },
     "33b0a59a0c464116a7a53230965a1575": {
      "model_module": "@jupyter-widgets/base",
      "model_module_version": "1.2.0",
      "model_name": "LayoutModel",
      "state": {}
     },
     "3541871152734ec28fdb4d64ca302477": {
      "model_module": "@jupyter-widgets/base",
      "model_module_version": "1.2.0",
      "model_name": "LayoutModel",
      "state": {}
     },
     "35de1ac7a3b94fba8e0b3e9d8e623ac8": {
      "model_module": "@jupyter-widgets/controls",
      "model_module_version": "1.5.0",
      "model_name": "DescriptionStyleModel",
      "state": {
       "description_width": ""
      }
     },
     "35defda057994df28af5fb19f13ae791": {
      "model_module": "@jupyter-widgets/controls",
      "model_module_version": "1.5.0",
      "model_name": "DescriptionStyleModel",
      "state": {
       "description_width": ""
      }
     },
     "3813b4fc728a461588f29924573e4316": {
      "model_module": "@jupyter-widgets/controls",
      "model_module_version": "1.5.0",
      "model_name": "DropdownModel",
      "state": {
       "_options_labels": [
        "Periodic",
        "No-flux",
        "Dirichlet"
       ],
       "description": "nclyS1",
       "index": 0,
       "layout": "IPY_MODEL_7758f9f82dc6432ca86c7807070afa7b",
       "style": "IPY_MODEL_94efa79c3afb45d8a75d5a1965ffefa3"
      }
     },
     "38c22eb8f7ae40e1abaad59e3373f72c": {
      "model_module": "@jupyter-widgets/base",
      "model_module_version": "1.2.0",
      "model_name": "LayoutModel",
      "state": {}
     },
     "3999552657dd4045b34ad2a9c2a40391": {
      "model_module": "@jupyter-widgets/base",
      "model_module_version": "1.2.0",
      "model_name": "LayoutModel",
      "state": {}
     },
     "3adb93c885e745cda19d5cef0bd03ab0": {
      "model_module": "@jupyter-widgets/controls",
      "model_module_version": "1.5.0",
      "model_name": "ButtonModel",
      "state": {
       "description": "Sync",
       "disabled": true,
       "icon": "sync",
       "layout": "IPY_MODEL_25e8b132fad24ea390425c5c30df6418",
       "style": "IPY_MODEL_c289afe9cf024f51acc14d41b698a4ec"
      }
     },
     "3b287e1be5f34bff9f6594c53a5284cf": {
      "model_module": "@jupyter-widgets/controls",
      "model_module_version": "1.5.0",
      "model_name": "DescriptionStyleModel",
      "state": {
       "description_width": ""
      }
     },
     "3ba91df2b59c44c8b353d6940cf31f4a": {
      "model_module": "@jupyter-widgets/base",
      "model_module_version": "1.2.0",
      "model_name": "LayoutModel",
      "state": {}
     },
     "3bb6e1bd0e754bc681010be9b7fbff18": {
      "model_module": "@jupyter-widgets/base",
      "model_module_version": "1.2.0",
      "model_name": "LayoutModel",
      "state": {}
     },
     "3fe5132afee34568a6186b50f3abe47d": {
      "model_module": "@jupyter-widgets/base",
      "model_module_version": "1.2.0",
      "model_name": "LayoutModel",
      "state": {}
     },
     "40bf14728a594b0ca20f304957ccf234": {
      "model_module": "@jupyter-widgets/controls",
      "model_module_version": "1.5.0",
      "model_name": "DescriptionStyleModel",
      "state": {
       "description_width": ""
      }
     },
     "40e95bd5929044d6966f6d91a67e2d55": {
      "model_module": "@jupyter-widgets/base",
      "model_module_version": "1.2.0",
      "model_name": "LayoutModel",
      "state": {}
     },
     "4489442224b24e1bb1531f81eb2469dd": {
      "model_module": "@jupyter-widgets/controls",
      "model_module_version": "1.5.0",
      "model_name": "HBoxModel",
      "state": {
       "children": [
        "IPY_MODEL_d6fcf4b31e1d44008e7076508ee82022",
        "IPY_MODEL_e94373262f184286b7b397ac2153c9e4",
        "IPY_MODEL_13e976cb2b0248b798a3ac91dd745abc"
       ],
       "layout": "IPY_MODEL_7f19b212eefa42e2af6281ca7a096cfb"
      }
     },
     "44c6981b2c8c4b39a11c5cc7c8b48dc6": {
      "model_module": "@jupyter-widgets/controls",
      "model_module_version": "1.5.0",
      "model_name": "VBoxModel",
      "state": {
       "children": [
        "IPY_MODEL_8f49d67beb304eff8682ed644e455b84",
        "IPY_MODEL_2115f095c6e94939832de3cc8eaf99ad",
        "IPY_MODEL_bab8c5eded2d476ba30ec52a86dc753e",
        "IPY_MODEL_22c48dfddce44872a29398722d5474c8",
        "IPY_MODEL_4abb0c8ace2347558e15678bdba5649c",
        "IPY_MODEL_919124399b6a41c685b33cc3b832c48c",
        "IPY_MODEL_12af0794861e478e992575a9b14bfd2d",
        "IPY_MODEL_b51b466ce8474d2588457f26b6b51a64",
        "IPY_MODEL_6c9ddd6fa1de4ebdbdde3a0b8f96d707",
        "IPY_MODEL_63b71dafdbad4cbe9e47e9b9c8c3cd2d",
        "IPY_MODEL_9cbd22b0c0a740108d093f7b2458a690",
        "IPY_MODEL_e34d8e91d36a45b6bf3cbdc78f5ea08e",
        "IPY_MODEL_8cb661762cbd46d7902f50d9918a5887",
        "IPY_MODEL_5e0af734a9ec40dead6514952f06b354",
        "IPY_MODEL_0f7ed5655180401c8994d2a73391c71c",
        "IPY_MODEL_57ee06c51bc34e2abc444dfdeb3ad6f3",
        "IPY_MODEL_6f1f73bd387549d9869d0c33eaae1ff4",
        "IPY_MODEL_bf181a42241246d0a3f811bf441e4de1",
        "IPY_MODEL_4812475ef0db4b7489b18ee57fd85425",
        "IPY_MODEL_8589ae6d12eb4e70bac98386277b2422",
        "IPY_MODEL_d19147a9f9774340a8709b9129be3314",
        "IPY_MODEL_8a4891c8c8c74d008bcad18eb1b7c3cf",
        "IPY_MODEL_997af87b3fec413cb9dbfd53ea3e4479",
        "IPY_MODEL_1fb33db31f4643d29c42b035ff6988db",
        "IPY_MODEL_254272773ce943c7874ddefe5ffd0ee5",
        "IPY_MODEL_4489442224b24e1bb1531f81eb2469dd",
        "IPY_MODEL_13f8b5bc13a1439d8fc7d1c41531ba05",
        "IPY_MODEL_53ab276700ba4eb78dd87cca630a0356",
        "IPY_MODEL_007df31ebd774ba1bede6b0647d62b12",
        "IPY_MODEL_bc9fb65c71a2432885981d5e2548c79d",
        "IPY_MODEL_54cbb6181b1a4c3bb5f8e4eeb05d7fe2"
       ],
       "layout": "IPY_MODEL_8ec2609e20e94c668c201812b5401956"
      }
     },
     "46067e0ed2b64be296cd1072e1add140": {
      "model_module": "@jupyter-widgets/controls",
      "model_module_version": "1.5.0",
      "model_name": "DescriptionStyleModel",
      "state": {
       "description_width": ""
      }
     },
     "46325aac8f35497f8766c80dc5b216f6": {
      "model_module": "@jupyter-widgets/base",
      "model_module_version": "1.2.0",
      "model_name": "LayoutModel",
      "state": {}
     },
     "46a65ba149854d0cba5545d218e9049a": {
      "model_module": "@jupyter-widgets/base",
      "model_module_version": "1.2.0",
      "model_name": "LayoutModel",
      "state": {}
     },
     "473a1f01c2c543c5b8cbc6a8a1853061": {
      "model_module": "@jupyter-widgets/base",
      "model_module_version": "1.2.0",
      "model_name": "LayoutModel",
      "state": {}
     },
     "474e8dcf94a04e03b28b570c94692ffb": {
      "model_module": "@jupyter-widgets/controls",
      "model_module_version": "1.5.0",
      "model_name": "DescriptionStyleModel",
      "state": {
       "description_width": ""
      }
     },
     "4812475ef0db4b7489b18ee57fd85425": {
      "model_module": "@jupyter-widgets/controls",
      "model_module_version": "1.5.0",
      "model_name": "HBoxModel",
      "state": {
       "children": [
        "IPY_MODEL_7711e4c3616444ccb9fad049d5bc7e8b",
        "IPY_MODEL_f99b551eeb9b4a9886faeb9a9ded0e41"
       ],
       "layout": "IPY_MODEL_ec4ba5435b2f4e24bc0b46e04d1c2a29"
      }
     },
     "48f79b9ad4cf4b178ff95591825a605d": {
      "model_module": "@jupyter-widgets/base",
      "model_module_version": "1.2.0",
      "model_name": "LayoutModel",
      "state": {}
     },
     "49a2014715354e7396414d2debc1babb": {
      "model_module": "@jupyter-widgets/controls",
      "model_module_version": "1.5.0",
      "model_name": "DropdownModel",
      "state": {
       "_options_labels": [
        "DNS",
        "Phys Smag",
        "Phys WALE",
        "Phys dyn. Smag",
        "iSVV"
       ],
       "description": "ilesmod",
       "index": 0,
       "layout": "IPY_MODEL_054ba4c0f46e454d926e46ad378ec7f4",
       "style": "IPY_MODEL_87cb98c816564c408866486b1a5fd01a"
      }
     },
     "4a880ccd5efe4c93b1724fba2fc4b3dd": {
      "model_module": "@jupyter-widgets/controls",
      "model_module_version": "1.5.0",
      "model_name": "DescriptionStyleModel",
      "state": {
       "description_width": ""
      }
     },
     "4abb0c8ace2347558e15678bdba5649c": {
      "model_module": "@jupyter-widgets/controls",
      "model_module_version": "1.5.0",
      "model_name": "HBoxModel",
      "state": {
       "children": [
        "IPY_MODEL_a782afd2ca014563828873ac13e1c220",
        "IPY_MODEL_272c925d063a40178b3cf39cae9dbe4b",
        "IPY_MODEL_f912cb4c2a4947f992864a8e4e149527"
       ],
       "layout": "IPY_MODEL_46325aac8f35497f8766c80dc5b216f6"
      }
     },
     "4bff7c5f78d0444a963c89f69696a025": {
      "model_module": "@jupyter-widgets/controls",
      "model_module_version": "1.5.0",
      "model_name": "DropdownModel",
      "state": {
       "_options_labels": [
        "Off",
        "On"
       ],
       "description": "ipost",
       "index": 0,
       "layout": "IPY_MODEL_24276e0c959a44e681cae6ce972837c2",
       "style": "IPY_MODEL_8f0822771d9d46e7829b289621d96904"
      }
     },
     "4c6b0707cc6e4fee84351c824860a57f": {
      "model_module": "@jupyter-widgets/controls",
      "model_module_version": "1.5.0",
      "model_name": "TextModel",
      "state": {
       "description": "Size",
       "disabled": true,
       "layout": "IPY_MODEL_6cbe7c0233904c818883ee3a1b0fe42c",
       "style": "IPY_MODEL_b77949b0bfda4638ad449ef43e6babc0"
      }
     },
     "4d89c9c464934816bafc4ba21c506a0d": {
      "model_module": "@jupyter-widgets/controls",
      "model_module_version": "1.5.0",
      "model_name": "SliderStyleModel",
      "state": {
       "description_width": ""
      }
     },
     "4df0f186cf0943eab0be1f5b5803e8d9": {
      "model_module": "@jupyter-widgets/base",
      "model_module_version": "1.2.0",
      "model_name": "LayoutModel",
      "state": {}
     },
     "4e3396437f4446198e7165999d9070db": {
      "model_module": "@jupyter-widgets/controls",
      "model_module_version": "1.5.0",
      "model_name": "BoundedIntTextModel",
      "state": {
       "description": "nvisu",
       "disabled": true,
       "layout": "IPY_MODEL_72eef4fb344649b195740bfdffbef068",
       "max": 1000000000,
       "min": 1,
       "style": "IPY_MODEL_2b793b5e91fa41228cc7fcde54e0acc9",
       "value": 1
      }
     },
     "4f24a0d78ae94517a8cb4e6025f3214a": {
      "model_module": "@jupyter-widgets/base",
      "model_module_version": "1.2.0",
      "model_name": "LayoutModel",
      "state": {}
     },
     "4f75a44a2dc041128a0dba9cd0d5dc48": {
      "model_module": "@jupyter-widgets/controls",
      "model_module_version": "1.5.0",
      "model_name": "DescriptionStyleModel",
      "state": {
       "description_width": ""
      }
     },
     "508e4988cdd04372a2fc7e15e4fc904c": {
      "model_module": "@jupyter-widgets/controls",
      "model_module_version": "1.5.0",
      "model_name": "IntTextModel",
      "state": {
       "description": "ifirst",
       "layout": "IPY_MODEL_bd920a409f314dfb820245ff8930dd9f",
       "step": 1,
       "style": "IPY_MODEL_474e8dcf94a04e03b28b570c94692ffb"
      }
     },
     "52a9057cf13548019714f76bbae01992": {
      "model_module": "@jupyter-widgets/base",
      "model_module_version": "1.2.0",
      "model_name": "LayoutModel",
      "state": {}
     },
     "52d678fde8024fae8e6222078b6f0d57": {
      "model_module": "@jupyter-widgets/base",
      "model_module_version": "1.2.0",
      "model_name": "LayoutModel",
      "state": {}
     },
     "53ab276700ba4eb78dd87cca630a0356": {
      "model_module": "@jupyter-widgets/controls",
      "model_module_version": "1.5.0",
      "model_name": "HBoxModel",
      "state": {
       "children": [
        "IPY_MODEL_20678eb2a5d04db0a04034c9ed4e3c57"
       ],
       "layout": "IPY_MODEL_8f2c12ef61ed4575a42e032d840b9819"
      }
     },
     "54cbb6181b1a4c3bb5f8e4eeb05d7fe2": {
      "model_module": "@jupyter-widgets/controls",
      "model_module_version": "1.5.0",
      "model_name": "HBoxModel",
      "state": {
       "children": [
        "IPY_MODEL_15e381fb62094597afae8cd49a7e7259",
        "IPY_MODEL_e31642bceaa24d8ba3a51ef8accf2b78",
        "IPY_MODEL_5d96dae7237745ff8eb21a2ba0f3c19f"
       ],
       "layout": "IPY_MODEL_1b8e5b4a5830401aabcef06804d74314"
      }
     },
     "55060fa4bba144668eef3bce1f63039c": {
      "model_module": "@jupyter-widgets/base",
      "model_module_version": "1.2.0",
      "model_name": "LayoutModel",
      "state": {}
     },
     "558ad4bc41ce426bb7f214cb71bf576b": {
      "model_module": "@jupyter-widgets/base",
      "model_module_version": "1.2.0",
      "model_name": "LayoutModel",
      "state": {}
     },
     "569fd340e7e541b8a7c23f5dc50785be": {
      "model_module": "@jupyter-widgets/controls",
      "model_module_version": "1.5.0",
      "model_name": "DropdownModel",
      "state": {
       "_options_labels": [
        "0"
       ],
       "description": "p_row",
       "index": 0,
       "layout": "IPY_MODEL_eaadff1d390540cab5a5ca6cef0cd808",
       "style": "IPY_MODEL_8c6811ee717644b0bc6a000ae5cf2181"
      }
     },
     "56b3714326f649ba841e8995009465ff": {
      "model_module": "@jupyter-widgets/controls",
      "model_module_version": "1.5.0",
      "model_name": "BoundedFloatTextModel",
      "state": {
       "description": "zlz",
       "layout": "IPY_MODEL_e7e75b50266145dfb63fd37f01f22889",
       "max": 1000000,
       "step": null,
       "style": "IPY_MODEL_1d9a414f6fc54062a7b5c89664619f02"
      }
     },
     "56be3e12d3a84683a3bd32f91067f902": {
      "model_module": "@jupyter-widgets/controls",
      "model_module_version": "1.5.0",
      "model_name": "BoundedFloatTextModel",
      "state": {
       "description": "xlx",
       "layout": "IPY_MODEL_52d678fde8024fae8e6222078b6f0d57",
       "max": 1000000,
       "step": null,
       "style": "IPY_MODEL_e2565110cd7a4778a870b781e987bcf4"
      }
     },
     "57ee06c51bc34e2abc444dfdeb3ad6f3": {
      "model_module": "@jupyter-widgets/controls",
      "model_module_version": "1.5.0",
      "model_name": "HBoxModel",
      "state": {
       "children": [
        "IPY_MODEL_1e5edd23ef21487095d5e26128b976a4",
        "IPY_MODEL_f1380453ba234d95b269ca74d6e038b4",
        "IPY_MODEL_5eb7713157aa409385edf9f67f64c1bd"
       ],
       "layout": "IPY_MODEL_303c3f665a7a4ddaacfb064e9503f50e"
      }
     },
     "584fc09d463447f081a389224016bdb5": {
      "model_module": "@jupyter-widgets/controls",
      "model_module_version": "1.5.0",
      "model_name": "DescriptionStyleModel",
      "state": {
       "description_width": ""
      }
     },
     "593757aeeae0437ca0f9c0f443ad2179": {
      "model_module": "@jupyter-widgets/base",
      "model_module_version": "1.2.0",
      "model_name": "LayoutModel",
      "state": {}
     },
     "595dd7a2868f43bd91e698ed0a6a2629": {
      "model_module": "@jupyter-widgets/controls",
      "model_module_version": "1.5.0",
      "model_name": "DropdownModel",
      "state": {
       "_options_labels": [
        "0"
       ],
       "description": "p_col",
       "index": 0,
       "layout": "IPY_MODEL_8455b33007e5426abc7ecea18fcb6f31",
       "style": "IPY_MODEL_ab79ae94db5b4e008a0c182887dcabea"
      }
     },
     "5b2f8a1731b1480e9e3aa02f446ff294": {
      "model_module": "@jupyter-widgets/controls",
      "model_module_version": "1.5.0",
      "model_name": "DescriptionStyleModel",
      "state": {
       "description_width": ""
      }
     },
     "5d763eef88f44c99af71975485ca7d02": {
      "model_module": "@jupyter-widgets/controls",
      "model_module_version": "1.5.0",
      "model_name": "DropdownModel",
      "state": {
       "_options_labels": [
        "Periodic",
        "Free-slip",
        "Outflow"
       ],
       "description": "nclxn",
       "index": 0,
       "layout": "IPY_MODEL_7cb9b3c7375c49bcb75b7b41ef326c73",
       "style": "IPY_MODEL_d1b755e5c53d4738817fb5582f47b59e"
      }
     },
     "5d8b9d1713e14e6384c52be88c7b28ec": {
      "model_module": "@jupyter-widgets/base",
      "model_module_version": "1.2.0",
      "model_name": "LayoutModel",
      "state": {}
     },
     "5d96dae7237745ff8eb21a2ba0f3c19f": {
      "model_module": "@jupyter-widgets/controls",
      "model_module_version": "1.5.0",
      "model_name": "IntTextModel",
      "state": {
       "description": "nobjmax",
       "disabled": true,
       "layout": "IPY_MODEL_8e82c44ffabe4cf68ae5ed920e36fb73",
       "step": 1,
       "style": "IPY_MODEL_04191b5659d144c191a05a2a5f23297c"
      }
     },
     "5da1721327a0432ca9fd2a717eeada1c": {
      "model_module": "@jupyter-widgets/controls",
      "model_module_version": "1.5.0",
      "model_name": "DescriptionStyleModel",
      "state": {
       "description_width": ""
      }
     },
     "5e0af734a9ec40dead6514952f06b354": {
      "model_module": "@jupyter-widgets/controls",
      "model_module_version": "1.5.0",
      "model_name": "HBoxModel",
      "state": {
       "children": [
        "IPY_MODEL_1400a358c73b43ddbc36260833d42481",
        "IPY_MODEL_f753352066d043ffb5e655eae0ea4037",
        "IPY_MODEL_6c78affb4d8e4eab85f743b5e50fe889"
       ],
       "layout": "IPY_MODEL_40e95bd5929044d6966f6d91a67e2d55"
      }
     },
     "5eb7713157aa409385edf9f67f64c1bd": {
      "model_module": "@jupyter-widgets/controls",
      "model_module_version": "1.5.0",
      "model_name": "BoundedFloatTextModel",
      "state": {
       "description": "dz",
       "layout": "IPY_MODEL_6949c2b93d1747678daa0cfca27d8309",
       "max": 1000000,
       "step": null,
       "style": "IPY_MODEL_74a2e18aaa7345ef95223c2c280c7583"
      }
     },
     "5f429489fc4749d8897e401e2e282ef6": {
      "model_module": "@jupyter-widgets/base",
      "model_module_version": "1.2.0",
      "model_name": "LayoutModel",
      "state": {}
     },
     "5f8b016914be46ee8cf6f51ada69263a": {
      "model_module": "@jupyter-widgets/controls",
      "model_module_version": "1.5.0",
      "model_name": "ButtonModel",
      "state": {
       "description": "Write",
       "disabled": true,
       "icon": "file-download",
       "layout": "IPY_MODEL_4f24a0d78ae94517a8cb4e6025f3214a",
       "style": "IPY_MODEL_6bd0074629ec46bf94e3b5b69cf23fbd"
      }
     },
     "60c82106742d498caa3e23cb74e7593a": {
      "model_module": "@jupyter-widgets/base",
      "model_module_version": "1.2.0",
      "model_name": "LayoutModel",
      "state": {}
     },
     "624dc5f6883a43b8ac5b55083c69f60c": {
      "model_module": "@jupyter-widgets/base",
      "model_module_version": "1.2.0",
      "model_name": "LayoutModel",
      "state": {}
     },
     "634ed7c7547247cba86b250d80dad747": {
      "model_module": "@jupyter-widgets/base",
      "model_module_version": "1.2.0",
      "model_name": "LayoutModel",
      "state": {}
     },
     "63b71dafdbad4cbe9e47e9b9c8c3cd2d": {
      "model_module": "@jupyter-widgets/controls",
      "model_module_version": "1.5.0",
      "model_name": "HTMLModel",
      "state": {
       "layout": "IPY_MODEL_55060fa4bba144668eef3bce1f63039c",
       "style": "IPY_MODEL_46067e0ed2b64be296cd1072e1add140",
       "value": "<h3>InOutParam</h3>"
      }
     },
     "63d31caf55434b97ab33570d77178687": {
      "model_module": "@jupyter-widgets/controls",
      "model_module_version": "1.5.0",
      "model_name": "DescriptionStyleModel",
      "state": {
       "description_width": ""
      }
     },
     "65102f98f6af4091825ee8532bbad7cc": {
      "model_module": "@jupyter-widgets/base",
      "model_module_version": "1.2.0",
      "model_name": "LayoutModel",
      "state": {}
     },
     "65b0a9332cf64befb4a0a1a9ec650aa4": {
      "model_module": "@jupyter-widgets/base",
      "model_module_version": "1.2.0",
      "model_name": "LayoutModel",
      "state": {}
     },
     "667c81a2c05d46aa82d140a053801c4d": {
      "model_module": "@jupyter-widgets/controls",
      "model_module_version": "1.5.0",
      "model_name": "DescriptionStyleModel",
      "state": {
       "description_width": ""
      }
     },
     "668bc5fe3b7f4e90955c83f3f0fa62cc": {
      "model_module": "@jupyter-widgets/controls",
      "model_module_version": "1.5.0",
      "model_name": "BoundedIntTextModel",
      "state": {
       "description": "iprocessing",
       "layout": "IPY_MODEL_d795489be02e46e4b982b02af20cef85",
       "max": 1000000000,
       "min": 1,
       "style": "IPY_MODEL_f3437604235a4cecb3981ee09e6c9aad",
       "value": 1
      }
     },
     "6949c2b93d1747678daa0cfca27d8309": {
      "model_module": "@jupyter-widgets/base",
      "model_module_version": "1.2.0",
      "model_name": "LayoutModel",
      "state": {}
     },
     "69ffd1e453314ddfaada6c2ba5f479a8": {
      "model_module": "@jupyter-widgets/base",
      "model_module_version": "1.2.0",
      "model_name": "LayoutModel",
      "state": {}
     },
     "6bd0074629ec46bf94e3b5b69cf23fbd": {
      "model_module": "@jupyter-widgets/controls",
      "model_module_version": "1.5.0",
      "model_name": "ButtonStyleModel",
      "state": {}
     },
     "6c78affb4d8e4eab85f743b5e50fe889": {
      "model_module": "@jupyter-widgets/controls",
      "model_module_version": "1.5.0",
      "model_name": "DropdownModel",
      "state": {
       "_options_labels": [
        "9",
        "11",
        "13",
        "17",
        "19",
        "21",
        "25",
        "31",
        "33",
        "37",
        "41",
        "49",
        "51",
        "55",
        "61",
        "65",
        "73",
        "81",
        "91",
        "97",
        "101",
        "109",
        "121",
        "129",
        "145",
        "151",
        "161",
        "163",
        "181",
        "193",
        "201",
        "217",
        "241",
        "251",
        "257",
        "271",
        "289",
        "301",
        "321",
        "325",
        "361",
        "385",
        "401",
        "433",
        "451",
        "481",
        "487",
        "501",
        "513",
        "541",
        "577",
        "601",
        "641",
        "649",
        "721",
        "751",
        "769",
        "801",
        "811",
        "865",
        "901",
        "961",
        "973",
        "1001",
        "1025",
        "1081",
        "1153",
        "1201",
        "1251",
        "1281",
        "1297",
        "1351",
        "1441",
        "1459",
        "1501",
        "1537",
        "1601",
        "1621",
        "1729",
        "1801",
        "1921",
        "1945",
        "2001",
        "2049",
        "2161",
        "2251",
        "2305",
        "2401",
        "2431",
        "2501",
        "2561",
        "2593",
        "2701",
        "2881",
        "2917",
        "3001",
        "3073",
        "3201",
        "3241",
        "3457",
        "3601",
        "3751",
        "3841",
        "3889",
        "4001",
        "4051",
        "4097",
        "4321",
        "4375",
        "4501",
        "4609",
        "4801",
        "4861",
        "5001",
        "5121",
        "5185",
        "5401",
        "5761",
        "5833",
        "6001",
        "6145",
        "6251",
        "6401",
        "6481",
        "6751",
        "6913",
        "7201",
        "7291",
        "7501",
        "7681",
        "7777",
        "8001",
        "8101",
        "8193",
        "8641",
        "8749",
        "9001"
       ],
       "description": "nz",
       "index": 0,
       "layout": "IPY_MODEL_c597cc01eaa543b3af20349161e94db6",
       "style": "IPY_MODEL_77f1204666ef465c9d5c05f8517f622e"
      }
     },
     "6c9ddd6fa1de4ebdbdde3a0b8f96d707": {
      "model_module": "@jupyter-widgets/controls",
      "model_module_version": "1.5.0",
      "model_name": "HBoxModel",
      "state": {
       "children": [
        "IPY_MODEL_508e4988cdd04372a2fc7e15e4fc904c",
        "IPY_MODEL_a834034cb01945119f6b09dedf4b5553",
        "IPY_MODEL_2589cd0ed7124c6d8ff400f3cc1272a1"
       ],
       "layout": "IPY_MODEL_33b0a59a0c464116a7a53230965a1575"
      }
     },
     "6cbe7c0233904c818883ee3a1b0fe42c": {
      "model_module": "@jupyter-widgets/base",
      "model_module_version": "1.2.0",
      "model_name": "LayoutModel",
      "state": {}
     },
     "6d62963d414e4d0cb71b0d2777ef4e01": {
      "model_module": "@jupyter-widgets/controls",
      "model_module_version": "1.5.0",
      "model_name": "DescriptionStyleModel",
      "state": {
       "description_width": ""
      }
     },
     "6ed329cd7aa9410f86a4cae5d52cb7f9": {
      "model_module": "@jupyter-widgets/base",
      "model_module_version": "1.2.0",
      "model_name": "LayoutModel",
      "state": {}
     },
     "6f1f73bd387549d9869d0c33eaae1ff4": {
      "model_module": "@jupyter-widgets/controls",
      "model_module_version": "1.5.0",
      "model_name": "HBoxModel",
      "state": {
       "children": [
        "IPY_MODEL_df8361de227b45dba28acd2ddd7e366f",
        "IPY_MODEL_fcb0abeedfe64b099620c6dcd4192424",
        "IPY_MODEL_f3fec6771238423f84e9a893bc641bb2"
       ],
       "layout": "IPY_MODEL_c1b576f6206846a0b8e722ff581dcff4"
      }
     },
     "72b3380ad1f74bca99536ddd190a0341": {
      "model_module": "@jupyter-widgets/base",
      "model_module_version": "1.2.0",
      "model_name": "LayoutModel",
      "state": {}
     },
     "72c8420800364486b5fc4ddedeee46d5": {
      "model_module": "@jupyter-widgets/base",
      "model_module_version": "1.2.0",
      "model_name": "LayoutModel",
      "state": {}
     },
     "72eef4fb344649b195740bfdffbef068": {
      "model_module": "@jupyter-widgets/base",
      "model_module_version": "1.2.0",
      "model_name": "LayoutModel",
      "state": {}
     },
     "732e0c94c676450c84786dc4af99770c": {
      "model_module": "@jupyter-widgets/base",
      "model_module_version": "1.2.0",
      "model_name": "LayoutModel",
      "state": {}
     },
     "7405709389ef4927aba8a842f6bd7052": {
      "model_module": "@jupyter-widgets/controls",
      "model_module_version": "1.5.0",
      "model_name": "DropdownModel",
      "state": {
       "_options_labels": [
        "Periodic",
        "No-flux",
        "Dirichlet"
       ],
       "description": "nclzS1",
       "index": 0,
       "layout": "IPY_MODEL_775c1ae88ca14084a47c386650a4c57f",
       "style": "IPY_MODEL_e545e76e5aa74a50a01168c598932278"
      }
     },
     "74a2e18aaa7345ef95223c2c280c7583": {
      "model_module": "@jupyter-widgets/controls",
      "model_module_version": "1.5.0",
      "model_name": "DescriptionStyleModel",
      "state": {
       "description_width": ""
      }
     },
     "75c42c37f4e2499b9c13ff6d3ffdac69": {
      "model_module": "@jupyter-widgets/base",
      "model_module_version": "1.2.0",
      "model_name": "LayoutModel",
      "state": {}
     },
     "75df183d0e5f46c087f6846c431e096a": {
      "model_module": "@jupyter-widgets/base",
      "model_module_version": "1.2.0",
      "model_name": "LayoutModel",
      "state": {}
     },
     "7681cf5bebcc4641a8c4b32134f68405": {
      "model_module": "@jupyter-widgets/controls",
      "model_module_version": "1.5.0",
      "model_name": "TextModel",
      "state": {
       "description": "filename",
       "layout": "IPY_MODEL_0dd73b89fb9e4709aa04763db61356a2",
       "style": "IPY_MODEL_121014e2cb9c4b2dbea50b8292f44b46"
      }
     },
     "7711e4c3616444ccb9fad049d5bc7e8b": {
      "model_module": "@jupyter-widgets/controls",
      "model_module_version": "1.5.0",
      "model_name": "DropdownModel",
      "state": {
       "_options_labels": [
        "No refinement",
        "Refinement at the center",
        "Both sides",
        "Just near the bottom"
       ],
       "description": "istret",
       "disabled": true,
       "index": 0,
       "layout": "IPY_MODEL_1868daf6cc2f43b6a5a120c233ce3da5",
       "style": "IPY_MODEL_043a4dccf72d4ba3aba0dc7c2250a622"
      }
     },
     "7758f9f82dc6432ca86c7807070afa7b": {
      "model_module": "@jupyter-widgets/base",
      "model_module_version": "1.2.0",
      "model_name": "LayoutModel",
      "state": {}
     },
     "775c1ae88ca14084a47c386650a4c57f": {
      "model_module": "@jupyter-widgets/base",
      "model_module_version": "1.2.0",
      "model_name": "LayoutModel",
      "state": {}
     },
     "77c4a3f4c9ac4a5fa77c94a7ad48d5e0": {
      "model_module": "@jupyter-widgets/controls",
      "model_module_version": "1.5.0",
      "model_name": "DescriptionStyleModel",
      "state": {
       "description_width": ""
      }
     },
     "77f1204666ef465c9d5c05f8517f622e": {
      "model_module": "@jupyter-widgets/controls",
      "model_module_version": "1.5.0",
      "model_name": "DescriptionStyleModel",
      "state": {
       "description_width": ""
      }
     },
     "7835c25ea2e34f78bf91c3902be4cee8": {
      "model_module": "@jupyter-widgets/base",
      "model_module_version": "1.2.0",
      "model_name": "LayoutModel",
      "state": {}
     },
     "79c24887d89249f698869dc5167fff8e": {
      "model_module": "@jupyter-widgets/controls",
      "model_module_version": "1.5.0",
      "model_name": "DescriptionStyleModel",
      "state": {
       "description_width": ""
      }
     },
     "79d16863a2ef4e91a5c115248308e769": {
      "model_module": "@jupyter-widgets/base",
      "model_module_version": "1.2.0",
      "model_name": "LayoutModel",
      "state": {}
     },
     "7a22c6d649284e40885a6b90d4e31cc0": {
      "model_module": "@jupyter-widgets/controls",
      "model_module_version": "1.5.0",
      "model_name": "DescriptionStyleModel",
      "state": {
       "description_width": ""
      }
     },
     "7c3e451f1d6544049cb1e47bef36befd": {
      "model_module": "@jupyter-widgets/base",
      "model_module_version": "1.2.0",
      "model_name": "LayoutModel",
      "state": {}
     },
     "7cb9b3c7375c49bcb75b7b41ef326c73": {
      "model_module": "@jupyter-widgets/base",
      "model_module_version": "1.2.0",
      "model_name": "LayoutModel",
      "state": {}
     },
     "7da3d14042a54f82a69184f0fef97e07": {
      "model_module": "@jupyter-widgets/controls",
      "model_module_version": "1.5.0",
      "model_name": "DescriptionStyleModel",
      "state": {
       "description_width": ""
      }
     },
     "7f19b212eefa42e2af6281ca7a096cfb": {
      "model_module": "@jupyter-widgets/base",
      "model_module_version": "1.2.0",
      "model_name": "LayoutModel",
      "state": {}
     },
     "7ff603fd23fb47ceb10f8736b53e0a2a": {
      "model_module": "@jupyter-widgets/controls",
      "model_module_version": "1.5.0",
      "model_name": "DescriptionStyleModel",
      "state": {
       "description_width": ""
      }
     },
     "81edaa6cb6d14e849aa3b73dfe03467b": {
      "model_module": "@jupyter-widgets/controls",
      "model_module_version": "1.5.0",
      "model_name": "DescriptionStyleModel",
      "state": {
       "description_width": ""
      }
     },
     "8455b33007e5426abc7ecea18fcb6f31": {
      "model_module": "@jupyter-widgets/base",
      "model_module_version": "1.2.0",
      "model_name": "LayoutModel",
      "state": {}
     },
     "8589ae6d12eb4e70bac98386277b2422": {
      "model_module": "@jupyter-widgets/controls",
      "model_module_version": "1.5.0",
      "model_name": "HTMLModel",
      "state": {
       "layout": "IPY_MODEL_d3fda1dbe07145709949c4d1dfd4afb1",
       "style": "IPY_MODEL_5b2f8a1731b1480e9e3aa02f446ff294",
       "value": "<h2>NumOptions</h2>"
      }
     },
     "87cb98c816564c408866486b1a5fd01a": {
      "model_module": "@jupyter-widgets/controls",
      "model_module_version": "1.5.0",
      "model_name": "DescriptionStyleModel",
      "state": {
       "description_width": ""
      }
     },
     "88ab41cf6f7b450a9507e29d692a9abd": {
      "model_module": "@jupyter-widgets/controls",
      "model_module_version": "1.5.0",
      "model_name": "DescriptionStyleModel",
      "state": {
       "description_width": ""
      }
     },
     "88d5d364236d40438d1976fbe1e1bfa3": {
      "model_module": "@jupyter-widgets/base",
      "model_module_version": "1.2.0",
      "model_name": "LayoutModel",
      "state": {}
     },
     "8a4891c8c8c74d008bcad18eb1b7c3cf": {
      "model_module": "@jupyter-widgets/controls",
      "model_module_version": "1.5.0",
      "model_name": "HBoxModel",
      "state": {
       "children": [
        "IPY_MODEL_9d639aad84ee493a8c20778528a9c842",
        "IPY_MODEL_fb78e03b7f8d494492a8f41451fe9a4a",
        "IPY_MODEL_e7eb8fe6ce934b4687922e88a7339e32"
       ],
       "layout": "IPY_MODEL_5f429489fc4749d8897e401e2e282ef6"
      }
     },
     "8aeab640ad3c49328536cb9f60c68d84": {
      "model_module": "@jupyter-widgets/controls",
      "model_module_version": "1.5.0",
      "model_name": "BoundedFloatTextModel",
      "state": {
       "description": "yly",
       "layout": "IPY_MODEL_1687e58b0a924086bcffafabf710d18c",
       "max": 1000000,
       "step": null,
       "style": "IPY_MODEL_fd519881dac843aa9cb12622686e83bb"
      }
     },
     "8c6811ee717644b0bc6a000ae5cf2181": {
      "model_module": "@jupyter-widgets/controls",
      "model_module_version": "1.5.0",
      "model_name": "DescriptionStyleModel",
      "state": {
       "description_width": ""
      }
     },
     "8cb661762cbd46d7902f50d9918a5887": {
      "model_module": "@jupyter-widgets/controls",
      "model_module_version": "1.5.0",
      "model_name": "HTMLModel",
      "state": {
       "layout": "IPY_MODEL_f850935e926a48b9b773160727c0d465",
       "style": "IPY_MODEL_b9f2034e408f4c53b4fdd3ccaae0385b",
       "value": "<h3>Spatial discretization</h3>"
      }
     },
     "8da5be6fc98e4fde97d342dec09f8e33": {
      "model_module": "@jupyter-widgets/controls",
      "model_module_version": "1.5.0",
      "model_name": "DescriptionStyleModel",
      "state": {
       "description_width": ""
      }
     },
     "8e82c44ffabe4cf68ae5ed920e36fb73": {
      "model_module": "@jupyter-widgets/base",
      "model_module_version": "1.2.0",
      "model_name": "LayoutModel",
      "state": {}
     },
     "8ec2609e20e94c668c201812b5401956": {
      "model_module": "@jupyter-widgets/base",
      "model_module_version": "1.2.0",
      "model_name": "LayoutModel",
      "state": {}
     },
     "8f0822771d9d46e7829b289621d96904": {
      "model_module": "@jupyter-widgets/controls",
      "model_module_version": "1.5.0",
      "model_name": "DescriptionStyleModel",
      "state": {
       "description_width": ""
      }
     },
     "8f2c12ef61ed4575a42e032d840b9819": {
      "model_module": "@jupyter-widgets/base",
      "model_module_version": "1.2.0",
      "model_name": "LayoutModel",
      "state": {}
     },
     "8f49d67beb304eff8682ed644e455b84": {
      "model_module": "@jupyter-widgets/controls",
      "model_module_version": "1.5.0",
      "model_name": "HTMLModel",
      "state": {
       "layout": "IPY_MODEL_558ad4bc41ce426bb7f214cb71bf576b",
       "style": "IPY_MODEL_a8b0d5dd70fe4bc89dc7e5ed2c49c575",
       "value": "<h1>Xcompact3d Parameters</h1>"
      }
     },
     "919124399b6a41c685b33cc3b832c48c": {
      "model_module": "@jupyter-widgets/controls",
      "model_module_version": "1.5.0",
      "model_name": "HTMLModel",
      "state": {
       "layout": "IPY_MODEL_48f79b9ad4cf4b178ff95591825a605d",
       "style": "IPY_MODEL_4f75a44a2dc041128a0dba9cd0d5dc48",
       "value": "<h3>Domain Decomposition</h3>"
      }
     },
     "9253e5cbfbbb43c688e9533a67f3b78d": {
      "model_module": "@jupyter-widgets/controls",
      "model_module_version": "1.5.0",
      "model_name": "DropdownModel",
      "state": {
       "_options_labels": [
        "Periodic",
        "No-flux",
        "Dirichlet"
       ],
       "description": "nclxS1",
       "index": 0,
       "layout": "IPY_MODEL_75df183d0e5f46c087f6846c431e096a",
       "style": "IPY_MODEL_a9492db90f9f49aa8227776d7ddb75d8"
      }
     },
     "94efa79c3afb45d8a75d5a1965ffefa3": {
      "model_module": "@jupyter-widgets/controls",
      "model_module_version": "1.5.0",
      "model_name": "DescriptionStyleModel",
      "state": {
       "description_width": ""
      }
     },
     "997af87b3fec413cb9dbfd53ea3e4479": {
      "model_module": "@jupyter-widgets/controls",
      "model_module_version": "1.5.0",
      "model_name": "HTMLModel",
      "state": {
       "layout": "IPY_MODEL_ce87758b257e4e458fd2e8a162872959",
       "style": "IPY_MODEL_63d31caf55434b97ab33570d77178687",
       "value": "<h2>ScalarParam</h2>"
      }
     },
     "9b41d98a16da4cda83990a1189f84f03": {
      "model_module": "@jupyter-widgets/controls",
      "model_module_version": "1.5.0",
      "model_name": "DescriptionStyleModel",
      "state": {
       "description_width": ""
      }
     },
     "9c5317e90f8640ed894000db133e19d2": {
      "model_module": "@jupyter-widgets/controls",
      "model_module_version": "1.5.0",
      "model_name": "DropdownModel",
      "state": {
       "_options_labels": [
        "Euler",
        "AB2",
        "AB3",
        "RK3",
        "Semi-implicit"
       ],
       "description": "itimescheme",
       "index": 0,
       "layout": "IPY_MODEL_cd83ec1327c546499a7217caaf45945c",
       "style": "IPY_MODEL_3b287e1be5f34bff9f6594c53a5284cf"
      }
     },
     "9cbd22b0c0a740108d093f7b2458a690": {
      "model_module": "@jupyter-widgets/controls",
      "model_module_version": "1.5.0",
      "model_name": "HBoxModel",
      "state": {
       "children": [
        "IPY_MODEL_e12b7bf4615f4f6f8d46fc1ba05a3af8",
        "IPY_MODEL_4e3396437f4446198e7165999d9070db",
        "IPY_MODEL_4c6b0707cc6e4fee84351c824860a57f"
       ],
       "layout": "IPY_MODEL_88d5d364236d40438d1976fbe1e1bfa3"
      }
     },
     "9d4bcdb749a1435d9de28dba7f3ff58d": {
      "model_module": "@jupyter-widgets/controls",
      "model_module_version": "1.5.0",
      "model_name": "FloatTextModel",
      "state": {
       "description": "gravx",
       "disabled": true,
       "layout": "IPY_MODEL_07a59f699d274c988c7d98ab8a34694f",
       "step": null,
       "style": "IPY_MODEL_250582bf431545658adcd4232575eab9"
      }
     },
     "9d639aad84ee493a8c20778528a9c842": {
      "model_module": "@jupyter-widgets/controls",
      "model_module_version": "1.5.0",
      "model_name": "DropdownModel",
      "state": {
       "_options_labels": [
        "Off",
        "On"
       ],
       "description": "ilesmod",
       "index": 0,
       "layout": "IPY_MODEL_60c82106742d498caa3e23cb74e7593a",
       "style": "IPY_MODEL_0de02e2ba24a459aa09fa38252209c1f"
      }
     },
     "9fdc362b2751472dbce61860deb506e0": {
      "model_module": "@jupyter-widgets/controls",
      "model_module_version": "1.5.0",
      "model_name": "BoundedIntTextModel",
      "state": {
       "description": "ioutput",
       "layout": "IPY_MODEL_d80682fb18aa4704b2985a8067e5466c",
       "max": 1000000000,
       "min": 1,
       "style": "IPY_MODEL_35de1ac7a3b94fba8e0b3e9d8e623ac8",
       "value": 1
      }
     },
     "a1251fa442844f0d97f00e803c0ae4c5": {
      "model_module": "@jupyter-widgets/base",
      "model_module_version": "1.2.0",
      "model_name": "LayoutModel",
      "state": {}
     },
     "a222eafa9d1f494fb9d417f9865f3c11": {
      "model_module": "@jupyter-widgets/controls",
      "model_module_version": "1.5.0",
      "model_name": "DescriptionStyleModel",
      "state": {
       "description_width": ""
      }
     },
     "a3a59b06b17c4e91af4cce895854a183": {
      "model_module": "@jupyter-widgets/controls",
      "model_module_version": "1.5.0",
      "model_name": "DescriptionStyleModel",
      "state": {
       "description_width": ""
      }
     },
     "a4a5e0fedf794d04a6ac738bd0885c98": {
      "model_module": "@jupyter-widgets/controls",
      "model_module_version": "1.5.0",
      "model_name": "DescriptionStyleModel",
      "state": {
       "description_width": ""
      }
     },
     "a6d498ef169b45e7ac51f94798b64a50": {
      "model_module": "@jupyter-widgets/base",
      "model_module_version": "1.2.0",
      "model_name": "LayoutModel",
      "state": {}
     },
     "a782afd2ca014563828873ac13e1c220": {
      "model_module": "@jupyter-widgets/controls",
      "model_module_version": "1.5.0",
      "model_name": "DropdownModel",
      "state": {
       "_options_labels": [
        "No random noise",
        "Random noise",
        "Random noise with fixed seed"
       ],
       "description": "iin",
       "index": 0,
       "layout": "IPY_MODEL_75c42c37f4e2499b9c13ff6d3ffdac69",
       "style": "IPY_MODEL_40bf14728a594b0ca20f304957ccf234"
      }
     },
     "a834034cb01945119f6b09dedf4b5553": {
      "model_module": "@jupyter-widgets/controls",
      "model_module_version": "1.5.0",
      "model_name": "IntTextModel",
      "state": {
       "description": "ilast",
       "layout": "IPY_MODEL_624dc5f6883a43b8ac5b55083c69f60c",
       "step": 1,
       "style": "IPY_MODEL_77c4a3f4c9ac4a5fa77c94a7ad48d5e0"
      }
     },
     "a8b0d5dd70fe4bc89dc7e5ed2c49c575": {
      "model_module": "@jupyter-widgets/controls",
      "model_module_version": "1.5.0",
      "model_name": "DescriptionStyleModel",
      "state": {
       "description_width": ""
      }
     },
     "a9492db90f9f49aa8227776d7ddb75d8": {
      "model_module": "@jupyter-widgets/controls",
      "model_module_version": "1.5.0",
      "model_name": "DescriptionStyleModel",
      "state": {
       "description_width": ""
      }
     },
     "ab4c25d0175a47cd914eb34f2c666825": {
      "model_module": "@jupyter-widgets/base",
      "model_module_version": "1.2.0",
      "model_name": "LayoutModel",
      "state": {}
     },
     "ab79ae94db5b4e008a0c182887dcabea": {
      "model_module": "@jupyter-widgets/controls",
      "model_module_version": "1.5.0",
      "model_name": "DescriptionStyleModel",
      "state": {
       "description_width": ""
      }
     },
     "ac68e087ae5f43e78acd485f3502ffd9": {
      "model_module": "@jupyter-widgets/controls",
      "model_module_version": "1.5.0",
      "model_name": "ButtonModel",
      "state": {
       "description": "Read",
       "disabled": true,
       "icon": "file-upload",
       "layout": "IPY_MODEL_fcf7fddbec1542799676242f443a115d",
       "style": "IPY_MODEL_243625f340964e3a81f58535ab50e69f"
      }
     },
     "adf6ceeb013349089c424e55b5dc7747": {
      "model_module": "@jupyter-widgets/base",
      "model_module_version": "1.2.0",
      "model_name": "LayoutModel",
      "state": {}
     },
     "aecad03c373c4bd88314418b5ca47bdb": {
      "model_module": "@jupyter-widgets/controls",
      "model_module_version": "1.5.0",
      "model_name": "DescriptionStyleModel",
      "state": {
       "description_width": ""
      }
     },
     "afabfd60b53f47689138235e3a10f4e6": {
      "model_module": "@jupyter-widgets/controls",
      "model_module_version": "1.5.0",
      "model_name": "DropdownModel",
      "state": {
       "_options_labels": [
        "Off",
        "On"
       ],
       "description": "ivisu",
       "index": 0,
       "layout": "IPY_MODEL_593757aeeae0437ca0f9c0f443ad2179",
       "style": "IPY_MODEL_a3a59b06b17c4e91af4cce895854a183"
      }
     },
     "b3e276e822c94acca169ac52765d5dd3": {
      "model_module": "@jupyter-widgets/base",
      "model_module_version": "1.2.0",
      "model_name": "LayoutModel",
      "state": {}
     },
     "b51b466ce8474d2588457f26b6b51a64": {
      "model_module": "@jupyter-widgets/controls",
      "model_module_version": "1.5.0",
      "model_name": "HTMLModel",
      "state": {
       "layout": "IPY_MODEL_09cb2eea3cb8459e8a13d44f351aaa6e",
       "style": "IPY_MODEL_4a880ccd5efe4c93b1724fba2fc4b3dd",
       "value": "<h3>Temporal discretization</h3>"
      }
     },
     "b77949b0bfda4638ad449ef43e6babc0": {
      "model_module": "@jupyter-widgets/controls",
      "model_module_version": "1.5.0",
      "model_name": "DescriptionStyleModel",
      "state": {
       "description_width": ""
      }
     },
     "b9f2034e408f4c53b4fdd3ccaae0385b": {
      "model_module": "@jupyter-widgets/controls",
      "model_module_version": "1.5.0",
      "model_name": "DescriptionStyleModel",
      "state": {
       "description_width": ""
      }
     },
     "ba0546af374342febf71c3844490ec99": {
      "model_module": "@jupyter-widgets/base",
      "model_module_version": "1.2.0",
      "model_name": "LayoutModel",
      "state": {}
     },
     "bab8c5eded2d476ba30ec52a86dc753e": {
      "model_module": "@jupyter-widgets/controls",
      "model_module_version": "1.5.0",
      "model_name": "HTMLModel",
      "state": {
       "layout": "IPY_MODEL_6ed329cd7aa9410f86a4cae5d52cb7f9",
       "style": "IPY_MODEL_ce7eca66ad2c4c6ba006efd964987e02",
       "value": "<h2>BasicParam</h2>"
      }
     },
     "bb0153750bd442228dccb8fcee569ca3": {
      "model_module": "@jupyter-widgets/base",
      "model_module_version": "1.2.0",
      "model_name": "LayoutModel",
      "state": {}
     },
     "bbaee07799f64f9aacbed33bad21da1d": {
      "model_module": "@jupyter-widgets/base",
      "model_module_version": "1.2.0",
      "model_name": "LayoutModel",
      "state": {}
     },
     "bc9fb65c71a2432885981d5e2548c79d": {
      "model_module": "@jupyter-widgets/controls",
      "model_module_version": "1.5.0",
      "model_name": "HTMLModel",
      "state": {
       "layout": "IPY_MODEL_15d801b28cb244e283c31ad5d567ddca",
       "style": "IPY_MODEL_0725b50d6a3642b28a53c8cb49d0972f",
       "value": "<h2>IBMStuff</h2>"
      }
     },
     "bd920a409f314dfb820245ff8930dd9f": {
      "model_module": "@jupyter-widgets/base",
      "model_module_version": "1.2.0",
      "model_name": "LayoutModel",
      "state": {}
     },
     "bf181a42241246d0a3f811bf441e4de1": {
      "model_module": "@jupyter-widgets/controls",
      "model_module_version": "1.5.0",
      "model_name": "HBoxModel",
      "state": {
       "children": [
        "IPY_MODEL_5d763eef88f44c99af71975485ca7d02",
        "IPY_MODEL_f3f63fe50f7340cc8770d5d9f7e46f4b",
        "IPY_MODEL_cd298a8380dd46b4a129ed08c3778bf4"
       ],
       "layout": "IPY_MODEL_bb0153750bd442228dccb8fcee569ca3"
      }
     },
     "c1b576f6206846a0b8e722ff581dcff4": {
      "model_module": "@jupyter-widgets/base",
      "model_module_version": "1.2.0",
      "model_name": "LayoutModel",
      "state": {}
     },
     "c289afe9cf024f51acc14d41b698a4ec": {
      "model_module": "@jupyter-widgets/controls",
      "model_module_version": "1.5.0",
      "model_name": "ButtonStyleModel",
      "state": {}
     },
     "c3b50147eb764dd0b67e542787c9bb91": {
      "model_module": "@jupyter-widgets/controls",
      "model_module_version": "1.5.0",
      "model_name": "FloatTextModel",
      "state": {
       "description": "gravy",
       "disabled": true,
       "layout": "IPY_MODEL_79d16863a2ef4e91a5c115248308e769",
       "step": null,
       "style": "IPY_MODEL_9b41d98a16da4cda83990a1189f84f03"
      }
     },
     "c597cc01eaa543b3af20349161e94db6": {
      "model_module": "@jupyter-widgets/base",
      "model_module_version": "1.2.0",
      "model_name": "LayoutModel",
      "state": {}
     },
     "c7616a863087449fb256a794e1765944": {
      "model_module": "@jupyter-widgets/base",
      "model_module_version": "1.2.0",
      "model_name": "LayoutModel",
      "state": {}
     },
     "cabb3c5fb1c94f3589f6237434037700": {
      "model_module": "@jupyter-widgets/base",
      "model_module_version": "1.2.0",
      "model_name": "LayoutModel",
      "state": {}
     },
     "cb117ec6571044fcab16aaf8047f8bcb": {
      "model_module": "@jupyter-widgets/base",
      "model_module_version": "1.2.0",
      "model_name": "LayoutModel",
      "state": {}
     },
     "cd298a8380dd46b4a129ed08c3778bf4": {
      "model_module": "@jupyter-widgets/controls",
      "model_module_version": "1.5.0",
      "model_name": "DropdownModel",
      "state": {
       "_options_labels": [
        "Periodic",
        "Free-slip",
        "No-slip"
       ],
       "description": "nclzn",
       "index": 0,
       "layout": "IPY_MODEL_ef3f050b9dcc48f882365aa396517a07",
       "style": "IPY_MODEL_e06ce1a863d346c4b1661970766b1ad2"
      }
     },
     "cd83ec1327c546499a7217caaf45945c": {
      "model_module": "@jupyter-widgets/base",
      "model_module_version": "1.2.0",
      "model_name": "LayoutModel",
      "state": {}
     },
     "cdd7f3a8a1af408699083c989f65d775": {
      "model_module": "@jupyter-widgets/controls",
      "model_module_version": "1.5.0",
      "model_name": "SliderStyleModel",
      "state": {
       "description_width": ""
      }
     },
     "ce7eca66ad2c4c6ba006efd964987e02": {
      "model_module": "@jupyter-widgets/controls",
      "model_module_version": "1.5.0",
      "model_name": "DescriptionStyleModel",
      "state": {
       "description_width": ""
      }
     },
     "ce87758b257e4e458fd2e8a162872959": {
      "model_module": "@jupyter-widgets/base",
      "model_module_version": "1.2.0",
      "model_name": "LayoutModel",
      "state": {}
     },
     "d17ac968cc5a4056a1694a194ed69317": {
      "model_module": "@jupyter-widgets/base",
      "model_module_version": "1.2.0",
      "model_name": "LayoutModel",
      "state": {}
     },
     "d19147a9f9774340a8709b9129be3314": {
      "model_module": "@jupyter-widgets/controls",
      "model_module_version": "1.5.0",
      "model_name": "HBoxModel",
      "state": {
       "children": [
        "IPY_MODEL_31a0c7345068418ca8055c37e64d7eb0",
        "IPY_MODEL_01694bd5b41d422eb3deeb49325ec05e",
        "IPY_MODEL_9c5317e90f8640ed894000db133e19d2"
       ],
       "layout": "IPY_MODEL_72b3380ad1f74bca99536ddd190a0341"
      }
     },
     "d1b755e5c53d4738817fb5582f47b59e": {
      "model_module": "@jupyter-widgets/controls",
      "model_module_version": "1.5.0",
      "model_name": "DescriptionStyleModel",
      "state": {
       "description_width": ""
      }
     },
     "d3fda1dbe07145709949c4d1dfd4afb1": {
      "model_module": "@jupyter-widgets/base",
      "model_module_version": "1.2.0",
      "model_name": "LayoutModel",
      "state": {}
     },
     "d45602f014184647bdedb878ee4cf54b": {
      "model_module": "@jupyter-widgets/controls",
      "model_module_version": "1.5.0",
      "model_name": "DescriptionStyleModel",
      "state": {
       "description_width": ""
      }
     },
     "d6fcf4b31e1d44008e7076508ee82022": {
      "model_module": "@jupyter-widgets/controls",
      "model_module_version": "1.5.0",
      "model_name": "DropdownModel",
      "state": {
       "_options_labels": [
        "Periodic",
        "No-flux",
        "Dirichlet"
       ],
       "description": "nclxSn",
       "index": 0,
       "layout": "IPY_MODEL_e24a5bef05844df19e0a9e73150dc619",
       "style": "IPY_MODEL_164a7bd331514c9f8742c5198c93ad98"
      }
     },
     "d795489be02e46e4b982b02af20cef85": {
      "model_module": "@jupyter-widgets/base",
      "model_module_version": "1.2.0",
      "model_name": "LayoutModel",
      "state": {}
     },
     "d80682fb18aa4704b2985a8067e5466c": {
      "model_module": "@jupyter-widgets/base",
      "model_module_version": "1.2.0",
      "model_name": "LayoutModel",
      "state": {}
     },
     "d933ae38eed3462d9671e7ec15a25db8": {
      "model_module": "@jupyter-widgets/controls",
      "model_module_version": "1.5.0",
      "model_name": "DescriptionStyleModel",
      "state": {
       "description_width": ""
      }
     },
     "db1b36ec976e4066968a45993d94389d": {
      "model_module": "@jupyter-widgets/controls",
      "model_module_version": "1.5.0",
      "model_name": "VBoxModel",
      "state": {
       "children": [
        "IPY_MODEL_1400a358c73b43ddbc36260833d42481"
       ],
       "layout": "IPY_MODEL_280bf5efe4934c8a9315aa997b088081"
      }
     },
     "ded5914f46654693b467640cd9680d3c": {
      "model_module": "@jupyter-widgets/base",
      "model_module_version": "1.2.0",
      "model_name": "LayoutModel",
      "state": {}
     },
     "df8361de227b45dba28acd2ddd7e366f": {
      "model_module": "@jupyter-widgets/controls",
      "model_module_version": "1.5.0",
      "model_name": "DropdownModel",
      "state": {
       "_options_labels": [
        "Periodic",
        "Free-slip",
        "Inflow"
       ],
       "description": "nclx1",
       "index": 0,
       "layout": "IPY_MODEL_1a44af69aad043488cd8812e2c51ab3e",
       "style": "IPY_MODEL_584fc09d463447f081a389224016bdb5"
      }
     },
     "e06ce1a863d346c4b1661970766b1ad2": {
      "model_module": "@jupyter-widgets/controls",
      "model_module_version": "1.5.0",
      "model_name": "DescriptionStyleModel",
      "state": {
       "description_width": ""
      }
     },
     "e12b7bf4615f4f6f8d46fc1ba05a3af8": {
      "model_module": "@jupyter-widgets/controls",
      "model_module_version": "1.5.0",
      "model_name": "DropdownModel",
      "state": {
       "_options_labels": [
        "Off",
        "On"
       ],
       "description": "irestart",
       "index": 0,
       "layout": "IPY_MODEL_7835c25ea2e34f78bf91c3902be4cee8",
       "style": "IPY_MODEL_8da5be6fc98e4fde97d342dec09f8e33"
      }
     },
     "e24a5bef05844df19e0a9e73150dc619": {
      "model_module": "@jupyter-widgets/base",
      "model_module_version": "1.2.0",
      "model_name": "LayoutModel",
      "state": {}
     },
     "e2523b7f8ac5428899ccfafa06038c8b": {
      "model_module": "@jupyter-widgets/controls",
      "model_module_version": "1.5.0",
      "model_name": "DescriptionStyleModel",
      "state": {
       "description_width": ""
      }
     },
     "e2565110cd7a4778a870b781e987bcf4": {
      "model_module": "@jupyter-widgets/controls",
      "model_module_version": "1.5.0",
      "model_name": "DescriptionStyleModel",
      "state": {
       "description_width": ""
      }
     },
     "e31642bceaa24d8ba3a51ef8accf2b78": {
      "model_module": "@jupyter-widgets/controls",
      "model_module_version": "1.5.0",
      "model_name": "IntSliderModel",
      "state": {
       "description": "nraf",
       "layout": "IPY_MODEL_a6d498ef169b45e7ac51f94798b64a50",
       "max": 25,
       "min": 1,
       "style": "IPY_MODEL_4d89c9c464934816bafc4ba21c506a0d",
       "value": 1
      }
     },
     "e34d8e91d36a45b6bf3cbdc78f5ea08e": {
      "model_module": "@jupyter-widgets/controls",
      "model_module_version": "1.5.0",
      "model_name": "HBoxModel",
      "state": {
       "children": [
        "IPY_MODEL_f69459f95c3c46e5b7b3d3a6a276429c",
        "IPY_MODEL_9fdc362b2751472dbce61860deb506e0",
        "IPY_MODEL_668bc5fe3b7f4e90955c83f3f0fa62cc"
       ],
       "layout": "IPY_MODEL_65b0a9332cf64befb4a0a1a9ec650aa4"
      }
     },
     "e545e76e5aa74a50a01168c598932278": {
      "model_module": "@jupyter-widgets/controls",
      "model_module_version": "1.5.0",
      "model_name": "DescriptionStyleModel",
      "state": {
       "description_width": ""
      }
     },
     "e6537361df084b3cb53ae42a54a3c4bb": {
      "model_module": "@jupyter-widgets/controls",
      "model_module_version": "1.5.0",
      "model_name": "DescriptionStyleModel",
      "state": {
       "description_width": ""
      }
     },
     "e6dde7fee4c44b968b98db65e7193afd": {
      "model_module": "@jupyter-widgets/base",
      "model_module_version": "1.2.0",
      "model_name": "LayoutModel",
      "state": {}
     },
     "e7e75b50266145dfb63fd37f01f22889": {
      "model_module": "@jupyter-widgets/base",
      "model_module_version": "1.2.0",
      "model_name": "LayoutModel",
      "state": {}
     },
     "e7eb8fe6ce934b4687922e88a7339e32": {
      "model_module": "@jupyter-widgets/controls",
      "model_module_version": "1.5.0",
      "model_name": "BoundedFloatTextModel",
      "state": {
       "description": "cnu",
       "disabled": true,
       "layout": "IPY_MODEL_e6dde7fee4c44b968b98db65e7193afd",
       "max": 1000000,
       "step": null,
       "style": "IPY_MODEL_35defda057994df28af5fb19f13ae791"
      }
     },
     "e94373262f184286b7b397ac2153c9e4": {
      "model_module": "@jupyter-widgets/controls",
      "model_module_version": "1.5.0",
      "model_name": "DropdownModel",
      "state": {
       "_options_labels": [
        "Periodic",
        "No-flux",
        "Dirichlet"
       ],
       "description": "nclySn",
       "index": 0,
       "layout": "IPY_MODEL_adf6ceeb013349089c424e55b5dc7747",
       "style": "IPY_MODEL_7ff603fd23fb47ceb10f8736b53e0a2a"
      }
     },
     "eaadff1d390540cab5a5ca6cef0cd808": {
      "model_module": "@jupyter-widgets/base",
      "model_module_version": "1.2.0",
      "model_name": "LayoutModel",
      "state": {}
     },
     "ec4ba5435b2f4e24bc0b46e04d1c2a29": {
      "model_module": "@jupyter-widgets/base",
      "model_module_version": "1.2.0",
      "model_name": "LayoutModel",
      "state": {}
     },
     "edff2736f74c478c9ed9901725be3d03": {
      "model_module": "@jupyter-widgets/base",
      "model_module_version": "1.2.0",
      "model_name": "LayoutModel",
      "state": {}
     },
     "eef704b512784716b806c809ab80ba21": {
      "model_module": "@jupyter-widgets/controls",
      "model_module_version": "1.5.0",
      "model_name": "FloatTextModel",
      "state": {
       "description": "re",
       "layout": "IPY_MODEL_ba0546af374342febf71c3844490ec99",
       "step": null,
       "style": "IPY_MODEL_d45602f014184647bdedb878ee4cf54b"
      }
     },
     "ef3f050b9dcc48f882365aa396517a07": {
      "model_module": "@jupyter-widgets/base",
      "model_module_version": "1.2.0",
      "model_name": "LayoutModel",
      "state": {}
     },
     "f1380453ba234d95b269ca74d6e038b4": {
      "model_module": "@jupyter-widgets/controls",
      "model_module_version": "1.5.0",
      "model_name": "BoundedFloatTextModel",
      "state": {
       "description": "dy",
       "layout": "IPY_MODEL_5d8b9d1713e14e6384c52be88c7b28ec",
       "max": 1000000,
       "step": null,
       "style": "IPY_MODEL_7da3d14042a54f82a69184f0fef97e07"
      }
     },
     "f3437604235a4cecb3981ee09e6c9aad": {
      "model_module": "@jupyter-widgets/controls",
      "model_module_version": "1.5.0",
      "model_name": "DescriptionStyleModel",
      "state": {
       "description_width": ""
      }
     },
     "f3f63fe50f7340cc8770d5d9f7e46f4b": {
      "model_module": "@jupyter-widgets/controls",
      "model_module_version": "1.5.0",
      "model_name": "DropdownModel",
      "state": {
       "_options_labels": [
        "Periodic",
        "Free-slip",
        "No-slip"
       ],
       "description": "nclyn",
       "index": 0,
       "layout": "IPY_MODEL_3541871152734ec28fdb4d64ca302477",
       "style": "IPY_MODEL_aecad03c373c4bd88314418b5ca47bdb"
      }
     },
     "f3fec6771238423f84e9a893bc641bb2": {
      "model_module": "@jupyter-widgets/controls",
      "model_module_version": "1.5.0",
      "model_name": "DropdownModel",
      "state": {
       "_options_labels": [
        "Periodic",
        "Free-slip",
        "No-slip"
       ],
       "description": "nclz1",
       "index": 0,
       "layout": "IPY_MODEL_65102f98f6af4091825ee8532bbad7cc",
       "style": "IPY_MODEL_d933ae38eed3462d9671e7ec15a25db8"
      }
     },
     "f50424b459a24182ad092977c2f22109": {
      "model_module": "@jupyter-widgets/controls",
      "model_module_version": "1.5.0",
      "model_name": "ButtonStyleModel",
      "state": {}
     },
     "f69459f95c3c46e5b7b3d3a6a276429c": {
      "model_module": "@jupyter-widgets/controls",
      "model_module_version": "1.5.0",
      "model_name": "BoundedIntTextModel",
      "state": {
       "description": "icheckpoint",
       "layout": "IPY_MODEL_cb117ec6571044fcab16aaf8047f8bcb",
       "max": 1000000000,
       "min": 1,
       "style": "IPY_MODEL_0704a4942a9649b78d2bb17b38e35957",
       "value": 1
      }
     },
     "f753352066d043ffb5e655eae0ea4037": {
      "model_module": "@jupyter-widgets/controls",
      "model_module_version": "1.5.0",
      "model_name": "DropdownModel",
      "state": {
       "_options_labels": [
        "9",
        "11",
        "13",
        "17",
        "19",
        "21",
        "25",
        "31",
        "33",
        "37",
        "41",
        "49",
        "51",
        "55",
        "61",
        "65",
        "73",
        "81",
        "91",
        "97",
        "101",
        "109",
        "121",
        "129",
        "145",
        "151",
        "161",
        "163",
        "181",
        "193",
        "201",
        "217",
        "241",
        "251",
        "257",
        "271",
        "289",
        "301",
        "321",
        "325",
        "361",
        "385",
        "401",
        "433",
        "451",
        "481",
        "487",
        "501",
        "513",
        "541",
        "577",
        "601",
        "641",
        "649",
        "721",
        "751",
        "769",
        "801",
        "811",
        "865",
        "901",
        "961",
        "973",
        "1001",
        "1025",
        "1081",
        "1153",
        "1201",
        "1251",
        "1281",
        "1297",
        "1351",
        "1441",
        "1459",
        "1501",
        "1537",
        "1601",
        "1621",
        "1729",
        "1801",
        "1921",
        "1945",
        "2001",
        "2049",
        "2161",
        "2251",
        "2305",
        "2401",
        "2431",
        "2501",
        "2561",
        "2593",
        "2701",
        "2881",
        "2917",
        "3001",
        "3073",
        "3201",
        "3241",
        "3457",
        "3601",
        "3751",
        "3841",
        "3889",
        "4001",
        "4051",
        "4097",
        "4321",
        "4375",
        "4501",
        "4609",
        "4801",
        "4861",
        "5001",
        "5121",
        "5185",
        "5401",
        "5761",
        "5833",
        "6001",
        "6145",
        "6251",
        "6401",
        "6481",
        "6751",
        "6913",
        "7201",
        "7291",
        "7501",
        "7681",
        "7777",
        "8001",
        "8101",
        "8193",
        "8641",
        "8749",
        "9001"
       ],
       "description": "ny",
       "index": 0,
       "layout": "IPY_MODEL_0ef988bc40b747e3b3ed56489f8acb30",
       "style": "IPY_MODEL_12632a842b1541febb48da2df316bfb5"
      }
     },
     "f850935e926a48b9b773160727c0d465": {
      "model_module": "@jupyter-widgets/base",
      "model_module_version": "1.2.0",
      "model_name": "LayoutModel",
      "state": {}
     },
     "f912cb4c2a4947f992864a8e4e149527": {
      "model_module": "@jupyter-widgets/controls",
      "model_module_version": "1.5.0",
      "model_name": "FloatTextModel",
      "state": {
       "description": "inflow_noise",
       "layout": "IPY_MODEL_b3e276e822c94acca169ac52765d5dd3",
       "step": null,
       "style": "IPY_MODEL_a4a5e0fedf794d04a6ac738bd0885c98"
      }
     },
     "f99b551eeb9b4a9886faeb9a9ded0e41": {
      "model_module": "@jupyter-widgets/controls",
      "model_module_version": "1.5.0",
      "model_name": "BoundedFloatTextModel",
      "state": {
       "description": "beta",
       "disabled": true,
       "layout": "IPY_MODEL_1b3f341dfea0489db6946eeab78b6519",
       "max": 1000000,
       "step": null,
       "style": "IPY_MODEL_2dbbe9e7a4a6408d962c84ad57978441"
      }
     },
     "fb78e03b7f8d494492a8f41451fe9a4a": {
      "model_module": "@jupyter-widgets/controls",
      "model_module_version": "1.5.0",
      "model_name": "BoundedFloatTextModel",
      "state": {
       "description": "nu0nu",
       "disabled": true,
       "layout": "IPY_MODEL_52a9057cf13548019714f76bbae01992",
       "max": 1000000,
       "step": null,
       "style": "IPY_MODEL_e2523b7f8ac5428899ccfafa06038c8b"
      }
     },
     "fc2b8415837043b188423034a351a96b": {
      "model_module": "@jupyter-widgets/controls",
      "model_module_version": "1.5.0",
      "model_name": "DescriptionStyleModel",
      "state": {
       "description_width": ""
      }
     },
     "fcb0abeedfe64b099620c6dcd4192424": {
      "model_module": "@jupyter-widgets/controls",
      "model_module_version": "1.5.0",
      "model_name": "DropdownModel",
      "state": {
       "_options_labels": [
        "Periodic",
        "Free-slip",
        "No-slip"
       ],
       "description": "ncly1",
       "index": 0,
       "layout": "IPY_MODEL_ff87883ab1b0410db114745688c3cc38",
       "style": "IPY_MODEL_5da1721327a0432ca9fd2a717eeada1c"
      }
     },
     "fcf7fddbec1542799676242f443a115d": {
      "model_module": "@jupyter-widgets/base",
      "model_module_version": "1.2.0",
      "model_name": "LayoutModel",
      "state": {}
     },
     "fd519881dac843aa9cb12622686e83bb": {
      "model_module": "@jupyter-widgets/controls",
      "model_module_version": "1.5.0",
      "model_name": "DescriptionStyleModel",
      "state": {
       "description_width": ""
      }
     },
     "fe8da990dbf94f5f97de72b2ff8adf6e": {
      "model_module": "@jupyter-widgets/controls",
      "model_module_version": "1.5.0",
      "model_name": "DescriptionStyleModel",
      "state": {
       "description_width": ""
      }
     },
     "ff46a663e0b9458b8f00612d26ebe5ca": {
      "model_module": "@jupyter-widgets/controls",
      "model_module_version": "1.5.0",
      "model_name": "DescriptionStyleModel",
      "state": {
       "description_width": ""
      }
     },
     "ff87883ab1b0410db114745688c3cc38": {
      "model_module": "@jupyter-widgets/base",
      "model_module_version": "1.2.0",
      "model_name": "LayoutModel",
      "state": {}
     }
    },
    "version_major": 2,
    "version_minor": 0
   }
  }
 },
 "nbformat": 4,
 "nbformat_minor": 4
}
